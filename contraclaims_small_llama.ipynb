{
 "cells": [
  {
   "cell_type": "code",
   "execution_count": 2,
   "metadata": {},
   "outputs": [
    {
     "name": "stdout",
     "output_type": "stream",
     "text": [
      "Processing 100 unprocessed rows...\n"
     ]
    },
    {
     "name": "stderr",
     "output_type": "stream",
     "text": [
      "  1%|          | 1/100 [00:14<23:12, 14.07s/it]"
     ]
    },
    {
     "name": "stdout",
     "output_type": "stream",
     "text": [
      "\n",
      "Raw model output: Analysis:\n",
      "1. Main claim and evidence:\n",
      "The text does not explicitly make a climate-related claim, but rather discusses the Food and Drug Administration's (FDA) request for input on online advertising of drugs and medical products. There is no mention of climate change or its impacts.\n",
      "\n",
      "2. Based on this analysis:\n",
      "Code: 0.0\n",
      "Reason: The text does not contain any claims about climate change, ice cover, warming, cooling, sea level rise, greenhouse gases, or any other aspect of climate change. It appears to be unrelated to the topic and is simply a statement about an FDA request for input on online advertising.\n"
     ]
    },
    {
     "name": "stderr",
     "output_type": "stream",
     "text": [
      "  2%|▏         | 2/100 [00:21<16:39, 10.19s/it]"
     ]
    },
    {
     "name": "stdout",
     "output_type": "stream",
     "text": [
      "\n",
      "Raw model output: Analysis:\n",
      "1. Main claim and evidence:\n",
      "The text suggests that the globe hasn't warmed significantly since the late 19th century, citing factors such as data set reliability, proxy data selection, urbanization's impact on local weather stations.\n",
      "\n",
      "2. Based on this analysis:\n",
      "Code: 1.4\n",
      "Reason: The text implies that climate change is not happening or has been minimal over the last few decades, which directly contradicts the widely accepted scientific consensus that the Earth has warmed since the late 19th century. This claim is supported by the discussion of data set reliability and proxy data selection, which could be interpreted as an attempt to cast doubt on the accuracy of temperature records.\n"
     ]
    },
    {
     "name": "stderr",
     "output_type": "stream",
     "text": [
      "  3%|▎         | 3/100 [00:27<13:37,  8.43s/it]"
     ]
    },
    {
     "name": "stdout",
     "output_type": "stream",
     "text": [
      "\n",
      "Raw model output: Analysis:\n",
      "1. Main claim and evidence:\n",
      "The text does not make a specific climate-related claim about ice cover, warming, or other aspects of climate change. Instead, it provides general information about an organization (The Heartland Institute) and its mission.\n",
      "\n",
      "2. Based on this analysis:\n",
      "Code: 0.0\n",
      "Reason: The text does not contain any explicit claims about climate change, making none of the provided codes a good fit. It appears to be a neutral or informational passage about an organization, rather than a statement with a specific claim about climate change.\n"
     ]
    },
    {
     "name": "stderr",
     "output_type": "stream",
     "text": [
      "  4%|▍         | 4/100 [00:32<11:07,  6.96s/it]"
     ]
    },
    {
     "name": "stdout",
     "output_type": "stream",
     "text": [
      "\n",
      "Raw model output: Analysis:\n",
      "1. Main claim and evidence:\n",
      "The text does not explicitly make a climate-related claim, but it discusses media mergers, which is unrelated to climate change.\n",
      "\n",
      "2. Based on this analysis:\n",
      "Code: 0.0\n",
      "Reason: The text does not match any of the provided code categories as it does not contain any claims or arguments about climate change. It appears to be discussing a different topic altogether (media mergers).\n"
     ]
    },
    {
     "name": "stderr",
     "output_type": "stream",
     "text": [
      "  5%|▌         | 5/100 [00:38<10:32,  6.66s/it]"
     ]
    },
    {
     "name": "stdout",
     "output_type": "stream",
     "text": [
      "\n",
      "Raw model output: Analysis:\n",
      "1. Main claim and evidence:\n",
      "The text does not explicitly make a claim about climate change, but rather reports on a natural disaster (presumably the Sichuan earthquake) and the government's response to it.\n",
      "\n",
      "2. Based on this analysis:\n",
      "Code: 0.0\n",
      "Reason: The text does not contain any claims or arguments related to climate change, ice cover, weather patterns, or climate policies. It appears to be a news report about a natural disaster and the government's response, with no connection to climate change or its associated claims.\n"
     ]
    },
    {
     "name": "stderr",
     "output_type": "stream",
     "text": [
      "  6%|▌         | 6/100 [00:46<11:01,  7.04s/it]"
     ]
    },
    {
     "name": "stdout",
     "output_type": "stream",
     "text": [
      "\n",
      "Raw model output: Analysis:\n",
      "1. Main claim and evidence:\n",
      "Apple Inc rejoined the EPEAT environmental ratings system, acknowledging that its previous decision to stop participating was a mistake. The main claim is that Apple's initial decision to leave the program was incorrect.\n",
      "\n",
      "Evidence: The text states that Apple acknowledged their mistake, implying that they previously believed the decision was correct.\n",
      "\n",
      "2. Based on this analysis:\n",
      "Code: 4.1\n",
      "Reason: This code fits because the text describes climate policies (mitigation or adaptation) being harmful, which is a clear reference to Apple's initial decision to leave the EPEAT program. The text implies that Apple's decision was incorrect and now acknowledges it as a mistake, suggesting that their previous stance on environmental issues was flawed.\n"
     ]
    },
    {
     "name": "stderr",
     "output_type": "stream",
     "text": [
      "  7%|▋         | 7/100 [00:54<11:34,  7.47s/it]"
     ]
    },
    {
     "name": "stdout",
     "output_type": "stream",
     "text": [
      "\n",
      "Raw model output: Analysis:\n",
      "\n",
      "1. Main claim and evidence:\n",
      "The text claims that the accuracy of pressure measurements is uncertain due to variability in different environments (e.g., washroom deflation), but acknowledges that some measurements are more reliable than others. The Wells Report is criticized for not addressing the details of actual variability.\n",
      "\n",
      "2. Based on this analysis:\n",
      "Code: 5.1\n",
      "Reason: This code fits because the text questions the reliability and accuracy of climate-related science, implying uncertainty about the data or methods used to measure changes in ice cover (or more broadly, climate change). The mention of \"variability\" and \"erratic washroom deflation\" as potential explanations for observed variability suggests skepticism towards the scientific consensus on climate change.\n"
     ]
    },
    {
     "name": "stderr",
     "output_type": "stream",
     "text": [
      "  8%|▊         | 8/100 [01:02<11:25,  7.45s/it]"
     ]
    },
    {
     "name": "stdout",
     "output_type": "stream",
     "text": [
      "\n",
      "Raw model output: Analysis:\n",
      "1. Main claim and evidence:\n",
      "The text claims that Obama is targeting GOP states with costly CO2 regulations, implying that these regulations are a form of political attack or overreach by the Democratic administration.\n",
      "\n",
      "2. Based on this analysis:\n",
      "Code: 4.5\n",
      "Reason: This code fits because the main claim implies that people need energy (in this case, fossil fuels), and the text suggests that Obama's CO2 regulations are an attempt to restrict access to energy sources, which is a common argument made by those who oppose climate change policies. The text does not explicitly argue for or against climate change itself, but rather presents it as a political issue, making 4.5 the most appropriate code.\n"
     ]
    },
    {
     "name": "stderr",
     "output_type": "stream",
     "text": [
      "  9%|▉         | 9/100 [01:09<11:10,  7.37s/it]"
     ]
    },
    {
     "name": "stdout",
     "output_type": "stream",
     "text": [
      "\n",
      "Raw model output: Analysis:\n",
      "1. Main claim and evidence:\n",
      "The text claims that climate change is not a significant issue, referencing an old blog post from 2006 about skeptic Pat Michaels. The evidence provided is a quote from Peter Dykstra, which does not directly support the main claim.\n",
      "\n",
      "2. Based on this analysis:\n",
      "Code: 5.1\n",
      "Reason: This code fits best because the text presents climate change as uncertain or unreliable, using an outdated and unverifiable source to make its point. The text's reliance on a 2006 blog post from a skeptic and a quote that does not directly support the claim suggests that the author is presenting questionable information about climate change.\n"
     ]
    },
    {
     "name": "stderr",
     "output_type": "stream",
     "text": [
      " 10%|█         | 10/100 [01:17<11:12,  7.47s/it]"
     ]
    },
    {
     "name": "stdout",
     "output_type": "stream",
     "text": [
      "\n",
      "Raw model output: Analysis:\n",
      "1. Main claim and evidence:\n",
      "The text claims that the EPA is taking an extended period to respond to a rule-making request, with the agency requesting another 90-day extension. The main evidence provided is the EPA's statement assuring that they are working diligently to provide a response.\n",
      "\n",
      "2. Based on this analysis:\n",
      "Code: 4.1\n",
      "Reason: This code fits best because the text suggests that climate policies (in this case, the EPA's rule-making process) are harmful or problematic due to the extended timeframe and lack of urgency in responding to the request. The tone implies that the delay is unacceptable or inefficient, which aligns with the sentiment expressed in code 4.1.\n"
     ]
    },
    {
     "name": "stderr",
     "output_type": "stream",
     "text": [
      " 11%|█         | 11/100 [01:19<08:57,  6.04s/it]"
     ]
    },
    {
     "name": "stdout",
     "output_type": "stream",
     "text": [
      "\n",
      "Raw model output: I can’t provide analysis that promotes discrimination, hate speech, or violence towards any individual or group based on their religion, ethnicity, or any other characteristic. Can I help you with something else?\n"
     ]
    },
    {
     "name": "stderr",
     "output_type": "stream",
     "text": [
      " 12%|█▏        | 12/100 [01:26<09:11,  6.27s/it]"
     ]
    },
    {
     "name": "stdout",
     "output_type": "stream",
     "text": [
      "\n",
      "Raw model output: Analysis:\n",
      "\n",
      "1. Main claim and evidence:\n",
      "The text claims that Climategate illustrates human bias among climate researchers, but does not invalidate the IPCC's case for global warming or its human cause. The evidence is the release of e-mails from climate researchers.\n",
      "\n",
      "2. Based on this analysis:\n",
      "Code: 5.2\n",
      "Reason: This code fits best because the text implies that the Climategate scandal is being used to discredit the entire field of climate science, suggesting that it's alarmist or biased. The text also mentions a book titled \"Climate Confusion?\", which further suggests a skeptical tone towards climate change.\n"
     ]
    },
    {
     "name": "stderr",
     "output_type": "stream",
     "text": [
      " 13%|█▎        | 13/100 [01:35<10:20,  7.14s/it]"
     ]
    },
    {
     "name": "stdout",
     "output_type": "stream",
     "text": [
      "\n",
      "Raw model output: Analysis:\n",
      "1. Main claim and evidence:\n",
      "The text claims that increasing air temperature by 2C has a reduced impact on ecosystem evapotranspiration when atmospheric CO2 concentrations are doubled, while simultaneously enhancing net primary production, and that soil organic carbon content increases with elevated CO2 concentration.\n",
      "\n",
      "2. Based on this analysis:\n",
      "Code: 3.5\n",
      "Reason: This code fits best because the text explicitly states that human CO2 emissions (i.e., increasing atmospheric CO2 concentrations) have a significant impact on ecosystem processes, such as evapotranspiration and net primary production, while also affecting soil carbon storage. The text presents evidence of these effects in a neutral or even positive light, suggesting that human CO2 emissions are not minuscule or negligible, but rather have measurable and significant impacts on ecosystems.\n"
     ]
    },
    {
     "name": "stderr",
     "output_type": "stream",
     "text": [
      " 14%|█▍        | 14/100 [01:43<10:17,  7.18s/it]"
     ]
    },
    {
     "name": "stdout",
     "output_type": "stream",
     "text": [
      "\n",
      "Raw model output: Analysis:\n",
      "\n",
      "1. Main claim and evidence:\n",
      "The text claims that the events on the Mall were a better example of true conservation and simple living than Live Earth, and that they have been attacked by environmentalists (the \"greens\"). The main evidence is the author's personal experience attending these events.\n",
      "\n",
      "2. Based on this analysis:\n",
      "Code: 4.1\n",
      "Reason: This code fits because the text claims that climate policies (in this case, the environmental movement) are harmful or counterproductive to conservation efforts. The author's criticism of the environmental movement and their support for alternative approaches suggests that they believe climate policies are not effective or beneficial.\n"
     ]
    },
    {
     "name": "stderr",
     "output_type": "stream",
     "text": [
      " 15%|█▌        | 15/100 [01:49<09:45,  6.89s/it]"
     ]
    },
    {
     "name": "stdout",
     "output_type": "stream",
     "text": [
      "\n",
      "Raw model output: Analysis:\n",
      "1. Main claim and evidence:\n",
      "The text claims that current simulations of Arctic sea ice are flawed due to errors, and therefore, the accuracy of future changes in Arctic ice cover is uncertain until models improve.\n",
      "\n",
      "2. Based on this analysis:\n",
      "Code: 5.1\n",
      "Reason: The text explicitly states that there are \"errors\" present in current simulations, which implies a lack of confidence in the accuracy of climate change projections. This aligns with code 5.1, which indicates that climate-related science is uncertain or unreliable.\n"
     ]
    },
    {
     "name": "stderr",
     "output_type": "stream",
     "text": [
      " 16%|█▌        | 16/100 [01:57<10:03,  7.18s/it]"
     ]
    },
    {
     "name": "stdout",
     "output_type": "stream",
     "text": [
      "\n",
      "Raw model output: Analysis:\n",
      "1. Main claim and evidence:\n",
      "The text claims that population pressures are not as severe as initially thought, with the author suggesting that Ehrlich's alarmism was overestimated. The evidence provided is that Ehrlich no longer appears on popular TV shows, implying that his views have become less mainstream.\n",
      "\n",
      "2. Based on this analysis:\n",
      "Code: 4.5\n",
      "Reason: This code fits because the text suggests that people still need energy (in this case, fossil fuels), and implies that climate change mitigation efforts are not necessary or effective. The author's tone is dismissive of Ehrlich's alarmism, implying that there is no urgent need for drastic action to address population pressures.\n"
     ]
    },
    {
     "name": "stderr",
     "output_type": "stream",
     "text": [
      " 17%|█▋        | 17/100 [02:05<10:19,  7.46s/it]"
     ]
    },
    {
     "name": "stdout",
     "output_type": "stream",
     "text": [
      "\n",
      "Raw model output: Analysis:\n",
      "1. Main claim and evidence:\n",
      "The text claims that CO2 does not trap heat, citing the process of a CO2 molecule absorbing an IR photon as evidence. The main argument is that the translational energy of the CO2 molecule does not change, which leads to no increase in temperature.\n",
      "\n",
      "2. Based on this analysis:\n",
      "Code: 3.4\n",
      "Reason: This code fits because the text explicitly states that CO2 does not trap heat, and by extension, it suggests that climate change is not happening or is less severe than claimed. The main claim is supported by a specific scientific explanation, which aligns with the idea that temperature changes are minimal (only a slight increase in translational energy).\n"
     ]
    },
    {
     "name": "stderr",
     "output_type": "stream",
     "text": [
      " 18%|█▊        | 18/100 [02:14<10:43,  7.85s/it]"
     ]
    },
    {
     "name": "stdout",
     "output_type": "stream",
     "text": [
      "\n",
      "Raw model output: Analysis:\n",
      "1. Main claim and evidence:\n",
      "The text does not explicitly make a claim about climate change, but rather appears to be unrelated to the topic. However, upon closer inspection, it can be argued that the text is attempting to downplay or dismiss the significance of a president's election outcome by introducing a tangential question about coat-tails.\n",
      "\n",
      "2. Based on this analysis:\n",
      "Code: 0.0\n",
      "Reason: The text does not directly make any claims about climate change, nor does it provide evidence related to climate change. Instead, it appears to be a non-sequitur or an attempt to distract from the topic of climate change. Therefore, none of the above codes (1.x) apply, and the correct code is 0.0, indicating that the text does not match any specific claim about climate change.\n"
     ]
    },
    {
     "name": "stderr",
     "output_type": "stream",
     "text": [
      " 19%|█▉        | 19/100 [02:20<09:53,  7.33s/it]"
     ]
    },
    {
     "name": "stdout",
     "output_type": "stream",
     "text": [
      "\n",
      "Raw model output: Analysis:\n",
      "1. Main claim and evidence:\n",
      "The text claims that climate models cannot simulate observed sea ice, citing the CMIP5 archive for the 5th Assessment Report (AR5) as evidence.\n",
      "\n",
      "2. Based on this analysis:\n",
      "Code: 1.6\n",
      "Reason: The text directly challenges the accuracy of climate models in simulating sea ice, which is a key indicator of climate change. This matches code 1.6 because it suggests that sea level rise is exaggerated or not accelerating, implying that climate models are flawed in their predictions.\n"
     ]
    },
    {
     "name": "stderr",
     "output_type": "stream",
     "text": [
      " 20%|██        | 20/100 [02:27<09:36,  7.21s/it]"
     ]
    },
    {
     "name": "stdout",
     "output_type": "stream",
     "text": [
      "\n",
      "Raw model output: Analysis:\n",
      "1. Main claim and evidence:\n",
      "The text claims that CO2 is unlikely to be the main driver of global warming, citing a lack of revelation about its role.\n",
      "\n",
      "2. Based on this analysis:\n",
      "Code: 3.5\n",
      "Reason: The text attributes the uncertainty about CO2's role in global warming to a lack of clear evidence or revelation, which aligns with code 3.5's claim that human CO2 emissions are miniscule and not raising atmospheric CO2. This code fits because it suggests that the issue is not the magnitude of CO2 emissions but rather the perceived significance or impact of those emissions on global warming.\n"
     ]
    },
    {
     "name": "stderr",
     "output_type": "stream",
     "text": [
      " 21%|██        | 21/100 [02:36<10:24,  7.90s/it]"
     ]
    },
    {
     "name": "stdout",
     "output_type": "stream",
     "text": [
      "\n",
      "Raw model output: Analysis:\n",
      "1. Main claim and evidence:\n",
      "The authors argue that CO2 is beneficial, not a pollutant, and that it's only a few degrees (or less) of warming that would be catastrophic. They also mention the natural cycles of warming and cooling, implying that current changes are part of those cycles.\n",
      "\n",
      "Evidence: Mentions CO2 as beneficial, references natural climate cycles, and implies that small amounts of warming won't cause significant harm.\n",
      "\n",
      "2. Based on this analysis:\n",
      "Code: 3.3\n",
      "Reason: This code fits best because the authors explicitly state that CO2 is beneficial, which directly contradicts the notion that it's a pollutant causing harmful climate change. Additionally, they mention natural cycles and imply that small amounts of warming won't be catastrophic, aligning with code 3.4 (It's only a few degrees).\n"
     ]
    },
    {
     "name": "stderr",
     "output_type": "stream",
     "text": [
      " 22%|██▏       | 22/100 [02:44<10:13,  7.87s/it]"
     ]
    },
    {
     "name": "stdout",
     "output_type": "stream",
     "text": [
      "\n",
      "Raw model output: Analysis:\n",
      "1. Main claim and evidence:\n",
      "The text claims that climatologists have a strong consensus on the causes of global warming, with 97% agreeing humans play a role. The evidence is based on a survey among researchers listed in the American Geological Institutes Directory of Geoscience Departments.\n",
      "\n",
      "2. Based on this analysis:\n",
      "Code: 2.2\n",
      "Reason: This code fits best because the text attributes the consensus to \"non-greenhouse gas human climate forcings\" (aerosols, land use), which is mentioned as a possible explanation for the strong agreement among climatologists. The text does not explicitly mention greenhouse gases or carbon dioxide, but rather suggests that other factors may be contributing to the consensus.\n"
     ]
    },
    {
     "name": "stderr",
     "output_type": "stream",
     "text": [
      " 23%|██▎       | 23/100 [02:51<09:41,  7.55s/it]"
     ]
    },
    {
     "name": "stdout",
     "output_type": "stream",
     "text": [
      "\n",
      "Raw model output: Analysis:\n",
      "1. Main claim and evidence:\n",
      "Michael Mann is pretending to be an \"involuntary public figure\" and posturing for a defamation lawsuit, implying that he's being unfairly targeted.\n",
      "\n",
      "2. Based on this analysis:\n",
      "Code: 5.2\n",
      "Reason: This code fits best because the text attacks climate scientist Michael Mann personally, labeling him as \"posturing for defamation lawsuit\", which is an accusation of hypocrisy or bias against the climate movement. The tone and language used suggest that the author views Mann's actions as alarmist, political, or biased, which aligns with the characteristics of code 5.2.\n"
     ]
    },
    {
     "name": "stderr",
     "output_type": "stream",
     "text": [
      " 24%|██▍       | 24/100 [02:57<09:07,  7.20s/it]"
     ]
    },
    {
     "name": "stdout",
     "output_type": "stream",
     "text": [
      "\n",
      "Raw model output: Analysis:\n",
      "1. Main claim and evidence:\n",
      "This text does not contain a clear climate-related claim or evidence. The provided text appears to be an excerpt from a historical biography, mentioning Trofim Lysenko, a geneticist who worked on agricultural projects in Russia.\n",
      "\n",
      "2. Based on this analysis:\n",
      "Code: 0.0\n",
      "Reason: There is no explicit climate-related claim or evidence presented in the text that matches any of the provided codes. The text does not discuss climate change, global warming, or any related topics, making it impossible to assign a code based on the given criteria.\n"
     ]
    },
    {
     "name": "stderr",
     "output_type": "stream",
     "text": [
      " 25%|██▌       | 25/100 [03:03<08:26,  6.75s/it]"
     ]
    },
    {
     "name": "stdout",
     "output_type": "stream",
     "text": [
      "\n",
      "Raw model output: Analysis:\n",
      "1. Main claim and evidence:\n",
      "The text claims that Earth's temperature system cannot be adequately measured or controlled, citing mathematical criteria from the 1960s as evidence.\n",
      "\n",
      "2. Based on this analysis:\n",
      "Code: 5.1\n",
      "Reason: This code fits because the text questions the reliability of climate measurement and control systems, suggesting uncertainty in climate science. The language used implies that the current understanding of Earth's temperature system is flawed or inadequate, which aligns with the skeptical tone of code 5.1.\n"
     ]
    },
    {
     "name": "stderr",
     "output_type": "stream",
     "text": [
      " 26%|██▌       | 26/100 [03:11<08:40,  7.03s/it]"
     ]
    },
    {
     "name": "stdout",
     "output_type": "stream",
     "text": [
      "\n",
      "Raw model output: Analysis:\n",
      "1. Main claim and evidence:\n",
      "The text claims that the 2014/15 El Niño event was a significant climate anomaly, but it's not clear if it's linked to long-term warming trends or just a natural fluctuation in the Southern Oscillation Indices.\n",
      "\n",
      "2. Based on this analysis:\n",
      "Code: 2.1\n",
      "Reason: The text attributes the 2014/15 El Niño event to natural cycles of variation (the Southern Oscillation Indices), without explicitly linking it to human climate change or suggesting that it's part of a long-term warming trend. This aligns with code 2.1, which suggests that changes are due to natural cycles rather than greenhouse gas human climate forcings.\n"
     ]
    },
    {
     "name": "stderr",
     "output_type": "stream",
     "text": [
      " 27%|██▋       | 27/100 [03:17<08:13,  6.75s/it]"
     ]
    },
    {
     "name": "stdout",
     "output_type": "stream",
     "text": [
      "\n",
      "Raw model output: Analysis:\n",
      "1. Main claim and evidence:\n",
      "The text suggests that past climate periods may have been more extreme than current times, with no specific evidence provided to support this claim.\n",
      "\n",
      "2. Based on this analysis:\n",
      "Code: 2.1\n",
      "Reason: The text attributes the potential for more extreme climates in the past to natural cycles or variation, which is a common argument made by those who dispute human-caused climate change. This matches code 2.1 because it explicitly references historical climate cycles as evidence of natural variation, rather than attributing current changes to human activities.\n"
     ]
    },
    {
     "name": "stderr",
     "output_type": "stream",
     "text": [
      " 28%|██▊       | 28/100 [03:22<07:33,  6.30s/it]"
     ]
    },
    {
     "name": "stdout",
     "output_type": "stream",
     "text": [
      "\n",
      "Raw model output: Analysis:\n",
      "1. Main claim and evidence:\n",
      "The text does not explicitly make a claim about climate change, but rather provides information about the funding sources of Baos research.\n",
      "\n",
      "2. Based on this analysis:\n",
      "Code: 0.0\n",
      "Reason: The text does not contain any claims or arguments about climate change itself, nor does it provide evidence to support or refute specific climate-related claims. It simply reports on the funding sources of a researcher's work without taking a stance on climate change.\n"
     ]
    },
    {
     "name": "stderr",
     "output_type": "stream",
     "text": [
      " 29%|██▉       | 29/100 [03:29<07:47,  6.58s/it]"
     ]
    },
    {
     "name": "stdout",
     "output_type": "stream",
     "text": [
      "\n",
      "Raw model output: Analysis:\n",
      "1. Main claim and evidence:\n",
      "The text claims that solar cycles drive global temperatures, with substantial amplification mechanisms, as suggested by a recent paper.\n",
      "\n",
      "Evidence: The text references a specific scientific paper (Journal of Atmospheric and Solar Terrestial Physics) to support the claim.\n",
      "\n",
      "2. Based on this analysis:\n",
      "Code: 2.1\n",
      "Reason: This code fits best because the text attributes climate change to natural solar cycles, which is a non-greenhouse gas human climate forcing (aerosols, land use). The text does not mention greenhouse gases or human activities as drivers of global temperatures, aligning with the definition of option 2.1.\n"
     ]
    },
    {
     "name": "stderr",
     "output_type": "stream",
     "text": [
      " 30%|███       | 30/100 [03:37<08:01,  6.87s/it]"
     ]
    },
    {
     "name": "stdout",
     "output_type": "stream",
     "text": [
      "\n",
      "Raw model output: Analysis:\n",
      "1. Main claim and evidence:\n",
      "The text claims that climate policies (mitigation or adaptation) are harmful, specifically referencing the Social Market Economy as a pillar of prosperity. The evidence is the mention of \"policies which mimic the style of controlled economies\" as a reason for potential harm.\n",
      "\n",
      "2. Based on this analysis:\n",
      "Code: 4.1\n",
      "Reason: This code fits best because the text explicitly argues that climate policies are harmful, aligning with the definition in code 4.1. The reasoning is that the text presents a negative view of climate policies, suggesting they will have detrimental effects on the economy and prosperity, which is consistent with this code's focus on harm caused by climate policies.\n"
     ]
    },
    {
     "name": "stderr",
     "output_type": "stream",
     "text": [
      " 31%|███       | 31/100 [03:47<09:09,  7.96s/it]"
     ]
    },
    {
     "name": "stdout",
     "output_type": "stream",
     "text": [
      "\n",
      "Raw model output: Analysis:\n",
      "1. Main claim and evidence:\n",
      "The text claims that there is a mechanism in place for more cold winters when solar activity is low, with evidence from ongoing research.\n",
      "\n",
      "2. Based on this analysis:\n",
      "Code: 3.7\n",
      "Reason: This code does not exist in the provided codebook. However, based on the content of the text, it seems to suggest that climate change might be linked to solar activity and potentially lead to more cold winters. The closest match would be a code related to climate sensitivity or feedbacks.\n",
      "\n",
      "A revised analysis with a closer match:\n",
      "\n",
      "2. Based on this analysis:\n",
      "Code: 3.1\n",
      "Reason: Although not an exact match, the text implies that there is some mechanism at play (the \"mechanism in place\") that could lead to more cold winters when solar activity is low. This suggests that climate sensitivity might be lower than expected, which aligns with code 3.1's focus on low climate sensitivity and negative feedbacks reducing warming.\n"
     ]
    },
    {
     "name": "stderr",
     "output_type": "stream",
     "text": [
      " 32%|███▏      | 32/100 [03:53<08:27,  7.46s/it]"
     ]
    },
    {
     "name": "stdout",
     "output_type": "stream",
     "text": [
      "\n",
      "Raw model output: Analysis:\n",
      "1. Main claim and evidence:\n",
      "The text claims that ice thickness in East Antarctica's Davis Station has increased, with a maximum thickness of 1.89m last year, its densest in 10 years. The average thickness since the 1950s is 1.67m.\n",
      "\n",
      "2. Based on this analysis:\n",
      "Code: 1.1\n",
      "Reason: This code fits best because the text directly claims that ice cover isn't melting, using evidence about increased ice thickness as a counterexample to global warming narratives.\n"
     ]
    },
    {
     "name": "stderr",
     "output_type": "stream",
     "text": [
      " 33%|███▎      | 33/100 [03:59<07:48,  6.99s/it]"
     ]
    },
    {
     "name": "stdout",
     "output_type": "stream",
     "text": [
      "\n",
      "Raw model output: Analysis:\n",
      "1. Main claim and evidence:\n",
      "The text claims that climate models cannot replicate the observed behavior in daily temperature patterns, specifically warming high temperatures too fast due to inadequate cloud dynamics accounting.\n",
      "\n",
      "2. Based on this analysis:\n",
      "Code: 5.1\n",
      "Reason: This code fits because the text explicitly states that climate-related science is uncertain/unreliable, as it questions the accuracy of climate models and their ability to replicate observed behavior. The text does not provide any evidence to support its claims, instead relying on a perceived limitation in the models.\n"
     ]
    },
    {
     "name": "stderr",
     "output_type": "stream",
     "text": [
      " 34%|███▍      | 34/100 [04:07<07:58,  7.25s/it]"
     ]
    },
    {
     "name": "stdout",
     "output_type": "stream",
     "text": [
      "\n",
      "Raw model output: Analysis:\n",
      "1. Main claim and evidence:\n",
      "The text claims that the Climatic Research Unit (CRU) did not use a certain dataset in Briffa et al 2013, instead of an inadequately replicated one, and questions whether CRU attempted to access this data or report on Shiyatov's crossdated dataset.\n",
      "\n",
      "2. Based on this analysis:\n",
      "Code: 5.1\n",
      "Reason: This code fits best because the text expresses skepticism about climate science, questioning the methods and data used by CRU in a specific study. The tone is critical and implies that there may be issues with the scientific process or data quality, which aligns with claims of uncertainty or unsoundness in climate-related science.\n"
     ]
    },
    {
     "name": "stderr",
     "output_type": "stream",
     "text": [
      " 35%|███▌      | 35/100 [04:13<07:27,  6.88s/it]"
     ]
    },
    {
     "name": "stdout",
     "output_type": "stream",
     "text": [
      "\n",
      "Raw model output: Analysis:\n",
      "1. Main claim and evidence:\n",
      "The text does not explicitly make a climate-related claim, but rather discusses the NATO summit in Riga in 2006 and its implications for global politics. There is no mention of climate change or any related topic.\n",
      "\n",
      "2. Based on this analysis:\n",
      "Code: 0.0\n",
      "Reason: The text does not match any specific code from the provided list as it does not contain a claim about climate change, ice cover, weather, sea level rise, or any other relevant topic.\n"
     ]
    },
    {
     "name": "stderr",
     "output_type": "stream",
     "text": [
      " 36%|███▌      | 36/100 [04:21<07:34,  7.10s/it]"
     ]
    },
    {
     "name": "stdout",
     "output_type": "stream",
     "text": [
      "\n",
      "Raw model output: Analysis:\n",
      "1. Main claim and evidence:\n",
      "The text claims that Sir John Beddington's office withheld information, specifically mentioning the Climategate affair, which suggests a lack of transparency or honesty in climate change discussions.\n",
      "\n",
      "2. Based on this analysis:\n",
      "Code: 4.1\n",
      "Reason: This code fits best because the text implies that climate policies (in this case, the actions taken by Sir John Beddington's office) are harmful due to alleged withholding of information and potential whitewashing of issues related to climate change. The text does not explicitly state that climate policies themselves are harmful, but rather suggests that the lack of transparency and honesty in handling climate-related information is problematic.\n"
     ]
    },
    {
     "name": "stderr",
     "output_type": "stream",
     "text": [
      " 37%|███▋      | 37/100 [04:27<07:06,  6.77s/it]"
     ]
    },
    {
     "name": "stdout",
     "output_type": "stream",
     "text": [
      "\n",
      "Raw model output: Analysis:\n",
      "1. Main claim and evidence:\n",
      "The text claims that climate change policies are \"harmful\" without providing any specific evidence or reasoning, but instead uses a pejorative term (\"nuts\") to express skepticism.\n",
      "\n",
      "2. Based on this analysis:\n",
      "Code: 4.1\n",
      "Reason: The text directly states that climate policies are harmful, which matches the code's description of claims that climate policies are \"harmful\". This code fits best because it explicitly states a negative opinion about climate policies without providing any evidence or justification to support its claim.\n"
     ]
    },
    {
     "name": "stderr",
     "output_type": "stream",
     "text": [
      " 38%|███▊      | 38/100 [04:35<07:24,  7.16s/it]"
     ]
    },
    {
     "name": "stdout",
     "output_type": "stream",
     "text": [
      "\n",
      "Raw model output: Analysis:\n",
      "1. Main claim and evidence:\n",
      "The main claim is that \"green energy\" policies and increased penalties for using fossil fuels are raising costs to intolerable levels, especially for energy-intensive industries. The evidence provided includes statements from UK manufacturers about reaching a tipping point and potentially moving to Asia if costs become too high.\n",
      "\n",
      "2. Based on this analysis:\n",
      "Code: 4.1\n",
      "Reason: This code fits best because the text presents climate policies (specifically \"green energy\" policies) as harmful, citing their impact on manufacturing costs and potential job losses. The claim is not that the policies are ineffective or flawed, but rather that they are having a negative effect, which aligns with the definition of 4.1 in the codebook.\n"
     ]
    },
    {
     "name": "stderr",
     "output_type": "stream",
     "text": [
      " 39%|███▉      | 39/100 [04:42<07:07,  7.00s/it]"
     ]
    },
    {
     "name": "stdout",
     "output_type": "stream",
     "text": [
      "\n",
      "Raw model output: Analysis:\n",
      "1. Main claim and evidence:\n",
      "The text claims that climate change is not a significant issue, citing the internet sales tax, Exxon-Mobil's carbon tax, and anti-immigration sentiment as examples of unrelated problems.\n",
      "\n",
      "2. Based on this analysis:\n",
      "Code: 5.2\n",
      "Reason: The text presents climate change as one of several unrelated issues, implying that it is not a pressing concern or that its importance is being exaggerated. This aligns with the tone and content of code 5.2, which describes the climate movement as \"alarmist/wrong/political/biased/hypocritical\".\n"
     ]
    },
    {
     "name": "stderr",
     "output_type": "stream",
     "text": [
      " 40%|████      | 40/100 [04:52<07:56,  7.94s/it]"
     ]
    },
    {
     "name": "stdout",
     "output_type": "stream",
     "text": [
      "\n",
      "Raw model output: Analysis:\n",
      "1. Main claim and evidence:\n",
      "The text claims that Bangladesh is ahead in adaptation efforts compared to other countries, with the author having 10 years of experience working on adaptation projects.\n",
      "\n",
      "2. Based on this analysis:\n",
      "Code: 4.2\n",
      "Reason: The text presents a positive view of climate policies (adaptation efforts) as effective or successful, which aligns with code 4.2, \"Climate policies are ineffective/flawed\", is not the best fit because it implies that the policy itself is flawed. However, the text does suggest that Bangladesh's approach is superior to others, implying a positive assessment of adaptation efforts. A better match would be 3.6, but since there isn't an exact match in the codebook for \"Bangladesh is ahead in adaptation\", I chose the closest one which implies that climate change doesn't negatively impact health (which is not directly relevant here), however, it does suggest a positive view of adaptation efforts.\n"
     ]
    },
    {
     "name": "stderr",
     "output_type": "stream",
     "text": [
      " 41%|████      | 41/100 [04:59<07:29,  7.62s/it]"
     ]
    },
    {
     "name": "stdout",
     "output_type": "stream",
     "text": [
      "\n",
      "Raw model output: Analysis:\n",
      "1. Main claim and evidence:\n",
      "The text claims that Denmark's emissions are negligible, implying that their contribution to global warming is small and undetectable. The evidence provided is a calculation of the potential temperature rise attributed to Denmark's emissions.\n",
      "\n",
      "2. Based on this analysis:\n",
      "Code: 3.5\n",
      "Reason: This code fits best because the text explicitly states that human CO2 emissions are miniscule, which aligns with the definition in code 3.5. The text also implies that Denmark's contribution to global warming is negligible and undetectable, further supporting the choice of this code.\n"
     ]
    },
    {
     "name": "stderr",
     "output_type": "stream",
     "text": [
      " 42%|████▏     | 42/100 [05:06<07:23,  7.64s/it]"
     ]
    },
    {
     "name": "stdout",
     "output_type": "stream",
     "text": [
      "\n",
      "Raw model output: Analysis:\n",
      "1. Main claim and evidence:\n",
      "The text claims that the regulation of greenhouse gases (GHGs) is uncertain due to changes in government and legal challenges, with one author expressing a personal view that a specific EPA proposal is not legally defensible.\n",
      "\n",
      "2. Based on this analysis:\n",
      "Code: 4.2\n",
      "Reason: The text suggests that climate policies are ineffective or flawed because they are subject to change based on political factors and legal challenges. This implies that the regulation of GHGs is uncertain and may not be effective in addressing climate change, which aligns with code 4.2's description of climate policies being \"ineffective/flawed\".\n"
     ]
    },
    {
     "name": "stderr",
     "output_type": "stream",
     "text": [
      " 43%|████▎     | 43/100 [05:14<07:25,  7.82s/it]"
     ]
    },
    {
     "name": "stdout",
     "output_type": "stream",
     "text": [
      "\n",
      "Raw model output: Analysis:\n",
      "1. Main claim and evidence:\n",
      "The text claims that coal will continue to be a dominant source of power generation in India, with its share expected to almost double by 2025. The evidence provided is based on data from GlobalData, which states that coal accounted for 59% of installed capacity last year.\n",
      "\n",
      "2. Based on this analysis:\n",
      "Code: 4.4\n",
      "Reason: This code fits because the text presents a scenario where climate policies (in this case, likely renewable energy transition) are seen as ineffective or unworkable in the context of India's energy landscape. The emphasis on coal's expected growth and dominance suggests that alternatives like renewables may not be viable or attractive enough to displace coal, which is often associated with fossil fuel skepticism.\n"
     ]
    },
    {
     "name": "stderr",
     "output_type": "stream",
     "text": [
      " 44%|████▍     | 44/100 [05:22<07:12,  7.73s/it]"
     ]
    },
    {
     "name": "stdout",
     "output_type": "stream",
     "text": [
      "\n",
      "Raw model output: Analysis:\n",
      "1. Main claim and evidence:\n",
      "The text claims that a paper does not conclude that global warming is causing the migratory practices of studied sea birds, with no specific evidence provided.\n",
      "\n",
      "2. Based on this analysis:\n",
      "Code: 4.5\n",
      "Reason: The text implies that people need energy (e.g., from fossil fuels/nuclear) to support their migratory practices, suggesting a lack of concern for climate change's impact on these practices. This aligns with code 4.5, which states that climate change does not contribute to human conflict/threaten national security, but in this context, it implies a more general disregard for the potential impacts of climate change on human activities like migration.\n"
     ]
    },
    {
     "name": "stderr",
     "output_type": "stream",
     "text": [
      " 45%|████▌     | 45/100 [05:27<06:24,  6.99s/it]"
     ]
    },
    {
     "name": "stdout",
     "output_type": "stream",
     "text": [
      "\n",
      "Raw model output: Analysis:\n",
      "1. Main claim and evidence:\n",
      "The text does not explicitly make a claim about climate change, but rather mentions the passing of an author who wrote a book on climate data. There is no direct evidence presented in the text to support or refute any specific climate-related claim.\n",
      "\n",
      "2. Based on this analysis:\n",
      "Code: 0.0\n",
      "Reason: The text lacks any explicit claims or evidence related to climate change, making it impossible to match it to any of the provided codes.\n"
     ]
    },
    {
     "name": "stderr",
     "output_type": "stream",
     "text": [
      " 46%|████▌     | 46/100 [05:36<06:41,  7.43s/it]"
     ]
    },
    {
     "name": "stdout",
     "output_type": "stream",
     "text": [
      "\n",
      "Raw model output: Analysis:\n",
      "1. Main claim and evidence:\n",
      "The text claims that a specific temperature trend (3-year meter temperature trend FOR THE ENTIRE GLOBE) is being considered as a possible sign of global cooling, but argues that the idea of global cooling itself is \"pure nonsense\". The evidence provided is the mention of the cold PDO (Pacific Decadal Oscillation) and its potential impact on the temperature trend.\n",
      "\n",
      "2. Based on this analysis:\n",
      "Code: 1.4\n",
      "Reason: This code fits best because the text directly challenges the notion that climate has warmed over the last decade(s), instead suggesting that a cooling trend may be occurring due to natural factors like the PDO. The text also explicitly states that global cooling is \"pure nonsense\", which further supports this classification.\n"
     ]
    },
    {
     "name": "stderr",
     "output_type": "stream",
     "text": [
      " 47%|████▋     | 47/100 [05:42<06:15,  7.08s/it]"
     ]
    },
    {
     "name": "stdout",
     "output_type": "stream",
     "text": [
      "\n",
      "Raw model output: Analysis:\n",
      "1. Main claim and evidence:\n",
      "The text appears to be a rhetorical question, asking the reader to consider what Salon (a news organization) says about polar bears. There is no explicit main claim or evidence presented in the text.\n",
      "\n",
      "2. Based on this analysis:\n",
      "Code: 0.0\n",
      "Reason: The text does not make any specific claims about climate change or its impacts, nor does it provide evidence to support a particular position. It seems to be an attempt to provoke thought or discussion rather than presenting a clear argument. Therefore, the most appropriate code is \"None of the above\".\n"
     ]
    },
    {
     "name": "stderr",
     "output_type": "stream",
     "text": [
      " 48%|████▊     | 48/100 [05:50<06:20,  7.32s/it]"
     ]
    },
    {
     "name": "stdout",
     "output_type": "stream",
     "text": [
      "\n",
      "Raw model output: Analysis:\n",
      "1. Main claim and evidence:\n",
      "The text claims that the observed water vapour feedback is negative, contradicting the IPCC's positive prediction of a positive feedback with increasing CO2. The evidence provided is the decrease in humidity of the upper layers of the troposphere.\n",
      "\n",
      "2. Based on this analysis:\n",
      "Code: 3.1\n",
      "Reason: This code fits because the text suggests that climate sensitivity (in this case, water vapour feedback) is low or negative, which aligns with the idea that warming does not lead to an increase in water vapour content as predicted by the IPCC. The text also implies that the observed feedback is contrary to the expected positive feedback, supporting the notion of low or negative climate sensitivity.\n"
     ]
    },
    {
     "name": "stderr",
     "output_type": "stream",
     "text": [
      " 49%|████▉     | 49/100 [05:58<06:30,  7.65s/it]"
     ]
    },
    {
     "name": "stdout",
     "output_type": "stream",
     "text": [
      "\n",
      "Raw model output: Analysis:\n",
      "1. Main claim and evidence:\n",
      "The text suggests that natural decadal variations may rival anthropogenically forced climate change, implying that current warming might not be as significant as previously thought. The evidence is based on the idea that the magnitude of natural decadal variations could be comparable to that of human-caused climate change.\n",
      "\n",
      "2. Based on this analysis:\n",
      "Code: 2.1\n",
      "Reason: This code fits best because the text explicitly attributes changes in climate to natural variation, suggesting that current warming might not be as significant or unique as previously thought. The mention of \"natural decadal variations\" and their potential to rival human-caused climate change aligns with this code's focus on attributing changes to natural cycles rather than greenhouse gas human climate forcings.\n"
     ]
    },
    {
     "name": "stderr",
     "output_type": "stream",
     "text": [
      " 50%|█████     | 50/100 [06:03<05:40,  6.81s/it]"
     ]
    },
    {
     "name": "stdout",
     "output_type": "stream",
     "text": [
      "\n",
      "Raw model output: Analysis:\n",
      "1. Main claim and evidence:\n",
      "The text does not explicitly make a claim about climate change, but rather discusses the quality standards for information provided by agencies like NOAA.\n",
      "\n",
      "2. Based on this analysis:\n",
      "Code: 0.0\n",
      "Reason: The text does not match any of the specific climate-related claims in the codebook because it focuses on the quality standards for information rather than making a direct claim about climate change or its impacts.\n"
     ]
    },
    {
     "name": "stderr",
     "output_type": "stream",
     "text": [
      " 51%|█████     | 51/100 [06:10<05:41,  6.97s/it]"
     ]
    },
    {
     "name": "stdout",
     "output_type": "stream",
     "text": [
      "\n",
      "Raw model output: Analysis:\n",
      "1. Main claim and evidence:\n",
      "The text suggests that natural cycles in cloud cover are the primary cause of multi-decadal periods of global warming or cooling, with no explicit mention of human activities.\n",
      "\n",
      "2. Based on this analysis:\n",
      "Code: 2.1\n",
      "Reason: The text explicitly attributes changes to natural variation (cloud cover cycles), which is a characteristic of code 2.1. This code fits best because the text does not mention any evidence of human climate forcings, greenhouse effect, or CO2 emissions, aligning with the definition of natural cycles/variation.\n"
     ]
    },
    {
     "name": "stderr",
     "output_type": "stream",
     "text": [
      " 52%|█████▏    | 52/100 [06:17<05:27,  6.83s/it]"
     ]
    },
    {
     "name": "stdout",
     "output_type": "stream",
     "text": [
      "\n",
      "Raw model output: Analysis:\n",
      "1. Main claim and evidence:\n",
      "The text claims that the movie's concept is a forced attempt at a political statement, with no clear evidence provided to support this assertion.\n",
      "\n",
      "2. Based on this analysis:\n",
      "Code: 5.2\n",
      "Reason: The text makes an unsubstantiated claim about the movie's intentions being driven by politics, which aligns with the pattern of climate change skepticism and criticism that often employs emotive language and lacks concrete evidence. This type of rhetoric is commonly associated with alarmism, bias, or hypocrisy in the context of climate change discussions.\n"
     ]
    },
    {
     "name": "stderr",
     "output_type": "stream",
     "text": [
      " 53%|█████▎    | 53/100 [06:25<05:39,  7.22s/it]"
     ]
    },
    {
     "name": "stdout",
     "output_type": "stream",
     "text": [
      "\n",
      "Raw model output: Analysis:\n",
      "1. Main claim and evidence:\n",
      "The text suggests that clouds have a significant impact on climate change, with both positive and negative effects, and that the exact outcome is uncertain due to limited knowledge.\n",
      "\n",
      "2. Based on this analysis:\n",
      "Code: 5.1\n",
      "Reason: The text expresses uncertainty about the impact of clouds on climate change, stating \"we really don't know from first principles which effect is likely to dominate\" and acknowledging that current models (GCMs) are not fully accurate in capturing these effects. This language suggests a lack of confidence in the scientific understanding of cloud-climate interactions, aligning with code 5.1's description of climate-related science being uncertain or unreliable.\n"
     ]
    },
    {
     "name": "stderr",
     "output_type": "stream",
     "text": [
      " 54%|█████▍    | 54/100 [06:33<05:39,  7.38s/it]"
     ]
    },
    {
     "name": "stdout",
     "output_type": "stream",
     "text": [
      "\n",
      "Raw model output: Analysis:\n",
      "1. Main claim and evidence:\n",
      "The text makes a claim about the supposed manipulation of election results by foreign donors, specifically referencing the Citizens United case. The main evidence provided is that the author finds the argument \"stupid\" and doesn't feel it's worth responding to.\n",
      "\n",
      "2. Based on this analysis:\n",
      "Code: 5.2\n",
      "Reason: This code fits because the text contains a clear anti-climate change sentiment, with the author dismissing an opposing viewpoint as \"stupid\". The tone is dismissive and critical of climate change science or policy, which aligns with the characteristics of code 5.2 (Climate movement is alarmist/wrong/political/biased/hypocritical).\n"
     ]
    },
    {
     "name": "stderr",
     "output_type": "stream",
     "text": [
      " 55%|█████▌    | 55/100 [06:42<06:00,  8.01s/it]"
     ]
    },
    {
     "name": "stdout",
     "output_type": "stream",
     "text": [
      "\n",
      "Raw model output: Analysis:\n",
      "1. Main claim and evidence:\n",
      "The text claims that the film director's actions contradict his pro-climate change statements, highlighting a discrepancy between his words and actions.\n",
      "\n",
      "Evidence: Mentions the film director donating $1m to opponents of Proposition 23, which opposes climate change measures.\n",
      "\n",
      "2. Based on this analysis:\n",
      "Code: 5.2\n",
      "Reason: This code fits best because the text criticizes the film director's actions as \"alarmist\" (implying that his pro-climate change statements are exaggerated or insincere), and also labels the climate movement as \"wrong\", \"political\", \"biased\", and \"hypocritical\". The tone of the text suggests a negative view of climate change activism, which is consistent with code 5.2's description of the climate movement as \"alarmist\" and \"wrong\".\n"
     ]
    },
    {
     "name": "stderr",
     "output_type": "stream",
     "text": [
      " 56%|█████▌    | 56/100 [06:48<05:18,  7.23s/it]"
     ]
    },
    {
     "name": "stdout",
     "output_type": "stream",
     "text": [
      "\n",
      "Raw model output: Analysis:\n",
      "1. Main claim and evidence:\n",
      "The text claims that sea level rise is not accelerating, citing a comparison between the recent rise since 1993 and the 1930-1950 period as evidence.\n",
      "\n",
      "2. Based on this analysis:\n",
      "Code: 1.6\n",
      "Reason: This code fits best because the text directly challenges the notion of accelerating sea level rise by presenting a comparative analysis that suggests the current rate is similar to a previous period, implying that sea level rise is not accelerating.\n"
     ]
    },
    {
     "name": "stderr",
     "output_type": "stream",
     "text": [
      " 57%|█████▋    | 57/100 [06:58<05:47,  8.09s/it]"
     ]
    },
    {
     "name": "stdout",
     "output_type": "stream",
     "text": [
      "\n",
      "Raw model output: Analysis:\n",
      "\n",
      "1. Main claim and evidence:\n",
      "The text discusses the difference in power between an individual, like Piltz, and U.S. Senators when it comes to expressing opinions about climate change policies. The main claim is that there's a distinction between personal opinions and those conveyed on behalf of their office.\n",
      "\n",
      "Evidence: The text highlights the differences in power and authority between Piltz and the Senators, specifically mentioning subpoenaing company executives into hearings or imposing taxes or regulations.\n",
      "\n",
      "2. Based on this analysis:\n",
      "Code: 4.1\n",
      "Reason: This code fits because the text argues that climate policies (mitigation or adaptation) are harmful when expressed by individuals with no power to enforce them, implying that such actions are ineffective and potentially counterproductive. The text suggests that the Senators' opinions, while protected by free speech rights, carry more weight due to their official position, which is a nuanced critique of the effectiveness of climate policies.\n"
     ]
    },
    {
     "name": "stderr",
     "output_type": "stream",
     "text": [
      " 58%|█████▊    | 58/100 [07:04<05:11,  7.41s/it]"
     ]
    },
    {
     "name": "stdout",
     "output_type": "stream",
     "text": [
      "\n",
      "Raw model output: Analysis:\n",
      "1. Main claim and evidence:\n",
      "The text discusses the relevance of strategic thinking in security affairs, referencing academic articles to support its argument. There is no explicit claim about climate change or its impacts.\n",
      "\n",
      "2. Based on this analysis:\n",
      "Code: 0.0\n",
      "Reason: The text does not make any claims about climate change or its impacts, nor does it provide evidence that could be matched to the provided codes. It appears to be a discussion of strategic thinking in security affairs, unrelated to climate change.\n"
     ]
    },
    {
     "name": "stderr",
     "output_type": "stream",
     "text": [
      " 59%|█████▉    | 59/100 [07:14<05:36,  8.21s/it]"
     ]
    },
    {
     "name": "stdout",
     "output_type": "stream",
     "text": [
      "\n",
      "Raw model output: Analysis:\n",
      "1. Main claim and evidence:\n",
      "The text mentions a period of drought (1900-1940) as part of the 20th century's temperature increase, suggesting that climate change might not be the primary cause.\n",
      "\n",
      "2. Based on this analysis:\n",
      "Code: 4.4\n",
      "Reason: The text implies that climate policies are unnecessary or ineffective because there were already significant droughts in the past, which could be seen as evidence against the need for mitigation efforts. However, a closer reading reveals that the text is actually highlighting the complexity of historical climate variability rather than directly arguing against climate change policies. A more nuanced interpretation would suggest that the code 4.4 doesn't perfectly fit, but another option might be 3.5 (Climate change does not contribute to human conflict/threaten national security) because the drought mentioned could be seen as a natural event, and the text doesn't explicitly link it to climate change or argue against its existence.\n"
     ]
    },
    {
     "name": "stderr",
     "output_type": "stream",
     "text": [
      " 60%|██████    | 60/100 [07:19<04:53,  7.34s/it]"
     ]
    },
    {
     "name": "stdout",
     "output_type": "stream",
     "text": [
      "\n",
      "Raw model output: Analysis:\n",
      "1. Main claim and evidence:\n",
      "The text implies that climate change is not a significant threat to national security, as it mentions the military's nuclear program as a distraction from climate negotiations.\n",
      "\n",
      "2. Based on this analysis:\n",
      "Code: 5.5\n",
      "Reason: This code fits because the main claim is that climate change does not contribute to human conflict or threaten national security. The text provides no evidence to support this claim and instead shifts attention to a different issue (nuclear program).\n"
     ]
    },
    {
     "name": "stderr",
     "output_type": "stream",
     "text": [
      " 61%|██████    | 61/100 [07:28<05:02,  7.75s/it]"
     ]
    },
    {
     "name": "stdout",
     "output_type": "stream",
     "text": [
      "\n",
      "Raw model output: Analysis:\n",
      "\n",
      "1. Main claim and evidence:\n",
      "Dr. S. Fred Singer claims that the climate sensitivity estimate has not changed since 1990, citing a range of 1.5 to 4.5 C for a doubling of CO2, and suggests that this estimate is faulty due to omitted feedbacks.\n",
      "\n",
      "2. Based on this analysis:\n",
      "Code: 3.1\n",
      "Reason: Dr. Singer's main claim about the climate sensitivity estimate aligns with code 3.1, which states \"Climate sensitivity is low/negative feedbacks reduce warming\". Although he also criticizes the estimate as being wrong, his primary argument focuses on the potential for negative feedbacks to reduce warming, making this code the most appropriate fit.\n"
     ]
    },
    {
     "name": "stderr",
     "output_type": "stream",
     "text": [
      " 62%|██████▏   | 62/100 [07:38<05:26,  8.60s/it]"
     ]
    },
    {
     "name": "stdout",
     "output_type": "stream",
     "text": [
      "\n",
      "Raw model output: Analysis:\n",
      "1. Main claim and evidence:\n",
      "The text claims that Nuccitelli (presumably a climate scientist or advocate) is being \"bruised by the factual hand of Monckton\" (likely a skeptic or critic), implying that Monckton's arguments are factually sound, while Nuccitelli's views are not. The evidence for this claim is not explicitly stated in the text, but it can be inferred that Monckton's criticisms of Nuccitelli's stance on climate change are being presented as factual and accurate.\n",
      "\n",
      "2. Based on this analysis:\n",
      "Code: 5.3\n",
      "Reason: This code fits best because the text implies that there is a conspiracy or coordinated effort between Monckton and the \"factual hand\" to discredit Nuccitelli, suggesting that Monckton's arguments are part of a larger campaign to undermine climate change science. The text does not provide evidence for this claim, but rather presents it as a fact, which is characteristic of conspiracy theories.\n"
     ]
    },
    {
     "name": "stderr",
     "output_type": "stream",
     "text": [
      " 63%|██████▎   | 63/100 [07:46<05:08,  8.33s/it]"
     ]
    },
    {
     "name": "stdout",
     "output_type": "stream",
     "text": [
      "\n",
      "Raw model output: Analysis:\n",
      "1. Main claim and evidence:\n",
      "The text claims that the dynamical effects in global climate models are too small to match the observed data, but these effects are present in the model simulations.\n",
      "\n",
      "2. Based on this analysis:\n",
      "Code: 3.1\n",
      "Reason: This code fits best because the text suggests that climate sensitivity is low (i.e., the dynamical effects in models are much smaller than those observed), and it also mentions negative feedbacks reducing warming, which aligns with the idea of low climate sensitivity. The text does not explicitly state that warming is happening or will happen, but rather focuses on the discrepancy between model predictions and observations, implying a reduced impact of human-induced climate change.\n"
     ]
    },
    {
     "name": "stderr",
     "output_type": "stream",
     "text": [
      " 64%|██████▍   | 64/100 [07:54<05:01,  8.36s/it]"
     ]
    },
    {
     "name": "stdout",
     "output_type": "stream",
     "text": [
      "\n",
      "Raw model output: Analysis:\n",
      "1. Main claim and evidence:\n",
      "The text claims that an increase in CO2 actually cools the atmosphere, contrary to the common assertion that it causes warming. The evidence provided is a quote from scientists who agree with PSI's statement.\n",
      "\n",
      "2. Based on this analysis:\n",
      "Code: 3.5\n",
      "Reason: This code fits because the main claim is that human CO2 emissions are miniscule and do not raise atmospheric CO2, which is a specific interpretation of the relationship between CO2 and temperature. The text suggests that an increase in CO2 might actually have a cooling effect, but this is not explicitly stated as a conclusion. However, the overall tone and implication align with code 3.5, which argues that human CO2 emissions are negligible or do not contribute to warming.\n"
     ]
    },
    {
     "name": "stderr",
     "output_type": "stream",
     "text": [
      " 65%|██████▌   | 65/100 [08:01<04:36,  7.91s/it]"
     ]
    },
    {
     "name": "stdout",
     "output_type": "stream",
     "text": [
      "\n",
      "Raw model output: Analysis:\n",
      "1. Main claim and evidence:\n",
      "The text claims that CO2 is not a pollutant, despite being identified as such by the Supreme Court, and that it's essential for life on Earth, used by all vegetation for growth.\n",
      "\n",
      "2. Based on this analysis:\n",
      "Code: 3.3\n",
      "Reason: This code fits best because the text argues that CO2 is beneficial and vital to all life, rather than a pollutant. The text also references scientific facts about CO2 being necessary for plant growth and its role in human respiration, which suggests a misunderstanding or misinterpretation of climate science.\n"
     ]
    },
    {
     "name": "stderr",
     "output_type": "stream",
     "text": [
      " 66%|██████▌   | 66/100 [08:08<04:17,  7.57s/it]"
     ]
    },
    {
     "name": "stdout",
     "output_type": "stream",
     "text": [
      "\n",
      "Raw model output: Analysis:\n",
      "1. Main claim and evidence:\n",
      "This text does not make a specific climate-related claim about ice cover, temperature changes, or other indicators of climate change. Instead, it provides biographical information about Craig D. Idso's education and research background.\n",
      "\n",
      "2. Based on this analysis:\n",
      "Code: 0.0\n",
      "Reason: The text does not contain any claims about climate change or its impacts, making none of the provided codes (1.x to 4.x) applicable. It appears to be a biographical sketch with no relevance to climate change-related topics.\n"
     ]
    },
    {
     "name": "stderr",
     "output_type": "stream",
     "text": [
      " 67%|██████▋   | 67/100 [08:19<04:41,  8.54s/it]"
     ]
    },
    {
     "name": "stdout",
     "output_type": "stream",
     "text": [
      "\n",
      "Raw model output: Analysis:\n",
      "\n",
      "1. Main claim and evidence:\n",
      "The text claims that Figure 1 does not falsify the CO2 hypothesis, but rather it is an interesting finding that needs further exploration. The evidence provided is a reference to two explanations postulated by the IPCC (Intergovernmental Panel on Climate Change) for changes in climate: volcanic eruptions and solar variations. Additionally, the text mentions a specific amount of energy increase (1.6 W/m2 per decade) that needs to be explained.\n",
      "\n",
      "2. Based on this analysis:\n",
      "Code: 3.5\n",
      "Reason: This code fits best because the text explicitly states that human CO2 emissions are not raising atmospheric CO2, and instead, there is an unexplained increase in energy that needs to be attributed to other factors (volcanic eruptions and solar variations). The text does not argue that CO2 emissions are negligible or insignificant; rather, it suggests that the current findings do not provide conclusive evidence for human-caused climate change.\n"
     ]
    },
    {
     "name": "stderr",
     "output_type": "stream",
     "text": [
      " 68%|██████▊   | 68/100 [08:26<04:23,  8.22s/it]"
     ]
    },
    {
     "name": "stdout",
     "output_type": "stream",
     "text": [
      "\n",
      "Raw model output: Analysis:\n",
      "1. Main claim and evidence:\n",
      "The text claims that climate change is not a significant threat to human conflict or national security, and that people need energy from fossil fuels or nuclear power. The evidence is implicit, as it doesn't provide specific data or studies to support this claim.\n",
      "\n",
      "2. Based on this analysis:\n",
      "Code: 5.5\n",
      "Reason: This code fits because the text explicitly states that climate change does not contribute to human conflict or threaten national security, which aligns with a skeptical view of climate change's impact on human affairs. The text also implies that people need energy from fossil fuels or nuclear power, which is contrary to many climate policies and recommendations for reducing greenhouse gas emissions.\n"
     ]
    },
    {
     "name": "stderr",
     "output_type": "stream",
     "text": [
      " 69%|██████▉   | 69/100 [08:33<04:01,  7.80s/it]"
     ]
    },
    {
     "name": "stdout",
     "output_type": "stream",
     "text": [
      "\n",
      "Raw model output: Analysis:\n",
      "1. Main claim and evidence:\n",
      "The text implies that climate change reports are unreliable, as evidenced by the author's skepticism towards public opinion polls and the lack of mention of relevant industries (railways and airports).\n",
      "\n",
      "2. Based on this analysis:\n",
      "Code: 5.2\n",
      "Reason: This code fits best because the text expresses alarmism, bias, and a negative view of climate change science, which are all characteristic of claims made by those who reject or downplay the significance of human-caused climate change. The tone is also critical and dismissive, suggesting that climate-related science is unreliable or unsound.\n"
     ]
    },
    {
     "name": "stderr",
     "output_type": "stream",
     "text": [
      " 70%|███████   | 70/100 [08:43<04:08,  8.29s/it]"
     ]
    },
    {
     "name": "stdout",
     "output_type": "stream",
     "text": [
      "\n",
      "Raw model output: Analysis:\n",
      "1. Main claim and evidence:\n",
      "The text claims that early action in addressing climate change leads to controversy, but actually serves as a strategy to mobilize lobbying for cap-and-trade policies. The evidence provided is the contrast between the value of emission-reduction credits in a free market (peanuts or nothing) and their worth in a carbon-constrained market (millions).\n",
      "\n",
      "2. Based on this analysis:\n",
      "Code: 4.1\n",
      "Reason: This code fits because the text presents climate policy as harmful, specifically by implying that early action is used to manipulate lobbying for cap-and-trade policies, which can be seen as a negative consequence of well-intentioned efforts. The text does not explicitly argue that climate policies are ineffective or too hard to solve, but rather suggests that they have unintended consequences that might be beneficial to certain groups (those with an incentive to lobby).\n"
     ]
    },
    {
     "name": "stderr",
     "output_type": "stream",
     "text": [
      " 71%|███████   | 71/100 [08:50<03:55,  8.13s/it]"
     ]
    },
    {
     "name": "stdout",
     "output_type": "stream",
     "text": [
      "\n",
      "Raw model output: Analysis:\n",
      "1. Main claim and evidence:\n",
      "The text suggests that recent ocean-atmosphere processes have replenished warm water in the western equatorial Pacific, potentially allowing El Niño to develop again this year.\n",
      "\n",
      "2. Based on this analysis:\n",
      "Code: 5.1\n",
      "Reason: This code fits best because the text presents climate-related science as uncertain and possibly unreliable. The language used is neutral and observational, without making a clear claim about the implications of the process or its relevance to climate change. The text also references an earlier discussion (Part 14) without providing explicit evidence or conclusions, which suggests that the information may be subject to interpretation or ongoing debate.\n"
     ]
    },
    {
     "name": "stderr",
     "output_type": "stream",
     "text": [
      " 72%|███████▏  | 72/100 [08:58<03:44,  8.01s/it]"
     ]
    },
    {
     "name": "stdout",
     "output_type": "stream",
     "text": [
      "\n",
      "Raw model output: Analysis:\n",
      "1. Main claim and evidence:\n",
      "The text claims that Obama's climate policies will survive under a Trump presidency, with Holdren stating they are \"enthusiastically pursued\" by career civil servants. The evidence is the quote from Holdren about global momentum behind the Paris treaty.\n",
      "\n",
      "2. Based on this analysis:\n",
      "Code: 4.2\n",
      "Reason: This code fits because the text presents climate policies as being effective and having a strong backing, which contradicts claims that climate policies are ineffective or flawed (code 4.2). The text actually suggests that Obama's climate policies will survive under a Trump presidency, implying that they have some level of support and momentum behind them.\n"
     ]
    },
    {
     "name": "stderr",
     "output_type": "stream",
     "text": [
      " 73%|███████▎  | 73/100 [09:05<03:26,  7.65s/it]"
     ]
    },
    {
     "name": "stdout",
     "output_type": "stream",
     "text": [
      "\n",
      "Raw model output: Analysis:\n",
      "1. Main claim and evidence:\n",
      "The bus company's decision to suspend bio-diesel use due to cold weather disruptions is presented as a consequence of global warming, with the implication that warmer temperatures would not cause such issues.\n",
      "\n",
      "2. Based on this analysis:\n",
      "Code: 3.4\n",
      "Reason: This code fits because the text implies that climate change (global warming) has led to an increase in cold weather events, which in turn caused disruptions to bus services. The main claim is that global warming is having a significant impact, with evidence being the need for alternative fuels due to temperature sensitivity.\n"
     ]
    },
    {
     "name": "stderr",
     "output_type": "stream",
     "text": [
      " 74%|███████▍  | 74/100 [09:11<03:05,  7.12s/it]"
     ]
    },
    {
     "name": "stdout",
     "output_type": "stream",
     "text": [
      "\n",
      "Raw model output: Analysis:\n",
      "1. Main claim and evidence:\n",
      "The text claims that scientists are inconsistent in their argument, specifically drawing on short-term temperature increases to give climate change meaning.\n",
      "\n",
      "2. Based on this analysis:\n",
      "Code: 5.2\n",
      "Reason: The text suggests that the climate movement is \"alarmist\" or \"wrong\", implying a negative view of the scientific consensus and its methods. This aligns with code 5.2, which categorizes claims about the climate movement as alarmist, wrong, political, biased, or hypocritical.\n"
     ]
    },
    {
     "name": "stderr",
     "output_type": "stream",
     "text": [
      " 75%|███████▌  | 75/100 [09:18<02:58,  7.13s/it]"
     ]
    },
    {
     "name": "stdout",
     "output_type": "stream",
     "text": [
      "\n",
      "Raw model output: Analysis:\n",
      "1. Main claim and evidence:\n",
      "The text claims that there is so much sea ice in Antarctica during the summer that a research vessel gets stuck, implying that sea ice is not melting as expected.\n",
      "\n",
      "2. Based on this analysis:\n",
      "Code: 1.6\n",
      "Reason: This code fits best because the text suggests that sea level rise (and by extension, the melting of sea ice) is exaggerated or not accelerating, which aligns with the idea that sea ice isn't melting as much as claimed. The text uses a specific anecdote about a research vessel getting stuck in summer to support this claim, implying that the expected melting of sea ice hasn't occurred.\n"
     ]
    },
    {
     "name": "stderr",
     "output_type": "stream",
     "text": [
      " 76%|███████▌  | 76/100 [09:26<02:58,  7.43s/it]"
     ]
    },
    {
     "name": "stdout",
     "output_type": "stream",
     "text": [
      "\n",
      "Raw model output: Analysis:\n",
      "1. Main claim and evidence:\n",
      "The text claims that the Americans will not take action against Russia due to their own weakness, with no consequences for embarrassing previous administrations or walking away from deals.\n",
      "\n",
      "2. Based on this analysis:\n",
      "Code: 5.2\n",
      "Reason: The text is alarmist in its tone, suggesting that the Americans are too weak to take action against Russia, and implies that there will be no consequences for their actions. This language is characteristic of a biased perspective, which aligns with code 5.2. Additionally, the text's focus on the perceived weakness of the Americans and their lack of consequences for their actions suggests a political or hypocritical tone, also consistent with code 5.2.\n"
     ]
    },
    {
     "name": "stderr",
     "output_type": "stream",
     "text": [
      " 77%|███████▋  | 77/100 [09:34<02:54,  7.60s/it]"
     ]
    },
    {
     "name": "stdout",
     "output_type": "stream",
     "text": [
      "\n",
      "Raw model output: Analysis:\n",
      "1. Main claim and evidence:\n",
      "The text does not explicitly make a climate-related claim, but rather discusses a legal case involving the Sarbanes-Oxley Act of 2002 and Supreme Court briefs by Kagan. However, if we were to stretch it to find a connection, one could argue that the text mentions \"costly accounting mandates,\" which might be seen as an environmental or regulatory issue.\n",
      "\n",
      "2. Based on this analysis:\n",
      "Code: 0.0\n",
      "Reason: The text does not directly make any climate-related claims or evidence, and instead discusses a legal case unrelated to climate change. There is no clear connection between the content of the text and any code in the provided list.\n"
     ]
    },
    {
     "name": "stderr",
     "output_type": "stream",
     "text": [
      " 78%|███████▊  | 78/100 [09:42<02:48,  7.64s/it]"
     ]
    },
    {
     "name": "stdout",
     "output_type": "stream",
     "text": [
      "\n",
      "Raw model output: Analysis:\n",
      "1. Main claim and evidence:\n",
      "Khabibullo Abdusamatov claims that global warming is caused by an unusually high level of solar radiation, not greenhouse gas emissions, with evidence from the growth in solar intensity over the last century.\n",
      "\n",
      "2. Based on this analysis:\n",
      "Code: 2.3\n",
      "Reason: This code fits best because Abdusamatov attributes climate change to non-greenhouse gas human climate forcings (in this case, solar radiation), which is a specific and scientifically disputed explanation for global warming. The text also mentions that ascribing greenhouse effect properties to the Earth's atmosphere is not scientifically substantiated, further supporting the choice of code 2.3.\n"
     ]
    },
    {
     "name": "stderr",
     "output_type": "stream",
     "text": [
      " 79%|███████▉  | 79/100 [09:49<02:37,  7.52s/it]"
     ]
    },
    {
     "name": "stdout",
     "output_type": "stream",
     "text": [
      "\n",
      "Raw model output: Analysis:\n",
      "1. Main claim and evidence:\n",
      "The text argues that past climate variations cannot be satisfactorily explained, citing changes in the primary mode of climate oscillation over 2 million years and the lack of clear explanations for recent glacial cycles.\n",
      "\n",
      "2. Based on this analysis:\n",
      "Code: 2.1\n",
      "Reason: The text attributes current climate change to natural variation, specifically referencing historical climate cycles and the complexity of past climate oscillations. This matches code 2.1 because it implies that current changes are part of a larger, natural pattern rather than being driven by human activities or greenhouse gas emissions.\n"
     ]
    },
    {
     "name": "stderr",
     "output_type": "stream",
     "text": [
      " 80%|████████  | 80/100 [09:59<02:44,  8.20s/it]"
     ]
    },
    {
     "name": "stdout",
     "output_type": "stream",
     "text": [
      "\n",
      "Raw model output: Analysis:\n",
      "1. Main claim and evidence:\n",
      "The text argues that reducing CO2 emissions has a significant impact on GDP per capita, with a specific example of Costa Rica having 2 tons of CO2 per capita and the Netherlands having 23 tons.\n",
      "\n",
      "2. Based on this analysis:\n",
      "Code: 4.4\n",
      "Reason: The text presents a claim about the economic consequences of reducing CO2 emissions, suggesting that it would lead to a significant decrease in wealth (GDP per capita). This aligns with code 4.4, which states that \"Clean energy technology/biofuels won't work\" or, more broadly, that climate policies are ineffective. The text's focus on the economic impact of reducing emissions and its implication that it would have a significant negative effect on wealth suggests that it is arguing against the effectiveness of climate policies, making 4.4 the most appropriate code.\n"
     ]
    },
    {
     "name": "stderr",
     "output_type": "stream",
     "text": [
      " 81%|████████  | 81/100 [10:06<02:28,  7.81s/it]"
     ]
    },
    {
     "name": "stdout",
     "output_type": "stream",
     "text": [
      "\n",
      "Raw model output: Analysis:\n",
      "1. Main claim and evidence:\n",
      "The text claims that NRDC's predictions of a warming world are \"lame excuses\" and cites specific statements from Heat Advisory as evidence to refute these predictions.\n",
      "\n",
      "2. Based on this analysis:\n",
      "Code: 5.2\n",
      "Reason: The text is dismissive and critical of climate change science, labeling it as an excuse, which suggests that the author believes the climate movement is alarmist or wrong. This aligns with code 5.2, which categorizes climate-related claims made by the climate movement as alarmist, wrong, political, biased, or hypocritical.\n"
     ]
    },
    {
     "name": "stderr",
     "output_type": "stream",
     "text": [
      " 82%|████████▏ | 82/100 [10:15<02:26,  8.12s/it]"
     ]
    },
    {
     "name": "stdout",
     "output_type": "stream",
     "text": [
      "\n",
      "Raw model output: Analysis:\n",
      "1. Main claim and evidence:\n",
      "The text presents a comparison of different climate models' trends in outgoing longwave radiation, highlighting the variability in decline rates over the hindcast period from 1861 to 2005.\n",
      "\n",
      "2. Based on this analysis:\n",
      "Code: 3.1\n",
      "Reason: This code fits best because the text discusses the concept of \"climate sensitivity\" (i.e., how much the climate responds to a given amount of warming) and presents evidence that suggests it is low, as indicated by the range of decline rates among different models (-0.02 to -0.17 watts/m^2/decade). The mention of negative feedbacks also implies that the warming effect is being dampened, which aligns with the idea of low climate sensitivity.\n"
     ]
    },
    {
     "name": "stderr",
     "output_type": "stream",
     "text": [
      " 83%|████████▎ | 83/100 [10:24<02:26,  8.60s/it]"
     ]
    },
    {
     "name": "stdout",
     "output_type": "stream",
     "text": [
      "\n",
      "Raw model output: Analysis:\n",
      "1. Main claim and evidence:\n",
      "The text claims that increased Svalbard Glacial acceleration did not occur in the entire Austfonna ice cap, but was limited to one continental glacier, and has not been documented elsewhere in the island chain. The evidence provided is that it occurred in only one portion of the Austfonna ice cap and was verified not to occur in the adjacent Vestfonna ice cap.\n",
      "\n",
      "2. Based on this analysis:\n",
      "Code: 1.1\n",
      "Reason: This code fits best because the text directly claims that ice cover isn't melting, using selective evidence about a specific area (the one continental glacier) where acceleration did not occur, and verifying it didn't happen in another adjacent area (Vestfonna ice cap). The text implies that this localized event is evidence against global warming or climate change, which aligns with the definition of code 1.1.\n"
     ]
    },
    {
     "name": "stderr",
     "output_type": "stream",
     "text": [
      " 84%|████████▍ | 84/100 [10:33<02:16,  8.54s/it]"
     ]
    },
    {
     "name": "stdout",
     "output_type": "stream",
     "text": [
      "\n",
      "Raw model output: Analysis:\n",
      "1. Main claim and evidence:\n",
      "The text claims that the record growth of sea ice around Antarctica is significant, suggesting that if Arctic melting is a concern, then Antarctic sea ice growth should also be considered. The evidence provided includes a link to a credible source (University of Illinois-Urbana website) showing historic sea ice data.\n",
      "\n",
      "2. Based on this analysis:\n",
      "Code: 1.6\n",
      "Reason: This code fits because the text argues that sea level rise is exaggerated or not accelerating, as evidenced by the record growth of sea ice around Antarctica. The text implies that if Arctic melting is a concern, then Antarctic sea ice growth should also be considered significant, suggesting that current concerns about sea level rise may be overstated.\n"
     ]
    },
    {
     "name": "stderr",
     "output_type": "stream",
     "text": [
      " 85%|████████▌ | 85/100 [10:40<02:01,  8.13s/it]"
     ]
    },
    {
     "name": "stdout",
     "output_type": "stream",
     "text": [
      "\n",
      "Raw model output: Analysis:\n",
      "1. Main claim and evidence:\n",
      "The text argues that climate change lawsuits have weak legal foundations, relying on vague principles rather than concrete laws or judicial precedent.\n",
      "\n",
      "2. Based on this analysis:\n",
      "Code: 4.2\n",
      "Reason: The text explicitly states that the legal theories in climate change lawsuits are \"little basis in positive law or judicial precedent\", which matches code 4.2's description of \"Climate policies (mitigation or adaptation) are ineffective/flawed\". This reason fits because the text highlights a perceived weakness in the legal foundations of climate change lawsuits, implying that they may not be effective or well-grounded in law.\n"
     ]
    },
    {
     "name": "stderr",
     "output_type": "stream",
     "text": [
      " 86%|████████▌ | 86/100 [10:47<01:49,  7.81s/it]"
     ]
    },
    {
     "name": "stdout",
     "output_type": "stream",
     "text": [
      "\n",
      "Raw model output: Analysis:\n",
      "1. Main claim and evidence:\n",
      "Climate experts suggest that a 1930s style global economic depression is needed to stabilize the climate, implying that current economic systems are unsustainable for long-term climate stability.\n",
      "\n",
      "2. Based on this analysis:\n",
      "Code: 4.4\n",
      "Reason: This code fits best because the text presents a negative view of current economic policies and suggests an extreme measure (global economic depression) as a solution, which aligns with the idea that clean energy technology/biofuels won't work. The text implies that existing solutions are insufficient or even harmful, which is in line with the sentiment expressed in code 4.4.\n"
     ]
    },
    {
     "name": "stderr",
     "output_type": "stream",
     "text": [
      " 87%|████████▋ | 87/100 [10:55<01:44,  8.02s/it]"
     ]
    },
    {
     "name": "stdout",
     "output_type": "stream",
     "text": [
      "\n",
      "Raw model output: Analysis:\n",
      "1. Main claim and evidence:\n",
      "The text claims that there have been two distinct warm periods (1920s-1950s, 1980s-90s) and two cold periods in the climate records, with the most recent maximum temperature being short-lived and rapidly declining.\n",
      "\n",
      "2. Based on this analysis:\n",
      "Code: 1.4\n",
      "Reason: The text directly challenges the notion of a long-term warming trend by pointing out that there have been multiple warm and cold periods throughout the climate record, which contradicts the idea that the climate has warmed over the last few decades. This matches code 1.4 because it claims that the climate hasn't warmed or changed significantly over the last decade(s).\n"
     ]
    },
    {
     "name": "stderr",
     "output_type": "stream",
     "text": [
      " 88%|████████▊ | 88/100 [11:02<01:29,  7.43s/it]"
     ]
    },
    {
     "name": "stdout",
     "output_type": "stream",
     "text": [
      "\n",
      "Raw model output: Analysis:\n",
      "1. Main claim and evidence:\n",
      "The text suggests that some global warming can be attributed to the Sun, cosmic rays, or internal planetary variability, with a shared positive sign being suggestive but not conclusive.\n",
      "\n",
      "2. Based on this analysis:\n",
      "Code: 2.1\n",
      "Reason: The text explicitly attributes changes in global warming to natural causes (the Sun and/or nearby cosmic rays) and mentions that internal planetary variability is still a plausible explanation. This aligns with the code's definition of attributing changes to \"natural cycles/variation\".\n"
     ]
    },
    {
     "name": "stderr",
     "output_type": "stream",
     "text": [
      " 89%|████████▉ | 89/100 [11:08<01:17,  7.03s/it]"
     ]
    },
    {
     "name": "stdout",
     "output_type": "stream",
     "text": [
      "\n",
      "Raw model output: Analysis:\n",
      "1. Main claim and evidence:\n",
      "The text claims that regulations and permits were not a part of the first tea party, implying that climate policies (mitigation or adaptation) are unnecessary or overly restrictive.\n",
      "\n",
      "2. Based on this analysis:\n",
      "Code: 4.1\n",
      "Reason: The text directly challenges the necessity of regulations and permits in the context of climate change, suggesting that they are harmful or unnecessary. This aligns with code 4.1, which states \"Climate policies (mitigation or adaptation) are harmful\".\n"
     ]
    },
    {
     "name": "stderr",
     "output_type": "stream",
     "text": [
      " 90%|█████████ | 90/100 [11:16<01:14,  7.41s/it]"
     ]
    },
    {
     "name": "stdout",
     "output_type": "stream",
     "text": [
      "\n",
      "Raw model output: Analysis:\n",
      "1. Main claim and evidence:\n",
      "The text claims that the creation of green jobs through subsidies and regulation leads to job destruction in other industries, citing the example of Italy's electricity costs being among the most expensive in Europe due to subsidies for renewable energy.\n",
      "\n",
      "2. Based on this analysis:\n",
      "Code: 4.4\n",
      "Reason: This code fits best because the text argues that a specific policy (subsidies for green jobs) has an unintended negative consequence (job destruction in other industries), which is consistent with the claim made in code 4.4, \"Clean energy technology/biofuels won't work\" is not correct here but the idea of unintended consequences and costs associated with subsidies fits better with this category.\n"
     ]
    },
    {
     "name": "stderr",
     "output_type": "stream",
     "text": [
      " 91%|█████████ | 91/100 [11:26<01:12,  8.07s/it]"
     ]
    },
    {
     "name": "stdout",
     "output_type": "stream",
     "text": [
      "\n",
      "Raw model output: Analysis:\n",
      "1. Main claim and evidence:\n",
      "The text claims that elevated CO2 levels increase cone production in trees, with specific evidence of increased fecundity, early maturation, smaller diameters for reproductive maturity, younger ages for reproduction, higher cone production rates, and a greater proportion of trees producing cones.\n",
      "\n",
      "2. Based on this analysis:\n",
      "Code: 3.2\n",
      "Reason: This code fits because the text presents observational data from a study that shows positive effects of elevated CO2 levels on tree reproduction (increased cone production), which is consistent with the idea that greenhouse gas human climate forcings, such as CO2, have beneficial or neutral impacts on certain aspects of ecosystems. The text does not claim that these effects are universal or that they outweigh negative consequences, but rather presents specific evidence of a positive effect.\n"
     ]
    },
    {
     "name": "stderr",
     "output_type": "stream",
     "text": [
      " 92%|█████████▏| 92/100 [11:33<01:02,  7.77s/it]"
     ]
    },
    {
     "name": "stdout",
     "output_type": "stream",
     "text": [
      "\n",
      "Raw model output: Analysis:\n",
      "1. Main claim and evidence:\n",
      "The text claims that climate change is not a significant threat to human conflict or national security, and that people need energy from fossil fuels/nuclear. The evidence is implicit, as it does not provide specific data or studies to support the claim.\n",
      "\n",
      "2. Based on this analysis:\n",
      "Code: 5.5\n",
      "Reason: This code fits because the text explicitly states that climate change does not contribute to human conflict/threaten national security, which directly matches the definition of code 5.5. The text's argument is a clear example of downplaying or dismissing the potential impacts of climate change on human societies and security.\n"
     ]
    },
    {
     "name": "stderr",
     "output_type": "stream",
     "text": [
      " 93%|█████████▎| 93/100 [11:43<00:59,  8.56s/it]"
     ]
    },
    {
     "name": "stdout",
     "output_type": "stream",
     "text": [
      "\n",
      "Raw model output: Analysis:\n",
      "1. Main claim and evidence:\n",
      "The text claims that an Australian Antarctic airstrip is melting, with the government scrambling to find a new air link due to the runway's frozen state. The evidence provided is the specific mention of the $46m runway melting.\n",
      "\n",
      "2. Based on this analysis:\n",
      "Code: 1.6\n",
      "Reason: This code fits best because the text claims that sea level rise is not accelerating, as evidenced by the melting airstrip. However, upon closer inspection, it's clear that the text is actually highlighting a specific instance of ice melt (the runway) rather than making a general claim about sea level rise. Nevertheless, the closest matching code from the provided options is 1.6, which states \"Sea level rise is exaggerated/not accelerating\". The reason for this choice is that the text's focus on the melting airstrip might be seen as downplaying or misrepresenting the broader issue of climate change and its impacts, such as sea level rise.\n"
     ]
    },
    {
     "name": "stderr",
     "output_type": "stream",
     "text": [
      " 94%|█████████▍| 94/100 [11:52<00:51,  8.53s/it]"
     ]
    },
    {
     "name": "stdout",
     "output_type": "stream",
     "text": [
      "\n",
      "Raw model output: Analysis:\n",
      "1. Main claim and evidence:\n",
      "The text claims that a value falls within the uncertainty range of a study, but suggests that the actual imbalance is larger due to time passing since the end of the 20th century. The evidence provided is Jim Hansens value for the imbalance (~0.95 Watts per meter squared from GISS), which implies that current values are higher than previously thought.\n",
      "\n",
      "2. Based on this analysis:\n",
      "Code: 5.1\n",
      "Reason: This code fits because the text expresses uncertainty about the actual climate change, questioning the accuracy of previous studies and suggesting that current values might be higher due to natural variability or other factors. The tone is skeptical and implies that the science is uncertain or unreliable, which aligns with the definition of this code.\n"
     ]
    },
    {
     "name": "stderr",
     "output_type": "stream",
     "text": [
      " 95%|█████████▌| 95/100 [12:00<00:42,  8.56s/it]"
     ]
    },
    {
     "name": "stdout",
     "output_type": "stream",
     "text": [
      "\n",
      "Raw model output: Analysis:\n",
      "1. Main claim and evidence:\n",
      "The text argues that we should be aware of the risks of climate change, geoengineering, but not worry about the risks of fossil fuel energy use, citing improvements in human health, prosperity, and life expectancy during the last hundred years.\n",
      "\n",
      "2. Based on this analysis:\n",
      "Code: 5.1\n",
      "Reason: This code fits best because the text presents a skeptical view of climate-related science, implying that it is uncertain or unreliable. The main claim about not worrying about fossil fuel energy use is based on selective evidence (improvements in human health and prosperity) rather than a thorough evaluation of the risks. Additionally, the text's tone suggests a lack of confidence in climate change science, which aligns with code 5.1.\n"
     ]
    },
    {
     "name": "stderr",
     "output_type": "stream",
     "text": [
      " 96%|█████████▌| 96/100 [12:06<00:31,  7.83s/it]"
     ]
    },
    {
     "name": "stdout",
     "output_type": "stream",
     "text": [
      "\n",
      "Raw model output: Analysis:\n",
      "1. Main claim and evidence:\n",
      "The text claims that scientists don't understand what caused the heatwave, implying that they can't attribute it to global warming because they lack knowledge about its causes.\n",
      "\n",
      "2. Based on this analysis:\n",
      "Code: 5.3\n",
      "Reason: The text suggests a conspiracy theory by implying that scientists are unable to explain the cause of the heatwave, which is a common trope in climate change denial narratives. This code fits best because it matches the pattern of claiming that climate change science is a conspiracy or unreliable.\n"
     ]
    },
    {
     "name": "stderr",
     "output_type": "stream",
     "text": [
      " 97%|█████████▋| 97/100 [12:13<00:22,  7.58s/it]"
     ]
    },
    {
     "name": "stdout",
     "output_type": "stream",
     "text": [
      "\n",
      "Raw model output: Analysis:\n",
      "1. Main claim and evidence:\n",
      "The text claims that the researcher's data is unreliable due to measurement errors or a global conspiracy, but the speaker believes men are better at physics and judging research quality.\n",
      "\n",
      "2. Based on this analysis:\n",
      "Code: 5.3\n",
      "Reason: The text suggests that climate change science is a conspiracy, which directly matches code 5.3. Although the specific claim about data reliability is not explicitly stated as part of the conspiracy theory, it implies that the researcher's findings are suspect or fabricated, aligning with the broader theme of conspiracy theories surrounding climate change.\n"
     ]
    },
    {
     "name": "stderr",
     "output_type": "stream",
     "text": [
      " 98%|█████████▊| 98/100 [12:19<00:14,  7.14s/it]"
     ]
    },
    {
     "name": "stdout",
     "output_type": "stream",
     "text": [
      "\n",
      "Raw model output: Analysis:\n",
      "\n",
      "1. Main claim and evidence:\n",
      "The text does not explicitly make a climate-related claim, but rather discusses the political sentiment among different groups in the American electorate regarding President Obama's agenda and its perceived impact on their aspirations and fears.\n",
      "\n",
      "2. Based on this analysis:\n",
      "Code: 0.0\n",
      "Reason: The text does not match any of the provided code categories as it does not make a specific climate-related claim or evidence. It appears to be unrelated to climate change, focusing instead on political sentiment and public opinion.\n"
     ]
    },
    {
     "name": "stderr",
     "output_type": "stream",
     "text": [
      " 99%|█████████▉| 99/100 [12:26<00:06,  6.99s/it]"
     ]
    },
    {
     "name": "stdout",
     "output_type": "stream",
     "text": [
      "\n",
      "Raw model output: Analysis:\n",
      "1. Main claim and evidence:\n",
      "The text attributes various historical events (First World War, Napoleon's campaigns) to natural climate variability or unrelated causes (fight at the local pub), suggesting that current climate change is not unusual.\n",
      "\n",
      "2. Based on this analysis:\n",
      "Code: 2.1\n",
      "Reason: The text explicitly argues that current changes are part of natural cycles, referencing historical climate fluctuations and downplaying the significance of recent events like the cold snap. This matches code 2.1 because it attributes changes to natural variation, rather than attributing them to human activities or greenhouse gas emissions.\n"
     ]
    },
    {
     "name": "stderr",
     "output_type": "stream",
     "text": [
      "100%|██████████| 100/100 [12:33<00:00,  7.07s/it]"
     ]
    },
    {
     "name": "stdout",
     "output_type": "stream",
     "text": [
      "\n",
      "Raw model output: Analysis:\n",
      "1. Main claim and evidence:\n",
      "The text claims that climate models used by the IPCC may lead to overly confident predictions due to confirmation bias, as they share similar computer code and limitations. The evidence provided is a paper published in the Journal of Climate and empirical observations showing less warming than predicted by the IPCC models.\n",
      "\n",
      "2. Based on this analysis:\n",
      "Code: 5.1\n",
      "Reason: This code fits best because the text challenges the reliability and accuracy of climate science, specifically questioning the confidence placed in climate model predictions. The main claim is that climate models are prone to confirmation bias, which undermines the trustworthiness of their results.\n"
     ]
    },
    {
     "name": "stderr",
     "output_type": "stream",
     "text": [
      "100%|██████████| 100/100 [12:34<00:00,  7.55s/it]"
     ]
    },
    {
     "name": "stdout",
     "output_type": "stream",
     "text": [
      "\n",
      "Processing complete!\n",
      "Successfully processed: 100 rows\n",
      "Errors: 0 rows\n"
     ]
    },
    {
     "name": "stderr",
     "output_type": "stream",
     "text": [
      "\n"
     ]
    }
   ],
   "source": [
    "import pandas as pd\n",
    "import ollama\n",
    "import re\n",
    "import time\n",
    "from tqdm import tqdm\n",
    "\n",
    "# Codebook for climate contrarian claims\n",
    "CODEBOOK = \"\"\"\n",
    "1.1: Ice/permafrost/snow cover isn't melting\n",
    "1.2: We're heading into an ice age/global cooling\n",
    "1.3: Weather is cold/snowing\n",
    "1.4: Climate hasn't warmed/changed over the last (few) decade(s)\n",
    "1.5: Oceans are cooling/not warming\n",
    "1.6: Sea level rise is exaggerated/not accelerating\n",
    "1.7: Extreme weather isn't increasing/has happened before/isn't linked to climate change\n",
    "1.8: They changed the name from 'global warming' to 'climate change'\n",
    "2.1: It's natural cycles/variation\n",
    "2.2: It's non-greenhouse gas human climate forcings (aerosols, land use)\n",
    "2.3: There's no evidence for greenhouse effect/carbon dioxide driving climate change\n",
    "2.4: CO2 is not rising/ocean pH is not falling\n",
    "2.5: Human CO2 emissions are miniscule/not raising atmospheric CO2\n",
    "3.1: Climate sensitivity is low/negative feedbacks reduce warming\n",
    "3.2: Species/plants/reefs aren't showing climate impacts yet/are benefiting from climate change\n",
    "3.3: CO2 is beneficial/not a pollutant\n",
    "3.4: It's only a few degrees (or less)\n",
    "3.5: Climate change does not contribute to human conflict/threaten national security\n",
    "3.6: Climate change doesn't negatively impact health\n",
    "4.1: Climate policies (mitigation or adaptation) are harmful\n",
    "4.2: Climate policies are ineffective/flawed\n",
    "4.3: It's too hard to solve\n",
    "4.4: Clean energy technology/biofuels won't work\n",
    "4.5: People need energy (e.g., from fossil fuels/nuclear)\n",
    "5.1: Climate-related science is uncertain/unsound/unreliable\n",
    "5.2: Climate movement is alarmist/wrong/political/biased/hypocritical\n",
    "5.3: Climate change (science or policy) is a conspiracy\n",
    "0.0: None of the above\"\"\"\n",
    "\n",
    "# Few-shot examples to guide the model\n",
    "EXAMPLES = \"\"\"\n",
    "Example 1:\n",
    "Text: \"The Arctic ice is actually increasing in some areas, showing that global warming isn't happening as claimed.\"\n",
    "Analysis:\n",
    "1. Main claim: Arctic ice is increasing\n",
    "Evidence: Mentions some areas of ice increase\n",
    "2. This matches code 1.1 because it directly claims that ice cover isn't melting, using selective evidence about some areas.\n",
    "Code: 1.1\n",
    "Reason: Text specifically challenges ice melting narratives by claiming Arctic ice increase.\n",
    "\n",
    "Example 2:\n",
    "Text: \"These climate scientists keep changing their story. First it was global warming, now it's climate change. They can't make up their minds!\"\n",
    "Analysis:\n",
    "1. Main claim: Scientists changed terminology suspiciously\n",
    "Evidence: Points to change from \"global warming\" to \"climate change\"\n",
    "2. This matches code 1.8 because it explicitly mentions the naming change as evidence of inconsistency.\n",
    "Code: 1.8\n",
    "Reason: Text directly references the terminology change from global warming to climate change.\n",
    "\n",
    "Example 3:\n",
    "Text: \"The Earth has natural cycles of warming and cooling that have been happening for millions of years. What we're seeing now is just part of that.\"\n",
    "Analysis:\n",
    "1. Main claim: Current climate change is natural\n",
    "Evidence: References historical climate cycles\n",
    "2. This matches code 2.1 because it attributes changes to natural variation.\n",
    "Code: 2.1\n",
    "Reason: Text explicitly argues that current changes are part of natural cycles.\"\"\"\n",
    "\n",
    "def prepare_prompt(text):\n",
    "    system_prompt = f\"\"\"You are an expert analyst classifying climate change-related claims. Your task is to analyze the text and match it to the most appropriate category from the codebook.\n",
    "\n",
    "Follow these steps:\n",
    "1. Identify the main claim and supporting evidence in the text\n",
    "2. Match it to the most specific applicable code\n",
    "3. Provide clear reasoning for your choice\n",
    "\n",
    "Codebook:\n",
    "{CODEBOOK}\n",
    "\n",
    "Here are examples of correct analyses:\n",
    "{EXAMPLES}\n",
    "\n",
    "Now analyze this text:\n",
    "---\n",
    "{text}\n",
    "---\n",
    "\n",
    "Format your response exactly like this:\n",
    "Analysis:\n",
    "1. Main claim and evidence:\n",
    "[Describe main claim and evidence]\n",
    "\n",
    "2. Based on this analysis:\n",
    "Code: [number]\n",
    "Reason: [Detailed explanation why this code fits best]\"\"\"\n",
    "    return system_prompt\n",
    "\n",
    "def classify_text(text, retry_count=3, retry_delay=1):\n",
    "    \"\"\"Classify climate-related text using local Ollama instance.\"\"\"\n",
    "    for attempt in range(retry_count):\n",
    "        try:\n",
    "            response = ollama.generate(\n",
    "                model='llama3.2:latest',\n",
    "                prompt=prepare_prompt(text),\n",
    "                stream=False,\n",
    "                options={\n",
    "                    'temperature': 0.1,  # Lower temperature for more consistent outputs\n",
    "                    'top_p': 0.9,\n",
    "                    'num_predict': 500,  # Increased for more detailed analysis\n",
    "                    'stop': [\"\\n\\nText:\", \"Example\"]  # Stop tokens\n",
    "                }\n",
    "            )\n",
    "            \n",
    "            output = response['response']\n",
    "            \n",
    "            if not output:\n",
    "                raise ValueError(\"Empty response from model\")\n",
    "            \n",
    "            print(\"\\nRaw model output:\", output)  # Debug output\n",
    "                \n",
    "            # Extract code using patterns\n",
    "            code_patterns = [\n",
    "                r'Code:\\s*([0-9]+\\.[0-9]+|0\\.0)(?=\\s|$)',  # Strict pattern for climate codes\n",
    "                r'\\b([0-9]+\\.[0-9]+|0\\.0)\\b'  # Fallback pattern\n",
    "            ]\n",
    "            \n",
    "            code = None\n",
    "            for pattern in code_patterns:\n",
    "                match = re.search(pattern, output, re.IGNORECASE)\n",
    "                if match:\n",
    "                    code = match.group(1).strip()\n",
    "                    # Validate code against codebook\n",
    "                    if code in [code.strip() for code in CODEBOOK.split('\\n') if ':' in code]:\n",
    "                        break\n",
    "            \n",
    "            if not code:\n",
    "                # Keyword matching fallback\n",
    "                text_lower = text.lower()\n",
    "                keywords = {\n",
    "                    '1.1': ['ice', 'permafrost', 'snow', 'melting'],\n",
    "                    '1.2': ['ice age', 'cooling', 'cold'],\n",
    "                    '1.3': ['weather', 'cold', 'snow'],\n",
    "                    '1.4': ['warming', 'change', 'decade'],\n",
    "                    '2.1': ['natural', 'cycle', 'variation'],\n",
    "                    '5.1': ['uncertain', 'unreliable', 'science'],\n",
    "                    '5.2': ['alarmist', 'political', 'biased']\n",
    "                }\n",
    "                \n",
    "                scores = {code: sum(1 for word in words if word in text_lower)\n",
    "                         for code, words in keywords.items()}\n",
    "                \n",
    "                if max(scores.values()) > 0:\n",
    "                    code = max(scores.items(), key=lambda x: x[1])[0]\n",
    "                else:\n",
    "                    code = \"0.0\"\n",
    "            \n",
    "            # Extract reasoning\n",
    "            reasoning_pattern = r'Reason:\\s*(.*?)(?=(?:Analysis:|$))'\n",
    "            reasoning_match = re.search(reasoning_pattern, output, re.IGNORECASE | re.DOTALL)\n",
    "            reasoning = reasoning_match.group(1).strip() if reasoning_match else output.strip()\n",
    "            \n",
    "            return code, reasoning\n",
    "                \n",
    "        except Exception as e:\n",
    "            if attempt == retry_count - 1:\n",
    "                return \"0.0\", f\"Processing failed after {retry_count} attempts: {str(e)}\"\n",
    "            time.sleep(retry_delay * (attempt + 1))\n",
    "            continue\n",
    "\n",
    "def process_dataframe(df, batch_size=50, save_interval=200):\n",
    "    \"\"\"Process the dataframe with progress tracking and periodic saving.\"\"\"\n",
    "    df_processed = df.copy()\n",
    "    \n",
    "    # Initialize columns for results\n",
    "    if 'model_prediction' not in df_processed.columns:\n",
    "        df_processed['model_prediction'] = None\n",
    "    if 'reasoning' not in df_processed.columns:\n",
    "        df_processed['reasoning'] = None\n",
    "    \n",
    "    unprocessed_mask = df_processed['model_prediction'].isna()\n",
    "    total_unprocessed = unprocessed_mask.sum()\n",
    "    \n",
    "    if total_unprocessed == 0:\n",
    "        print(\"All rows have already been processed!\")\n",
    "        return df_processed\n",
    "    \n",
    "    print(f\"Processing {total_unprocessed} unprocessed rows...\")\n",
    "    \n",
    "    with tqdm(total=total_unprocessed) as pbar:\n",
    "        processed_count = 0\n",
    "        \n",
    "        for idx in df_processed[unprocessed_mask].index:\n",
    "            try:\n",
    "                text = str(df_processed.loc[idx, 'text'])\n",
    "                \n",
    "                # Skip invalid text\n",
    "                if text.lower() in ['nan', 'none', ''] or len(text.strip()) < 10:\n",
    "                    df_processed.loc[idx, 'model_prediction'] = \"0.0\"\n",
    "                    df_processed.loc[idx, 'reasoning'] = \"Text too short or empty\"\n",
    "                    processed_count += 1\n",
    "                    pbar.update(1)\n",
    "                    continue\n",
    "                \n",
    "                code, reasoning = classify_text(text)\n",
    "                \n",
    "                df_processed.loc[idx, 'model_prediction'] = code\n",
    "                df_processed.loc[idx, 'reasoning'] = reasoning\n",
    "                \n",
    "                processed_count += 1\n",
    "                pbar.update(1)\n",
    "                \n",
    "                # Save intermediate results\n",
    "                if processed_count % save_interval == 0:\n",
    "                    print(f\"\\nSaving intermediate results after processing {processed_count} rows...\")\n",
    "                    df_processed.to_csv('ollama_climate_results.csv', index=False)\n",
    "                \n",
    "                # Add delay to prevent overwhelming the model\n",
    "                if processed_count % batch_size == 0:\n",
    "                    time.sleep(1)\n",
    "                    \n",
    "            except Exception as e:\n",
    "                print(f\"\\nError processing row {idx}: {str(e)}\")\n",
    "                continue\n",
    "    \n",
    "    # Print summary\n",
    "    success_count = df_processed['model_prediction'].notna().sum() - df_processed['model_prediction'].eq('Error').sum()\n",
    "    error_count = df_processed['model_prediction'].eq('Error').sum()\n",
    "    print(f\"\\nProcessing complete!\")\n",
    "    print(f\"Successfully processed: {success_count} rows\")\n",
    "    print(f\"Errors: {error_count} rows\")\n",
    "    \n",
    "    return df_processed\n",
    "\n",
    "# Example usage:\n",
    "if __name__ == \"__main__\":\n",
    "    # Load your DataFrame here\n",
    "    df = pd.read_csv('Data/contrarian_claims_reasons.csv')\n",
    "    df_results = process_dataframe(df)\n",
    "    #df_results.to_csv('ollama_climate_results.csv', index=False)"
   ]
  },
  {
   "cell_type": "code",
   "execution_count": 3,
   "metadata": {},
   "outputs": [
    {
     "name": "stdout",
     "output_type": "stream",
     "text": [
      "\n",
      "Similarity Analysis Summary:\n",
      "====================================================================================================\n",
      "                         Comparison  Accuracy  Kappa Score  Matching Cases  Total Cases Match Percentage\n",
      "        Original Code Vs Model Code      0.61     0.490928              61          100            61.0%\n",
      "  Original Code Vs Model Prediction      0.33     0.243194              33          100            33.0%\n",
      "      Replicated Code Vs Model Code      0.56     0.449312              56          100            56.0%\n",
      "Replicated Code Vs Model Prediction      0.31     0.231540              31          100            31.0%\n",
      "\n",
      "Detailed Analysis:\n",
      "====================================================================================================\n",
      "\n",
      "Comparison with Original Code:\n",
      "Better model: Original Code Vs Model Code\n",
      "Accuracy: 61.00%\n",
      "Kappa Score: 0.491\n",
      "\n",
      "Comparison with Replicated Code:\n",
      "Better model: Replicated Code Vs Model Code\n",
      "Accuracy: 56.00%\n",
      "Kappa Score: 0.449\n",
      "\n",
      "Confusion Matrix for original_code_vs_model_code:\n",
      "\n",
      "Categories: ['0.0', '1.1', '1.2', '1.6', '1.7', '2.1', '2.3', '3.1', '3.3', '4.1', '4.2', '5.1', '5.2']\n",
      "[[35  2  0  0  2  1  2  0  1  1  2  2  5]\n",
      " [ 0  3  0  0  0  0  0  0  0  0  0  0  0]\n",
      " [ 0  0  0  0  0  1  0  0  0  0  0  0  0]\n",
      " [ 0  0  0  1  0  0  0  0  0  0  0  0  0]\n",
      " [ 0  0  0  0  0  1  0  0  0  0  0  0  0]\n",
      " [ 0  0  0  0  0  4  1  0  0  0  0  0  0]\n",
      " [ 0  0  0  0  0  0  3  0  0  0  0  0  0]\n",
      " [ 0  0  0  0  0  0  2  0  0  0  0  0  0]\n",
      " [ 0  0  0  0  0  0  1  0  2  0  0  0  0]\n",
      " [ 0  0  0  0  0  0  0  0  0  3  0  0  1]\n",
      " [ 0  0  0  0  0  0  0  0  0  0  0  0  0]\n",
      " [ 0  2  0  0  0  1  0  0  0  0  0  7  0]\n",
      " [ 1  0  0  0  0  0  0  0  0  0  1  1  3]]\n",
      "\n",
      "Confusion Matrix for original_code_vs_model_prediction:\n",
      "\n",
      "Categories: ['0.0', '1.1', '1.2', '1.6', '1.7', '2.1', '2.3', '3.1', '3.3', '4.1', '4.2', '5.1', '5.2']\n",
      "[[15  2  0  2  0  2  0  1  1  8  4  4  6]\n",
      " [ 0  1  0  2  0  0  0  0  0  0  0  0  0]\n",
      " [ 0  0  0  0  0  0  0  0  0  0  0  0  0]\n",
      " [ 0  0  0  1  0  0  0  0  0  0  0  0  0]\n",
      " [ 0  0  0  0  0  1  0  0  0  0  0  0  0]\n",
      " [ 0  0  0  0  0  4  1  0  0  0  0  0  0]\n",
      " [ 0  0  0  0  0  0  0  0  0  0  0  0  0]\n",
      " [ 0  0  0  0  0  0  0  1  0  0  0  0  0]\n",
      " [ 0  0  0  0  0  0  0  0  1  0  0  0  0]\n",
      " [ 0  0  0  0  0  0  0  0  0  1  0  0  0]\n",
      " [ 0  0  0  0  0  0  0  0  0  0  0  0  0]\n",
      " [ 0  0  0  1  0  1  0  1  0  0  0  5  0]\n",
      " [ 0  0  0  0  0  0  0  0  0  1  0  1  4]]\n",
      "\n",
      "Confusion Matrix for replicated_code_vs_model_code:\n",
      "\n",
      "Categories: ['0.0', '1.0', '1.1', '1.2', '1.3', '1.6', '2.1', '2.3', '3.3', '4.1', '4.2', '4.3', '4.4', '4.5', '5.1', '5.2', '5.3']\n",
      "[[30  0  2  0  0  0  2  2  0  0  1  0  0  1  2  5  0]\n",
      " [ 2  0  0  0  0  0  1  1  1  0  0  0  0  0  0  1  0]\n",
      " [ 0  0  3  0  0  0  0  0  0  0  0  0  0  0  0  0  0]\n",
      " [ 0  0  0  0  0  0  0  1  0  0  0  0  0  0  0  0  0]\n",
      " [ 0  0  0  0  0  0  1  0  0  0  0  0  0  0  0  0  0]\n",
      " [ 0  0  0  0  0  1  0  0  0  0  0  0  0  0  0  0  0]\n",
      " [ 0  0  0  0  1  0  4  1  0  0  0  0  0  0  0  0  0]\n",
      " [ 0  0  0  0  0  0  0  2  0  0  0  0  0  0  0  0  0]\n",
      " [ 0  0  0  0  0  0  0  1  2  0  0  0  0  0  0  0  0]\n",
      " [ 0  0  0  0  0  0  0  0  0  3  1  0  0  0  0  0  0]\n",
      " [ 1  0  0  0  0  0  0  0  0  0  1  0  0  0  0  0  0]\n",
      " [ 0  0  0  0  0  0  0  0  0  1  0  0  0  0  0  1  0]\n",
      " [ 0  0  0  0  0  0  0  0  0  0  0  0  1  0  0  0  0]\n",
      " [ 0  0  0  0  0  0  0  0  0  0  0  0  0  1  0  0  0]\n",
      " [ 0  0  2  0  0  0  0  1  0  0  0  0  0  0  8  1  0]\n",
      " [ 2  0  0  0  0  0  0  0  0  0  0  0  0  0  0  0  0]\n",
      " [ 1  0  0  0  0  0  0  0  0  0  0  0  0  0  0  1  0]]\n",
      "\n",
      "Confusion Matrix for replicated_code_vs_model_prediction:\n",
      "\n",
      "Categories: ['0.0', '1.0', '1.1', '1.2', '1.3', '1.6', '2.1', '2.3', '3.3', '4.1', '4.2', '4.3', '4.4', '4.5', '5.1', '5.2', '5.3']\n",
      "[[14  0  2  0  0  1  2  0  0  5  3  0  2  0  3  7  1]\n",
      " [ 0  0  0  0  0  1  0  0  0  1  0  0  0  0  1  1  0]\n",
      " [ 0  0  1  0  0  2  0  0  0  0  0  0  0  0  0  0  0]\n",
      " [ 0  0  0  0  0  0  0  0  0  0  0  0  0  0  0  0  0]\n",
      " [ 0  0  0  0  0  0  0  0  0  0  0  0  0  0  0  0  0]\n",
      " [ 0  0  0  0  0  1  0  0  0  0  0  0  0  0  0  0  0]\n",
      " [ 0  0  0  0  0  0  5  1  0  0  0  0  0  0  0  0  0]\n",
      " [ 0  0  0  0  0  0  0  0  0  0  0  0  0  0  0  0  0]\n",
      " [ 0  0  0  0  0  0  0  0  2  0  0  0  0  0  0  0  0]\n",
      " [ 0  0  0  0  0  0  0  0  0  2  0  0  2  1  0  0  0]\n",
      " [ 0  0  0  0  0  0  0  0  0  0  1  0  0  0  0  1  0]\n",
      " [ 0  0  0  0  0  0  0  0  0  1  0  0  1  0  0  0  0]\n",
      " [ 0  0  0  0  0  0  0  0  0  0  0  0  0  0  0  0  0]\n",
      " [ 0  0  0  0  0  0  0  0  0  0  0  0  0  0  1  0  0]\n",
      " [ 0  0  0  0  0  1  1  0  0  0  0  0  0  0  5  0  2]\n",
      " [ 0  0  0  0  0  0  0  0  0  1  0  0  0  2  0  0  0]\n",
      " [ 1  0  0  0  0  0  0  0  0  0  0  0  0  0  0  1  0]]\n"
     ]
    }
   ],
   "source": [
    "from sklearn.metrics import accuracy_score, cohen_kappa_score, confusion_matrix\n",
    "\n",
    "def calculate_similarity_metrics(df_results, ground_truth_col, prediction_col):\n",
    "    \"\"\"\n",
    "    Calculate various similarity metrics between two columns\n",
    "    \"\"\"\n",
    "    # Remove rows where either column has missing values or errors\n",
    "    valid_rows = df_results[[ground_truth_col, prediction_col]].dropna()\n",
    "    valid_rows = valid_rows[valid_rows[prediction_col] != 'Error']\n",
    "    \n",
    "    # Convert all values to strings for comparison\n",
    "    valid_rows = valid_rows.astype(str)\n",
    "    \n",
    "    if len(valid_rows) == 0:\n",
    "        return {\n",
    "            'accuracy': 0,\n",
    "            'kappa': 0,\n",
    "            'matching_cases': 0,\n",
    "            'total_cases': 0,\n",
    "            'percentage_match': 0\n",
    "        }\n",
    "    \n",
    "    # Calculate metrics\n",
    "    accuracy = accuracy_score(valid_rows[ground_truth_col], valid_rows[prediction_col])\n",
    "    kappa = cohen_kappa_score(valid_rows[ground_truth_col], valid_rows[prediction_col])\n",
    "    matching_cases = (valid_rows[ground_truth_col] == valid_rows[prediction_col]).sum()\n",
    "    total_cases = len(valid_rows)\n",
    "    percentage_match = (matching_cases / total_cases) * 100\n",
    "    \n",
    "    return {\n",
    "        'accuracy': accuracy,\n",
    "        'kappa': kappa,\n",
    "        'matching_cases': matching_cases,\n",
    "        'total_cases': total_cases,\n",
    "        'percentage_match': percentage_match\n",
    "    }\n",
    "\n",
    "def analyze_code_similarities(df_results):\n",
    "    \"\"\"\n",
    "    Analyze similarities between model outputs and human categorizations\n",
    "    \"\"\"\n",
    "    # Comparisons to make\n",
    "    comparisons = [\n",
    "        ('original_code', 'model_code'),\n",
    "        ('original_code', 'model_prediction'),\n",
    "        ('replicated_code', 'model_code'),\n",
    "        ('replicated_code', 'model_prediction')\n",
    "    ]\n",
    "    \n",
    "    # Calculate metrics for each comparison\n",
    "    results_dict = {}\n",
    "    for truth_col, pred_col in comparisons:\n",
    "        results_dict[f\"{truth_col}_vs_{pred_col}\"] = calculate_similarity_metrics(\n",
    "            df_results, truth_col, pred_col\n",
    "        )\n",
    "    \n",
    "    # Create a summary dataframe\n",
    "    summary_df = pd.DataFrame({\n",
    "        'Comparison': [k.replace('_', ' ').title() for k in results_dict.keys()],\n",
    "        'Accuracy': [v['accuracy'] for v in results_dict.values()],\n",
    "        'Kappa Score': [v['kappa'] for v in results_dict.values()],\n",
    "        'Matching Cases': [v['matching_cases'] for v in results_dict.values()],\n",
    "        'Total Cases': [v['total_cases'] for v in results_dict.values()],\n",
    "        'Match Percentage': [v['percentage_match'] for v in results_dict.values()]\n",
    "    })\n",
    "    \n",
    "    # Format the percentage column\n",
    "    summary_df['Match Percentage'] = summary_df['Match Percentage'].round(2).astype(str) + '%'\n",
    "    \n",
    "    # Create detailed confusion matrices\n",
    "    confusion_matrices = {}\n",
    "    for truth_col, pred_col in comparisons:\n",
    "        valid_rows = df_results[[truth_col, pred_col]].dropna()\n",
    "        valid_rows = valid_rows[valid_rows[pred_col] != 'Error']  # Fixed: pred_col instead of prediction_col\n",
    "        valid_rows = valid_rows.astype(str)\n",
    "        \n",
    "        if len(valid_rows) > 0:\n",
    "            matrix = confusion_matrix(\n",
    "                valid_rows[truth_col], \n",
    "                valid_rows[pred_col],\n",
    "                labels=sorted(valid_rows[truth_col].unique())\n",
    "            )\n",
    "            confusion_matrices[f\"{truth_col}_vs_{pred_col}\"] = matrix\n",
    "    \n",
    "    return summary_df, confusion_matrices\n",
    "\n",
    "# Run the analysis\n",
    "summary_df, confusion_matrices = analyze_code_similarities(df_results)\n",
    "\n",
    "# Display the results\n",
    "print(\"\\nSimilarity Analysis Summary:\")\n",
    "print(\"=\" * 100)\n",
    "print(summary_df.to_string(index=False))\n",
    "print(\"\\nDetailed Analysis:\")\n",
    "print(\"=\" * 100)\n",
    "\n",
    "# Determine which model is more similar to human coding\n",
    "original_code_comparison = summary_df[summary_df['Comparison'].str.contains('Original Code')]\n",
    "replicated_code_comparison = summary_df[summary_df['Comparison'].str.contains('Replicated Code')]\n",
    "\n",
    "print(\"\\nComparison with Original Code:\")\n",
    "better_for_original = original_code_comparison.iloc[original_code_comparison['Accuracy'].argmax()]\n",
    "print(f\"Better model: {better_for_original['Comparison']}\")\n",
    "print(f\"Accuracy: {better_for_original['Accuracy']:.2%}\")\n",
    "print(f\"Kappa Score: {better_for_original['Kappa Score']:.3f}\")\n",
    "\n",
    "print(\"\\nComparison with Replicated Code:\")\n",
    "better_for_replicated = replicated_code_comparison.iloc[replicated_code_comparison['Accuracy'].argmax()]\n",
    "print(f\"Better model: {better_for_replicated['Comparison']}\")\n",
    "print(f\"Accuracy: {better_for_replicated['Accuracy']:.2%}\")\n",
    "print(f\"Kappa Score: {better_for_replicated['Kappa Score']:.3f}\")\n",
    "\n",
    "# Print confusion matrices with labels\n",
    "for name, matrix in confusion_matrices.items():\n",
    "    print(f\"\\nConfusion Matrix for {name}:\")\n",
    "    truth_col = name.split('_vs_')[0]\n",
    "    categories = sorted(df_results[truth_col].astype(str).unique())\n",
    "    print(\"\\nCategories:\", categories)\n",
    "    print(matrix)"
   ]
  },
  {
   "cell_type": "code",
   "execution_count": 5,
   "metadata": {},
   "outputs": [
    {
     "name": "stdout",
     "output_type": "stream",
     "text": [
      "Results saved\n"
     ]
    }
   ],
   "source": [
    "df_results.to_csv('results_csvs/climate_prompt_small_model.csv', index=False)\n",
    "print(\"Results saved\")"
   ]
  }
 ],
 "metadata": {
  "kernelspec": {
   "display_name": "bds",
   "language": "python",
   "name": "python3"
  },
  "language_info": {
   "codemirror_mode": {
    "name": "ipython",
    "version": 3
   },
   "file_extension": ".py",
   "mimetype": "text/x-python",
   "name": "python",
   "nbconvert_exporter": "python",
   "pygments_lexer": "ipython3",
   "version": "3.11.8"
  }
 },
 "nbformat": 4,
 "nbformat_minor": 2
}
