{
 "cells": [
  {
   "cell_type": "code",
   "execution_count": null,
   "metadata": {},
   "outputs": [
    {
     "name": "stdout",
     "output_type": "stream",
     "text": [
      "Processing 100 unprocessed rows...\n"
     ]
    },
    {
     "name": "stderr",
     "output_type": "stream",
     "text": [
      "  1%|          | 1/100 [00:07<11:47,  7.15s/it]"
     ]
    },
    {
     "name": "stdout",
     "output_type": "stream",
     "text": [
      "\n",
      "Raw output: 1. Main claim: The Food and Drug Administration is seeking input about online advertising of drugs and other medical products.\n",
      "2. Evidence/Support: There is no evidence or support provided for this cl...\n"
     ]
    },
    {
     "name": "stderr",
     "output_type": "stream",
     "text": [
      "  2%|▏         | 2/100 [00:21<18:08, 11.10s/it]"
     ]
    },
    {
     "name": "stdout",
     "output_type": "stream",
     "text": [
      "\n",
      "Raw output: 1. Main claim: The text questions the reliability of data and methods used to estimate historic temperatures, suggesting that the issue of global warming is muddled.\n",
      "2. Evidence/Support: The text ment...\n"
     ]
    },
    {
     "name": "stderr",
     "output_type": "stream",
     "text": [
      "  3%|▎         | 3/100 [00:26<13:54,  8.61s/it]"
     ]
    },
    {
     "name": "stdout",
     "output_type": "stream",
     "text": [
      "\n",
      "Raw output: 1. Main claim: The text does not explicitly make a claim about climate change, but rather introduces the Heartland Institute and its mission.\n",
      "2. Evidence/Support: There is no evidence or support provi...\n"
     ]
    },
    {
     "name": "stderr",
     "output_type": "stream",
     "text": [
      "  4%|▍         | 4/100 [00:30<10:28,  6.54s/it]"
     ]
    },
    {
     "name": "stdout",
     "output_type": "stream",
     "text": [
      "\n",
      "Raw output: 1. Main claim: The text does not make a claim about climate change, but rather mentions \"interesting facts\" about media mergers, which is unrelated to climate change.\n",
      "2. Evidence/Support: There is no ...\n"
     ]
    },
    {
     "name": "stderr",
     "output_type": "stream",
     "text": [
      "  5%|▌         | 5/100 [00:53<19:46, 12.49s/it]"
     ]
    },
    {
     "name": "stdout",
     "output_type": "stream",
     "text": [
      "\n",
      "Raw output: 1. Main claim: The government and public are demanding a speedy and transparent investigation into a recent event, with the Premier offering condolences to victims.\n",
      "2. Evidence/Support: The text menti...\n"
     ]
    },
    {
     "name": "stderr",
     "output_type": "stream",
     "text": [
      "  6%|▌         | 6/100 [00:58<15:58, 10.20s/it]"
     ]
    },
    {
     "name": "stdout",
     "output_type": "stream",
     "text": [
      "\n",
      "Raw output:  \n",
      "\n",
      "## Step 1: Identify the main claim being made about climate change.\n",
      "The main claim is that Apple Inc rejoined the EPEAT environmental ratings system, acknowledging that its decision to stop partici...\n"
     ]
    },
    {
     "name": "stderr",
     "output_type": "stream",
     "text": [
      "  7%|▋         | 7/100 [01:14<18:28, 11.92s/it]"
     ]
    },
    {
     "name": "stdout",
     "output_type": "stream",
     "text": [
      "\n",
      "Raw output:  \n",
      "\n",
      "## Step 1: Identify the main claim being made about climate change.\n",
      "The text does not directly make a claim about climate change. Instead, it discusses the variability in deflation measurements of ...\n",
      "Invalid code format detected: 0.5\n"
     ]
    },
    {
     "name": "stderr",
     "output_type": "stream",
     "text": [
      "  8%|▊         | 8/100 [01:17<14:12,  9.26s/it]"
     ]
    },
    {
     "name": "stdout",
     "output_type": "stream",
     "text": [
      "\n",
      "Raw output: 1. Main claim: The Obama administration is targeting Republican states with costly CO2 regulations.\n",
      "2. Evidence/Support: The text does not provide explicit evidence or support for the claim, but it im...\n"
     ]
    },
    {
     "name": "stderr",
     "output_type": "stream",
     "text": [
      "  9%|▉         | 9/100 [01:26<13:52,  9.15s/it]"
     ]
    },
    {
     "name": "stdout",
     "output_type": "stream",
     "text": [
      "\n",
      "Raw output: 1. Main claim: The text does not explicitly make a claim about climate change itself but rather references a blog post about a skeptic, Pat Michaels, and a quote from CNN's Peter Dykstra, without prov...\n"
     ]
    },
    {
     "name": "stderr",
     "output_type": "stream",
     "text": [
      " 10%|█         | 10/100 [01:33<12:48,  8.54s/it]"
     ]
    },
    {
     "name": "stdout",
     "output_type": "stream",
     "text": [
      "\n",
      "Raw output: 1. Main claim: The EPA is taking a long time to respond to a request, having taken a third 90-day extension.\n",
      "2. Evidence/Support: The text mentions that the EPA was supposed to answer in 90 days but h...\n"
     ]
    },
    {
     "name": "stderr",
     "output_type": "stream",
     "text": [
      " 11%|█         | 11/100 [01:47<14:46,  9.96s/it]"
     ]
    },
    {
     "name": "stdout",
     "output_type": "stream",
     "text": [
      "\n",
      "Raw output: 1. Main claim: The main claim being made is not about climate change, but rather about the dangers of Islamic extremism and the threat it poses to Western culture.\n",
      "2. Evidence/Support: The text provid...\n"
     ]
    },
    {
     "name": "stderr",
     "output_type": "stream",
     "text": [
      " 12%|█▏        | 12/100 [01:52<12:35,  8.59s/it]"
     ]
    },
    {
     "name": "stdout",
     "output_type": "stream",
     "text": [
      "\n",
      "Raw output: 1. Main claim: The Climategate release of e-mails does not invalidate the IPCC's case that global warming has happened and humans are the primary cause, but it does show that climate researchers are p...\n"
     ]
    },
    {
     "name": "stderr",
     "output_type": "stream",
     "text": [
      " 13%|█▎        | 13/100 [02:08<15:39, 10.80s/it]"
     ]
    },
    {
     "name": "stdout",
     "output_type": "stream",
     "text": [
      "\n",
      "Raw output: 1. Main claim: The text claims that increasing air temperature and CO2 concentration can have positive effects on ecosystem water-use efficiency and soil carbon storage.\n",
      "2. Evidence/Support: The evide...\n"
     ]
    },
    {
     "name": "stderr",
     "output_type": "stream",
     "text": [
      " 14%|█▍        | 14/100 [02:14<13:16,  9.27s/it]"
     ]
    },
    {
     "name": "stdout",
     "output_type": "stream",
     "text": [
      "\n",
      "Raw output: 1. Main claim:\n",
      "The main claim being made about climate change is that the author believes Al Gore is lying about climate change and that the green movement is being hypocritical, as evidenced by their...\n"
     ]
    },
    {
     "name": "stderr",
     "output_type": "stream",
     "text": [
      " 15%|█▌        | 15/100 [02:32<17:05, 12.06s/it]"
     ]
    },
    {
     "name": "stdout",
     "output_type": "stream",
     "text": [
      "\n",
      "Raw output: 1. Main claim: The main claim being made is that current simulations of Arctic sea ice are flawed and therefore predictions of future changes in Arctic ice cover are questionable.\n",
      "2. Evidence/Support:...\n"
     ]
    },
    {
     "name": "stderr",
     "output_type": "stream",
     "text": [
      " 16%|█▌        | 16/100 [02:40<15:07, 10.81s/it]"
     ]
    },
    {
     "name": "stdout",
     "output_type": "stream",
     "text": [
      "\n",
      "Raw output: 1. Main claim:\n",
      "The main claim being made about climate change is that concerns about population pressures and environmental issues, as raised by Ehrlich and other alarmists, have been overestimated an...\n"
     ]
    },
    {
     "name": "stderr",
     "output_type": "stream",
     "text": [
      " 17%|█▋        | 17/100 [02:54<16:09, 11.68s/it]"
     ]
    },
    {
     "name": "stdout",
     "output_type": "stream",
     "text": [
      "\n",
      "Raw output: 1. Main claim: The main claim being made is that CO2 does not trap heat, as evidenced by the process of a CO2 molecule absorbing an IR photon and jumping to a higher energy state without increasing th...\n"
     ]
    },
    {
     "name": "stderr",
     "output_type": "stream",
     "text": [
      " 18%|█▊        | 18/100 [03:01<14:14, 10.42s/it]"
     ]
    },
    {
     "name": "stdout",
     "output_type": "stream",
     "text": [
      "\n",
      "Raw output: 1. Main claim: The text does not make a claim about climate change.\n",
      "2. Evidence/Support: There is no evidence or support provided related to climate change.\n",
      "3. Analysis of potential categories: The te...\n"
     ]
    },
    {
     "name": "stderr",
     "output_type": "stream",
     "text": [
      " 19%|█▉        | 19/100 [03:10<13:32, 10.03s/it]"
     ]
    },
    {
     "name": "stdout",
     "output_type": "stream",
     "text": [
      "\n",
      "Raw output: 1. Main claim: The IPCC's climate models are unable to simulate observed changes in sea ice.\n",
      "2. Evidence/Support: The text mentions that the climate models stored in the CMIP5 archive for the upcoming...\n"
     ]
    },
    {
     "name": "stderr",
     "output_type": "stream",
     "text": [
      " 20%|██        | 20/100 [03:23<14:28, 10.86s/it]"
     ]
    },
    {
     "name": "stdout",
     "output_type": "stream",
     "text": [
      "\n",
      "Raw output:  \n",
      "\n",
      "## Step 1: Identify the main claim being made about climate change.\n",
      "The main claim is that CO2 is unlikely to be revealed as the main driver (or even one of the main drivers) of global warming, imp...\n"
     ]
    },
    {
     "name": "stderr",
     "output_type": "stream",
     "text": [
      " 21%|██        | 21/100 [03:27<11:37,  8.83s/it]"
     ]
    },
    {
     "name": "stdout",
     "output_type": "stream",
     "text": [
      "\n",
      "Raw output: 1. Main claim: The main claim being made about climate change is that carbon dioxide is beneficial and not a pollutant, as argued by Harrison Schmitt and William Happer in their op-ed \"In Defense of C...\n"
     ]
    },
    {
     "name": "stderr",
     "output_type": "stream",
     "text": [
      " 22%|██▏       | 22/100 [03:42<13:51, 10.67s/it]"
     ]
    },
    {
     "name": "stdout",
     "output_type": "stream",
     "text": [
      "\n",
      "Raw output:  \n",
      "\n",
      "## Step 1: Identify the main claim being made about climate change.\n",
      "The main claim is that 97 percent of climatologists who are active in research agree that humans play a role in global warming.\n",
      "\n",
      "...\n"
     ]
    },
    {
     "name": "stderr",
     "output_type": "stream",
     "text": [
      " 23%|██▎       | 23/100 [03:56<14:49, 11.55s/it]"
     ]
    },
    {
     "name": "stdout",
     "output_type": "stream",
     "text": [
      "\n",
      "Raw output: 1. Main claim:\n",
      "The main claim being made is that Michael Mann is pretending to be an \"involuntary public figure\" and is posturing for a defamation lawsuit, implying that his actions or claims related ...\n"
     ]
    },
    {
     "name": "stderr",
     "output_type": "stream",
     "text": [
      " 24%|██▍       | 24/100 [04:09<15:13, 12.02s/it]"
     ]
    },
    {
     "name": "stdout",
     "output_type": "stream",
     "text": [
      "\n",
      "Raw output:  \n",
      "\n",
      "## Step 1: Identify the main claim being made about climate change.\n",
      "The text does not directly make a claim about climate change. Instead, it mentions Trofim Lysenko, a self-taught geneticist, and ...\n"
     ]
    },
    {
     "name": "stderr",
     "output_type": "stream",
     "text": [
      " 25%|██▌       | 25/100 [04:19<14:16, 11.42s/it]"
     ]
    },
    {
     "name": "stdout",
     "output_type": "stream",
     "text": [
      "\n",
      "Raw output: 1. Main claim: The Earth's temperature system cannot be adequately measured or controlled because it does not satisfy mathematical criteria devised in the 1960s for a system to be measurable, observab...\n"
     ]
    },
    {
     "name": "stderr",
     "output_type": "stream",
     "text": [
      " 26%|██▌       | 26/100 [04:29<13:34, 11.01s/it]"
     ]
    },
    {
     "name": "stdout",
     "output_type": "stream",
     "text": [
      "\n",
      "Raw output: 1. Main claim: The text does not explicitly make a claim about climate change, but rather appears to be a title or introduction to a discussion about the 2014/15 El Niño event and the Southern Oscilla...\n"
     ]
    },
    {
     "name": "stderr",
     "output_type": "stream",
     "text": [
      " 27%|██▋       | 27/100 [04:42<14:14, 11.71s/it]"
     ]
    },
    {
     "name": "stdout",
     "output_type": "stream",
     "text": [
      "\n",
      "Raw output: 1. Main claim: The MCA (Medieval Climate Anomaly) period may have been more climatically extreme than in modern times.\n",
      "2. Evidence/Support: No specific evidence is provided in the statement.\n",
      "3. Analys...\n",
      "Invalid code format detected: 1.7\n"
     ]
    },
    {
     "name": "stderr",
     "output_type": "stream",
     "text": [
      " 28%|██▊       | 28/100 [04:55<14:11, 11.83s/it]"
     ]
    },
    {
     "name": "stdout",
     "output_type": "stream",
     "text": [
      "\n",
      "Raw output: 1. Main claim: The text does not explicitly make a claim about climate change, but rather states that Baos research is funded by the National Science Foundation and the Chinese Academy of Sciences.\n",
      "2....\n"
     ]
    },
    {
     "name": "stderr",
     "output_type": "stream",
     "text": [
      " 29%|██▉       | 29/100 [04:59<11:24,  9.64s/it]"
     ]
    },
    {
     "name": "stdout",
     "output_type": "stream",
     "text": [
      "\n",
      "Raw output:  \n",
      "\n",
      "## Step 1: Identify the main claim being made about climate change.\n",
      "The main claim is that solar cycles, to a substantial extent, drive global temperatures, suggesting a natural cause for climate c...\n"
     ]
    },
    {
     "name": "stderr",
     "output_type": "stream",
     "text": [
      " 30%|███       | 30/100 [05:03<09:14,  7.92s/it]"
     ]
    },
    {
     "name": "stdout",
     "output_type": "stream",
     "text": [
      "\n",
      "Raw output: 1. Main claim: The implementation of policies that mimic controlled economies, such as the \"Law on financial support for renewable energies,\" will harm the Social Market Economy, which is the foundati...\n"
     ]
    },
    {
     "name": "stderr",
     "output_type": "stream",
     "text": [
      " 31%|███       | 31/100 [05:10<08:56,  7.78s/it]"
     ]
    },
    {
     "name": "stdout",
     "output_type": "stream",
     "text": [
      "\n",
      "Raw output: 1. Main claim: The claim being made is that there is a mechanism in place where low solar activity is associated with more cold winters, suggesting a link between solar activity and climate patterns.\n",
      "...\n"
     ]
    },
    {
     "name": "stderr",
     "output_type": "stream",
     "text": [
      " 32%|███▏      | 32/100 [05:21<09:41,  8.55s/it]"
     ]
    },
    {
     "name": "stdout",
     "output_type": "stream",
     "text": [
      "\n",
      "Raw output: 1. Main claim: The ice thickness off Australia's Davis Station in East Antarctica has reached its densest in 10 years, with a maximum thickness of 1.89m, compared to an average of 1.67m since the 1950...\n"
     ]
    },
    {
     "name": "stderr",
     "output_type": "stream",
     "text": [
      " 33%|███▎      | 33/100 [05:39<12:47, 11.46s/it]"
     ]
    },
    {
     "name": "stdout",
     "output_type": "stream",
     "text": [
      "\n",
      "Raw output: 1. Main claim: The claim being made is that climate models are unable to accurately replicate observed changes in daily temperature ranges, specifically warming daily high temperatures too quickly, li...\n"
     ]
    },
    {
     "name": "stderr",
     "output_type": "stream",
     "text": [
      " 34%|███▍      | 34/100 [05:55<13:59, 12.72s/it]"
     ]
    },
    {
     "name": "stdout",
     "output_type": "stream",
     "text": [
      "\n",
      "Raw output: 1. Main claim: The text questions the decision of the Climatic Research Unit (CRU) to use a particular dataset in a study (Briffa et al 2013) and suggests that a different dataset (Shiyatov's crossdat...\n"
     ]
    },
    {
     "name": "stderr",
     "output_type": "stream",
     "text": [
      " 35%|███▌      | 35/100 [06:00<11:14, 10.38s/it]"
     ]
    },
    {
     "name": "stdout",
     "output_type": "stream",
     "text": [
      "\n",
      "Raw output: 1. Main claim: The text does not make a direct claim about climate change; instead, it discusses the relevance of NATO in a global context.\n",
      "2. Evidence/Support: There is no evidence or support provide...\n"
     ]
    },
    {
     "name": "stderr",
     "output_type": "stream",
     "text": [
      " 36%|███▌      | 36/100 [06:03<08:59,  8.43s/it]"
     ]
    },
    {
     "name": "stdout",
     "output_type": "stream",
     "text": [
      "\n",
      "Raw output: 1. Main claim: The author is questioning the information withheld by Sir John's office regarding the Climategate affair and its implications on climate change.\n",
      "2. Evidence/Support: The author mentions...\n"
     ]
    },
    {
     "name": "stderr",
     "output_type": "stream",
     "text": [
      " 37%|███▋      | 37/100 [06:13<09:11,  8.76s/it]"
     ]
    },
    {
     "name": "stdout",
     "output_type": "stream",
     "text": [
      "\n",
      "Raw output: 1. Main claim: The claim being made is that it is \"NUTS\" (presumably meaning nonsensical or extremely foolish) for the average taxpayer to fund climate change-related initiatives through their utility...\n"
     ]
    },
    {
     "name": "stderr",
     "output_type": "stream",
     "text": [
      " 38%|███▊      | 38/100 [06:23<09:32,  9.24s/it]"
     ]
    },
    {
     "name": "stdout",
     "output_type": "stream",
     "text": [
      "\n",
      "Raw output: 1. Main claim: The main claim is that \"green energy\" policies and increased penalties for using fossil fuels are causing intolerable costs for manufacturers in the United Kingdom, potentially leading ...\n"
     ]
    },
    {
     "name": "stderr",
     "output_type": "stream",
     "text": [
      " 39%|███▉      | 39/100 [06:43<12:35, 12.39s/it]"
     ]
    },
    {
     "name": "stdout",
     "output_type": "stream",
     "text": [
      "\n",
      "Raw output:  \n",
      "\n",
      "## Step 1: Identify the main claim being made about climate change.\n",
      "The text does not explicitly make a claim about climate change itself but mentions \"Exxon-Mobil's carbon tax\" in a list of topics...\n"
     ]
    },
    {
     "name": "stderr",
     "output_type": "stream",
     "text": [
      " 40%|████      | 40/100 [06:58<13:06, 13.12s/it]"
     ]
    },
    {
     "name": "stdout",
     "output_type": "stream",
     "text": [
      "\n",
      "Raw output: 1. Main claim: The speaker has been working on climate change adaptation in the Least Developed Countries of Africa and Asia for the last 10 years and believes that Bangladesh is ahead of others in th...\n"
     ]
    },
    {
     "name": "stderr",
     "output_type": "stream",
     "text": [
      " 41%|████      | 41/100 [07:05<10:58, 11.16s/it]"
     ]
    },
    {
     "name": "stdout",
     "output_type": "stream",
     "text": [
      "\n",
      "Raw output: 1. Main claim:\n",
      "The main claim being made about climate change is that the impact of Denmark's CO2 emissions on global temperature rise is negligible, and therefore, the efforts to reduce emissions are...\n"
     ]
    },
    {
     "name": "stderr",
     "output_type": "stream",
     "text": [
      " 42%|████▏     | 42/100 [07:12<09:37,  9.96s/it]"
     ]
    },
    {
     "name": "stdout",
     "output_type": "stream",
     "text": [
      "\n",
      "Raw output: 1. Main claim:\n",
      "The main claim being made about climate change is that the regulation of greenhouse gases (GHGs) will be subject to legal challenges and changes depending on the administration in the W...\n"
     ]
    },
    {
     "name": "stderr",
     "output_type": "stream",
     "text": [
      " 43%|████▎     | 43/100 [07:27<11:05, 11.67s/it]"
     ]
    },
    {
     "name": "stdout",
     "output_type": "stream",
     "text": [
      "\n",
      "Raw output:  \n",
      "\n",
      "## Step 1: Identify the main claim being made about climate change.\n",
      "The main claim is that coal is the leading source of power generation in India and is expected to almost double by 2025, with no ...\n"
     ]
    },
    {
     "name": "stderr",
     "output_type": "stream",
     "text": [
      " 44%|████▍     | 44/100 [07:36<09:55, 10.64s/it]"
     ]
    },
    {
     "name": "stdout",
     "output_type": "stream",
     "text": [
      "\n",
      "Raw output: 1. Main claim: The paper about the migratory practices of studied sea birds does not conclude that global warming is the cause.\n",
      "2. Evidence/Support: The text mentions a specific paper that is the subj...\n"
     ]
    },
    {
     "name": "stderr",
     "output_type": "stream",
     "text": [
      " 45%|████▌     | 45/100 [07:45<09:31, 10.39s/it]"
     ]
    },
    {
     "name": "stdout",
     "output_type": "stream",
     "text": [
      "\n",
      "Raw output: 1. Main claim: The main claim is about the publication of a book on climate data by an author who has passed away.\n",
      "2. Evidence/Support: The evidence provided is the title of the book, \"Towards a New C...\n"
     ]
    },
    {
     "name": "stderr",
     "output_type": "stream",
     "text": [
      " 46%|████▌     | 46/100 [07:56<09:31, 10.59s/it]"
     ]
    },
    {
     "name": "stdout",
     "output_type": "stream",
     "text": [
      "\n",
      "Raw output: 1. Main claim: The author suggests that a cooling trend may be starting due to the cold PDO (Pacific Decadal Oscillation), which is indicated by the 3-year meter temperature trend for the entire globe...\n"
     ]
    },
    {
     "name": "stderr",
     "output_type": "stream",
     "text": [
      " 47%|████▋     | 47/100 [08:02<08:07,  9.19s/it]"
     ]
    },
    {
     "name": "stdout",
     "output_type": "stream",
     "text": [
      "\n",
      "Raw output: 1. Main claim: The text does not explicitly make a claim about climate change itself, but rather asks for information about what Salon says regarding the polar bear scene, which could be related to cl...\n"
     ]
    },
    {
     "name": "stderr",
     "output_type": "stream",
     "text": [
      " 48%|████▊     | 48/100 [08:07<06:39,  7.68s/it]"
     ]
    },
    {
     "name": "stdout",
     "output_type": "stream",
     "text": [
      "\n",
      "Raw output: 1. Main claim: The claim is that the observed water vapor feedback with increasing CO2 is negative, contrary to the IPCC's prediction of a positive water vapor feedback.\n",
      "\n",
      "2. Evidence/Support: The evid...\n"
     ]
    },
    {
     "name": "stderr",
     "output_type": "stream",
     "text": [
      " 49%|████▉     | 49/100 [08:11<05:43,  6.74s/it]"
     ]
    },
    {
     "name": "stdout",
     "output_type": "stream",
     "text": [
      "\n",
      "Raw output: 1. Main claim: The claim is that natural decadal variations may rival the magnitude of anthropogenically forced climate change on regional scales over the next 1030 years, and this has implications fo...\n"
     ]
    },
    {
     "name": "stderr",
     "output_type": "stream",
     "text": [
      " 50%|█████     | 50/100 [08:15<04:55,  5.92s/it]"
     ]
    },
    {
     "name": "stdout",
     "output_type": "stream",
     "text": [
      "\n",
      "Raw output: 1. Main claim: The main claim being made is about the requirements of the Data Quality Act (DQA) for agencies like NOAA, specifically regarding the quality, objectivity, utility, and integrity of info...\n"
     ]
    },
    {
     "name": "stderr",
     "output_type": "stream",
     "text": [
      " 51%|█████     | 51/100 [08:21<04:54,  6.02s/it]"
     ]
    },
    {
     "name": "stdout",
     "output_type": "stream",
     "text": [
      "\n",
      "Raw output:  \n",
      "\n",
      "## Step 1: Identify the main claim being made about climate change.\n",
      "The main claim is that natural cycles in cloud cover cause multi-decadal periods of global warming or global cooling, which impli...\n"
     ]
    },
    {
     "name": "stderr",
     "output_type": "stream",
     "text": [
      " 52%|█████▏    | 52/100 [08:25<04:13,  5.29s/it]"
     ]
    },
    {
     "name": "stdout",
     "output_type": "stream",
     "text": [
      "\n",
      "Raw output: 1. Main claim: The text does not make a direct claim about climate change itself but rather discusses the concept of a movie and its genre, mentioning the director's previous works and comparing it to...\n"
     ]
    },
    {
     "name": "stderr",
     "output_type": "stream",
     "text": [
      " 53%|█████▎    | 53/100 [08:37<05:42,  7.30s/it]"
     ]
    },
    {
     "name": "stdout",
     "output_type": "stream",
     "text": [
      "\n",
      "Raw output: 1. Main claim:\n",
      "The main claim being made about climate change is that the behavior of clouds is a significant factor in determining the magnitude of global warming, and that this factor is not well un...\n"
     ]
    },
    {
     "name": "stderr",
     "output_type": "stream",
     "text": [
      " 54%|█████▍    | 54/100 [08:41<04:48,  6.27s/it]"
     ]
    },
    {
     "name": "stdout",
     "output_type": "stream",
     "text": [
      "\n",
      "Raw output: 1. Main claim: The text does not make a direct claim about climate change itself but rather criticizes the reaction to the Citizens United case and implies that concerns about foreign influence in ele...\n"
     ]
    },
    {
     "name": "stderr",
     "output_type": "stream",
     "text": [
      " 55%|█████▌    | 55/100 [08:51<05:31,  7.38s/it]"
     ]
    },
    {
     "name": "stdout",
     "output_type": "stream",
     "text": [
      "\n",
      "Raw output: 1. Main claim:\n",
      "The main claim being made about climate change is that a film director, James Cameron, is being hypocritical about his stance on combating climate change, as his lifestyle allegedly con...\n"
     ]
    },
    {
     "name": "stderr",
     "output_type": "stream",
     "text": [
      " 56%|█████▌    | 56/100 [08:56<04:57,  6.76s/it]"
     ]
    },
    {
     "name": "stdout",
     "output_type": "stream",
     "text": [
      "\n",
      "Raw output: 1. Main claim: The claim being made is that sea level rise is not accelerating, and the rate of rise since 1993 is similar to the period from 1930-1950.\n",
      "2. Evidence/Support: The evidence provided is a...\n",
      "Invalid code format detected: 1.6\n"
     ]
    },
    {
     "name": "stderr",
     "output_type": "stream",
     "text": [
      " 57%|█████▋    | 57/100 [09:18<08:12, 11.46s/it]"
     ]
    },
    {
     "name": "stdout",
     "output_type": "stream",
     "text": [
      "\n",
      "Raw output:  \n",
      "\n",
      "## Step 1: Identify the main claim being made about climate change.\n",
      "The text does not directly make a claim about climate change itself but rather discusses the actions and rights of individuals ve...\n"
     ]
    },
    {
     "name": "stderr",
     "output_type": "stream",
     "text": [
      " 58%|█████▊    | 58/100 [09:26<07:17, 10.41s/it]"
     ]
    },
    {
     "name": "stdout",
     "output_type": "stream",
     "text": [
      "\n",
      "Raw output: 1. Main claim: The text does not make a direct claim about climate change itself but rather references several academic articles related to security and strategy in the 21st century.\n",
      "2. Evidence/Suppo...\n"
     ]
    },
    {
     "name": "stderr",
     "output_type": "stream",
     "text": [
      " 59%|█████▉    | 59/100 [09:33<06:19,  9.26s/it]"
     ]
    },
    {
     "name": "stdout",
     "output_type": "stream",
     "text": [
      "\n",
      "Raw output: 1. Main claim: The claim being made is that during a period of significant temperature increase (1900-1940), there were 7 years of moderate-to-severe drought, implying a connection or lack thereof bet...\n",
      "Invalid code format detected: 1.7\n"
     ]
    },
    {
     "name": "stderr",
     "output_type": "stream",
     "text": [
      " 60%|██████    | 60/100 [09:35<04:43,  7.09s/it]"
     ]
    },
    {
     "name": "stdout",
     "output_type": "stream",
     "text": [
      "\n",
      "Raw output:  \n",
      "\n",
      "## Step 1: Identify the main claim being made about climate change.\n",
      "The text does not make a direct claim about climate change. Instead, it mentions a \"military nuclear program\" and testing the oth...\n"
     ]
    },
    {
     "name": "stderr",
     "output_type": "stream",
     "text": [
      " 61%|██████    | 61/100 [09:39<03:59,  6.13s/it]"
     ]
    },
    {
     "name": "stdout",
     "output_type": "stream",
     "text": [
      "\n",
      "Raw output:  \n",
      "\n",
      "## Step 1: Identify the main claim being made about climate change.\n",
      "The main claim is that the estimate of \"climate sensitivity\" (how much temperature rise will be produced by doubling of CO2) prov...\n"
     ]
    },
    {
     "name": "stderr",
     "output_type": "stream",
     "text": [
      " 62%|██████▏   | 62/100 [09:48<04:24,  6.97s/it]"
     ]
    },
    {
     "name": "stdout",
     "output_type": "stream",
     "text": [
      "\n",
      "Raw output:  \n",
      "\n",
      "## Step 1: Identify the main claim being made about climate change.\n",
      "The main claim is not explicitly stated in the given text, but it implies a critique or disagreement with Nuccitelli's views on c...\n"
     ]
    },
    {
     "name": "stderr",
     "output_type": "stream",
     "text": [
      " 63%|██████▎   | 63/100 [10:08<06:45, 10.96s/it]"
     ]
    },
    {
     "name": "stdout",
     "output_type": "stream",
     "text": [
      "\n",
      "Raw output: 1. Main claim: The dynamical effects in state-of-the-art global climate models are too small to match the observational data, indicating a discrepancy between the models and the real-world observation...\n"
     ]
    },
    {
     "name": "stderr",
     "output_type": "stream",
     "text": [
      " 64%|██████▍   | 64/100 [10:12<05:16,  8.78s/it]"
     ]
    },
    {
     "name": "stdout",
     "output_type": "stream",
     "text": [
      "\n",
      "Raw output:  \n",
      "\n",
      "## Step 1: Identify the main claim being made about climate change.\n",
      "The main claim is that an increase in CO2 actually cools the atmosphere, contrary to the assertion that it causes warming.\n",
      "\n",
      "## St...\n"
     ]
    },
    {
     "name": "stderr",
     "output_type": "stream",
     "text": [
      " 65%|██████▌   | 65/100 [10:21<05:09,  8.85s/it]"
     ]
    },
    {
     "name": "stdout",
     "output_type": "stream",
     "text": [
      "\n",
      "Raw output: 1. Main claim: The main claim being made about climate change is that carbon dioxide (CO2) is not a pollutant, but rather a vital gas for all life on Earth, and therefore, regulations aimed at reducin...\n"
     ]
    },
    {
     "name": "stderr",
     "output_type": "stream",
     "text": [
      " 66%|██████▌   | 66/100 [10:26<04:20,  7.67s/it]"
     ]
    },
    {
     "name": "stdout",
     "output_type": "stream",
     "text": [
      "\n",
      "Raw output: 1. Main claim: The text does not explicitly make a claim about climate change, but rather provides a biography of Craig D. Idso, highlighting his educational background and research experience.\n",
      "2. Evi...\n"
     ]
    },
    {
     "name": "stderr",
     "output_type": "stream",
     "text": [
      " 67%|██████▋   | 67/100 [10:31<03:50,  7.00s/it]"
     ]
    },
    {
     "name": "stdout",
     "output_type": "stream",
     "text": [
      "\n",
      "Raw output: 1. Main claim:\n",
      "The main claim being made about climate change is that the current data (Figure 1) does not yet falsify the CO2 hypothesis, but it presents an interesting finding that needs further exp...\n"
     ]
    },
    {
     "name": "stderr",
     "output_type": "stream",
     "text": [
      " 68%|██████▊   | 68/100 [10:37<03:37,  6.80s/it]"
     ]
    },
    {
     "name": "stdout",
     "output_type": "stream",
     "text": [
      "\n",
      "Raw output:  \n",
      "\n",
      "## Step 1: Identify the main claim being made about climate change.\n",
      "The text provided does not explicitly make a claim about climate change. It appears to be a title or header for a news section (\"...\n"
     ]
    },
    {
     "name": "stderr",
     "output_type": "stream",
     "text": [
      " 69%|██████▉   | 69/100 [10:43<03:22,  6.54s/it]"
     ]
    },
    {
     "name": "stdout",
     "output_type": "stream",
     "text": [
      "\n",
      "Raw output:  \n",
      "\n",
      "## Step 1: Identify the main claim being made about climate change.\n",
      "The main claim is not explicitly about climate change itself but rather criticizes a report or opinion related to climate change ...\n"
     ]
    },
    {
     "name": "stderr",
     "output_type": "stream",
     "text": [
      " 70%|███████   | 70/100 [10:51<03:26,  6.88s/it]"
     ]
    },
    {
     "name": "stdout",
     "output_type": "stream",
     "text": [
      "\n",
      "Raw output: 1. Main claim: The main claim being made is that early action crediting in the context of climate change mitigation strategies, specifically cap-and-trade systems, can create incentives for lobbying d...\n"
     ]
    },
    {
     "name": "stderr",
     "output_type": "stream",
     "text": [
      " 71%|███████   | 71/100 [11:02<03:55,  8.14s/it]"
     ]
    },
    {
     "name": "stdout",
     "output_type": "stream",
     "text": [
      "\n",
      "Raw output: 1. Main claim: The text suggests that despite previous conditions that might have indicated a decrease in the likelihood of El Niño developing, a pool of subsurface warm water has returned to the west...\n"
     ]
    },
    {
     "name": "stderr",
     "output_type": "stream",
     "text": [
      " 72%|███████▏  | 72/100 [11:09<03:40,  7.88s/it]"
     ]
    },
    {
     "name": "stdout",
     "output_type": "stream",
     "text": [
      "\n",
      "Raw output: 1. Main claim: The main claim being made is that Obama's climate policies would survive under a Trump presidency due to the enthusiasm of career civil servants and global momentum behind the Paris tre...\n"
     ]
    },
    {
     "name": "stderr",
     "output_type": "stream",
     "text": [
      " 73%|███████▎  | 73/100 [11:16<03:18,  7.36s/it]"
     ]
    },
    {
     "name": "stdout",
     "output_type": "stream",
     "text": [
      "\n",
      "Raw output: 1. Main claim: The use of bio-diesel by a bus company to reduce global warming emissions has been disrupted due to cold weather, causing the bio-diesel to turn waxy and block fuel lines.\n",
      "2. Evidence/S...\n",
      "Invalid code format detected: 4.4\n"
     ]
    },
    {
     "name": "stderr",
     "output_type": "stream",
     "text": [
      " 74%|███████▍  | 74/100 [11:24<03:17,  7.58s/it]"
     ]
    },
    {
     "name": "stdout",
     "output_type": "stream",
     "text": [
      "\n",
      "Raw output: 1. Main claim:\n",
      "The main claim is that scientists are inconsistent in their argument about climate change, specifically that they use short-term temperature increases to give climate change meaning.\n",
      "\n",
      "2...\n"
     ]
    },
    {
     "name": "stderr",
     "output_type": "stream",
     "text": [
      " 75%|███████▌  | 75/100 [11:29<02:49,  6.78s/it]"
     ]
    },
    {
     "name": "stdout",
     "output_type": "stream",
     "text": [
      "\n",
      "Raw output: 1. Main claim: The presence of significant sea ice in Antarctica, to the extent that a research vessel gets stuck during summer, suggests that climate change may not be occurring as predicted.\n",
      "2. Evid...\n"
     ]
    },
    {
     "name": "stderr",
     "output_type": "stream",
     "text": [
      " 76%|███████▌  | 76/100 [11:36<02:46,  6.92s/it]"
     ]
    },
    {
     "name": "stdout",
     "output_type": "stream",
     "text": [
      "\n",
      "Raw output: 1. Main claim: The text does not make a claim about climate change; instead, it discusses the geopolitical dynamics between the United States and Russia, specifically under the Obama administration.\n",
      "2...\n"
     ]
    },
    {
     "name": "stderr",
     "output_type": "stream",
     "text": [
      " 77%|███████▋  | 77/100 [11:47<03:07,  8.17s/it]"
     ]
    },
    {
     "name": "stdout",
     "output_type": "stream",
     "text": [
      "\n",
      "Raw output: 1. Main claim: The text does not make a claim about climate change; instead, it discusses a court case related to the Sarbanes-Oxley Act of 2002 and the involvement of the Competitive Enterprise Insti...\n"
     ]
    },
    {
     "name": "stderr",
     "output_type": "stream",
     "text": [
      " 78%|███████▊  | 78/100 [11:52<02:36,  7.13s/it]"
     ]
    },
    {
     "name": "stdout",
     "output_type": "stream",
     "text": [
      "\n",
      "Raw output: 1. Main claim: The main claim being made is that global warming is not caused by the emission of greenhouse gases into the atmosphere, but rather by an unusually high level of solar radiation and its ...\n"
     ]
    },
    {
     "name": "stderr",
     "output_type": "stream",
     "text": [
      " 79%|███████▉  | 79/100 [11:57<02:19,  6.65s/it]"
     ]
    },
    {
     "name": "stdout",
     "output_type": "stream",
     "text": [
      "\n",
      "Raw output: 1. Main claim: The claim is that despite the general understanding of climate change, there are specific aspects of past climate variations that are not satisfactorily explained by current knowledge, ...\n"
     ]
    },
    {
     "name": "stderr",
     "output_type": "stream",
     "text": [
      " 80%|████████  | 80/100 [12:06<02:23,  7.19s/it]"
     ]
    },
    {
     "name": "stdout",
     "output_type": "stream",
     "text": [
      "\n",
      "Raw output: 1. Main claim:\n",
      "The main claim being made about climate change is that reducing CO2 emissions to a significant extent (1/10) would lead to a substantial decrease in wealth (to about 1/5), implying a st...\n"
     ]
    },
    {
     "name": "stderr",
     "output_type": "stream",
     "text": [
      " 81%|████████  | 81/100 [12:10<02:02,  6.43s/it]"
     ]
    },
    {
     "name": "stdout",
     "output_type": "stream",
     "text": [
      "\n",
      "Raw output: 1. Main claim: The text does not explicitly make a claim about climate change itself but rather discusses someone (Joel) critiquing the Natural Resources Defense Council (NRDC) for presenting findings...\n"
     ]
    },
    {
     "name": "stderr",
     "output_type": "stream",
     "text": [
      " 82%|████████▏ | 82/100 [12:14<01:40,  5.58s/it]"
     ]
    },
    {
     "name": "stdout",
     "output_type": "stream",
     "text": [
      "\n",
      "Raw output: 1. Main claim: The model mean of the outgoing longwave radiation declines at a rate of about -0.1 watts/m^2/decade from 1861 to 2005, with a spread of about 0.15 watts/m^2/decade among the models.\n",
      "2. ...\n",
      "Error in row 81: Invalid code 0.1\n"
     ]
    },
    {
     "name": "stderr",
     "output_type": "stream",
     "text": [
      " 83%|████████▎ | 83/100 [12:19<01:30,  5.35s/it]"
     ]
    },
    {
     "name": "stdout",
     "output_type": "stream",
     "text": [
      "\n",
      "Raw output: 1. Main claim: The text claims that increased glacial acceleration in Svalbard started suddenly in 2012, was limited to one continental glacier, and has not been documented elsewhere in the island cha...\n"
     ]
    },
    {
     "name": "stderr",
     "output_type": "stream",
     "text": [
      " 84%|████████▍ | 84/100 [12:29<01:49,  6.82s/it]"
     ]
    },
    {
     "name": "stdout",
     "output_type": "stream",
     "text": [
      "\n",
      "Raw output:  \n",
      "\n",
      "## Step 1: Identify the main claim being made about climate change.\n",
      "The main claim is that while there is a focus on the record melting in the Arctic, there is also a record growth of sea ice aroun...\n"
     ]
    },
    {
     "name": "stderr",
     "output_type": "stream",
     "text": [
      " 85%|████████▌ | 85/100 [12:33<01:29,  5.97s/it]"
     ]
    },
    {
     "name": "stdout",
     "output_type": "stream",
     "text": [
      "\n",
      "Raw output: 1. Main claim: The legal theories used in climate change lawsuits have little basis in positive law or judicial precedent, making it difficult for plaintiffs.\n",
      "2. Evidence/Support: The text mentions th...\n"
     ]
    },
    {
     "name": "stderr",
     "output_type": "stream",
     "text": [
      " 86%|████████▌ | 86/100 [12:44<01:45,  7.53s/it]"
     ]
    },
    {
     "name": "stdout",
     "output_type": "stream",
     "text": [
      "\n",
      "Raw output: 1. Main claim: The claim being made is that a 1930s style global economic depression is needed to stabilize the climate, implying that drastic economic measures are required to address climate change....\n"
     ]
    },
    {
     "name": "stderr",
     "output_type": "stream",
     "text": [
      " 87%|████████▋ | 87/100 [12:58<02:02,  9.45s/it]"
     ]
    },
    {
     "name": "stdout",
     "output_type": "stream",
     "text": [
      "\n",
      "Raw output:  \n",
      "\n",
      "## Step 1: Identify the main claim being made about climate change.\n",
      "The main claim being made is about the existence of distinct warm and cold periods in the ACWT and SAT records, indicating fluctu...\n"
     ]
    },
    {
     "name": "stderr",
     "output_type": "stream",
     "text": [
      " 88%|████████▊ | 88/100 [13:08<01:54,  9.56s/it]"
     ]
    },
    {
     "name": "stdout",
     "output_type": "stream",
     "text": [
      "\n",
      "Raw output: 1. Main claim: The text suggests that global warming on other planets and possibly Earth could be attributed to natural causes such as the Sun, cosmic rays, or internal planetary variability, rather t...\n"
     ]
    },
    {
     "name": "stderr",
     "output_type": "stream",
     "text": [
      " 89%|████████▉ | 89/100 [13:15<01:38,  8.97s/it]"
     ]
    },
    {
     "name": "stdout",
     "output_type": "stream",
     "text": [
      "\n",
      "Raw output: 1. Main claim: The main claim being made is not directly about climate change, but rather about the difficulties and regulations faced by a group (MillionTeaBags.org) in organizing a protest, which is...\n"
     ]
    },
    {
     "name": "stderr",
     "output_type": "stream",
     "text": [
      " 90%|█████████ | 90/100 [13:20<01:16,  7.63s/it]"
     ]
    },
    {
     "name": "stdout",
     "output_type": "stream",
     "text": [
      "\n",
      "Raw output: 1. Main claim: The creation of green jobs through subsidies and regulation leads to the destruction of job opportunities in other industries, making electricity costs more expensive.\n",
      "2. Evidence/Suppo...\n"
     ]
    },
    {
     "name": "stderr",
     "output_type": "stream",
     "text": [
      " 91%|█████████ | 91/100 [13:29<01:11,  7.95s/it]"
     ]
    },
    {
     "name": "stdout",
     "output_type": "stream",
     "text": [
      "\n",
      "Raw output: 1. Main claim:\n",
      "The main claim being made about climate change is that increased CO2 levels have a positive effect on tree growth and reproduction, as evidenced by increased cone production and earlier...\n"
     ]
    },
    {
     "name": "stderr",
     "output_type": "stream",
     "text": [
      " 92%|█████████▏| 92/100 [13:33<00:56,  7.01s/it]"
     ]
    },
    {
     "name": "stdout",
     "output_type": "stream",
     "text": [
      "\n",
      "Raw output:  \n",
      "\n",
      "## Step 1: Identify the main claim being made about climate change.\n",
      "The text provided does not directly make a claim about climate change. Instead, it appears to be a headline about an aide being f...\n"
     ]
    },
    {
     "name": "stderr",
     "output_type": "stream",
     "text": [
      " 93%|█████████▎| 93/100 [13:49<01:07,  9.58s/it]"
     ]
    },
    {
     "name": "stdout",
     "output_type": "stream",
     "text": [
      "\n",
      "Raw output:  \n",
      "\n",
      "## Step 1: Identify the main claim being made about climate change.\n",
      "The main claim is that Australia's $46 million Antarctic airstrip is melting due to climate change, indicating a tangible and cos...\n"
     ]
    },
    {
     "name": "stderr",
     "output_type": "stream",
     "text": [
      " 94%|█████████▍| 94/100 [14:05<01:08, 11.43s/it]"
     ]
    },
    {
     "name": "stdout",
     "output_type": "stream",
     "text": [
      "\n",
      "Raw output: 1. Main claim: The text suggests that Jim Hansen's value for the energy imbalance must be larger, given the current time frame and the uncertainty range of the Leob et al 2012 study.\n",
      "2. Evidence/Suppo...\n"
     ]
    },
    {
     "name": "stderr",
     "output_type": "stream",
     "text": [
      " 95%|█████████▌| 95/100 [14:14<00:53, 10.74s/it]"
     ]
    },
    {
     "name": "stdout",
     "output_type": "stream",
     "text": [
      "\n",
      "Raw output: 1. Main claim: The main claim is that we should not consider the risks of preventing poorer people from using fossil-fuel energy, which has played a significant role in improving human health, prosper...\n"
     ]
    },
    {
     "name": "stderr",
     "output_type": "stream",
     "text": [
      " 96%|█████████▌| 96/100 [14:18<00:34,  8.65s/it]"
     ]
    },
    {
     "name": "stdout",
     "output_type": "stream",
     "text": [
      "\n",
      "Raw output: 1. Main claim: The claim being made is that the attribution of heatwaves to global warming is questionable because the cause of the heatwave is not understood.\n",
      "2. Evidence/Support: No direct evidence ...\n"
     ]
    },
    {
     "name": "stderr",
     "output_type": "stream",
     "text": [
      " 97%|█████████▋| 97/100 [14:22<00:21,  7.29s/it]"
     ]
    },
    {
     "name": "stdout",
     "output_type": "stream",
     "text": [
      "\n",
      "Raw output: 1. Main claim:\n",
      "The main claim being made is that the data collected by a researcher (implied to be a woman) is real and not the result of errors or conspiracy, but the author uses this as a basis to a...\n"
     ]
    },
    {
     "name": "stderr",
     "output_type": "stream",
     "text": [
      " 98%|█████████▊| 98/100 [14:34<00:17,  8.86s/it]"
     ]
    },
    {
     "name": "stdout",
     "output_type": "stream",
     "text": [
      "\n",
      "Raw output: 1. Main claim:\n",
      "The main claim being made is not directly related to climate change, but rather about the sentiment of the American electorate towards the administration and Democrats in Congress, part...\n"
     ]
    },
    {
     "name": "stderr",
     "output_type": "stream",
     "text": [
      " 99%|█████████▉| 99/100 [14:49<00:10, 10.52s/it]"
     ]
    },
    {
     "name": "stdout",
     "output_type": "stream",
     "text": [
      "\n",
      "Raw output: 1. Main claim: The text suggests that climate change might be linked to various unrelated events, such as the start of wars and fights, and implies that these events could be evidence of climate chang...\n",
      "Invalid code format detected: 1.7\n"
     ]
    },
    {
     "name": "stderr",
     "output_type": "stream",
     "text": [
      "100%|██████████| 100/100 [15:00<00:00, 10.80s/it]"
     ]
    },
    {
     "name": "stdout",
     "output_type": "stream",
     "text": [
      "\n",
      "Raw output: 1. Main claim: The main claim being made about climate change is that the climate models used by the IPCC to predict future climate change may lead to overly confident climate predictions due to confi...\n"
     ]
    },
    {
     "name": "stderr",
     "output_type": "stream",
     "text": [
      "100%|██████████| 100/100 [15:01<00:00,  9.02s/it]"
     ]
    },
    {
     "name": "stdout",
     "output_type": "stream",
     "text": [
      "\n",
      "Processing complete!\n",
      "Successfully processed: 99 rows\n",
      "Errors: 1 rows\n"
     ]
    },
    {
     "name": "stderr",
     "output_type": "stream",
     "text": [
      "\n"
     ]
    }
   ],
   "source": [
    "import pandas as pd\n",
    "import numpy as np\n",
    "import matplotlib.pyplot as plt\n",
    "from dotenv import load_dotenv\n",
    "import os\n",
    "import requests\n",
    "from sklearn.metrics import accuracy_score, cohen_kappa_score, confusion_matrix\n",
    "import re\n",
    "from tqdm import tqdm\n",
    "import time\n",
    "\n",
    "# Load environment variables\n",
    "load_dotenv()\n",
    "\n",
    "# Together API endpoint and key\n",
    "endpoint = 'https://api.together.xyz/inference'\n",
    "TOGETHER_API_KEY = os.getenv('TOGETHER_API_KEY')\n",
    "\n",
    "# Codebook for contrarian claims\n",
    "CODEBOOK = \"\"\"\n",
    "1.1: Ice/permafrost/snow cover isn't melting\n",
    "1.2: We're heading into an ice age/global cooling\n",
    "1.3: Weather is cold/snowing\n",
    "1.4: Climate hasn't warmed/changed over the last (few) decade(s)\n",
    "1.5: Oceans are cooling/not warming\n",
    "1.6: Sea level rise is exaggerated/not accelerating\n",
    "1.7: Extreme weather isn't increasing/has happened before/isn't linked to climate change\n",
    "1.8: They changed the name from 'global warming' to 'climate change'\n",
    "2.1: It's natural cycles/variation\n",
    "2.2: It's non-greenhouse gas human climate forcings (aerosols, land use)\n",
    "2.3: There's no evidence for greenhouse effect/carbon dioxide driving climate change\n",
    "2.4: CO2 is not rising/ocean pH is not falling\n",
    "2.5: Human CO2 emissions are miniscule/not raising atmospheric CO2\n",
    "3.1: Climate sensitivity is low/negative feedbacks reduce warming\n",
    "3.2: Species/plants/reefs aren't showing climate impacts yet/are benefiting from climate change\n",
    "3.3: CO2 is beneficial/not a pollutant\n",
    "3.4: It's only a few degrees (or less)\n",
    "3.5: Climate change does not contribute to human conflict/threaten national security\n",
    "3.6: Climate change doesn't negatively impact health\n",
    "4.1: Climate policies (mitigation or adaptation) are harmful\n",
    "4.2: Climate policies are ineffective/flawed\n",
    "4.3: It's too hard to solve\n",
    "4.4: Clean energy technology/biofuels won't work\n",
    "4.5: People need energy (e.g., from fossil fuels/nuclear)\n",
    "5.1: Climate-related science is uncertain/unsound/unreliable\n",
    "5.2: Climate movement is alarmist/wrong/political/biased/hypocritical\n",
    "5.3: Climate change (science or policy) is a conspiracy\n",
    "0.0: None of the above\n",
    "\"\"\"\n",
    "\n",
    "def prepare_prompt(text):\n",
    "    system_prompt = f\"\"\"Analyze this text about climate change. First identify its main claim and evidence. Then select the most appropriate codebook category.\n",
    "\n",
    "Text:\n",
    "{text}\n",
    "\n",
    "ANALYSIS:\n",
    "1. Main claim and evidence:\n",
    "\n",
    "2. Based on this, the text matches code [number] because:\n",
    "\n",
    "Code: \n",
    "Reason: \n",
    "\n",
    "Codebook:\n",
    "{CODEBOOK}\"\"\"\n",
    "    return system_prompt\n",
    "\n",
    "\n",
    "# Only the classify_text function needs changes - rest of code remains the same\n",
    "def classify_text(text, retry_count=3, retry_delay=1):\n",
    "    \"\"\"Classify text with retry logic and rate limiting.\"\"\"\n",
    "    for attempt in range(retry_count):\n",
    "        try:\n",
    "            headers = {\n",
    "                \"Authorization\": f\"Bearer {TOGETHER_API_KEY}\",\n",
    "                \"Content-Type\": \"application/json\"\n",
    "            }\n",
    "            \n",
    "            data = {\n",
    "                \"model\": \"meta-llama/Llama-3-70b-chat-hf\",\n",
    "                \"prompt\": prepare_prompt(text),\n",
    "                \"max_tokens\": 600,\n",
    "                \"temperature\": 0.3,\n",
    "                \"top_p\": 0.9,\n",
    "                \"top_k\": 40,\n",
    "                \"repetition_penalty\": 1.0,\n",
    "                \"stop\": None\n",
    "            }\n",
    "            \n",
    "            response = requests.post(endpoint, json=data, headers=headers)\n",
    "            \n",
    "            if response.status_code != 200:\n",
    "                print(f\"Attempt {attempt + 1}: API error {response.status_code}\")\n",
    "                print(f\"Error details: {response.text}\")\n",
    "                if attempt == retry_count - 1:\n",
    "                    return \"Error\", f\"API request failed: {response.status_code} - {response.text}\"\n",
    "                time.sleep(retry_delay * (attempt + 1))\n",
    "                continue\n",
    "            \n",
    "            response_data = response.json()\n",
    "            \n",
    "            if 'output' in response_data:\n",
    "                if isinstance(response_data['output'], dict):\n",
    "                    output = response_data['output'].get('choices', [{}])[0].get('text', '')\n",
    "                else:\n",
    "                    output = response_data['output']\n",
    "            else:\n",
    "                print(f\"Unexpected response format: {response_data}\")\n",
    "                return \"Error\", \"Unexpected API response format\"\n",
    "            \n",
    "            # Debug print and empty response handling\n",
    "            print(f\"Raw output: {output[:100]}...\")  # Print first 100 chars\n",
    "            \n",
    "            if not output or len(output.strip()) == 0:\n",
    "                if attempt < retry_count - 1:\n",
    "                    print(\"Empty response, retrying...\")\n",
    "                    time.sleep(retry_delay * (attempt + 1))\n",
    "                    continue\n",
    "                else:\n",
    "                    return \"0.0\", \"Empty response from API after all retries\"\n",
    "            \n",
    "            # Rest of the code remains the same\n",
    "            code_patterns = [\n",
    "                r'Code:[\\s\\n]*([0-9]+\\.[0-9]+|0\\.0)(?=[\\\\s\\\\n]*(?:Reason:|$))',\n",
    "                r'Code:\\s*([0-9]+\\.[0-9]+|0\\.0)',\n",
    "                r'\\b([0-9]+\\.[0-9]+|0\\.0)\\b'\n",
    "            ]\n",
    "            \n",
    "            code = \"0.0\"  # Default code\n",
    "            for pattern in code_patterns:\n",
    "                match = re.search(pattern, output, re.IGNORECASE)\n",
    "                if match:\n",
    "                    code = match.group(1).strip()\n",
    "                    break\n",
    "            \n",
    "            reasoning_patterns = [\n",
    "                r'Reason:[\\s\\n]*([\\\\s\\\\S]+)$',\n",
    "                r'reasoning:[\\s\\n]*([\\\\s\\\\S]+)$',\n",
    "                r'because([\\\\s\\\\S]+)$'\n",
    "            ]\n",
    "            \n",
    "            reasoning = \"No reasoning provided\"\n",
    "            for pattern in reasoning_patterns:\n",
    "                match = re.search(pattern, output, re.IGNORECASE)\n",
    "                if match:\n",
    "                    reasoning = match.group(1).strip()\n",
    "                    break\n",
    "            \n",
    "            if reasoning == \"No reasoning provided\" and output:\n",
    "                reasoning = output.strip()\n",
    "            \n",
    "            return code, reasoning\n",
    "                \n",
    "        except requests.exceptions.RequestException as e:\n",
    "            if attempt == retry_count - 1:\n",
    "                return \"Error\", f\"API request failed after {retry_count} attempts: {str(e)}\"\n",
    "            time.sleep(retry_delay * (attempt + 1))\n",
    "            continue\n",
    "            \n",
    "        except Exception as e:\n",
    "            return \"Error\", f\"Processing failed: {str(e)}\"\n",
    "\n",
    "def process_dataframe(df, batch_size=100, save_interval=500):\n",
    "    \"\"\"Process the entire dataframe with progress tracking and periodic saving.\"\"\"\n",
    "    \n",
    "    # Create a copy of the dataframe\n",
    "    df_processed = df.copy()\n",
    "    \n",
    "    # Ensure all column names are as expected\n",
    "    expected_columns = ['text_id', 'text', 'original_code', 'replicated_code', 'model_code', 'reason']\n",
    "    for col in expected_columns:\n",
    "        if col not in df_processed.columns:\n",
    "            print(f\"Warning: Column {col} not found in the dataset\")\n",
    "    \n",
    "    # Initialize new columns for model predictions\n",
    "    if 'model_prediction' not in df_processed.columns:\n",
    "        df_processed['model_prediction'] = None\n",
    "    if 'reasoning' not in df_processed.columns:\n",
    "        df_processed['reasoning'] = None\n",
    "    \n",
    "    # Get indices of unprocessed rows\n",
    "    unprocessed_mask = df_processed['model_prediction'].isna()\n",
    "    total_unprocessed = unprocessed_mask.sum()\n",
    "    \n",
    "    if total_unprocessed == 0:\n",
    "        print(\"All rows have already been processed!\")\n",
    "        return df_processed\n",
    "    \n",
    "    print(f\"Processing {total_unprocessed} unprocessed rows...\")\n",
    "    \n",
    "    # Create progress bar\n",
    "    with tqdm(total=total_unprocessed) as pbar:\n",
    "        processed_count = 0\n",
    "        \n",
    "        # Process rows in batches\n",
    "        for idx in df_processed[unprocessed_mask].index:\n",
    "            try:\n",
    "                # Get the text for processing\n",
    "                text = str(df_processed.loc[idx, 'text'])\n",
    "                \n",
    "                # Skip if text is empty or invalid\n",
    "                if text.lower() in ['nan', 'none', ''] or len(text.strip()) < 10:\n",
    "                    df_processed.loc[idx, 'model_prediction'] = \"0.0\"\n",
    "                    df_processed.loc[idx, 'reasoning'] = \"Text too short or empty\"\n",
    "                    processed_count += 1\n",
    "                    pbar.update(1)\n",
    "                    continue\n",
    "                \n",
    "                # Process the text\n",
    "                code, reasoning = classify_text(text)\n",
    "                \n",
    "                # Store results\n",
    "                df_processed.loc[idx, 'model_prediction'] = code\n",
    "                df_processed.loc[idx, 'reasoning'] = reasoning\n",
    "                \n",
    "                processed_count += 1\n",
    "                pbar.update(1)\n",
    "                \n",
    "                # Save intermediate results\n",
    "                if processed_count % save_interval == 0:\n",
    "                    print(f\"\\nSaving intermediate results after processing {processed_count} rows...\")\n",
    "                    df_processed.to_csv('intermediate_results_contrarian.csv', index=False)\n",
    "                    \n",
    "                # Add a small delay every batch_size rows\n",
    "                if processed_count % batch_size == 0:\n",
    "                    time.sleep(1)\n",
    "                    \n",
    "            except Exception as e:\n",
    "                print(f\"\\nError processing row {idx}: {str(e)}\")\n",
    "                df_processed.loc[idx, 'model_prediction'] = \"Error\"\n",
    "                df_processed.loc[idx, 'reasoning'] = f\"Processing failed: {str(e)}\"\n",
    "                continue\n",
    "    \n",
    "    # Print summary\n",
    "    success_count = df_processed['model_prediction'].notna().sum() - df_processed['model_prediction'].eq('Error').sum()\n",
    "    error_count = df_processed['model_prediction'].eq('Error').sum()\n",
    "    print(f\"\\nProcessing complete!\")\n",
    "    print(f\"Successfully processed: {success_count} rows\")\n",
    "    print(f\"Errors: {error_count} rows\")\n",
    "    \n",
    "    return df_processed\n",
    "\n",
    "# Load and process the data\n",
    "def load_data(filepath):\n",
    "    \"\"\"Load the CSV file with the known structure.\"\"\"\n",
    "    try:\n",
    "        # Read CSV with specific dtypes\n",
    "        df = pd.read_csv(filepath, dtype={\n",
    "            'text_id': 'Int64',\n",
    "            'text': str,\n",
    "            'original_code': float,\n",
    "            'replicated_code': float,\n",
    "            'model_code': float,\n",
    "            'reason': str\n",
    "        })\n",
    "        \n",
    "        # Clean the text column\n",
    "        df['text'] = df['text'].fillna('').astype(str)\n",
    "        \n",
    "        return df\n",
    "        \n",
    "    except Exception as e:\n",
    "        print(f\"Error loading data: {str(e)}\")\n",
    "        return None\n",
    "\n",
    "# Main execution\n",
    "df = load_data('Data/contrarian_claims_reasons.csv')\n",
    "if df is not None:\n",
    "    df_results = process_dataframe(df)"
   ]
  },
  {
   "cell_type": "code",
   "execution_count": null,
   "metadata": {},
   "outputs": [],
   "source": [
    "df_results"
   ]
  },
  {
   "cell_type": "code",
   "execution_count": 15,
   "metadata": {},
   "outputs": [
    {
     "name": "stdout",
     "output_type": "stream",
     "text": [
      "Distribution of codes:\n",
      "\n",
      "Original Code:\n",
      "original_code\n",
      "0.0    57\n",
      "1.1     3\n",
      "1.2     1\n",
      "1.6     1\n",
      "1.7     2\n",
      "2.1     6\n",
      "2.3     3\n",
      "3.1     2\n",
      "3.3     3\n",
      "4.1     5\n",
      "4.2     1\n",
      "5.1    10\n",
      "5.2     6\n",
      "Name: count, dtype: int64\n",
      "\n",
      "Replicated Code:\n",
      "replicated_code\n",
      "0.0    48\n",
      "1.0     6\n",
      "1.1     3\n",
      "1.2     1\n",
      "1.3     1\n",
      "1.6     1\n",
      "2.1     7\n",
      "2.3     2\n",
      "3.3     3\n",
      "4.1     5\n",
      "4.2     2\n",
      "4.3     2\n",
      "4.4     1\n",
      "4.5     1\n",
      "5.1    12\n",
      "5.2     3\n",
      "5.3     2\n",
      "Name: count, dtype: int64\n",
      "\n",
      "Model Code:\n",
      "model_code\n",
      "0.0    36\n",
      "1.1     7\n",
      "1.3     1\n",
      "1.4     2\n",
      "1.6     1\n",
      "1.7     2\n",
      "2.1     8\n",
      "2.3     9\n",
      "2.5     2\n",
      "3.3     3\n",
      "4.1     4\n",
      "4.2     3\n",
      "4.4     1\n",
      "4.5     2\n",
      "5.1    10\n",
      "5.2     9\n",
      "Name: count, dtype: int64\n",
      "\n",
      "LLM Prediction:\n",
      "model_prediction\n",
      "0.0    37\n",
      "0.1     1\n",
      "1.1     2\n",
      "1.3     1\n",
      "1.4     1\n",
      "1.6     3\n",
      "1.7     4\n",
      "2.1     7\n",
      "2.3     4\n",
      "3.1     2\n",
      "3.2     2\n",
      "3.3     2\n",
      "3.4     1\n",
      "4.1     7\n",
      "4.2     2\n",
      "4.5     1\n",
      "5.1    15\n",
      "5.2     8\n",
      "Name: count, dtype: int64\n",
      "\n",
      "Agreement Percentages:\n",
      "Original vs Replicated: 66.0%\n",
      "Original vs Model: 61.0%\n",
      "Original vs LLM Prediction: 70.0%\n"
     ]
    },
    {
     "data": {
      "image/png": "[encoded data removed]",
      "text/plain": [
       "<Figure size 1500x600 with 1 Axes>"
      ]
     },
     "metadata": {},
     "output_type": "display_data"
    }
   ],
   "source": [
    "import matplotlib.pyplot as plt\n",
    "import numpy as np\n",
    "\n",
    "def plot_code_comparison(df_results):\n",
    "    \"\"\"\n",
    "    Create a bar plot comparing distributions across different codings.\n",
    "    \"\"\"\n",
    "    # Convert all codes to strings for consistency\n",
    "    df_temp = df_results.copy()\n",
    "    df_temp['original_code'] = df_temp['original_code'].astype(str)\n",
    "    df_temp['replicated_code'] = df_temp['replicated_code'].astype(str)\n",
    "    df_temp['model_code'] = df_temp['model_code'].astype(str)\n",
    "    \n",
    "    # Get all unique categories across all columns\n",
    "    categories = sorted(set(df_temp['original_code']) | \n",
    "                       set(df_temp['replicated_code']) | \n",
    "                       set(df_temp['model_code']) | \n",
    "                       set(df_temp['model_prediction']))\n",
    "    \n",
    "    # Get value counts for each column, reindex to include all categories\n",
    "    original_counts = df_temp['original_code'].value_counts().reindex(categories).fillna(0)\n",
    "    replicated_counts = df_temp['replicated_code'].value_counts().reindex(categories).fillna(0)\n",
    "    model_counts = df_temp['model_code'].value_counts().reindex(categories).fillna(0)\n",
    "    prediction_counts = df_temp['model_prediction'].value_counts().reindex(categories).fillna(0)\n",
    "    \n",
    "    # Number of categories and set up plot\n",
    "    n = len(categories)\n",
    "    x = np.arange(n)\n",
    "    width = 0.2  # Width of the bars\n",
    "    \n",
    "    # Create plot\n",
    "    plt.figure(figsize=(15, 6))\n",
    "    \n",
    "    # Create bars\n",
    "    b1 = plt.bar(x - 1.5*width, original_counts, width, label='Original Code', color='#2ecc71')\n",
    "    b2 = plt.bar(x - 0.5*width, replicated_counts, width, label='Replicated Code', color='#3498db')\n",
    "    b3 = plt.bar(x + 0.5*width, model_counts, width, label='Model Code', color='#e74c3c')\n",
    "    b4 = plt.bar(x + 1.5*width, prediction_counts, width, label='LLM Prediction', color='#9b59b6')\n",
    "    \n",
    "    # Customize plot\n",
    "    plt.xlabel('Claim Category', fontsize=12)\n",
    "    plt.ylabel('Count', fontsize=12)\n",
    "    plt.title('Comparison of Climate Change Contrarian Claims Coding', fontsize=14)\n",
    "    plt.xticks(x, categories, rotation=45, ha='right')\n",
    "    \n",
    "    # Add value labels on top of each bar\n",
    "    def add_value_labels(bars):\n",
    "        for bar in bars:\n",
    "            height = bar.get_height()\n",
    "            plt.text(bar.get_x() + bar.get_width()/2., height,\n",
    "                    f'{int(height)}',\n",
    "                    ha='center', va='bottom')\n",
    "    \n",
    "    add_value_labels(b1)\n",
    "    add_value_labels(b2)\n",
    "    add_value_labels(b3)\n",
    "    add_value_labels(b4)\n",
    "    \n",
    "    # Add grid for better readability\n",
    "    plt.grid(axis='y', linestyle='--', alpha=0.3)\n",
    "    \n",
    "    # Add legend\n",
    "    plt.legend(bbox_to_anchor=(1.05, 1), loc='upper left')\n",
    "    \n",
    "    # Adjust layout\n",
    "    plt.tight_layout()\n",
    "    \n",
    "    return plt\n",
    "\n",
    "def print_coding_stats(df_results):\n",
    "    \"\"\"Print summary statistics about the different codings.\"\"\"\n",
    "    # Convert all codes to strings for consistency\n",
    "    df_temp = df_results.copy()\n",
    "    df_temp['original_code'] = df_temp['original_code'].astype(str)\n",
    "    df_temp['replicated_code'] = df_temp['replicated_code'].astype(str)\n",
    "    df_temp['model_code'] = df_temp['model_code'].astype(str)\n",
    "    \n",
    "    print(\"Distribution of codes:\")\n",
    "    print(\"\\nOriginal Code:\")\n",
    "    print(df_temp['original_code'].value_counts().sort_index())\n",
    "    print(\"\\nReplicated Code:\")\n",
    "    print(df_temp['replicated_code'].value_counts().sort_index())\n",
    "    print(\"\\nModel Code:\")\n",
    "    print(df_temp['model_code'].value_counts().sort_index())\n",
    "    print(\"\\nLLM Prediction:\")\n",
    "    print(df_temp['model_prediction'].value_counts().sort_index())\n",
    "    \n",
    "    # Calculate agreement percentages\n",
    "    total = len(df_temp)\n",
    "    original_replicated_agreement = (df_temp['original_code'] == df_temp['replicated_code']).mean() * 100\n",
    "    original_model_agreement = (df_temp['original_code'] == df_temp['model_code']).mean() * 100\n",
    "    original_prediction_agreement = (df_temp['original_code'] == df_temp['model_prediction']).mean() * 100\n",
    "    \n",
    "    print(\"\\nAgreement Percentages:\")\n",
    "    print(f\"Original vs Replicated: {original_replicated_agreement:.1f}%\")\n",
    "    print(f\"Original vs Model: {original_model_agreement:.1f}%\")\n",
    "    print(f\"Original vs LLM Prediction: {original_prediction_agreement:.1f}%\")\n",
    "\n",
    "# Usage\n",
    "print_coding_stats(df_results)\n",
    "plt = plot_code_comparison(df_results)\n",
    "plt.show()"
   ]
  },
  {
   "cell_type": "code",
   "execution_count": 16,
   "metadata": {},
   "outputs": [
    {
     "name": "stdout",
     "output_type": "stream",
     "text": [
      "\n",
      "Similarity Analysis Summary:\n",
      "====================================================================================================\n",
      "                         Comparison  Accuracy  Kappa Score  Matching Cases  Total Cases Match Percentage\n",
      "        Original Code Vs Model Code      0.61     0.490928              61          100            61.0%\n",
      "  Original Code Vs Model Prediction      0.70     0.603960              70          100            70.0%\n",
      "      Replicated Code Vs Model Code      0.56     0.449312              56          100            56.0%\n",
      "Replicated Code Vs Model Prediction      0.58     0.468825              58          100            58.0%\n",
      "\n",
      "Detailed Analysis:\n",
      "====================================================================================================\n",
      "\n",
      "Comparison with Original Code:\n",
      "Better model: Original Code Vs Model Prediction\n",
      "Accuracy: 70.00%\n",
      "Kappa Score: 0.604\n",
      "\n",
      "Comparison with Replicated Code:\n",
      "Better model: Replicated Code Vs Model Prediction\n",
      "Accuracy: 58.00%\n",
      "Kappa Score: 0.469\n",
      "\n",
      "Confusion Matrix for original_code_vs_model_code:\n",
      "\n",
      "Categories: ['0.0', '1.1', '1.2', '1.6', '1.7', '2.1', '2.3', '3.1', '3.3', '4.1', '4.2', '5.1', '5.2']\n",
      "[[35  2  0  0  2  1  2  0  1  1  2  2  5]\n",
      " [ 0  3  0  0  0  0  0  0  0  0  0  0  0]\n",
      " [ 0  0  0  0  0  1  0  0  0  0  0  0  0]\n",
      " [ 0  0  0  1  0  0  0  0  0  0  0  0  0]\n",
      " [ 0  0  0  0  0  1  0  0  0  0  0  0  0]\n",
      " [ 0  0  0  0  0  4  1  0  0  0  0  0  0]\n",
      " [ 0  0  0  0  0  0  3  0  0  0  0  0  0]\n",
      " [ 0  0  0  0  0  0  2  0  0  0  0  0  0]\n",
      " [ 0  0  0  0  0  0  1  0  2  0  0  0  0]\n",
      " [ 0  0  0  0  0  0  0  0  0  3  0  0  1]\n",
      " [ 0  0  0  0  0  0  0  0  0  0  0  0  0]\n",
      " [ 0  2  0  0  0  1  0  0  0  0  0  7  0]\n",
      " [ 1  0  0  0  0  0  0  0  0  0  1  1  3]]\n",
      "\n",
      "Confusion Matrix for original_code_vs_model_prediction:\n",
      "\n",
      "Categories: ['0.0', '1.1', '1.2', '1.6', '1.7', '2.1', '2.3', '3.1', '3.3', '4.1', '4.2', '5.1', '5.2']\n",
      "[[37  0  0  1  1  2  0  0  1  2  2  4  4]\n",
      " [ 0  2  0  1  0  0  0  0  0  0  0  0  0]\n",
      " [ 0  0  0  0  0  1  0  0  0  0  0  0  0]\n",
      " [ 0  0  0  1  0  0  0  0  0  0  0  0  0]\n",
      " [ 0  0  0  0  2  0  0  0  0  0  0  0  0]\n",
      " [ 0  0  0  0  0  4  1  0  0  0  0  0  0]\n",
      " [ 0  0  0  0  0  0  3  0  0  0  0  0  0]\n",
      " [ 0  0  0  0  0  0  0  2  0  0  0  0  0]\n",
      " [ 0  0  0  0  0  0  0  0  1  0  0  0  0]\n",
      " [ 0  0  0  0  0  0  0  0  0  5  0  0  0]\n",
      " [ 0  0  0  0  0  0  0  0  0  0  0  0  0]\n",
      " [ 0  0  0  0  1  0  0  0  0  0  0  9  0]\n",
      " [ 0  0  0  0  0  0  0  0  0  0  0  2  4]]\n",
      "\n",
      "Confusion Matrix for replicated_code_vs_model_code:\n",
      "\n",
      "Categories: ['0.0', '1.0', '1.1', '1.2', '1.3', '1.6', '2.1', '2.3', '3.3', '4.1', '4.2', '4.3', '4.4', '4.5', '5.1', '5.2', '5.3']\n",
      "[[30  0  2  0  0  0  2  2  0  0  1  0  0  1  2  5  0]\n",
      " [ 2  0  0  0  0  0  1  1  1  0  0  0  0  0  0  1  0]\n",
      " [ 0  0  3  0  0  0  0  0  0  0  0  0  0  0  0  0  0]\n",
      " [ 0  0  0  0  0  0  0  1  0  0  0  0  0  0  0  0  0]\n",
      " [ 0  0  0  0  0  0  1  0  0  0  0  0  0  0  0  0  0]\n",
      " [ 0  0  0  0  0  1  0  0  0  0  0  0  0  0  0  0  0]\n",
      " [ 0  0  0  0  1  0  4  1  0  0  0  0  0  0  0  0  0]\n",
      " [ 0  0  0  0  0  0  0  2  0  0  0  0  0  0  0  0  0]\n",
      " [ 0  0  0  0  0  0  0  1  2  0  0  0  0  0  0  0  0]\n",
      " [ 0  0  0  0  0  0  0  0  0  3  1  0  0  0  0  0  0]\n",
      " [ 1  0  0  0  0  0  0  0  0  0  1  0  0  0  0  0  0]\n",
      " [ 0  0  0  0  0  0  0  0  0  1  0  0  0  0  0  1  0]\n",
      " [ 0  0  0  0  0  0  0  0  0  0  0  0  1  0  0  0  0]\n",
      " [ 0  0  0  0  0  0  0  0  0  0  0  0  0  1  0  0  0]\n",
      " [ 0  0  2  0  0  0  0  1  0  0  0  0  0  0  8  1  0]\n",
      " [ 2  0  0  0  0  0  0  0  0  0  0  0  0  0  0  0  0]\n",
      " [ 1  0  0  0  0  0  0  0  0  0  0  0  0  0  0  1  0]]\n",
      "\n",
      "Confusion Matrix for replicated_code_vs_model_prediction:\n",
      "\n",
      "Categories: ['0.0', '1.0', '1.1', '1.2', '1.3', '1.6', '2.1', '2.3', '3.3', '4.1', '4.2', '4.3', '4.4', '4.5', '5.1', '5.2', '5.3']\n",
      "[[33  0  0  0  0  0  1  0  0  0  0  0  0  1  4  5  0]\n",
      " [ 0  0  0  0  0  1  2  0  0  0  0  0  0  0  1  1  0]\n",
      " [ 0  0  2  0  0  1  0  0  0  0  0  0  0  0  0  0  0]\n",
      " [ 0  0  0  0  0  0  0  1  0  0  0  0  0  0  0  0  0]\n",
      " [ 0  0  0  0  0  0  1  0  0  0  0  0  0  0  0  0  0]\n",
      " [ 0  0  0  0  0  1  0  0  0  0  0  0  0  0  0  0  0]\n",
      " [ 0  0  0  0  0  0  3  1  0  0  0  0  0  0  0  0  0]\n",
      " [ 0  0  0  0  0  0  0  2  0  0  0  0  0  0  0  0  0]\n",
      " [ 0  0  0  0  0  0  0  0  2  0  0  0  0  0  0  0  0]\n",
      " [ 0  0  0  0  0  0  0  0  0  4  1  0  0  0  0  0  0]\n",
      " [ 1  0  0  0  0  0  0  0  0  0  1  0  0  0  0  0  0]\n",
      " [ 0  0  0  0  0  0  0  0  0  2  0  0  0  0  0  0  0]\n",
      " [ 0  0  0  0  1  0  0  0  0  0  0  0  0  0  0  0  0]\n",
      " [ 0  0  0  0  0  0  0  0  0  1  0  0  0  0  0  0  0]\n",
      " [ 1  0  0  0  0  0  0  0  0  0  0  0  0  0  9  0  0]\n",
      " [ 1  0  0  0  0  0  0  0  0  0  0  0  0  0  1  1  0]\n",
      " [ 1  0  0  0  0  0  0  0  0  0  0  0  0  0  0  1  0]]\n"
     ]
    }
   ],
   "source": [
    "from sklearn.metrics import accuracy_score, cohen_kappa_score, confusion_matrix\n",
    "\n",
    "def calculate_similarity_metrics(df_results, ground_truth_col, prediction_col):\n",
    "    \"\"\"\n",
    "    Calculate various similarity metrics between two columns\n",
    "    \"\"\"\n",
    "    # Remove rows where either column has missing values or errors\n",
    "    valid_rows = df_results[[ground_truth_col, prediction_col]].dropna()\n",
    "    valid_rows = valid_rows[valid_rows[prediction_col] != 'Error']\n",
    "    \n",
    "    # Convert all values to strings for comparison\n",
    "    valid_rows = valid_rows.astype(str)\n",
    "    \n",
    "    if len(valid_rows) == 0:\n",
    "        return {\n",
    "            'accuracy': 0,\n",
    "            'kappa': 0,\n",
    "            'matching_cases': 0,\n",
    "            'total_cases': 0,\n",
    "            'percentage_match': 0\n",
    "        }\n",
    "    \n",
    "    # Calculate metrics\n",
    "    accuracy = accuracy_score(valid_rows[ground_truth_col], valid_rows[prediction_col])\n",
    "    kappa = cohen_kappa_score(valid_rows[ground_truth_col], valid_rows[prediction_col])\n",
    "    matching_cases = (valid_rows[ground_truth_col] == valid_rows[prediction_col]).sum()\n",
    "    total_cases = len(valid_rows)\n",
    "    percentage_match = (matching_cases / total_cases) * 100\n",
    "    \n",
    "    return {\n",
    "        'accuracy': accuracy,\n",
    "        'kappa': kappa,\n",
    "        'matching_cases': matching_cases,\n",
    "        'total_cases': total_cases,\n",
    "        'percentage_match': percentage_match\n",
    "    }\n",
    "\n",
    "def analyze_code_similarities(df_results):\n",
    "    \"\"\"\n",
    "    Analyze similarities between model outputs and human categorizations\n",
    "    \"\"\"\n",
    "    # Comparisons to make\n",
    "    comparisons = [\n",
    "        ('original_code', 'model_code'),\n",
    "        ('original_code', 'model_prediction'),\n",
    "        ('replicated_code', 'model_code'),\n",
    "        ('replicated_code', 'model_prediction')\n",
    "    ]\n",
    "    \n",
    "    # Calculate metrics for each comparison\n",
    "    results_dict = {}\n",
    "    for truth_col, pred_col in comparisons:\n",
    "        results_dict[f\"{truth_col}_vs_{pred_col}\"] = calculate_similarity_metrics(\n",
    "            df_results, truth_col, pred_col\n",
    "        )\n",
    "    \n",
    "    # Create a summary dataframe\n",
    "    summary_df = pd.DataFrame({\n",
    "        'Comparison': [k.replace('_', ' ').title() for k in results_dict.keys()],\n",
    "        'Accuracy': [v['accuracy'] for v in results_dict.values()],\n",
    "        'Kappa Score': [v['kappa'] for v in results_dict.values()],\n",
    "        'Matching Cases': [v['matching_cases'] for v in results_dict.values()],\n",
    "        'Total Cases': [v['total_cases'] for v in results_dict.values()],\n",
    "        'Match Percentage': [v['percentage_match'] for v in results_dict.values()]\n",
    "    })\n",
    "    \n",
    "    # Format the percentage column\n",
    "    summary_df['Match Percentage'] = summary_df['Match Percentage'].round(2).astype(str) + '%'\n",
    "    \n",
    "    # Create detailed confusion matrices\n",
    "    confusion_matrices = {}\n",
    "    for truth_col, pred_col in comparisons:\n",
    "        valid_rows = df_results[[truth_col, pred_col]].dropna()\n",
    "        valid_rows = valid_rows[valid_rows[pred_col] != 'Error']  # Fixed: pred_col instead of prediction_col\n",
    "        valid_rows = valid_rows.astype(str)\n",
    "        \n",
    "        if len(valid_rows) > 0:\n",
    "            matrix = confusion_matrix(\n",
    "                valid_rows[truth_col], \n",
    "                valid_rows[pred_col],\n",
    "                labels=sorted(valid_rows[truth_col].unique())\n",
    "            )\n",
    "            confusion_matrices[f\"{truth_col}_vs_{pred_col}\"] = matrix\n",
    "    \n",
    "    return summary_df, confusion_matrices\n",
    "\n",
    "# Run the analysis\n",
    "summary_df, confusion_matrices = analyze_code_similarities(df_results)\n",
    "\n",
    "# Display the results\n",
    "print(\"\\nSimilarity Analysis Summary:\")\n",
    "print(\"=\" * 100)\n",
    "print(summary_df.to_string(index=False))\n",
    "print(\"\\nDetailed Analysis:\")\n",
    "print(\"=\" * 100)\n",
    "\n",
    "# Determine which model is more similar to human coding\n",
    "original_code_comparison = summary_df[summary_df['Comparison'].str.contains('Original Code')]\n",
    "replicated_code_comparison = summary_df[summary_df['Comparison'].str.contains('Replicated Code')]\n",
    "\n",
    "print(\"\\nComparison with Original Code:\")\n",
    "better_for_original = original_code_comparison.iloc[original_code_comparison['Accuracy'].argmax()]\n",
    "print(f\"Better model: {better_for_original['Comparison']}\")\n",
    "print(f\"Accuracy: {better_for_original['Accuracy']:.2%}\")\n",
    "print(f\"Kappa Score: {better_for_original['Kappa Score']:.3f}\")\n",
    "\n",
    "print(\"\\nComparison with Replicated Code:\")\n",
    "better_for_replicated = replicated_code_comparison.iloc[replicated_code_comparison['Accuracy'].argmax()]\n",
    "print(f\"Better model: {better_for_replicated['Comparison']}\")\n",
    "print(f\"Accuracy: {better_for_replicated['Accuracy']:.2%}\")\n",
    "print(f\"Kappa Score: {better_for_replicated['Kappa Score']:.3f}\")\n",
    "\n",
    "# Print confusion matrices with labels\n",
    "for name, matrix in confusion_matrices.items():\n",
    "    print(f\"\\nConfusion Matrix for {name}:\")\n",
    "    truth_col = name.split('_vs_')[0]\n",
    "    categories = sorted(df_results[truth_col].astype(str).unique())\n",
    "    print(\"\\nCategories:\", categories)\n",
    "    print(matrix)"
   ]
  },
  {
   "cell_type": "code",
   "execution_count": 17,
   "metadata": {},
   "outputs": [
    {
     "name": "stdout",
     "output_type": "stream",
     "text": [
      "Results saved to climate_claims_results.csv\n"
     ]
    }
   ],
   "source": [
    "df_results.to_csv('climate_prompt_results_final.csv', index=False)\n",
    "print(\"Results saved to climate_claims_results.csv\")"
   ]
  }
 ],
 "metadata": {
  "kernelspec": {
   "display_name": "bds",
   "language": "python",
   "name": "python3"
  },
  "language_info": {
   "codemirror_mode": {
    "name": "ipython",
    "version": 3
   },
   "file_extension": ".py",
   "mimetype": "text/x-python",
   "name": "python",
   "nbconvert_exporter": "python",
   "pygments_lexer": "ipython3",
   "version": "3.11.8"
  }
 },
 "nbformat": 4,
 "nbformat_minor": 2
}
