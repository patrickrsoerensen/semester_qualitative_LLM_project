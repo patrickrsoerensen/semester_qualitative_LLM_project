{
 "cells": [
  {
   "cell_type": "code",
   "execution_count": 10,
   "metadata": {},
   "outputs": [
    {
     "data": {
      "text/html": [
       "<div>\n",
       "<style scoped>\n",
       "    .dataframe tbody tr th:only-of-type {\n",
       "        vertical-align: middle;\n",
       "    }\n",
       "\n",
       "    .dataframe tbody tr th {\n",
       "        vertical-align: top;\n",
       "    }\n",
       "\n",
       "    .dataframe thead th {\n",
       "        text-align: right;\n",
       "    }\n",
       "</style>\n",
       "<table border=\"1\" class=\"dataframe\">\n",
       "  <thead>\n",
       "    <tr style=\"text-align: right;\">\n",
       "      <th></th>\n",
       "      <th>text_id</th>\n",
       "      <th>text</th>\n",
       "      <th>original_code</th>\n",
       "      <th>replicated_code</th>\n",
       "      <th>model_code</th>\n",
       "      <th>reason</th>\n",
       "    </tr>\n",
       "  </thead>\n",
       "  <tbody>\n",
       "    <tr>\n",
       "      <th>0</th>\n",
       "      <td>0</td>\n",
       "      <td>Bath faced with Tindall ultimatum\\n\\nMike Tind...</td>\n",
       "      <td>sport</td>\n",
       "      <td>sport</td>\n",
       "      <td>sport</td>\n",
       "      <td>This news story is about a rugby player, Mike ...</td>\n",
       "    </tr>\n",
       "    <tr>\n",
       "      <th>1</th>\n",
       "      <td>1</td>\n",
       "      <td>Big guns ease through in San Jose\\n\\nTop-seede...</td>\n",
       "      <td>sport</td>\n",
       "      <td>sport</td>\n",
       "      <td>sport</td>\n",
       "      <td>The text is reporting on a tennis tournament, ...</td>\n",
       "    </tr>\n",
       "    <tr>\n",
       "      <th>2</th>\n",
       "      <td>2</td>\n",
       "      <td>Chinese dam firm 'defies Beijing'\\n\\nThe China...</td>\n",
       "      <td>business</td>\n",
       "      <td>business</td>\n",
       "      <td>politics</td>\n",
       "      <td>This news story is about a Chinese company def...</td>\n",
       "    </tr>\n",
       "    <tr>\n",
       "      <th>3</th>\n",
       "      <td>3</td>\n",
       "      <td>Wenger offers Mutu hope\\n\\nArsenal boss Arsene...</td>\n",
       "      <td>sport</td>\n",
       "      <td>sport</td>\n",
       "      <td>sport</td>\n",
       "      <td>This news story is about a football player who...</td>\n",
       "    </tr>\n",
       "    <tr>\n",
       "      <th>4</th>\n",
       "      <td>4</td>\n",
       "      <td>Gerrard happy at Anfield\\n\\nLiverpool captain ...</td>\n",
       "      <td>sport</td>\n",
       "      <td>sport</td>\n",
       "      <td>sport</td>\n",
       "      <td>The article is about Liverpool captain Steven ...</td>\n",
       "    </tr>\n",
       "    <tr>\n",
       "      <th>...</th>\n",
       "      <td>...</td>\n",
       "      <td>...</td>\n",
       "      <td>...</td>\n",
       "      <td>...</td>\n",
       "      <td>...</td>\n",
       "      <td>...</td>\n",
       "    </tr>\n",
       "    <tr>\n",
       "      <th>95</th>\n",
       "      <td>95</td>\n",
       "      <td>Who do you think you are?\\n\\nThe real danger i...</td>\n",
       "      <td>tech</td>\n",
       "      <td>tech</td>\n",
       "      <td>tech</td>\n",
       "      <td>The article discusses the dangers of data thef...</td>\n",
       "    </tr>\n",
       "    <tr>\n",
       "      <th>96</th>\n",
       "      <td>96</td>\n",
       "      <td>Koubek suspended after drugs test\\n\\nStefan Ko...</td>\n",
       "      <td>sport</td>\n",
       "      <td>sport</td>\n",
       "      <td>sport</td>\n",
       "      <td>The news story is about a tennis player, Stefa...</td>\n",
       "    </tr>\n",
       "    <tr>\n",
       "      <th>97</th>\n",
       "      <td>97</td>\n",
       "      <td>China 'blocks Google news site'\\n\\nChina has b...</td>\n",
       "      <td>tech</td>\n",
       "      <td>politics</td>\n",
       "      <td>politics</td>\n",
       "      <td>This news story is about China's censorship of...</td>\n",
       "    </tr>\n",
       "    <tr>\n",
       "      <th>98</th>\n",
       "      <td>98</td>\n",
       "      <td>Leeds v Saracens (Fri)\\n\\nHeadingley\\n\\nFriday...</td>\n",
       "      <td>sport</td>\n",
       "      <td>sport</td>\n",
       "      <td>sport</td>\n",
       "      <td>The text is reporting on a rugby match between...</td>\n",
       "    </tr>\n",
       "    <tr>\n",
       "      <th>99</th>\n",
       "      <td>99</td>\n",
       "      <td>Seamen sail into biometric future\\n\\nThe luxur...</td>\n",
       "      <td>tech</td>\n",
       "      <td>tech</td>\n",
       "      <td>tech</td>\n",
       "      <td>The article discusses the use of biometric tec...</td>\n",
       "    </tr>\n",
       "  </tbody>\n",
       "</table>\n",
       "<p>98 rows × 6 columns</p>\n",
       "</div>"
      ],
      "text/plain": [
       "    text_id                                               text original_code  \\\n",
       "0         0  Bath faced with Tindall ultimatum\\n\\nMike Tind...         sport   \n",
       "1         1  Big guns ease through in San Jose\\n\\nTop-seede...         sport   \n",
       "2         2  Chinese dam firm 'defies Beijing'\\n\\nThe China...      business   \n",
       "3         3  Wenger offers Mutu hope\\n\\nArsenal boss Arsene...         sport   \n",
       "4         4  Gerrard happy at Anfield\\n\\nLiverpool captain ...         sport   \n",
       "..      ...                                                ...           ...   \n",
       "95       95  Who do you think you are?\\n\\nThe real danger i...          tech   \n",
       "96       96  Koubek suspended after drugs test\\n\\nStefan Ko...         sport   \n",
       "97       97  China 'blocks Google news site'\\n\\nChina has b...          tech   \n",
       "98       98  Leeds v Saracens (Fri)\\n\\nHeadingley\\n\\nFriday...         sport   \n",
       "99       99  Seamen sail into biometric future\\n\\nThe luxur...          tech   \n",
       "\n",
       "   replicated_code model_code  \\\n",
       "0            sport      sport   \n",
       "1            sport      sport   \n",
       "2         business   politics   \n",
       "3            sport      sport   \n",
       "4            sport      sport   \n",
       "..             ...        ...   \n",
       "95            tech       tech   \n",
       "96           sport      sport   \n",
       "97        politics   politics   \n",
       "98           sport      sport   \n",
       "99            tech       tech   \n",
       "\n",
       "                                               reason  \n",
       "0   This news story is about a rugby player, Mike ...  \n",
       "1   The text is reporting on a tennis tournament, ...  \n",
       "2   This news story is about a Chinese company def...  \n",
       "3   This news story is about a football player who...  \n",
       "4   The article is about Liverpool captain Steven ...  \n",
       "..                                                ...  \n",
       "95  The article discusses the dangers of data thef...  \n",
       "96  The news story is about a tennis player, Stefa...  \n",
       "97  This news story is about China's censorship of...  \n",
       "98  The text is reporting on a rugby match between...  \n",
       "99  The article discusses the use of biometric tec...  \n",
       "\n",
       "[98 rows x 6 columns]"
      ]
     },
     "execution_count": 10,
     "metadata": {},
     "output_type": "execute_result"
    }
   ],
   "source": [
    "import pandas as pd\n",
    "import numpy as np\n",
    "import matplotlib.pyplot as plt\n",
    "from dotenv import load_dotenv\n",
    "import os\n",
    "import requests\n",
    "from sklearn.metrics import accuracy_score, cohen_kappa_score, confusion_matrix\n",
    "import re\n",
    "from tqdm import tqdm\n",
    "import time\n",
    "df = pd.read_csv('Data/bbc_news_reasons.csv')\n",
    "# Drop all rows that contain any missing values\n",
    "df = df.dropna()\n",
    "df.reset_index\n",
    "\n",
    "# Check the DataFrame after dropping rows with missing values\n",
    "df"
   ]
  },
  {
   "cell_type": "code",
   "execution_count": 5,
   "metadata": {},
   "outputs": [
    {
     "name": "stdout",
     "output_type": "stream",
     "text": [
      "Processing 98 unprocessed rows...\n"
     ]
    },
    {
     "name": "stderr",
     "output_type": "stream",
     "text": [
      "  1%|          | 1/98 [00:10<16:19, 10.10s/it]"
     ]
    },
    {
     "name": "stdout",
     "output_type": "stream",
     "text": [
      "\n",
      "Raw model output: Code: politics\n",
      "Reason: The text discusses a specific player (Mike Tindall) and his contract negotiations with a sports club (Bath), which is tied to the sport of rugby, but the main focus is on the agent's warning about potential defection due to the club's unwillingness to meet the player's demands. This issue is related to the broader topic of politics in the context of club management and ownership, making it a relevant category under \"politics\".\n"
     ]
    },
    {
     "name": "stderr",
     "output_type": "stream",
     "text": [
      "  2%|▏         | 2/98 [00:14<10:53,  6.81s/it]"
     ]
    },
    {
     "name": "stdout",
     "output_type": "stream",
     "text": [
      "\n",
      "Raw model output: Code: sports\n",
      "Reason: The text primarily focuses on tennis events, including matches between players such as Andy Roddick, Andre Agassi, Jurgen Melzer, Xavier Malisse, Hyung-Taik Lee, Cyril Saulnier, and Tomas Zib, which suggests that it is about sporting activities.\n"
     ]
    },
    {
     "name": "stderr",
     "output_type": "stream",
     "text": [
      "  3%|▎         | 3/98 [00:20<09:59,  6.31s/it]"
     ]
    },
    {
     "name": "stdout",
     "output_type": "stream",
     "text": [
      "\n",
      "Raw model output: Code: politics\n",
      "Reason: The text primarily focuses on government actions and policies related to China's State Environmental Protection Agency (Sepa), the Chinese government's efforts to cool the country's booming economy, and the builder of the Three Gorges Dam's non-compliance with regulations. These themes are indicative of broader political issues and governance in China, making \"politics\" a suitable category for this text.\n"
     ]
    },
    {
     "name": "stderr",
     "output_type": "stream",
     "text": [
      "  4%|▍         | 4/98 [00:26<09:53,  6.31s/it]"
     ]
    },
    {
     "name": "stdout",
     "output_type": "stream",
     "text": [
      "\n",
      "Raw model output: Code: politics\n",
      "Reason: The text discusses the actions of Chelsea FC in relation to their player Adrian Mutu, particularly the decision to sack him before his case was heard by the Football Association. This includes the club's stance on Mutu's punishment and their public announcement of the sacking, which has sparked criticism from the Professional Footballers' Association. The context suggests that the issue is related to governance and management in a professional sports organization, indicating a strong connection to political or administrative actions within the football industry.\n"
     ]
    },
    {
     "name": "stderr",
     "output_type": "stream",
     "text": [
      "  5%|▌         | 5/98 [00:34<10:25,  6.72s/it]"
     ]
    },
    {
     "name": "stdout",
     "output_type": "stream",
     "text": [
      "\n",
      "Raw model output: Code: politics\n",
      "Reason: The article discusses Liverpool captain Steven Gerrard's desire to stay at Anfield and win trophies with the club, as well as his reported interest from Chelsea. This indicates that Gerrard is being scouted by another football club, which implies a transfer situation involving the government and international relations (in this case, England). Additionally, the conversation between Liverpool boss Rafael Benitez and Gerrard about winning titles and making the squad stronger for him also touches on governance and managerial decisions within the club, further solidifying the classification as politics-related content.\n"
     ]
    },
    {
     "name": "stderr",
     "output_type": "stream",
     "text": [
      "  6%|▌         | 6/98 [00:38<09:20,  6.09s/it]"
     ]
    },
    {
     "name": "stdout",
     "output_type": "stream",
     "text": [
      "\n",
      "Raw model output: Code: sport\n",
      "Reason: The majority of the text is focused on athletic events, such as the Fayetteville Invitational meeting, where teenagers and Olympic athletes competed in various track and field events, including indoor 400m and 3000m races, with times being mentioned for both men's and women's categories.\n"
     ]
    },
    {
     "name": "stderr",
     "output_type": "stream",
     "text": [
      "  7%|▋         | 7/98 [00:46<10:04,  6.64s/it]"
     ]
    },
    {
     "name": "stdout",
     "output_type": "stream",
     "text": [
      "\n",
      "Raw model output: Code: politics\n",
      "Reason: The article discusses the match-winning kick by Gavin Henson in Wales' victory over England, but it also mentions the broader implications of this win on Welsh rugby and international relations. For example, the coach Mike Ruddock talks about people wanting to see Wales back at the top table of world rugby, which suggests that the country's performance has a national and global impact. Additionally, the article mentions upcoming away fixtures against Italy, France, and Scotland, indicating that Wales' success will influence their position in international competitions.\n"
     ]
    },
    {
     "name": "stderr",
     "output_type": "stream",
     "text": [
      "  8%|▊         | 8/98 [00:52<09:18,  6.21s/it]"
     ]
    },
    {
     "name": "stdout",
     "output_type": "stream",
     "text": [
      "\n",
      "Raw model output: Code: politics\n",
      "Reason: The vast majority of the text revolves around the discussion and debate surrounding a bill in Parliament regarding euthanasia laws, specifically the Mental Capacity Bill, which indicates that this is a matter of politics.\n"
     ]
    },
    {
     "name": "stderr",
     "output_type": "stream",
     "text": [
      "  9%|▉         | 9/98 [00:57<08:50,  5.97s/it]"
     ]
    },
    {
     "name": "stdout",
     "output_type": "stream",
     "text": [
      "\n",
      "Raw model output: Code: politics\n",
      "Reason: The article focuses on the reaction of a British Muslim group (the Muslim Council of Britain) to a TV drama series (24) that they claim portrays Islam unfairly, which is a clear example of public criticism and complaint towards a broadcasting decision. The group's involvement with Sky executives, their statement to the media, and their complaint to Ofcom all indicate that the controversy surrounding the series is a politicized issue.\n"
     ]
    },
    {
     "name": "stderr",
     "output_type": "stream",
     "text": [
      " 10%|█         | 10/98 [01:01<08:02,  5.49s/it]"
     ]
    },
    {
     "name": "stdout",
     "output_type": "stream",
     "text": [
      "\n",
      "Raw model output: Code: entertainment\n",
      "Reason: The text mentions Cat Deeley dropping CD:UK, which is a children's music show, and that she has hosted other shows such as Stars In Their Eyes, suggesting that her main profession is in the entertainment industry. Additionally, the mention of winning a Children's Bafta award for best presenter further reinforces this categorization.\n"
     ]
    },
    {
     "name": "stderr",
     "output_type": "stream",
     "text": [
      " 11%|█         | 11/98 [01:05<07:10,  4.95s/it]"
     ]
    },
    {
     "name": "stdout",
     "output_type": "stream",
     "text": [
      "\n",
      "Raw model output: Code: politics\n",
      "Reason: The text focuses on a politician (George Galloway) making an appeal for the release of another individual (Margaret Hassan), who was kidnapped in Iraq, indicating a situation involving government, politics, and international relations.\n"
     ]
    },
    {
     "name": "stderr",
     "output_type": "stream",
     "text": [
      " 12%|█▏        | 12/98 [01:11<07:31,  5.25s/it]"
     ]
    },
    {
     "name": "stdout",
     "output_type": "stream",
     "text": [
      "\n",
      "Raw model output: Code: politics\n",
      "Reason: The article mentions government, elections, political parties, policies, or international relations as it discusses the World Economic Forum (WEF), which meets in Davos, Switzerland, next week, and highlights issues like business commitment to addressing HIV/AIDS, social responsibility, and non-discrimination.\n"
     ]
    },
    {
     "name": "stderr",
     "output_type": "stream",
     "text": [
      " 13%|█▎        | 13/98 [01:16<07:28,  5.27s/it]"
     ]
    },
    {
     "name": "stdout",
     "output_type": "stream",
     "text": [
      "\n",
      "Raw model output: Code: tech\n",
      "Reason: The text discusses various aspects of technology, such as web commerce, broadband, desktop search, and personalization in search engines, indicating a strong focus on technological advancements and innovations in the field.\n"
     ]
    },
    {
     "name": "stderr",
     "output_type": "stream",
     "text": [
      " 14%|█▍        | 14/98 [01:24<08:12,  5.86s/it]"
     ]
    },
    {
     "name": "stdout",
     "output_type": "stream",
     "text": [
      "\n",
      "Raw model output: Code: business\n",
      "Reason: The article mentions Arthur Hailey's bestselling novels exploring various industries, such as hotels, high finance, and the pharmaceutical industry, which suggests that his work is closely tied to the world of business. Additionally, it highlights how his novels were adapted into successful films and television productions, indicating a significant financial impact on his career.\n"
     ]
    },
    {
     "name": "stderr",
     "output_type": "stream",
     "text": [
      " 15%|█▌        | 15/98 [01:29<07:58,  5.77s/it]"
     ]
    },
    {
     "name": "stdout",
     "output_type": "stream",
     "text": [
      "\n",
      "Raw model output: Code: sports\n",
      "Reason: This article is primarily about a running race, specifically the results of the 51st Cross International Zornotza in Amorebieta, Spain, where Benita Johnson won and Kathy Butler and Hayley Yelling finished fourth and fifth. The language used to describe the event, such as \"romped to a five-second victory\", \"clocked a time of 22 minutes 45 seconds\", and \"will be one of the star attractions\" further emphasizes its focus on sports.\n"
     ]
    },
    {
     "name": "stderr",
     "output_type": "stream",
     "text": [
      " 16%|█▋        | 16/98 [01:33<07:02,  5.15s/it]"
     ]
    },
    {
     "name": "stdout",
     "output_type": "stream",
     "text": [
      "\n",
      "Raw model output: Code: tech\n",
      "Reason: The text discusses a graduate student's software development project that translates colors into musical notes, indicating advancements in technology and innovation in the field of computer graphics and programming.\n"
     ]
    },
    {
     "name": "stderr",
     "output_type": "stream",
     "text": [
      " 17%|█▋        | 17/98 [01:38<06:52,  5.09s/it]"
     ]
    },
    {
     "name": "stdout",
     "output_type": "stream",
     "text": [
      "\n",
      "Raw model output: Code: politics\n",
      "Reason: This news story is primarily focused on the corruption scandal within Cameroon's finance ministry and the government's efforts to address it, which falls under the category of politics. The mention of the prime minister, his office, and the government's plans for audits and punishments all point to a political issue, making this the most relevant code.\n"
     ]
    },
    {
     "name": "stderr",
     "output_type": "stream",
     "text": [
      " 18%|█▊        | 18/98 [01:44<07:20,  5.50s/it]"
     ]
    },
    {
     "name": "stdout",
     "output_type": "stream",
     "text": [
      "\n",
      "Raw model output: Code: politics\n",
      "Reason: This news article discusses the decisions made by Wales coach Mike Ruddock regarding the release of international stars for regional Celtic League fixtures, including a discussion about the benefits of rest for the players, opposition from some teams, and quotes from captain Jason Forster and players like Gareth Cooper. The article touches on issues related to player management, team dynamics, and the potential impact on performances in upcoming games, all of which are relevant to the politics surrounding sports management and team decision-making.\n"
     ]
    },
    {
     "name": "stderr",
     "output_type": "stream",
     "text": [
      " 19%|█▉        | 19/98 [01:48<06:40,  5.07s/it]"
     ]
    },
    {
     "name": "stdout",
     "output_type": "stream",
     "text": [
      "\n",
      "Raw model output: Code: politics\n",
      "Reason: The article primarily focuses on a speech by Charles Kennedy, the leader of the Liberal Democrats, where he addresses ethnic minority voters and discusses topics related to government policies, international relations, and human rights, indicating that the article is centered around political issues.\n"
     ]
    },
    {
     "name": "stderr",
     "output_type": "stream",
     "text": [
      " 20%|██        | 20/98 [01:54<06:54,  5.31s/it]"
     ]
    },
    {
     "name": "stdout",
     "output_type": "stream",
     "text": [
      "\n",
      "Raw model output: Code: politics\n",
      "Reason: This annotation is coded as \"politics\" because the majority of the text revolves around government plans, civil service job cuts, and labor disputes between the TUC and PCS unions, all of which are related to the functioning of public services and governance. The language used by Brendan Barber, the General Secretary of the TUC, also reinforces this interpretation, as he discusses the impact of job cuts on public sector reforms and the government's policies.\n"
     ]
    },
    {
     "name": "stderr",
     "output_type": "stream",
     "text": [
      " 21%|██▏       | 21/98 [02:00<07:05,  5.52s/it]"
     ]
    },
    {
     "name": "stdout",
     "output_type": "stream",
     "text": [
      "\n",
      "Raw model output: Code: politics\n",
      "Reason: This BBC news story focuses on the visit of Pakistani President Gen Musharraf to Britain, including his meetings with Prime Minister Tony Blair and other discussions about terrorism, the war on terror, and international relations. The tone and content of the article suggest a strong political undertone, making \"politics\" the most suitable code for this annotation.\n"
     ]
    },
    {
     "name": "stderr",
     "output_type": "stream",
     "text": [
      " 22%|██▏       | 22/98 [02:05<06:38,  5.24s/it]"
     ]
    },
    {
     "name": "stdout",
     "output_type": "stream",
     "text": [
      "\n",
      "Raw model output: Code: sports\n",
      "Reason: The text primarily discusses a rugby match between Ireland and the USA, with detailed information about the teams, players, coaches, and strategies involved, indicating that it falls under the category of sports.\n"
     ]
    },
    {
     "name": "stderr",
     "output_type": "stream",
     "text": [
      " 23%|██▎       | 23/98 [02:09<06:20,  5.08s/it]"
     ]
    },
    {
     "name": "stdout",
     "output_type": "stream",
     "text": [
      "\n",
      "Raw model output: Code: politics\n",
      "Reason: The text primarily discusses government policies, decisions made by politicians (e.g. \"Minister for Children, Young People and Families Margaret Hodge\"), and proposals being put forward to amend the Children Bill, all of which fall under the category of politics.\n"
     ]
    },
    {
     "name": "stderr",
     "output_type": "stream",
     "text": [
      " 24%|██▍       | 24/98 [02:14<06:13,  5.05s/it]"
     ]
    },
    {
     "name": "stdout",
     "output_type": "stream",
     "text": [
      "\n",
      "Raw model output: Code: politics\n",
      "Reason: The majority of the text revolves around Michael Howard's public statements, responses to criticisms, and his political image, which suggests that the story falls under the category of politics.\n"
     ]
    },
    {
     "name": "stderr",
     "output_type": "stream",
     "text": [
      " 26%|██▌       | 25/98 [02:18<05:26,  4.48s/it]"
     ]
    },
    {
     "name": "stdout",
     "output_type": "stream",
     "text": [
      "\n",
      "Raw model output: Code: entertainment\n",
      "Reason: The text is primarily focused on a celebrity, Harry Connick Jr, and his upcoming role in a Broadway show, which suggests that the article falls under the category of entertainment news.\n"
     ]
    },
    {
     "name": "stderr",
     "output_type": "stream",
     "text": [
      " 27%|██▋       | 26/98 [02:21<05:02,  4.20s/it]"
     ]
    },
    {
     "name": "stdout",
     "output_type": "stream",
     "text": [
      "\n",
      "Raw model output: Code: business\n",
      "Reason: The article discusses UK house prices, which is an economic issue related to companies (e.g., Land Registry), financial markets (e.g., prices), and industry trends (e.g., slowdown in housing market).\n"
     ]
    },
    {
     "name": "stderr",
     "output_type": "stream",
     "text": [
      " 28%|██▊       | 27/98 [02:27<05:23,  4.55s/it]"
     ]
    },
    {
     "name": "stdout",
     "output_type": "stream",
     "text": [
      "\n",
      "Raw model output: Code: politics\n",
      "Reason: The majority of the text discusses government actions and policies related to Alitalia's restructuring plan, including the European Commission's investigation into potential state aid, the Italian government's provision of a loan to Alitalia, and EU regulations governing state aid. These topics are all central to understanding the political context surrounding Alitalia's financial struggles and its relationship with the EU.\n"
     ]
    },
    {
     "name": "stderr",
     "output_type": "stream",
     "text": [
      " 29%|██▊       | 28/98 [02:33<05:56,  5.09s/it]"
     ]
    },
    {
     "name": "stdout",
     "output_type": "stream",
     "text": [
      "\n",
      "Raw model output: Code: business\n",
      "Reason: The majority of the article discusses financial transactions and deals between companies, such as Verizon's acquisition of MCI, Qwest's potential bid for MCI, and SBC Communications' purchase of AT&T. This includes details about mergers, acquisitions, market values, debt levels, and regulatory scrutiny related to the telecoms industry, all of which are central to understanding the business landscape.\n"
     ]
    },
    {
     "name": "stderr",
     "output_type": "stream",
     "text": [
      " 30%|██▉       | 29/98 [02:37<05:25,  4.72s/it]"
     ]
    },
    {
     "name": "stdout",
     "output_type": "stream",
     "text": [
      "\n",
      "Raw model output: Code: business\n",
      "Reason: The text primarily discusses economic indicators such as industrial output growth, production rates, job growth, and consumer optimism, which are all relevant to the field of business and financial markets.\n"
     ]
    },
    {
     "name": "stderr",
     "output_type": "stream",
     "text": [
      " 31%|███       | 30/98 [02:42<05:40,  5.00s/it]"
     ]
    },
    {
     "name": "stdout",
     "output_type": "stream",
     "text": [
      "\n",
      "Raw model output: Code: politics\n",
      "Reason: The majority of the text revolves around political events, including the election campaign posters, Labour's response to Tory claims, and the debate over whether the posters were anti-Semitic. The conversation between Alan Milburn and Julian Lewis is centered on the party's strategy and tactics, making it clear that the primary focus is on politics.\n"
     ]
    },
    {
     "name": "stderr",
     "output_type": "stream",
     "text": [
      " 32%|███▏      | 31/98 [02:49<06:08,  5.50s/it]"
     ]
    },
    {
     "name": "stdout",
     "output_type": "stream",
     "text": [
      "\n",
      "Raw model output: Code: politics\n",
      "Reason: The article discusses various political elements, including the power struggle between Philippe Camus and Noel Forgeard, their roles within EADS, and the reactions of French finance minister Herve Gaymard to the infighting. Additionally, the departure of Mr. Camus is tied to his return to the Lagardere group, which is a significant shareholder of EADS, indicating a shift in governance and influence within the company, which is closely related to political dynamics.\n"
     ]
    },
    {
     "name": "stderr",
     "output_type": "stream",
     "text": [
      " 33%|███▎      | 32/98 [02:54<05:52,  5.34s/it]"
     ]
    },
    {
     "name": "stdout",
     "output_type": "stream",
     "text": [
      "\n",
      "Raw model output: Code: business\n",
      "Reason: I chose this code because the text discusses the British Phonographic Industry (BPI) launching a campaign to help independent labels get their music online and benefit from growing trends in downloading music, which is related to financial markets and economic issues. The BPI's efforts are focused on promoting independent releases and assisting its members, indicating that the story is related to companies and industry trends in the music industry.\n"
     ]
    },
    {
     "name": "stderr",
     "output_type": "stream",
     "text": [
      " 34%|███▎      | 33/98 [03:02<06:40,  6.15s/it]"
     ]
    },
    {
     "name": "stdout",
     "output_type": "stream",
     "text": [
      "\n",
      "Raw model output: Code: politics\n",
      "Reason: The majority of the text discusses the re-election of George Bush as US president, the reaction of Tony Blair and other politicians to this event, and the implications for international relations, global terrorism, and climate change, all of which are closely related to political issues. Specifically, the text mentions Mr Blair's congratulations to President Bush, his comments on the need for cooperation with the US to combat terrorism, and the reactions of various British politicians to the election result, indicating a strong focus on politics and international relations.\n"
     ]
    },
    {
     "name": "stderr",
     "output_type": "stream",
     "text": [
      " 35%|███▍      | 34/98 [03:08<06:20,  5.94s/it]"
     ]
    },
    {
     "name": "stdout",
     "output_type": "stream",
     "text": [
      "\n",
      "Raw model output: Code: politics\n",
      "Reason: The text primarily discusses the House of Lords, its reform, and the role of the Speaker, indicating that it falls under the category of politics. Baroness Boothroyd's comments on the need for a clear outcome in reforms, Lord Falconer's discussion on the interaction between the Lords and Commons, and the lord chancellor's current role as House of Lords speaker all point to a political context.\n"
     ]
    },
    {
     "name": "stderr",
     "output_type": "stream",
     "text": [
      " 36%|███▌      | 35/98 [03:14<06:24,  6.11s/it]"
     ]
    },
    {
     "name": "stdout",
     "output_type": "stream",
     "text": [
      "\n",
      "Raw model output: Code: entertainment\n",
      "Reason: This news story is about a poll of the best British rock albums of all time, specifically the top 10 list compiled by Kerrang! magazine readers, which includes artists such as Black Sabbath, Led Zeppelin, and Queen, among others. The language used to describe the list and its contents, including phrases like \"amazing\" and \"incredible homegrown albums\", also suggests a focus on music and entertainment.\n"
     ]
    },
    {
     "name": "stderr",
     "output_type": "stream",
     "text": [
      " 37%|███▋      | 36/98 [03:19<06:00,  5.81s/it]"
     ]
    },
    {
     "name": "stdout",
     "output_type": "stream",
     "text": [
      "\n",
      "Raw model output: Code: sports\n",
      "Reason: This article primarily discusses athletic events, including James McIlroy's participation in the Spar European Indoor Championships, his performances, and his goal to win a major title, indicating that it falls under the category of sports.\n"
     ]
    },
    {
     "name": "stderr",
     "output_type": "stream",
     "text": [
      " 38%|███▊      | 37/98 [03:23<05:11,  5.10s/it]"
     ]
    },
    {
     "name": "stdout",
     "output_type": "stream",
     "text": [
      "\n",
      "Raw model output: Code: politics\n",
      "Reason: The text primarily discusses political parties, their strategies in the upcoming election, and the importance of older voters' turnout, indicating that it is a news article related to government and elections.\n"
     ]
    },
    {
     "name": "stderr",
     "output_type": "stream",
     "text": [
      " 39%|███▉      | 38/98 [03:28<05:12,  5.21s/it]"
     ]
    },
    {
     "name": "stdout",
     "output_type": "stream",
     "text": [
      "\n",
      "Raw model output: Code: protest\n",
      "Reason: The article reports on violent clashes, anti-hunt protests, and arrests of hunt supporters suspected of breaking the law, indicating a strong presence of protesters opposing the ban on hunting with dogs.\n"
     ]
    },
    {
     "name": "stderr",
     "output_type": "stream",
     "text": [
      " 40%|███▉      | 39/98 [03:33<05:10,  5.27s/it]"
     ]
    },
    {
     "name": "stdout",
     "output_type": "stream",
     "text": [
      "\n",
      "Raw model output: Code: entertainment\n",
      "Reason: The article discusses music download networks and the legitimacy of file-sharing, which is related to the music industry and cultural events, making it a topic in the entertainment category.\n"
     ]
    },
    {
     "name": "stderr",
     "output_type": "stream",
     "text": [
      " 41%|████      | 40/98 [03:39<05:04,  5.25s/it]"
     ]
    },
    {
     "name": "stdout",
     "output_type": "stream",
     "text": [
      "\n",
      "Raw model output: Code: sports\n",
      "Reason: The majority of the text discusses tennis matches, players, and championships (e.g., \"Dubai Championships\", \"US Open champion\", \"WTA tournament win\", \"Svetlana Kuznetsova\", \"Alicia Molik\"), indicating that the primary focus is on sporting events and activities.\n"
     ]
    },
    {
     "name": "stderr",
     "output_type": "stream",
     "text": [
      " 42%|████▏     | 41/98 [04:07<11:38, 12.26s/it]"
     ]
    },
    {
     "name": "stdout",
     "output_type": "stream",
     "text": [
      "\n",
      "Raw model output: This text appears to be a collection of online comments from various individuals responding to the 2005 Brit Awards, where Joss Stone won an award in the \"Urban\" category. The comments express a range of opinions on the use of the term \"urban\" to describe music genres and artists.\n",
      "\n",
      "Some common themes among the comments include:\n",
      "\n",
      "1. Criticism of the term \"urban\": Many commenters argue that the term is meaningless, oversimplifies complex musical styles, or even racist.\n",
      "2. Support for Joss Stone: Several people express admiration for her talent and voice, regardless of the category she won in.\n",
      "3. Disillusionment with awards ceremonies: Some commenters feel that the Brit Awards are arbitrary and politicized, with winners chosen based on marketing rather than artistic merit.\n",
      "4. Celebration of diversity: A few commenters argue that music genres should be celebrated without labels or categories, and that the term \"urban\" is a form of tokenism.\n",
      "5. Personal perspectives: Some commenters share their own experiences as artists or music fans, highlighting how the term \"urban\" does not accurately reflect their own musical styles.\n",
      "\n",
      "Some quotes from the comments that summarize these themes include:\n",
      "\n",
      "* \"Urban is PC version for saying black music.\"\n",
      "* \"Why does music have to be put into a genre?\"\n",
      "* \"It's music, you like it or you don't. Simple as that.\"\n",
      "* \"The real question is would Joss Stone would have been that successful doing the music she was doing if she were black?\"\n",
      "\n",
      "Overall, the comments demonstrate a lively and often humorous discussion about the Brit Awards, the term \"urban\", and the complexities of categorizing music genres.\n"
     ]
    },
    {
     "name": "stderr",
     "output_type": "stream",
     "text": [
      " 43%|████▎     | 42/98 [04:14<09:45, 10.46s/it]"
     ]
    },
    {
     "name": "stdout",
     "output_type": "stream",
     "text": [
      "\n",
      "Raw model output: Code: politics\n",
      "Reason: The majority of the article focuses on economic issues, government policies, and the budget, indicating a strong political theme. Chancellor Gordon Brown, Oliver Letwin, and Jonathan Loynes are all politicians or government officials, and the discussion of the golden rule, taxation, and the national coffers further reinforces the political nature of the text.\n"
     ]
    },
    {
     "name": "stderr",
     "output_type": "stream",
     "text": [
      " 44%|████▍     | 43/98 [04:18<07:52,  8.59s/it]"
     ]
    },
    {
     "name": "stdout",
     "output_type": "stream",
     "text": [
      "\n",
      "Raw model output: Code: sports\n",
      "Reason: The text primarily discusses FIFA awards, including the World Player of the Year award and the women's award, which indicates a strong focus on sporting events and athletes. Additionally, terms such as \"Fifa\", \"European Footballer of the Year\", and \"national team\" suggest that the article is centered around sports-related content.\n"
     ]
    },
    {
     "name": "stderr",
     "output_type": "stream",
     "text": [
      " 45%|████▍     | 44/98 [04:22<06:33,  7.28s/it]"
     ]
    },
    {
     "name": "stdout",
     "output_type": "stream",
     "text": [
      "\n",
      "Raw model output: Code: politics\n",
      "Reason: The text discusses Aston Villa's Thomas Hitzlsperger waiting to learn the future of manager David O'Leary and his contract negotiations, which implies that the management of the football club is a matter of political power and decision-making, with O'Leary holding a position of authority over the team.\n"
     ]
    },
    {
     "name": "stderr",
     "output_type": "stream",
     "text": [
      " 46%|████▌     | 45/98 [04:26<05:34,  6.31s/it]"
     ]
    },
    {
     "name": "stdout",
     "output_type": "stream",
     "text": [
      "\n",
      "Raw model output: Code: business\n",
      "Reason: The article discusses Microsoft's launch of MSN Spaces, a blogging service, and its competition with existing services like Google Blogger and AOL Journals, indicating the company's involvement in the financial market (industry trends) or economic issue (the rise of blogging as a web phenomenon).\n"
     ]
    },
    {
     "name": "stderr",
     "output_type": "stream",
     "text": [
      " 47%|████▋     | 46/98 [04:32<05:18,  6.12s/it]"
     ]
    },
    {
     "name": "stdout",
     "output_type": "stream",
     "text": [
      "\n",
      "Raw model output: Code: tech\n",
      "Reason: The text primarily discusses the development and launch of a new screensaver tool by Lycos, which is a technology advancement aimed at combating spam websites. The focus on internet technologies, such as bandwidth bills and data requests, further solidifies this categorization.\n"
     ]
    },
    {
     "name": "stderr",
     "output_type": "stream",
     "text": [
      " 48%|████▊     | 47/98 [04:37<05:03,  5.96s/it]"
     ]
    },
    {
     "name": "stdout",
     "output_type": "stream",
     "text": [
      "\n",
      "Raw model output: Code: politics\n",
      "Reason: The majority of the text focuses on government efforts to overturn a court ruling, including a meeting in 1953 where executives from major tobacco firms allegedly agreed to deny the harmful effects of smoking. This is a clear example of political activity and government attempts to regulate the industry, making \"politics\" the most relevant code for this annotation.\n"
     ]
    },
    {
     "name": "stderr",
     "output_type": "stream",
     "text": [
      " 49%|████▉     | 48/98 [04:43<05:01,  6.02s/it]"
     ]
    },
    {
     "name": "stdout",
     "output_type": "stream",
     "text": [
      "\n",
      "Raw model output: Code: politics\n",
      "Reason: The text primarily discusses government policies and initiatives related to education and literacy, including targets for improving adult maths and literacy skills, the Get On scheme, and the impact on the economy. These topics are all closely tied to political issues and decision-making, making it a clear fit for the \"politics\" category.\n"
     ]
    },
    {
     "name": "stderr",
     "output_type": "stream",
     "text": [
      " 50%|█████     | 49/98 [04:49<04:52,  5.98s/it]"
     ]
    },
    {
     "name": "stdout",
     "output_type": "stream",
     "text": [
      "\n",
      "Raw model output: Code: business\n",
      "Reason: The text is primarily focused on companies, financial markets, economic issues, or industry trends, as evident from the discussion about General Motors (GM) and Ford cutting output due to falling car sales, and Toyota's strong results for its redesigned Avalon sedan and gas-electric Prius hybrid mid-size sedan.\n"
     ]
    },
    {
     "name": "stderr",
     "output_type": "stream",
     "text": [
      " 51%|█████     | 50/98 [04:56<04:52,  6.09s/it]"
     ]
    },
    {
     "name": "stdout",
     "output_type": "stream",
     "text": [
      "\n",
      "Raw model output: Code: politics\n",
      "Reason: The article discusses a court case involving Jayanti Amarishi Buhecha, who was found guilty of two trademark offences related to the distribution of pirated Bollywood DVDs, and his subsequent sentencing. Although the specific details of the case involve business and economic issues (such as copyright infringement), the primary focus of the article is on the legal proceedings and the government's involvement in the case, making it a relevant example for the politics code.\n"
     ]
    },
    {
     "name": "stderr",
     "output_type": "stream",
     "text": [
      " 52%|█████▏    | 51/98 [05:03<05:04,  6.49s/it]"
     ]
    },
    {
     "name": "stdout",
     "output_type": "stream",
     "text": [
      "\n",
      "Raw model output: Code: politics\n",
      "Reason: The article primarily focuses on government policies, laws, and announcements related to anti-social behavior, such as the launch of new pilot areas, the expansion of special prosecutors, and the strengthening of Asbo use. Additionally, it mentions the Prime Minister's speech, the Home Office Minister's comments, and the debate about the effectiveness of initiatives to tackle nuisance behavior, all of which indicate a strong political context.\n"
     ]
    },
    {
     "name": "stderr",
     "output_type": "stream",
     "text": [
      " 53%|█████▎    | 52/98 [05:08<04:36,  6.01s/it]"
     ]
    },
    {
     "name": "stdout",
     "output_type": "stream",
     "text": [
      "\n",
      "Raw model output: Code: business\n",
      "Reason: This article is primarily focused on the financial performance of a company, UK Coal, including its reported losses, revenue, and operational changes. The text discusses the company's efforts to address \"operating flaws\" and improve earnings, as well as its plans for future growth, making it clear that the article is centered around business-related information.\n"
     ]
    },
    {
     "name": "stderr",
     "output_type": "stream",
     "text": [
      " 54%|█████▍    | 53/98 [05:12<04:08,  5.51s/it]"
     ]
    },
    {
     "name": "stdout",
     "output_type": "stream",
     "text": [
      "\n",
      "Raw model output: Code: politics\n",
      "Reason: The text primarily discusses a proposal for a \"super union\" between two trade unions, the Transport and General Workers Union (TGWU) and Amicus, which would require approval from their executives and membership. This indicates that the topic is related to government and labor policies, making it a suitable fit under the politics code.\n"
     ]
    },
    {
     "name": "stderr",
     "output_type": "stream",
     "text": [
      " 55%|█████▌    | 54/98 [05:18<04:04,  5.55s/it]"
     ]
    },
    {
     "name": "stdout",
     "output_type": "stream",
     "text": [
      "\n",
      "Raw model output: Code: business\n",
      "Reason: The article primarily focuses on Boeing's new aircraft, its capabilities, and its plans to regain market share, which are all related to the company's business operations and financial performance, such as orders, production costs, and profits.\n"
     ]
    },
    {
     "name": "stderr",
     "output_type": "stream",
     "text": [
      " 56%|█████▌    | 55/98 [05:23<03:53,  5.43s/it]"
     ]
    },
    {
     "name": "stdout",
     "output_type": "stream",
     "text": [
      "\n",
      "Raw model output: Code: politics\n",
      "Reason: This text is primarily focused on the diplomatic efforts and agreements made by India, Pakistan, and the UK regarding the Kashmir region, including announcements about bus services, rail links, and talks to reduce nuclear risk. The mention of foreign ministers meeting in Islamabad and the statement from Foreign Secretary Jack Straw also indicates a strong political aspect to the news story.\n"
     ]
    },
    {
     "name": "stderr",
     "output_type": "stream",
     "text": [
      " 57%|█████▋    | 56/98 [05:28<03:40,  5.25s/it]"
     ]
    },
    {
     "name": "stdout",
     "output_type": "stream",
     "text": [
      "\n",
      "Raw model output: Code: politics\n",
      "Reason: The article primarily focuses on economic data and government responses to it, as well as mentions of a government minister (Heizo Takenaka) and an economist from Lehman Brothers (Paul Sheard), indicating a strong presence of political figures discussing economic issues. This suggests that the content is closely related to politics, specifically discussions around economic policy and recession concerns.\n"
     ]
    },
    {
     "name": "stderr",
     "output_type": "stream",
     "text": [
      " 58%|█████▊    | 57/98 [05:32<03:24,  4.99s/it]"
     ]
    },
    {
     "name": "stdout",
     "output_type": "stream",
     "text": [
      "\n",
      "Raw model output: Code: politics\n",
      "Reason: The text is primarily about Tony Blair's statement on David Blunkett's potential return to government, which implies that the events leading up to Blunkett's resignation are related to his role as former home secretary and are being discussed in the context of current Labour Party dynamics.\n"
     ]
    },
    {
     "name": "stderr",
     "output_type": "stream",
     "text": [
      " 59%|█████▉    | 58/98 [05:41<03:58,  5.96s/it]"
     ]
    },
    {
     "name": "stdout",
     "output_type": "stream",
     "text": [
      "\n",
      "Raw model output: Code: politics\n",
      "Reason: This article discusses England's rugby team and their performance in the Six Nations tournament, which includes information about the team's defeats, coach Andy Robinson's criticism of referee Jonathan Kaplan, and the team's potential complaints to the International Rugby Board. While sports news can sometimes touch on political themes (e.g., national pride), the primary focus of this article is on the politics of the rugby team's performance and its impact on their coaches and leaders, making it a clear fit for the \"politics\" category in the codebook.\n"
     ]
    },
    {
     "name": "stderr",
     "output_type": "stream",
     "text": [
      " 60%|██████    | 59/98 [05:44<03:19,  5.12s/it]"
     ]
    },
    {
     "name": "stdout",
     "output_type": "stream",
     "text": [
      "\n",
      "Raw model output: Code: sports\n",
      "Reason: The article primarily focuses on Martina Hingis's return to competitive tennis, specifically mentioning her upcoming match against Marlene Weingartner at the Volvo Women's Open in Pattaya, Thailand.\n"
     ]
    },
    {
     "name": "stderr",
     "output_type": "stream",
     "text": [
      " 61%|██████    | 60/98 [05:50<03:22,  5.33s/it]"
     ]
    },
    {
     "name": "stdout",
     "output_type": "stream",
     "text": [
      "\n",
      "Raw model output: Code: politics\n",
      "Reason: This code is assigned because the text primarily discusses government-related individuals (Alastair Campbell, Tony Blair), organizations (Downing Street, the government), and events (the general election), which are all central to political discourse. Additionally, the discussion of media relations and the need for a strategy to deal with public interest during the tour suggests that politics is playing a significant role in shaping the Lions' media approach.\n"
     ]
    },
    {
     "name": "stderr",
     "output_type": "stream",
     "text": [
      " 62%|██████▏   | 61/98 [05:55<03:16,  5.30s/it]"
     ]
    },
    {
     "name": "stdout",
     "output_type": "stream",
     "text": [
      "\n",
      "Raw model output: Code: politics\n",
      "Reason: The text primarily discusses government decisions, political parties, and policies, such as the IFA's original decision to eject Newry FC from the Nationwide Irish Cup, the appeal process, and the club's potential legal action against Bangor FC. The language used also implies a level of bureaucratic red tape and administrative processes typical of government actions, further solidifying the code assignment.\n"
     ]
    },
    {
     "name": "stderr",
     "output_type": "stream",
     "text": [
      " 63%|██████▎   | 62/98 [06:02<03:27,  5.78s/it]"
     ]
    },
    {
     "name": "stdout",
     "output_type": "stream",
     "text": [
      "\n",
      "Raw model output: Code: sports\n",
      "Reason: The text is predominantly focused on Irish athletics news, including athlete performances, competition results, and events such as the Olympics, British trials, and the Flora Lite 5K road race, which are all indicative of athletic pursuits.\n"
     ]
    },
    {
     "name": "stderr",
     "output_type": "stream",
     "text": [
      " 64%|██████▍   | 63/98 [06:05<02:54,  4.98s/it]"
     ]
    },
    {
     "name": "stdout",
     "output_type": "stream",
     "text": [
      "\n",
      "Raw model output: Code: entertainment\n",
      "Reason: The text primarily focuses on music-related topics, such as album releases, rankings, songwriting, and artist praise, indicating that it falls under the category of entertainment.\n"
     ]
    },
    {
     "name": "stderr",
     "output_type": "stream",
     "text": [
      " 65%|██████▌   | 64/98 [06:09<02:43,  4.82s/it]"
     ]
    },
    {
     "name": "stdout",
     "output_type": "stream",
     "text": [
      "\n",
      "Raw model output: Code: business\n",
      "Reason: I assigned the code 'business' to this text because it mentions a \"distributor\" (Toho) and a box office record, which are both indicators of financial performance and market trends. The fact that the film is being released in 50 countries around the world also suggests that there is significant commercial interest in the movie.\n"
     ]
    },
    {
     "name": "stderr",
     "output_type": "stream",
     "text": [
      " 66%|██████▋   | 65/98 [06:13<02:32,  4.61s/it]"
     ]
    },
    {
     "name": "stdout",
     "output_type": "stream",
     "text": [
      "\n",
      "Raw model output: Code: politics\n",
      "Reason: The text mentions a ruling by the European Court of Human Rights, specifically in relation to a libel action taken against two UK activists who were handing out leaflets criticizing McDonald's, indicating an involvement of government and human rights issues.\n"
     ]
    },
    {
     "name": "stderr",
     "output_type": "stream",
     "text": [
      " 67%|██████▋   | 66/98 [06:20<02:48,  5.27s/it]"
     ]
    },
    {
     "name": "stdout",
     "output_type": "stream",
     "text": [
      "\n",
      "Raw model output: Code: politics\n",
      "Reason: The text primarily discusses government actions, such as the Transportation Secretary Norman Mineta ordering an investigation into the travel chaos caused by US Airways and Comair, which indicates that it is related to government oversight and regulatory issues. Additionally, there are mentions of court-imposed pay cuts for ground crews at US Airways, indicating a legal and financial aspect of the airline's bankruptcy protection.\n"
     ]
    },
    {
     "name": "stderr",
     "output_type": "stream",
     "text": [
      " 68%|██████▊   | 67/98 [06:28<03:08,  6.07s/it]"
     ]
    },
    {
     "name": "stdout",
     "output_type": "stream",
     "text": [
      "\n",
      "Raw model output: Code: tech\n",
      "Reason: The text primarily discusses the evolution of malware, viruses, and criminal use of technology in a way that is relevant to the field of technology advancements, innovation, science, or tech companies. The language used, such as \"hi-tech thieves\", \"malicious programs\", \"defences against such attacks\", and \"computer crime\" suggests a focus on the technical aspects of these issues, indicating that this article falls under the category of tech.\n"
     ]
    },
    {
     "name": "stderr",
     "output_type": "stream",
     "text": [
      " 69%|██████▉   | 68/98 [06:33<02:48,  5.63s/it]"
     ]
    },
    {
     "name": "stdout",
     "output_type": "stream",
     "text": [
      "\n",
      "Raw model output: Code: entertainment\n",
      "Reason: The text primarily focuses on a musical event featuring Duran Duran, including interviews, concert footage, and promotions of their album and single. Although there are mentions of the band members' personal opinions and experiences, the central theme is the upcoming VH1 special and related activities, which falls under the category of entertainment.\n"
     ]
    },
    {
     "name": "stderr",
     "output_type": "stream",
     "text": [
      " 70%|███████   | 69/98 [06:41<03:04,  6.38s/it]"
     ]
    },
    {
     "name": "stdout",
     "output_type": "stream",
     "text": [
      "\n",
      "Raw model output: Code: tech\n",
      "Reason: The majority of the text discusses the development and capabilities of next-generation video games consoles, including their processing power, graphical capabilities, convergence technologies, and potential features such as real-world physics, immersive gameplay, and changes in distribution methods. This indicates a strong focus on technology advancements and innovations related to gaming.\n"
     ]
    },
    {
     "name": "stderr",
     "output_type": "stream",
     "text": [
      " 71%|███████▏  | 70/98 [06:46<02:44,  5.87s/it]"
     ]
    },
    {
     "name": "stdout",
     "output_type": "stream",
     "text": [
      "\n",
      "Raw model output: Code: business\n",
      "Reason: The text is primarily about Tate & Lyle, a company, its CEO Iain Ferguson, and its financial performance, including the return to growth and an increase in share value. The article also mentions the company's industry (sugar production) and its ranking on the FTSE 100 index, making it clearly related to business news and economic issues.\n"
     ]
    },
    {
     "name": "stderr",
     "output_type": "stream",
     "text": [
      " 72%|███████▏  | 71/98 [06:50<02:28,  5.50s/it]"
     ]
    },
    {
     "name": "stdout",
     "output_type": "stream",
     "text": [
      "\n",
      "Raw model output: Code: politics\n",
      "Reason: Many tweets, articles and news segments within this BBC news story are related to government policies, international relations, as well as comments made by contestants like Jackie Stallone and John McCririck regarding elections and public voting, which indicates that the overall topic is quite political.\n"
     ]
    },
    {
     "name": "stderr",
     "output_type": "stream",
     "text": [
      " 73%|███████▎  | 72/98 [06:56<02:24,  5.57s/it]"
     ]
    },
    {
     "name": "stdout",
     "output_type": "stream",
     "text": [
      "\n",
      "Raw model output: Code: politics\n",
      "Reason: The vast majority of the text revolves around political topics, including government plans, election strategies, and the roles of key figures like Gordon Brown and Tony Blair. Specifically, the discussion centers on the direction New Labour should be taking for its next general election bid, with Mr. Brown outlining his vision and Mr. Blair responding to questions about his role in the process.\n"
     ]
    },
    {
     "name": "stderr",
     "output_type": "stream",
     "text": [
      " 74%|███████▍  | 73/98 [07:00<02:07,  5.11s/it]"
     ]
    },
    {
     "name": "stdout",
     "output_type": "stream",
     "text": [
      "\n",
      "Raw model output: Code: politics\n",
      "Reason: The article mentions government (specifically, the European Cup and the Commonwealth Games) and discusses policies related to athletic competitions, indicating that the news is related to sports policy or international relations. This aligns with the \"politics\" code in the provided codebook.\n"
     ]
    },
    {
     "name": "stderr",
     "output_type": "stream",
     "text": [
      " 76%|███████▌  | 74/98 [07:05<02:06,  5.25s/it]"
     ]
    },
    {
     "name": "stdout",
     "output_type": "stream",
     "text": [
      "\n",
      "Raw model output: Code: politics\n",
      "Reason: The text primarily focuses on government policies, specifically housing plans and environmental issues, with quotes from Deputy Prime Minister John Prescott and Chairman of the Environmental Audit Committee Peter Ainsworth MP. The report's recommendations and criticisms also center around the government's actions, making it a clear example of news coverage related to politics.\n"
     ]
    },
    {
     "name": "stderr",
     "output_type": "stream",
     "text": [
      " 77%|███████▋  | 75/98 [07:10<01:57,  5.09s/it]"
     ]
    },
    {
     "name": "stdout",
     "output_type": "stream",
     "text": [
      "\n",
      "Raw model output: Code: business\n",
      "Reason: The text discusses US interest rates increasing to 2%, which is related to economic issues and financial markets, making it a relevant example of business news.\n"
     ]
    },
    {
     "name": "stderr",
     "output_type": "stream",
     "text": [
      " 78%|███████▊  | 76/98 [07:16<01:57,  5.34s/it]"
     ]
    },
    {
     "name": "stdout",
     "output_type": "stream",
     "text": [
      "\n",
      "Raw model output: Code: politics\n",
      "Reason: The majority of the text discusses the debates between Labour and the Tories regarding immigration policies, with quotes from prominent politicians such as Charles Clarke and Liam Fox. The language used is formal and informative, typical of news reporting in the politics category, and the content revolves around political parties' stances on specific issues.\n"
     ]
    },
    {
     "name": "stderr",
     "output_type": "stream",
     "text": [
      " 79%|███████▊  | 77/98 [07:23<02:01,  5.80s/it]"
     ]
    },
    {
     "name": "stdout",
     "output_type": "stream",
     "text": [
      "\n",
      "Raw model output: Code: entertainment\n",
      "Reason: I chose this code because the majority of the text discusses films, movie stars (e.g., Ben Stiller, Robert De Niro, Jim Carrey), and box office rankings, which are all relevant to the entertainment industry. The article specifically mentions film titles like \"Meet The Fockers\", \"White Noise\", \"The Aviator\", and \"Lemony Snicket's A Series of Unfortunate Events\", as well as movie takings and rankings, indicating that the content is primarily focused on entertainment news.\n"
     ]
    },
    {
     "name": "stderr",
     "output_type": "stream",
     "text": [
      " 80%|███████▉  | 78/98 [07:28<01:52,  5.63s/it]"
     ]
    },
    {
     "name": "stdout",
     "output_type": "stream",
     "text": [
      "\n",
      "Raw model output: Code: politics\n",
      "Reason: The article primarily focuses on government issues, specifically a security breach involving the US Bank's computer tapes containing account details of more than one million customers who are US federal employees. The story involves members of the US Senate, Senators Schumer and Leahy, and mentions the Secret Service investigating the loss, indicating a high level of political relevance and interest.\n"
     ]
    },
    {
     "name": "stderr",
     "output_type": "stream",
     "text": [
      " 81%|████████  | 79/98 [07:32<01:35,  5.00s/it]"
     ]
    },
    {
     "name": "stdout",
     "output_type": "stream",
     "text": [
      "\n",
      "Raw model output: Code: politics\n",
      "Reason: The article discusses a report by a Commons science and technology committee, which is a body of Members of Parliament, indicating that the topic is related to government and its policies, specifically regarding research councils and skills shortages.\n"
     ]
    },
    {
     "name": "stderr",
     "output_type": "stream",
     "text": [
      " 82%|████████▏ | 80/98 [07:36<01:24,  4.70s/it]"
     ]
    },
    {
     "name": "stdout",
     "output_type": "stream",
     "text": [
      "\n",
      "Raw model output: Code: politics\n",
      "Reason: The article primarily discusses Lib Dem leader Charles Kennedy's comments on Tony Blair's trust among the British people, which indicates that the discussion revolves around politics, government, and political leaders.\n"
     ]
    },
    {
     "name": "stderr",
     "output_type": "stream",
     "text": [
      " 83%|████████▎ | 81/98 [07:42<01:29,  5.28s/it]"
     ]
    },
    {
     "name": "stdout",
     "output_type": "stream",
     "text": [
      "\n",
      "Raw model output: Code: politics\n",
      "Reason: The vast majority of the text revolves around the personal and professional dynamics between Tony Blair and Gordon Brown, specifically their alleged rift and rival claims over credit for government initiatives, which are central to understanding the Labour Party's internal struggles.\n"
     ]
    },
    {
     "name": "stderr",
     "output_type": "stream",
     "text": [
      " 84%|████████▎ | 82/98 [07:51<01:39,  6.20s/it]"
     ]
    },
    {
     "name": "stdout",
     "output_type": "stream",
     "text": [
      "\n",
      "Raw model output: Code: politics\n",
      "Reason: The article mentions several politicians or political entities, such as Usher (who is a celebrity but also had a strong connection to the US government, given his performance at the event), Alicia Keys (who performed alongside several high-ranking politicians and royalty), Justin Timberlake (who had connections with high-ranking officials in previous ceremonies), Nelly (who was on stage with Pharrell Williams, and Pharrell has connections to high-ranking officials).\n"
     ]
    },
    {
     "name": "stderr",
     "output_type": "stream",
     "text": [
      " 85%|████████▍ | 83/98 [08:01<01:52,  7.50s/it]"
     ]
    },
    {
     "name": "stdout",
     "output_type": "stream",
     "text": [
      "\n",
      "Raw model output: Code: politics\n",
      "Reason: This article is primarily focused on the economic and fiscal policies announced by Chancellor Gordon Brown in his Budget speech, but it also includes quotes from politicians such as Michael Howard (Tory leader), Charles Kennedy (Liberal Democrat leader), Alex Salmond (SNP leader), Simon Thomas (Plaid Cymru), Roger Knapman (UK Independence Party leader), and Andrew Marr (BBC political editor). The discussion of these statements suggests that the article is attempting to provide a balanced view of the reaction to the Budget, making it clear that this code is used for articles about politics.\n"
     ]
    },
    {
     "name": "stderr",
     "output_type": "stream",
     "text": [
      " 86%|████████▌ | 84/98 [08:08<01:43,  7.39s/it]"
     ]
    },
    {
     "name": "stdout",
     "output_type": "stream",
     "text": [
      "\n",
      "Raw model output: Code: tech\n",
      "Reason: The article discusses various technological advancements and trends, such as digital video recorders (DVR), broadband, video-on-demand, high-definition TV (HDTV), and digital cameras, which indicate a focus on technology-related topics. Additionally, the mention of companies like BT and NTL trialling faster ADSL technology highlights the tech industry's role in shaping the country's digital landscape.\n"
     ]
    },
    {
     "name": "stderr",
     "output_type": "stream",
     "text": [
      " 87%|████████▋ | 85/98 [08:13<01:26,  6.63s/it]"
     ]
    },
    {
     "name": "stdout",
     "output_type": "stream",
     "text": [
      "\n",
      "Raw model output: Code: politics\n",
      "Reason: The majority of the text is focused on a political issue, specifically President Chavez's agrarian reform programme and the government's actions against private property rights, indicating that this news story falls under the category of \"politics\".\n"
     ]
    },
    {
     "name": "stderr",
     "output_type": "stream",
     "text": [
      " 88%|████████▊ | 86/98 [08:20<01:19,  6.61s/it]"
     ]
    },
    {
     "name": "stdout",
     "output_type": "stream",
     "text": [
      "\n",
      "Raw model output: Code: politics\n",
      "Reason: The article primarily focuses on government-related issues, such as regulatory concerns, foreign investment, and policy implications, which are all characteristic of the politics code category. Specifically, it mentions Chinese regulators' annoyance with MG Rover's public disclosure of talks with Shanghai Automotive Industry Corp, the National Development and Reform Commission's oversight of foreign investment, and the potential for job losses due to the proposed deal. These elements are all rooted in government policy and regulatory affairs, making them a strong fit for the politics code category.\n"
     ]
    },
    {
     "name": "stderr",
     "output_type": "stream",
     "text": [
      " 89%|████████▉ | 87/98 [08:27<01:14,  6.78s/it]"
     ]
    },
    {
     "name": "stdout",
     "output_type": "stream",
     "text": [
      "\n",
      "Raw model output: Code: politics\n",
      "Reason: Although the article primarily focuses on the Bangkok International Film Festival, it mentions the devastating impact of the Asian tsunami disaster and how the festival's organizers have scaled down the event while still continuing with their original plan. This demonstrates a clear connection to international relations and global events, which falls under the category of \"politics\".\n"
     ]
    },
    {
     "name": "stderr",
     "output_type": "stream",
     "text": [
      " 90%|████████▉ | 88/98 [08:33<01:04,  6.44s/it]"
     ]
    },
    {
     "name": "stdout",
     "output_type": "stream",
     "text": [
      "\n",
      "Raw model output: Code: sport\n",
      "Reason: The text primarily focuses on tennis, mentioning specific players (Andy Roddick and Tommy Haas), tournaments (SAP Open in San Jose), and their respective matches, indicating that the majority of the content is related to sporting events. Additionally, quotes from Roddick and Haas are discussing their strategies and experiences during the match, which further reinforces the coding as sport-related.\n"
     ]
    },
    {
     "name": "stderr",
     "output_type": "stream",
     "text": [
      " 91%|█████████ | 89/98 [08:38<00:53,  5.99s/it]"
     ]
    },
    {
     "name": "stdout",
     "output_type": "stream",
     "text": [
      "\n",
      "Raw model output: Code: politics\n",
      "Reason: The majority of the text revolves around news about Lord Archer's potential re-entry into the Conservative Party, his past convictions, and reactions from party members, such as Dr. Liam Fox, Lord Tebbit, and Sir Teddy Taylor, which indicates a strong focus on political issues and events.\n"
     ]
    },
    {
     "name": "stderr",
     "output_type": "stream",
     "text": [
      " 92%|█████████▏| 90/98 [08:45<00:50,  6.36s/it]"
     ]
    },
    {
     "name": "stdout",
     "output_type": "stream",
     "text": [
      "\n",
      "Raw model output: Code: politics\n",
      "Reason: The news story discusses the rugby match between Ireland and Argentina, but the majority of the article highlights the skill and strategy employed by both teams, with the winning margin being narrow (100% record in autumn internationals). The discussion also touches on the referee's decision to award a penalty to Argentina, which was disputed by the Irish team. However, there is no mention of government policies, elections, or any political figures involved in the match.\n"
     ]
    },
    {
     "name": "stderr",
     "output_type": "stream",
     "text": [
      " 93%|█████████▎| 91/98 [08:48<00:38,  5.54s/it]"
     ]
    },
    {
     "name": "stdout",
     "output_type": "stream",
     "text": [
      "\n",
      "Raw model output: Code: politics\n",
      "Reason: This article is primarily related to government events, as it mentions the broadcasting rights for the Academy Awards ceremony, which implies a connection between Sky and the BBC regarding public interest programming.\n"
     ]
    },
    {
     "name": "stderr",
     "output_type": "stream",
     "text": [
      " 94%|█████████▍| 92/98 [08:54<00:32,  5.50s/it]"
     ]
    },
    {
     "name": "stdout",
     "output_type": "stream",
     "text": [
      "\n",
      "Raw model output: Code: sports\n",
      "Reason: The text primarily focuses on the Davis Cup tennis tournament, with Carlos Moya's emotional victory over Andy Roddick being the main storyline, and also mentions Rafael Nadal's impressive performance in winning the competition at a young age.\n"
     ]
    },
    {
     "name": "stderr",
     "output_type": "stream",
     "text": [
      " 95%|█████████▍| 93/98 [08:57<00:24,  4.93s/it]"
     ]
    },
    {
     "name": "stdout",
     "output_type": "stream",
     "text": [
      "\n",
      "Raw model output: Code: sport\n",
      "Reason: The text primarily focuses on athletic events (pole vaulting and the 60m dash), athletes (Yelena Isinbayeva, Maurice Greene, and Leonard Scott), competitions, and their performances, which all fall under the category of sports.\n"
     ]
    },
    {
     "name": "stderr",
     "output_type": "stream",
     "text": [
      " 96%|█████████▌| 94/98 [09:07<00:24,  6.22s/it]"
     ]
    },
    {
     "name": "stdout",
     "output_type": "stream",
     "text": [
      "\n",
      "Raw model output: Code: politics\n",
      "Reason: The article discusses government regulation and accountability in the financial sector, specifically the warning from the Financial Services Authority about criminal gangs accessing customer data and the need for better auditing to prevent identity theft. The tone and language used also suggest a critical stance towards regulatory bodies, with phrases like \"the FSA is probably very late to this particular party\" and a desire for more stringent law enforcement measures.\n"
     ]
    },
    {
     "name": "stderr",
     "output_type": "stream",
     "text": [
      " 97%|█████████▋| 95/98 [09:10<00:16,  5.35s/it]"
     ]
    },
    {
     "name": "stdout",
     "output_type": "stream",
     "text": [
      "\n",
      "Raw model output: Code: sports\n",
      "Reason: The text primarily discusses Stefan Koubek's suspension from tennis due to a failed drugs test and his planned appeal, which is related to an incident involving a sporting event (the French Open) and another sporting competition (the Davis Cup).\n"
     ]
    },
    {
     "name": "stderr",
     "output_type": "stream",
     "text": [
      " 98%|█████████▊| 96/98 [09:16<00:11,  5.55s/it]"
     ]
    },
    {
     "name": "stdout",
     "output_type": "stream",
     "text": [
      "\n",
      "Raw model output: Code: politics\n",
      "Reason: I assigned the code \"politics\" because the majority of the text discusses government actions and policies related to censorship, internet control, and freedom of information, all of which fall under the scope of politics. The mention of a \"net police force\", government-approved content restrictions, and the involvement of Beijing in controlling Google News also indicate that the story revolves around political issues and power dynamics at play.\n"
     ]
    },
    {
     "name": "stderr",
     "output_type": "stream",
     "text": [
      " 99%|█████████▉| 97/98 [09:21<00:05,  5.43s/it]"
     ]
    },
    {
     "name": "stdout",
     "output_type": "stream",
     "text": [
      "\n",
      "Raw model output: Code: sport\n",
      "Reason: This annotation is coded as \"sport\" because the text primarily discusses a specific sporting event, a rugby match between Leeds and Saracens at Headingley Stadium on February 25th, 2000. The details provided about the teams' lineups, player substitutions, and the game's progress indicate that the text is focused on reporting the sports news aspect of the event.\n"
     ]
    },
    {
     "name": "stderr",
     "output_type": "stream",
     "text": [
      "100%|██████████| 98/98 [09:28<00:00,  5.80s/it]"
     ]
    },
    {
     "name": "stdout",
     "output_type": "stream",
     "text": [
      "\n",
      "Raw model output: Code: politics\n",
      "Reason: The text primarily focuses on government policies, international relations, and security measures, specifically the UN Convention on Seafarers' Identity Documents, its revised version, and the implementation of biometric technology for tracking seafarers. Additionally, the quote from Cynthia Musselman mentions \"increasing security on the seas as well as border control and protection,\" which further emphasizes the political context of the story.\n",
      "\n",
      "Processing complete!\n",
      "Successfully processed: 98 rows\n",
      "Errors: 0 rows\n",
      "Ready to process! Load your DataFrame and call process_dataframe()\n"
     ]
    },
    {
     "name": "stderr",
     "output_type": "stream",
     "text": [
      "\n"
     ]
    }
   ],
   "source": [
    "import pandas as pd\n",
    "import ollama\n",
    "import re\n",
    "import time\n",
    "from tqdm import tqdm\n",
    "\n",
    "# Example codebook\n",
    "CODEBOOK = \"\"\"\n",
    "business: Tweets or news articles related to companies, financial markets, economic issues, or industry trends.\n",
    "entertainment: Tweets or news articles related to movies, music, celebrities, cultural events, or leisure activities.\n",
    "politics: Tweets or news articles related to government, elections, political parties, policies, or international relations.\n",
    "sport: Tweets or news articles related to sporting events, athletes, competitions, or athletic activities.\n",
    "tech: Tweets or news articles related to technology advancements, innovation, science, or tech companies.\n",
    "\"\"\"\n",
    "\n",
    "def prepare_prompt(text):\n",
    "    system_prompt = f\"\"\"\n",
    "    You are a qualitative coder who is annotating BBC news stories.\n",
    "    Your task is to assign ONE code from the codebook and explain your reasoning.\n",
    "    \n",
    "    YOU MUST INCLUDE BOTH A CODE AND A REASON IN YOUR RESPONSE.\n",
    "    \n",
    "    REQUIRED FORMAT:\n",
    "    Code: [single word category]\n",
    "    Reason: [at least one sentence explaining why you chose this code]\n",
    "    \n",
    "    Codebook:\n",
    "    ---\n",
    "    {CODEBOOK}\n",
    "    ---\n",
    "    Text:\n",
    "    ---\n",
    "    {text}\n",
    "    ---\n",
    "    \"\"\"\n",
    "    return system_prompt\n",
    "\n",
    "def classify_text(text, retry_count=3, retry_delay=1):\n",
    "    \"\"\"Classify text using local Ollama instance with retry logic.\"\"\"\n",
    "    for attempt in range(retry_count):\n",
    "        try:\n",
    "            # Generate response using ollama\n",
    "            response = ollama.generate(\n",
    "                model='llama3.2:latest',  # Updated to match your installed model\n",
    "                prompt=prepare_prompt(text),\n",
    "                stream=False\n",
    "            )\n",
    "            \n",
    "            output = response['response']\n",
    "            \n",
    "            if not output:\n",
    "                raise ValueError(\"Empty response from model\")\n",
    "            \n",
    "            print(\"\\nRaw model output:\", output)  # Debug output\n",
    "                \n",
    "            # Extract code and reasoning using patterns\n",
    "            code_patterns = [\n",
    "                r'Code:\\s*([a-zA-Z]+)(?=\\s*Reason:)',  # Primary pattern\n",
    "                r'Code:\\s*([a-zA-Z]+)',  # Backup pattern\n",
    "                r'\\b(sport|business|politics|entertainment|tech)\\b'  # Last resort\n",
    "            ]\n",
    "            \n",
    "            code = \"Unknown\"\n",
    "            for pattern in code_patterns:\n",
    "                match = re.search(pattern, output, re.IGNORECASE)\n",
    "                if match:\n",
    "                    code = match.group(1).lower().strip()\n",
    "                    break\n",
    "            \n",
    "            reasoning_patterns = [\n",
    "                r'Reason:\\s*([\\s\\S]+?)(?=\\s*(?:Code:|$))',\n",
    "                r'Reason:\\s*([\\s\\S]+)$'\n",
    "            ]\n",
    "            \n",
    "            reasoning = \"No reasoning provided\"\n",
    "            for pattern in reasoning_patterns:\n",
    "                match = re.search(pattern, output, re.IGNORECASE)\n",
    "                if match:\n",
    "                    reasoning = match.group(1).strip()\n",
    "                    break\n",
    "            \n",
    "            if reasoning == \"No reasoning provided\" and output:\n",
    "                reasoning = output.strip()\n",
    "            \n",
    "            # Force code to 'business' if text contains specific economic keywords\n",
    "            economic_keywords = ['economy', 'recession', 'economic', 'gdp', 'market']\n",
    "            if code == \"Unknown\" and any(keyword in text.lower() for keyword in economic_keywords):\n",
    "                code = \"business\"\n",
    "            \n",
    "            return code, reasoning\n",
    "                \n",
    "        except Exception as e:\n",
    "            if attempt == retry_count - 1:\n",
    "                return \"Error\", f\"Processing failed after {retry_count} attempts: {str(e)}\"\n",
    "            time.sleep(retry_delay * (attempt + 1))\n",
    "            continue\n",
    "\n",
    "def process_dataframe(df, batch_size=50, save_interval=200):\n",
    "    \"\"\"Process the dataframe with progress tracking and periodic saving.\"\"\"\n",
    "    df_processed = df.copy()\n",
    "    \n",
    "    # Initialize columns for results\n",
    "    if 'model_prediction' not in df_processed.columns:\n",
    "        df_processed['model_prediction'] = None\n",
    "    if 'reasoning' not in df_processed.columns:\n",
    "        df_processed['reasoning'] = None\n",
    "    \n",
    "    unprocessed_mask = df_processed['model_prediction'].isna()\n",
    "    total_unprocessed = unprocessed_mask.sum()\n",
    "    \n",
    "    if total_unprocessed == 0:\n",
    "        print(\"All rows have already been processed!\")\n",
    "        return df_processed\n",
    "    \n",
    "    print(f\"Processing {total_unprocessed} unprocessed rows...\")\n",
    "    \n",
    "    with tqdm(total=total_unprocessed) as pbar:\n",
    "        processed_count = 0\n",
    "        \n",
    "        for idx in df_processed[unprocessed_mask].index:\n",
    "            try:\n",
    "                text = df_processed.loc[idx, 'text']\n",
    "                code, reasoning = classify_text(text)\n",
    "                \n",
    "                df_processed.loc[idx, 'model_prediction'] = code\n",
    "                df_processed.loc[idx, 'reasoning'] = reasoning\n",
    "                \n",
    "                processed_count += 1\n",
    "                pbar.update(1)\n",
    "                \n",
    "                # Save intermediate results\n",
    "                if processed_count % save_interval == 0:\n",
    "                    print(f\"\\nSaving intermediate results after processing {processed_count} rows...\")\n",
    "                    df_processed.to_csv('ollama_intermediate_results.csv', index=False)\n",
    "                \n",
    "                # Add delay to prevent overwhelming the model\n",
    "                if processed_count % batch_size == 0:\n",
    "                    time.sleep(1)\n",
    "                    \n",
    "            except Exception as e:\n",
    "                print(f\"\\nError processing row {idx}: {str(e)}\")\n",
    "                continue\n",
    "    \n",
    "    # Print summary\n",
    "    success_count = df_processed['model_prediction'].notna().sum() - df_processed['model_prediction'].eq('Error').sum()\n",
    "    error_count = df_processed['model_prediction'].eq('Error').sum()\n",
    "    print(f\"\\nProcessing complete!\")\n",
    "    print(f\"Successfully processed: {success_count} rows\")\n",
    "    print(f\"Errors: {error_count} rows\")\n",
    "    \n",
    "    return df_processed\n",
    "\n",
    "# Example usage:\n",
    "if __name__ == \"__main__\":\n",
    "    # Load your DataFrame here\n",
    "    # df = pd.read_csv('your_input_file.csv')\n",
    "    df_results = process_dataframe(df)\n",
    "    # df_results.to_csv('ollama_results.csv', index=False)\n",
    "    print(\"Ready to process! Load your DataFrame and call process_dataframe()\")"
   ]
  },
  {
   "cell_type": "code",
   "execution_count": 6,
   "metadata": {},
   "outputs": [
    {
     "data": {
      "text/html": [
       "<div>\n",
       "<style scoped>\n",
       "    .dataframe tbody tr th:only-of-type {\n",
       "        vertical-align: middle;\n",
       "    }\n",
       "\n",
       "    .dataframe tbody tr th {\n",
       "        vertical-align: top;\n",
       "    }\n",
       "\n",
       "    .dataframe thead th {\n",
       "        text-align: right;\n",
       "    }\n",
       "</style>\n",
       "<table border=\"1\" class=\"dataframe\">\n",
       "  <thead>\n",
       "    <tr style=\"text-align: right;\">\n",
       "      <th></th>\n",
       "      <th>text_id</th>\n",
       "      <th>text</th>\n",
       "      <th>original_code</th>\n",
       "      <th>replicated_code</th>\n",
       "      <th>model_code</th>\n",
       "      <th>reason</th>\n",
       "      <th>model_prediction</th>\n",
       "      <th>reasoning</th>\n",
       "    </tr>\n",
       "  </thead>\n",
       "  <tbody>\n",
       "    <tr>\n",
       "      <th>0</th>\n",
       "      <td>0</td>\n",
       "      <td>Bath faced with Tindall ultimatum\\n\\nMike Tind...</td>\n",
       "      <td>sport</td>\n",
       "      <td>sport</td>\n",
       "      <td>sport</td>\n",
       "      <td>This news story is about a rugby player, Mike ...</td>\n",
       "      <td>politics</td>\n",
       "      <td>The text discusses a specific player (Mike Tin...</td>\n",
       "    </tr>\n",
       "    <tr>\n",
       "      <th>1</th>\n",
       "      <td>1</td>\n",
       "      <td>Big guns ease through in San Jose\\n\\nTop-seede...</td>\n",
       "      <td>sport</td>\n",
       "      <td>sport</td>\n",
       "      <td>sport</td>\n",
       "      <td>The text is reporting on a tennis tournament, ...</td>\n",
       "      <td>sports</td>\n",
       "      <td>The text primarily focuses on tennis events, i...</td>\n",
       "    </tr>\n",
       "    <tr>\n",
       "      <th>2</th>\n",
       "      <td>2</td>\n",
       "      <td>Chinese dam firm 'defies Beijing'\\n\\nThe China...</td>\n",
       "      <td>business</td>\n",
       "      <td>business</td>\n",
       "      <td>politics</td>\n",
       "      <td>This news story is about a Chinese company def...</td>\n",
       "      <td>politics</td>\n",
       "      <td>The text primarily focuses on government actio...</td>\n",
       "    </tr>\n",
       "    <tr>\n",
       "      <th>3</th>\n",
       "      <td>3</td>\n",
       "      <td>Wenger offers Mutu hope\\n\\nArsenal boss Arsene...</td>\n",
       "      <td>sport</td>\n",
       "      <td>sport</td>\n",
       "      <td>sport</td>\n",
       "      <td>This news story is about a football player who...</td>\n",
       "      <td>politics</td>\n",
       "      <td>The text discusses the actions of Chelsea FC i...</td>\n",
       "    </tr>\n",
       "    <tr>\n",
       "      <th>4</th>\n",
       "      <td>4</td>\n",
       "      <td>Gerrard happy at Anfield\\n\\nLiverpool captain ...</td>\n",
       "      <td>sport</td>\n",
       "      <td>sport</td>\n",
       "      <td>sport</td>\n",
       "      <td>The article is about Liverpool captain Steven ...</td>\n",
       "      <td>politics</td>\n",
       "      <td>The article discusses Liverpool captain Steven...</td>\n",
       "    </tr>\n",
       "    <tr>\n",
       "      <th>...</th>\n",
       "      <td>...</td>\n",
       "      <td>...</td>\n",
       "      <td>...</td>\n",
       "      <td>...</td>\n",
       "      <td>...</td>\n",
       "      <td>...</td>\n",
       "      <td>...</td>\n",
       "      <td>...</td>\n",
       "    </tr>\n",
       "    <tr>\n",
       "      <th>95</th>\n",
       "      <td>95</td>\n",
       "      <td>Who do you think you are?\\n\\nThe real danger i...</td>\n",
       "      <td>tech</td>\n",
       "      <td>tech</td>\n",
       "      <td>tech</td>\n",
       "      <td>The article discusses the dangers of data thef...</td>\n",
       "      <td>politics</td>\n",
       "      <td>The article discusses government regulation an...</td>\n",
       "    </tr>\n",
       "    <tr>\n",
       "      <th>96</th>\n",
       "      <td>96</td>\n",
       "      <td>Koubek suspended after drugs test\\n\\nStefan Ko...</td>\n",
       "      <td>sport</td>\n",
       "      <td>sport</td>\n",
       "      <td>sport</td>\n",
       "      <td>The news story is about a tennis player, Stefa...</td>\n",
       "      <td>sports</td>\n",
       "      <td>The text primarily discusses Stefan Koubek's s...</td>\n",
       "    </tr>\n",
       "    <tr>\n",
       "      <th>97</th>\n",
       "      <td>97</td>\n",
       "      <td>China 'blocks Google news site'\\n\\nChina has b...</td>\n",
       "      <td>tech</td>\n",
       "      <td>politics</td>\n",
       "      <td>politics</td>\n",
       "      <td>This news story is about China's censorship of...</td>\n",
       "      <td>politics</td>\n",
       "      <td>I assigned the code \"politics\" because the maj...</td>\n",
       "    </tr>\n",
       "    <tr>\n",
       "      <th>98</th>\n",
       "      <td>98</td>\n",
       "      <td>Leeds v Saracens (Fri)\\n\\nHeadingley\\n\\nFriday...</td>\n",
       "      <td>sport</td>\n",
       "      <td>sport</td>\n",
       "      <td>sport</td>\n",
       "      <td>The text is reporting on a rugby match between...</td>\n",
       "      <td>sport</td>\n",
       "      <td>This annotation is coded as \"sport\" because th...</td>\n",
       "    </tr>\n",
       "    <tr>\n",
       "      <th>99</th>\n",
       "      <td>99</td>\n",
       "      <td>Seamen sail into biometric future\\n\\nThe luxur...</td>\n",
       "      <td>tech</td>\n",
       "      <td>tech</td>\n",
       "      <td>tech</td>\n",
       "      <td>The article discusses the use of biometric tec...</td>\n",
       "      <td>politics</td>\n",
       "      <td>The text primarily focuses on government polic...</td>\n",
       "    </tr>\n",
       "  </tbody>\n",
       "</table>\n",
       "<p>98 rows × 8 columns</p>\n",
       "</div>"
      ],
      "text/plain": [
       "    text_id                                               text original_code  \\\n",
       "0         0  Bath faced with Tindall ultimatum\\n\\nMike Tind...         sport   \n",
       "1         1  Big guns ease through in San Jose\\n\\nTop-seede...         sport   \n",
       "2         2  Chinese dam firm 'defies Beijing'\\n\\nThe China...      business   \n",
       "3         3  Wenger offers Mutu hope\\n\\nArsenal boss Arsene...         sport   \n",
       "4         4  Gerrard happy at Anfield\\n\\nLiverpool captain ...         sport   \n",
       "..      ...                                                ...           ...   \n",
       "95       95  Who do you think you are?\\n\\nThe real danger i...          tech   \n",
       "96       96  Koubek suspended after drugs test\\n\\nStefan Ko...         sport   \n",
       "97       97  China 'blocks Google news site'\\n\\nChina has b...          tech   \n",
       "98       98  Leeds v Saracens (Fri)\\n\\nHeadingley\\n\\nFriday...         sport   \n",
       "99       99  Seamen sail into biometric future\\n\\nThe luxur...          tech   \n",
       "\n",
       "   replicated_code model_code  \\\n",
       "0            sport      sport   \n",
       "1            sport      sport   \n",
       "2         business   politics   \n",
       "3            sport      sport   \n",
       "4            sport      sport   \n",
       "..             ...        ...   \n",
       "95            tech       tech   \n",
       "96           sport      sport   \n",
       "97        politics   politics   \n",
       "98           sport      sport   \n",
       "99            tech       tech   \n",
       "\n",
       "                                               reason model_prediction  \\\n",
       "0   This news story is about a rugby player, Mike ...         politics   \n",
       "1   The text is reporting on a tennis tournament, ...           sports   \n",
       "2   This news story is about a Chinese company def...         politics   \n",
       "3   This news story is about a football player who...         politics   \n",
       "4   The article is about Liverpool captain Steven ...         politics   \n",
       "..                                                ...              ...   \n",
       "95  The article discusses the dangers of data thef...         politics   \n",
       "96  The news story is about a tennis player, Stefa...           sports   \n",
       "97  This news story is about China's censorship of...         politics   \n",
       "98  The text is reporting on a rugby match between...            sport   \n",
       "99  The article discusses the use of biometric tec...         politics   \n",
       "\n",
       "                                            reasoning  \n",
       "0   The text discusses a specific player (Mike Tin...  \n",
       "1   The text primarily focuses on tennis events, i...  \n",
       "2   The text primarily focuses on government actio...  \n",
       "3   The text discusses the actions of Chelsea FC i...  \n",
       "4   The article discusses Liverpool captain Steven...  \n",
       "..                                                ...  \n",
       "95  The article discusses government regulation an...  \n",
       "96  The text primarily discusses Stefan Koubek's s...  \n",
       "97  I assigned the code \"politics\" because the maj...  \n",
       "98  This annotation is coded as \"sport\" because th...  \n",
       "99  The text primarily focuses on government polic...  \n",
       "\n",
       "[98 rows x 8 columns]"
      ]
     },
     "execution_count": 6,
     "metadata": {},
     "output_type": "execute_result"
    }
   ],
   "source": [
    "df_results"
   ]
  },
  {
   "cell_type": "code",
   "execution_count": 8,
   "metadata": {},
   "outputs": [],
   "source": [
    "results = df_results"
   ]
  },
  {
   "cell_type": "code",
   "execution_count": 11,
   "metadata": {},
   "outputs": [
    {
     "name": "stdout",
     "output_type": "stream",
     "text": [
      "\n",
      "Similarity Analysis Summary:\n",
      "====================================================================================================\n",
      "                         Comparison  Accuracy  Kappa Score  Matching Cases  Total Cases Match Percentage\n",
      "        Original Code Vs Model Code  0.877551     0.842823              86           98           87.76%\n",
      "  Original Code Vs Model Prediction  0.489796     0.358135              48           98           48.98%\n",
      "      Replicated Code Vs Model Code  0.816327     0.761557              80           98           81.63%\n",
      "Replicated Code Vs Model Prediction  0.489796     0.337659              48           98           48.98%\n",
      "\n",
      "Detailed Analysis:\n",
      "====================================================================================================\n",
      "\n",
      "Comparison with Original Code:\n",
      "Better model: Original Code Vs Model Code\n",
      "Accuracy: 87.76%\n",
      "Kappa Score: 0.843\n",
      "\n",
      "Comparison with Replicated Code:\n",
      "Better model: Replicated Code Vs Model Code\n",
      "Accuracy: 81.63%\n",
      "Kappa Score: 0.762\n",
      "\n",
      "Confusion Matrix for original_code_vs_model_code:\n",
      "\n",
      "Categories: ['business', 'entertainment', 'politics', 'sport', 'tech']\n",
      "[[15  0  5  0  0]\n",
      " [ 2 14  1  0  0]\n",
      " [ 0  0 25  0  0]\n",
      " [ 0  0  2 23  0]\n",
      " [ 1  0  1  0  9]]\n",
      "\n",
      "Confusion Matrix for original_code_vs_model_prediction:\n",
      "\n",
      "Categories: ['business', 'entertainment', 'politics', 'sport', 'tech']\n",
      "[[ 8  0 12  0  0]\n",
      " [ 4  6  7  0  0]\n",
      " [ 0  0 24  0  0]\n",
      " [ 0  0 11  4  0]\n",
      " [ 1  1  3  0  6]]\n",
      "\n",
      "Confusion Matrix for replicated_code_vs_model_code:\n",
      "\n",
      "Categories: ['business', 'entertainment', 'politics', 'sport', 'tech']\n",
      "[[10  0  6  0  1]\n",
      " [ 1 14  1  0  1]\n",
      " [ 4  0 26  0  0]\n",
      " [ 0  0  1 23  0]\n",
      " [ 3  0  0  0  7]]\n",
      "\n",
      "Confusion Matrix for replicated_code_vs_model_prediction:\n",
      "\n",
      "Categories: ['business', 'entertainment', 'politics', 'sport', 'tech']\n",
      "[[ 6  0 10  0  1]\n",
      " [ 3  6  7  0  1]\n",
      " [ 1  0 28  0  0]\n",
      " [ 0  0 10  4  0]\n",
      " [ 3  1  2  0  4]]\n"
     ]
    }
   ],
   "source": [
    "def calculate_similarity_metrics(results_df, ground_truth_col, prediction_col):\n",
    "    \"\"\"\n",
    "    Calculate various similarity metrics between two columns\n",
    "    \"\"\"\n",
    "    # Remove rows where either column has missing values\n",
    "    valid_rows = results_df[[ground_truth_col, prediction_col]].dropna()\n",
    "    \n",
    "    if len(valid_rows) == 0:\n",
    "        return {\n",
    "            'accuracy': 0,\n",
    "            'kappa': 0,\n",
    "            'matching_cases': 0,\n",
    "            'total_cases': 0,\n",
    "            'percentage_match': 0\n",
    "        }\n",
    "    \n",
    "    # Calculate metrics\n",
    "    accuracy = accuracy_score(valid_rows[ground_truth_col], valid_rows[prediction_col])\n",
    "    kappa = cohen_kappa_score(valid_rows[ground_truth_col], valid_rows[prediction_col])\n",
    "    matching_cases = (valid_rows[ground_truth_col] == valid_rows[prediction_col]).sum()\n",
    "    total_cases = len(valid_rows)\n",
    "    percentage_match = (matching_cases / total_cases) * 100\n",
    "    \n",
    "    return {\n",
    "        'accuracy': accuracy,\n",
    "        'kappa': kappa,\n",
    "        'matching_cases': matching_cases,\n",
    "        'total_cases': total_cases,\n",
    "        'percentage_match': percentage_match\n",
    "    }\n",
    "\n",
    "def analyze_code_similarities(results_df):\n",
    "    \"\"\"\n",
    "    Analyze similarities between model outputs and human categorizations\n",
    "    \"\"\"\n",
    "    # Comparisons to make\n",
    "    comparisons = [\n",
    "        ('original_code', 'model_code'),\n",
    "        ('original_code', 'model_prediction'),\n",
    "        ('replicated_code', 'model_code'),\n",
    "        ('replicated_code', 'model_prediction')\n",
    "    ]\n",
    "    \n",
    "    # Calculate metrics for each comparison\n",
    "    results_dict = {}\n",
    "    for truth_col, pred_col in comparisons:\n",
    "        results_dict[f\"{truth_col}_vs_{pred_col}\"] = calculate_similarity_metrics(\n",
    "            results_df, truth_col, pred_col\n",
    "        )\n",
    "    \n",
    "    # Create a summary dataframe\n",
    "    summary_df = pd.DataFrame({\n",
    "        'Comparison': [k.replace('_', ' ').title() for k in results_dict.keys()],\n",
    "        'Accuracy': [v['accuracy'] for v in results_dict.values()],\n",
    "        'Kappa Score': [v['kappa'] for v in results_dict.values()],\n",
    "        'Matching Cases': [v['matching_cases'] for v in results_dict.values()],\n",
    "        'Total Cases': [v['total_cases'] for v in results_dict.values()],\n",
    "        'Match Percentage': [v['percentage_match'] for v in results_dict.values()]\n",
    "    })\n",
    "    \n",
    "    # Format the percentage column\n",
    "    summary_df['Match Percentage'] = summary_df['Match Percentage'].round(2).astype(str) + '%'\n",
    "    \n",
    "    # Create detailed confusion matrices\n",
    "    confusion_matrices = {}\n",
    "    for truth_col, pred_col in comparisons:\n",
    "        valid_rows = results_df[[truth_col, pred_col]].dropna()\n",
    "        if len(valid_rows) > 0:\n",
    "            matrix = confusion_matrix(\n",
    "                valid_rows[truth_col], \n",
    "                valid_rows[pred_col],\n",
    "                labels=sorted(results_df[truth_col].unique())\n",
    "            )\n",
    "            confusion_matrices[f\"{truth_col}_vs_{pred_col}\"] = matrix\n",
    "    \n",
    "    return summary_df, confusion_matrices\n",
    "\n",
    "# Run the analysis with the results dataframe\n",
    "summary_df, confusion_matrices = analyze_code_similarities(results)\n",
    "\n",
    "# Display the summary\n",
    "print(\"\\nSimilarity Analysis Summary:\")\n",
    "print(\"=\" * 100)\n",
    "print(summary_df.to_string(index=False))\n",
    "print(\"\\nDetailed Analysis:\")\n",
    "print(\"=\" * 100)\n",
    "\n",
    "# Determine which model is more similar to human coding\n",
    "original_code_comparison = summary_df[summary_df['Comparison'].str.contains('Original Code')]\n",
    "replicated_code_comparison = summary_df[summary_df['Comparison'].str.contains('Replicated Code')]\n",
    "\n",
    "print(\"\\nComparison with Original Code:\")\n",
    "better_for_original = original_code_comparison.iloc[original_code_comparison['Accuracy'].argmax()]\n",
    "print(f\"Better model: {better_for_original['Comparison']}\")\n",
    "print(f\"Accuracy: {better_for_original['Accuracy']:.2%}\")\n",
    "print(f\"Kappa Score: {better_for_original['Kappa Score']:.3f}\")\n",
    "\n",
    "print(\"\\nComparison with Replicated Code:\")\n",
    "better_for_replicated = replicated_code_comparison.iloc[replicated_code_comparison['Accuracy'].argmax()]\n",
    "print(f\"Better model: {better_for_replicated['Comparison']}\")\n",
    "print(f\"Accuracy: {better_for_replicated['Accuracy']:.2%}\")\n",
    "print(f\"Kappa Score: {better_for_replicated['Kappa Score']:.3f}\")\n",
    "\n",
    "# Print confusion matrices with labels\n",
    "for name, matrix in confusion_matrices.items():\n",
    "    print(f\"\\nConfusion Matrix for {name}:\")\n",
    "    categories = sorted(results[name.split('_vs_')[0]].unique())\n",
    "    print(\"\\nCategories:\", categories)\n",
    "    print(matrix)"
   ]
  },
  {
   "cell_type": "code",
   "execution_count": 13,
   "metadata": {},
   "outputs": [
    {
     "name": "stdout",
     "output_type": "stream",
     "text": [
      "Processing 98 unprocessed rows...\n"
     ]
    },
    {
     "name": "stderr",
     "output_type": "stream",
     "text": [
      "  1%|          | 1/98 [00:10<16:31, 10.22s/it]"
     ]
    },
    {
     "name": "stdout",
     "output_type": "stream",
     "text": [
      "\n",
      "Raw model output: Code: politics\n",
      "Reason: The article discusses a contract dispute between Bath rugby player Mike Tindall and his current club, with Tindall's agent warning that the club must improve their offer or risk losing him to another team. This falls under political coverage as it involves negotiations between a sports organization (Bath) and an individual athlete (Tindall), which is subject to the influence of external factors such as rival clubs and the club's owner, Andrew Brownsword.\n"
     ]
    },
    {
     "name": "stderr",
     "output_type": "stream",
     "text": [
      "  2%|▏         | 2/98 [00:14<11:03,  6.91s/it]"
     ]
    },
    {
     "name": "stdout",
     "output_type": "stream",
     "text": [
      "\n",
      "Raw model output: Code: sport\n",
      "Reason: This article is primarily focused on tennis matches, featuring the progress of top-seeded players Andy Roddick and Andre Agassi through the SAP Open tournament. The text describes match outcomes, player performances, and quotes from the athletes themselves, which are all characteristic of sports reporting.\n"
     ]
    },
    {
     "name": "stderr",
     "output_type": "stream",
     "text": [
      "  3%|▎         | 3/98 [00:19<09:40,  6.11s/it]"
     ]
    },
    {
     "name": "stdout",
     "output_type": "stream",
     "text": [
      "\n",
      "Raw model output: Code: politics\n",
      "Reason: The article discusses government policy and legislation, specifically the Chinese government's order for the China Three Gorges Project Corp to stop construction of one of its dams due to environmental concerns. It also mentions the company's potential fine and denial of violating regulations, indicating a regulatory issue that falls under political coverage.\n"
     ]
    },
    {
     "name": "stderr",
     "output_type": "stream",
     "text": [
      "  4%|▍         | 4/98 [00:24<08:46,  5.60s/it]"
     ]
    },
    {
     "name": "stdout",
     "output_type": "stream",
     "text": [
      "\n",
      "Raw model output: Code: politics\n",
      "Reason: The article discusses the actions of Chelsea FC, specifically their decision to sack striker Adrian Mutu due to a positive drug test result. This is a matter of government policy and legislation in the context of professional sports, as it relates to the player's rights and the club's responsibilities towards its players.\n"
     ]
    },
    {
     "name": "stderr",
     "output_type": "stream",
     "text": [
      "  5%|▌         | 5/98 [00:31<09:11,  5.93s/it]"
     ]
    },
    {
     "name": "stdout",
     "output_type": "stream",
     "text": [
      "\n",
      "Raw model output: Code: politics\n",
      "Reason: The article discusses Steven Gerrard's contract situation and his desire to stay at Liverpool, as well as the club's plans for the future. It also mentions Rafael Benitez's comments on Gerrard's commitment to the team and the potential signing of Fernando Morientes in the January transfer window. These topics are all related to the governance and management of a sports organization (Liverpool FC), which falls under political coverage.\n"
     ]
    },
    {
     "name": "stderr",
     "output_type": "stream",
     "text": [
      "  6%|▌         | 6/98 [00:36<08:51,  5.78s/it]"
     ]
    },
    {
     "name": "stdout",
     "output_type": "stream",
     "text": [
      "\n",
      "Raw model output: Code: sport\n",
      "Reason: This article primarily focuses on athletic events and performances, specifically the indoor 400m and 3000m track and field competitions, featuring notable athletes such as LaShawn Merritt, Bershawn Jackson, Bernard Lagat, and Asafa Powell. The article also mentions Olympic medalists and world record holders, further emphasizing its sports-oriented content.\n"
     ]
    },
    {
     "name": "stderr",
     "output_type": "stream",
     "text": [
      "  7%|▋         | 7/98 [00:43<09:05,  5.99s/it]"
     ]
    },
    {
     "name": "stdout",
     "output_type": "stream",
     "text": [
      "\n",
      "Raw model output: Code: sport\n",
      "Reason: This article primarily focuses on a sports event (Wales vs. England rugby match) and features quotes from the players, coaches, and team dynamics, indicating that it is a sports news article. The language used, such as \"match-winning kick,\" \"touch and go,\" and \"spotlight thrust upon him,\" further reinforces its sporting nature.\n"
     ]
    },
    {
     "name": "stderr",
     "output_type": "stream",
     "text": [
      "  8%|▊         | 8/98 [00:50<09:25,  6.28s/it]"
     ]
    },
    {
     "name": "stdout",
     "output_type": "stream",
     "text": [
      "\n",
      "Raw model output: Code: politics\n",
      "Reason: The article primarily focuses on the debate and bill related to euthanasia laws, specifically discussing government policy, legislation, and the views of various stakeholders such as charities, Christian groups, and politicians. The article also mentions a petition, parliamentary debates, and the involvement of constitutional affairs minister David Lammy, which further solidifies its classification under politics.\n"
     ]
    },
    {
     "name": "stderr",
     "output_type": "stream",
     "text": [
      "  9%|▉         | 9/98 [00:54<08:27,  5.70s/it]"
     ]
    },
    {
     "name": "stdout",
     "output_type": "stream",
     "text": [
      "\n",
      "Raw model output: Code: politics\n",
      "Reason: The article discusses a complaint from a Muslim group to a broadcasting watchdog, Ofcom, regarding the portrayal of Muslims in a TV drama. This falls under political coverage as it involves government regulation and accountability, specifically with regards to broadcasting guidelines and the responsibility of major UK broadcasters to challenge negative stereotypes.\n"
     ]
    },
    {
     "name": "stderr",
     "output_type": "stream",
     "text": [
      " 10%|█         | 10/98 [00:59<07:57,  5.42s/it]"
     ]
    },
    {
     "name": "stdout",
     "output_type": "stream",
     "text": [
      "\n",
      "Raw model output: Code: entertainment\n",
      "Reason: The article is about a TV presenter, Cat Deeley, resigning from her hosting role on the children's music show CD:UK after six years. It discusses her decision to leave and express gratitude to the team and viewers, as well as her future plans for new television projects. This is clearly an entertainment news article focused on celebrity news and television personalities.\n"
     ]
    },
    {
     "name": "stderr",
     "output_type": "stream",
     "text": [
      " 11%|█         | 11/98 [01:05<08:02,  5.54s/it]"
     ]
    },
    {
     "name": "stdout",
     "output_type": "stream",
     "text": [
      "\n",
      "Raw model output: Code: politics\n",
      "Reason: The article discusses a political figure (Ex-Labour MP George Galloway) making an appeal for the release of a hostage (aid worker Margaret Hassan), which falls under government policy and international relations, characteristic of political coverage. Additionally, the article mentions Mr. Galloway's expulsion from the Labour party due to his opposition to the war on Iraq, further solidifying its classification as a politics-related news article.\n"
     ]
    },
    {
     "name": "stderr",
     "output_type": "stream",
     "text": [
      " 12%|█▏        | 12/98 [01:13<09:12,  6.42s/it]"
     ]
    },
    {
     "name": "stdout",
     "output_type": "stream",
     "text": [
      "\n",
      "Raw model output: Code: business\n",
      "Reason: The article discusses companies' lack of preparedness for HIV/AIDS, citing a report by the World Economic Forum, Harvard, and the UN AIDS agency. It highlights the low level of action taken by businesses to address the disease, with only 71% having no policies in place, and notes that some companies, like Anglo-American, have implemented successful strategies to cope with the issue. The article also mentions the economic benefits of addressing HIV/AIDS, such as increased productivity and profitability, which further supports its classification under business news.\n"
     ]
    },
    {
     "name": "stderr",
     "output_type": "stream",
     "text": [
      " 13%|█▎        | 13/98 [01:21<09:52,  6.97s/it]"
     ]
    },
    {
     "name": "stdout",
     "output_type": "stream",
     "text": [
      "\n",
      "Raw model output: Code: tech\n",
      "Reason: This article discusses the evolution of search engines, their role in navigating the internet, and the impact of technology advancements on web commerce. It mentions companies like Google, Microsoft, Yahoo, and Amazon, which are all tech giants, and highlights the importance of user experience, personalization, and targeted advertising in the search industry. The article also touches on the concept of \"information overload\" and how search engines are trying to improve their performance by getting to know users better.\n"
     ]
    },
    {
     "name": "stderr",
     "output_type": "stream",
     "text": [
      " 14%|█▍        | 14/98 [01:29<09:53,  7.07s/it]"
     ]
    },
    {
     "name": "stdout",
     "output_type": "stream",
     "text": [
      "\n",
      "Raw model output: Code: politics\n",
      "Reason: Although the article primarily focuses on Arthur Hailey's life and career as an author, it mentions his emigration to Canada and his work experience with the Royal Air Force during World War II. These details hint at his involvement in government or military affairs, which is a key aspect of political coverage.\n"
     ]
    },
    {
     "name": "stderr",
     "output_type": "stream",
     "text": [
      " 15%|█▌        | 15/98 [01:33<08:42,  6.30s/it]"
     ]
    },
    {
     "name": "stdout",
     "output_type": "stream",
     "text": [
      "\n",
      "Raw model output: Code: sport\n",
      "Reason: This article is primarily focused on a sporting event, specifically a cross-country race, and features information about the competitors, their performances, and quotes from one of the athletes. The language used, such as \"romped to a five-second victory\" and \"clocked a time of 22 minutes 45 seconds,\" also suggests a sports-focused article.\n"
     ]
    },
    {
     "name": "stderr",
     "output_type": "stream",
     "text": [
      " 16%|█▋        | 16/98 [01:39<08:29,  6.21s/it]"
     ]
    },
    {
     "name": "stdout",
     "output_type": "stream",
     "text": [
      "\n",
      "Raw model output: Code: tech\n",
      "Reason: The article discusses the development of software that translates colors into musical notes, a technological innovation that falls under the category of tech. Specifically, it highlights the use of computer graphics and programming to create this software, which is a key aspect of technology advancements. Additionally, the article mentions the application of AI capabilities in this software, further solidifying its classification as a tech-related topic.\n"
     ]
    },
    {
     "name": "stderr",
     "output_type": "stream",
     "text": [
      " 17%|█▋        | 17/98 [01:45<08:16,  6.13s/it]"
     ]
    },
    {
     "name": "stdout",
     "output_type": "stream",
     "text": [
      "\n",
      "Raw model output: Code: business\n",
      "Reason: The article discusses financial corruption and its impact on the government's finances, specifically mentioning a loss of 1bn CFA francs ($2m; £1m) per month due to widespread corruption in the finance ministry. It also mentions an investigation into payroll at the ministry and the prime minister's office stating that staff received \"unearned salaries\", which are related to economic issues and financial markets.\n"
     ]
    },
    {
     "name": "stderr",
     "output_type": "stream",
     "text": [
      " 18%|█▊        | 18/98 [01:50<07:50,  5.88s/it]"
     ]
    },
    {
     "name": "stdout",
     "output_type": "stream",
     "text": [
      "\n",
      "Raw model output: Code: politics\n",
      "Reason: This article discusses the decision-making process of Wales coach Mike Ruddock regarding player releases, specifically focusing on the management of international stars and their availability for regional Celtic League fixtures. The article also mentions the WRU charter and the potential impact on younger players, which suggests a discussion about policy and governance within the rugby union organization.\n"
     ]
    },
    {
     "name": "stderr",
     "output_type": "stream",
     "text": [
      " 19%|█▉        | 19/98 [01:56<07:30,  5.71s/it]"
     ]
    },
    {
     "name": "stdout",
     "output_type": "stream",
     "text": [
      "\n",
      "Raw model output: Code: politics\n",
      "Reason: This article focuses on a political speech by Charles Kennedy, discussing his party's stance on ethnic minority voters, the Iraq war, terrorism, and government plans to hold terror suspects under house arrest. The article also mentions talks between Kennedy and Tony Blair, as well as opposition from Conservative and Liberal Democrat parties in the Lords, which are all key aspects of political coverage.\n"
     ]
    },
    {
     "name": "stderr",
     "output_type": "stream",
     "text": [
      " 20%|██        | 20/98 [02:01<07:09,  5.51s/it]"
     ]
    },
    {
     "name": "stdout",
     "output_type": "stream",
     "text": [
      "\n",
      "Raw model output: Code: business\n",
      "Reason: The article discusses job cuts and their impact on public sector reforms, specifically focusing on the financial implications of reducing civil service jobs. The TUC report highlights that the planned 71,000 job cuts would deliver less than 6% of the £22bn ministers hope to save through efficiency reforms, indicating a business-like analysis of cost savings.\n"
     ]
    },
    {
     "name": "stderr",
     "output_type": "stream",
     "text": [
      " 21%|██▏       | 21/98 [02:07<07:19,  5.70s/it]"
     ]
    },
    {
     "name": "stdout",
     "output_type": "stream",
     "text": [
      "\n",
      "Raw model output: Code: politics\n",
      "Reason: The article discusses government policy, international relations, and political disputes between Pakistan and the UK, as well as the war on terror, Afghanistan, Iraq, and Kashmir. Specifically, it quotes President Musharraf's views on women's rights, terrorism, and extremism, and reports on his meetings with Prime Minister Tony Blair to discuss these issues.\n"
     ]
    },
    {
     "name": "stderr",
     "output_type": "stream",
     "text": [
      " 22%|██▏       | 22/98 [02:14<07:34,  5.98s/it]"
     ]
    },
    {
     "name": "stdout",
     "output_type": "stream",
     "text": [
      "\n",
      "Raw model output: Code: sport\n",
      "Reason: This article is primarily focused on a rugby match between Ireland and the USA, featuring team line-ups, player debuts, and coach quotes. The main focus is on the sporting event itself, with details about the teams' preparations and strategies for the game. While there are mentions of international rankings and previous matches, these are secondary to the core topic of the upcoming rugby match.\n"
     ]
    },
    {
     "name": "stderr",
     "output_type": "stream",
     "text": [
      " 23%|██▎       | 23/98 [02:19<07:08,  5.72s/it]"
     ]
    },
    {
     "name": "stdout",
     "output_type": "stream",
     "text": [
      "\n",
      "Raw model output: Code: politics\n",
      "Reason: The article discusses government policy and legislation, specifically focusing on the introduction of a national minimum payment for foster carers, which falls under political coverage. The mention of Minister Margaret Hodge, the Children Bill, and the government's plans to amend the bill further solidify this classification.\n"
     ]
    },
    {
     "name": "stderr",
     "output_type": "stream",
     "text": [
      " 24%|██▍       | 24/98 [02:27<07:57,  6.45s/it]"
     ]
    },
    {
     "name": "stdout",
     "output_type": "stream",
     "text": [
      "\n",
      "Raw model output: Code: politics\n",
      "Reason: The article primarily focuses on the response of Tory leader Michael Howard to criticisms about his views on asylum and immigration, as well as his personal image. It includes quotes from various individuals, including Anne Robinson, Alastair Campbell, and Ken Clarke, who discuss Howard's leadership style and perceived shortcomings. The article also mentions a BBC documentary called \"No More Mr Nasty\" that provides behind-the-scenes access to Howard, further solidifying the political nature of the content.\n"
     ]
    },
    {
     "name": "stderr",
     "output_type": "stream",
     "text": [
      " 26%|██▌       | 25/98 [02:31<07:02,  5.79s/it]"
     ]
    },
    {
     "name": "stdout",
     "output_type": "stream",
     "text": [
      "\n",
      "Raw model output: Code: entertainment\n",
      "Reason: The article focuses on the casting of Harry Connick Jr in a Broadway revival of the musical \"The Pajama Game\", discussing his role, the show's production team, and its upcoming opening date. This is clearly an entertainment news article about a cultural event, specifically a theatrical performance.\n"
     ]
    },
    {
     "name": "stderr",
     "output_type": "stream",
     "text": [
      " 27%|██▋       | 26/98 [02:35<06:26,  5.36s/it]"
     ]
    },
    {
     "name": "stdout",
     "output_type": "stream",
     "text": [
      "\n",
      "Raw model output: Code: business\n",
      "Reason: The article discusses UK house prices, specifically the annual rate of growth and changes in average house prices, which falls under financial markets and economic issues. It also mentions government figures from the Office of the Deputy Prime Minister and Land Registry data, indicating a focus on industry trends and market performance.\n"
     ]
    },
    {
     "name": "stderr",
     "output_type": "stream",
     "text": [
      " 28%|██▊       | 27/98 [02:41<06:21,  5.37s/it]"
     ]
    },
    {
     "name": "stdout",
     "output_type": "stream",
     "text": [
      "\n",
      "Raw model output: Code: politics\n",
      "Reason: This article is primarily focused on government policy and legislation, specifically an investigation into whether Italian airline Alitalia is receiving illegal state aid from the European Commission. The article discusses the actions of Transport Commissioner Jacques Barrot, the concerns raised by rival airlines, and the EU's rules regarding state aid, all of which are key aspects of political coverage.\n"
     ]
    },
    {
     "name": "stderr",
     "output_type": "stream",
     "text": [
      " 29%|██▊       | 28/98 [02:47<06:35,  5.65s/it]"
     ]
    },
    {
     "name": "stdout",
     "output_type": "stream",
     "text": [
      "\n",
      "Raw model output: Code: business\n",
      "Reason: The article primarily focuses on financial markets, economic issues, and industry trends, specifically discussing a potential bidding war for MCI between Qwest and Verizon. It covers topics such as the value of the deal ($6.75bn), regulatory scrutiny, and the financial implications for both companies, including their debt levels and past settlements with the Securities and Exchange Commission.\n"
     ]
    },
    {
     "name": "stderr",
     "output_type": "stream",
     "text": [
      " 30%|██▉       | 29/98 [02:52<06:13,  5.42s/it]"
     ]
    },
    {
     "name": "stdout",
     "output_type": "stream",
     "text": [
      "\n",
      "Raw model output: Code: business\n",
      "Reason: The article primarily focuses on economic data, specifically industrial production growth and its implications for the US economy. It discusses forecasts, analyst opinions, and expert insights on the state of the economy, job growth, and inflation, which are all key aspects of business news.\n"
     ]
    },
    {
     "name": "stderr",
     "output_type": "stream",
     "text": [
      " 31%|███       | 30/98 [02:58<06:16,  5.53s/it]"
     ]
    },
    {
     "name": "stdout",
     "output_type": "stream",
     "text": [
      "\n",
      "Raw model output: Code: politics\n",
      "Reason: The article discusses government policy and legislation, specifically focusing on a controversy surrounding Labour's campaign posters and their depiction of Michael Howard. The quotes from Alan Milburn and Julian Lewis, as well as the context of the election and the party's strategy, all point to a political issue that is being debated in the Commons.\n"
     ]
    },
    {
     "name": "stderr",
     "output_type": "stream",
     "text": [
      " 32%|███▏      | 31/98 [03:06<07:06,  6.36s/it]"
     ]
    },
    {
     "name": "stdout",
     "output_type": "stream",
     "text": [
      "\n",
      "Raw model output: Code: business\n",
      "Reason: The article primarily focuses on corporate leadership changes and power struggles within EADS, a European defence and aerospace group. Philippe Camus's departure as French co-head is discussed, along with the appointment of Noel Forgeard as his replacement. Additionally, the article mentions the impact of infighting between Camus and Forgeard on the company's stability and the reactions of key stakeholders, including Herve Gaymard, the French finance minister. The article also touches on the A380 superjumbo project, which is a significant business venture for EADS, highlighting budget concerns and disagreements between Camus and Forgeard.\n"
     ]
    },
    {
     "name": "stderr",
     "output_type": "stream",
     "text": [
      " 33%|███▎      | 32/98 [03:11<06:25,  5.83s/it]"
     ]
    },
    {
     "name": "stdout",
     "output_type": "stream",
     "text": [
      "\n",
      "Raw model output: Code: business\n",
      "Reason: This article focuses on the British Phonographic Industry (BPI) launching a campaign to help independent labels get their music online and benefit from download sales. The BPI is lobbying music service providers, such as iTunes and Napster, to promote independent releases, which indicates a commercial issue related to financial markets and economic issues in the music industry.\n"
     ]
    },
    {
     "name": "stderr",
     "output_type": "stream",
     "text": [
      " 34%|███▎      | 33/98 [03:19<07:02,  6.51s/it]"
     ]
    },
    {
     "name": "stdout",
     "output_type": "stream",
     "text": [
      "\n",
      "Raw model output: Code: politics\n",
      "Reason: This article primarily focuses on political developments, including the re-election of George Bush as US President, reactions from world leaders such as Tony Blair and Michael Howard, and discussions about global issues like terrorism, poverty, and climate change. The article also mentions the upcoming challenges for Mr. Bush's administration, including rebuilding domestic purpose and addressing international relations. While there are some references to specific individuals and events, the overall tone and content of the article suggest a strong focus on political news and analysis.\n"
     ]
    },
    {
     "name": "stderr",
     "output_type": "stream",
     "text": [
      " 35%|███▍      | 34/98 [03:24<06:35,  6.19s/it]"
     ]
    },
    {
     "name": "stdout",
     "output_type": "stream",
     "text": [
      "\n",
      "Raw model output: Code: politics\n",
      "Reason: The article discusses government policy, specifically the reform of the House of Lords, and features quotes from prominent figures such as Baroness Boothroyd and Lord Falconer, who are both involved in the political process. The article also mentions the current role of the lord chancellor as Speaker of the House of Lords, which is a key aspect of the UK's parliamentary system.\n"
     ]
    },
    {
     "name": "stderr",
     "output_type": "stream",
     "text": [
      " 36%|███▌      | 35/98 [03:31<06:39,  6.34s/it]"
     ]
    },
    {
     "name": "stdout",
     "output_type": "stream",
     "text": [
      "\n",
      "Raw model output: Code: entertainment\n",
      "Reason: This article is primarily about music, specifically the top British rock albums of all time as voted by Kerrang! magazine readers. It features interviews with band members, including Ozzy Osbourne, and discusses their discography, which falls under entertainment coverage. The article also includes quotes from the editor and a brief history of the band's formation and success, further solidifying its classification as an entertainment news article.\n"
     ]
    },
    {
     "name": "stderr",
     "output_type": "stream",
     "text": [
      " 37%|███▋      | 36/98 [03:37<06:37,  6.41s/it]"
     ]
    },
    {
     "name": "stdout",
     "output_type": "stream",
     "text": [
      "\n",
      "Raw model output: Code: sport\n",
      "Reason: This article is primarily focused on a sports event, specifically the Spar European Indoor Championships in Madrid, and features a runner, James McIlroy, who is competing for his first major title. The article discusses McIlroy's form, his coach Tony Lester, and his ambitions for the upcoming competition, which are all relevant to the world of athletics.\n"
     ]
    },
    {
     "name": "stderr",
     "output_type": "stream",
     "text": [
      " 38%|███▊      | 37/98 [03:42<05:58,  5.88s/it]"
     ]
    },
    {
     "name": "stdout",
     "output_type": "stream",
     "text": [
      "\n",
      "Raw model output: Code: politics\n",
      "Reason: The article discusses government policy and legislation, specifically focusing on the upcoming election, voter turnout, and key issues that older voters want the government to address, such as pensions and the NHS. It also quotes a charity boss urging political parties to take action to win over the \"grey vote\".\n"
     ]
    },
    {
     "name": "stderr",
     "output_type": "stream",
     "text": [
      " 39%|███▉      | 38/98 [03:50<06:22,  6.37s/it]"
     ]
    },
    {
     "name": "stdout",
     "output_type": "stream",
     "text": [
      "\n",
      "Raw model output: Code: politics\n",
      "Reason: The article discusses government policy and legislation, specifically focusing on the ban on hunting with dogs coming into force. It mentions quotes from politicians such as Theresa May, Simon Hart, and Alastair McWhirter, who share their views on the law and its enforcement. Additionally, the article reports on police actions and arrests related to suspected hunting violations, indicating a strong political focus.\n"
     ]
    },
    {
     "name": "stderr",
     "output_type": "stream",
     "text": [
      " 40%|███▉      | 39/98 [03:59<07:04,  7.20s/it]"
     ]
    },
    {
     "name": "stdout",
     "output_type": "stream",
     "text": [
      "\n",
      "Raw model output: Code: entertainment\n",
      "Reason: Although the article discusses music download networks and advertisers, its main focus is on the controversy surrounding peer-to-peer ads and their impact on the music industry. The article quotes Paul Myers, chief executive of Wippit, and Mark Mulligan, a music analyst with Jupiter Research, discussing the legitimacy of file-sharing networks and the role of advertisers in supporting them. While music is mentioned, the article's primary concern is not entertainment news but rather the business and legal implications of peer-to-peer ads on the music industry.\n"
     ]
    },
    {
     "name": "stderr",
     "output_type": "stream",
     "text": [
      " 41%|████      | 40/98 [04:04<06:21,  6.58s/it]"
     ]
    },
    {
     "name": "stdout",
     "output_type": "stream",
     "text": [
      "\n",
      "Raw model output: Code: sport\n",
      "Reason: This article primarily focuses on a tennis match between Sania Mirza and Svetlana Kuznetsova, discussing the outcome of the match, player performances, and quotes from the players. The article also mentions other tennis matches and players, further emphasizing its sports-oriented content.\n"
     ]
    },
    {
     "name": "stderr",
     "output_type": "stream",
     "text": [
      " 42%|████▏     | 41/98 [04:18<08:30,  8.95s/it]"
     ]
    },
    {
     "name": "stdout",
     "output_type": "stream",
     "text": [
      "\n",
      "Raw model output: Code: Misuse of the \"Urban\" Term\n",
      "Reason: The term \"urban\" has been misused to describe black music, implying that it is exclusive to black artists or genres. This label is misleading and ignores the fact that many white bands also create urban music. For example, Oasis, a white rock band from Manchester, characterizes the urban life they know, yet they are not described as \"urban\" due to their racial background.\n"
     ]
    },
    {
     "name": "stderr",
     "output_type": "stream",
     "text": [
      " 43%|████▎     | 42/98 [04:27<08:10,  8.76s/it]"
     ]
    },
    {
     "name": "stdout",
     "output_type": "stream",
     "text": [
      "\n",
      "Raw model output: Code: business\n",
      "Reason: The article discusses financial markets and economic issues, specifically focusing on the Chancellor's golden rule, borrowing, and taxation. It mentions a £2.1bn boost to the current budget measure, an annual \"black hole\" of £10.5bn in the nation's coffers, and economists' predictions about fiscal consolidation. The article also quotes the Shadow Chancellor and the Treasury, indicating a focus on economic policy and government finance.\n"
     ]
    },
    {
     "name": "stderr",
     "output_type": "stream",
     "text": [
      " 44%|████▍     | 43/98 [04:32<07:02,  7.68s/it]"
     ]
    },
    {
     "name": "stdout",
     "output_type": "stream",
     "text": [
      "\n",
      "Raw model output: Code: sport\n",
      "Reason: This article is primarily focused on football (soccer) news, specifically discussing the FIFA World Player of the Year award and its shortlisted candidates. The mention of Arsenal's Thierry Henry, Barcelona's Ronaldinho, AC Milan's Andriy Shevchenko, Mia Hamm, Birgit Prinz, and Marta also reinforces this classification, as it highlights football players and teams.\n"
     ]
    },
    {
     "name": "stderr",
     "output_type": "stream",
     "text": [
      " 45%|████▍     | 44/98 [04:36<06:03,  6.73s/it]"
     ]
    },
    {
     "name": "stdout",
     "output_type": "stream",
     "text": [
      "\n",
      "Raw model output: Code: politics\n",
      "Reason: The article discusses the future of Aston Villa manager David O'Leary and his contract negotiations, which involves government-like decisions on staff retention and backroom deals. This falls under political coverage, as it touches on the management of a public institution (a football club) and the implications for its employees and stakeholders.\n"
     ]
    },
    {
     "name": "stderr",
     "output_type": "stream",
     "text": [
      " 46%|████▌     | 45/98 [04:41<05:17,  5.99s/it]"
     ]
    },
    {
     "name": "stdout",
     "output_type": "stream",
     "text": [
      "\n",
      "Raw model output: Code: business\n",
      "Reason: The article discusses Microsoft's launch of MSN Spaces, a blogging service, and its implications for the company's expansion into online publishing. It also mentions competitors like Google and AOL, which offer similar services, indicating an interest in the market trends and competition in the industry.\n"
     ]
    },
    {
     "name": "stderr",
     "output_type": "stream",
     "text": [
      " 47%|████▋     | 46/98 [04:47<05:18,  6.13s/it]"
     ]
    },
    {
     "name": "stdout",
     "output_type": "stream",
     "text": [
      "\n",
      "Raw model output: Code: tech\n",
      "Reason: The article discusses technology advancements, specifically a new screensaver tool developed by Lycos that endlessly requests data from spam websites, aiming to make it more expensive for spammers to operate. This is a clear example of tech-related news, focusing on innovation and its potential impact on the online world.\n"
     ]
    },
    {
     "name": "stderr",
     "output_type": "stream",
     "text": [
      " 48%|████▊     | 47/98 [04:53<05:05,  6.00s/it]"
     ]
    },
    {
     "name": "stdout",
     "output_type": "stream",
     "text": [
      "\n",
      "Raw model output: Code: politics\n",
      "Reason: The article discusses the US government's attempt to overturn a court ruling that threw out its claim for $280bn in damages from tobacco firms, which falls under political coverage. Specifically, it mentions the Justice Department's appeal and the use of legislation to fight organized crime, indicating a focus on government policy and action.\n"
     ]
    },
    {
     "name": "stderr",
     "output_type": "stream",
     "text": [
      " 49%|████▉     | 48/98 [05:02<05:43,  6.87s/it]"
     ]
    },
    {
     "name": "stdout",
     "output_type": "stream",
     "text": [
      "\n",
      "Raw model output: Code: politics\n",
      "Reason: The article discusses government policy and legislation, specifically focusing on the National Audit Office's report on improving adult literacy skills, the target of 1.5 million adults gaining basic qualifications by 2010, and the government's plans to spend £3.7bn on implementing a programme to address this issue. The article also mentions the Prime Minister Tony Blair's statement that it is \"only the start of the journey\" and quotes various politicians, including Education minister Ivan Lewis and Shadow Education Secretary Tim Collins, which further emphasizes the political nature of the topic.\n"
     ]
    },
    {
     "name": "stderr",
     "output_type": "stream",
     "text": [
      " 50%|█████     | 49/98 [05:10<05:59,  7.34s/it]"
     ]
    },
    {
     "name": "stdout",
     "output_type": "stream",
     "text": [
      "\n",
      "Raw model output: Code: business\n",
      "Reason: The article primarily focuses on the financial performance of General Motors (GM) and Ford, discussing their production cuts due to falling car sales. It also mentions market trends, such as foreign rivals gaining share in the US market, and quotes from executives explaining the reasons behind these changes. Specifically, the article states that GM and Ford blamed high fuel prices for low sales of big trucks and SUVs, which are profitable vehicles. The article also provides data on sales figures, production cuts, and market shares, all of which are relevant to business news.\n"
     ]
    },
    {
     "name": "stderr",
     "output_type": "stream",
     "text": [
      " 51%|█████     | 50/98 [05:16<05:28,  6.85s/it]"
     ]
    },
    {
     "name": "stdout",
     "output_type": "stream",
     "text": [
      "\n",
      "Raw model output: Code: business\n",
      "Reason: The article discusses a criminal case involving the distribution of pirated DVDs of Bollywood films, specifically focusing on financial gains (£26,000 per month) and the impact on legitimate businesses. It also mentions the involvement of industry organizations (British Phonographic Industry) and their efforts to combat piracy, indicating a commercial or economic issue at play.\n"
     ]
    },
    {
     "name": "stderr",
     "output_type": "stream",
     "text": [
      " 52%|█████▏    | 51/98 [05:24<05:37,  7.18s/it]"
     ]
    },
    {
     "name": "stdout",
     "output_type": "stream",
     "text": [
      "\n",
      "Raw model output: Code: politics\n",
      "Reason: The article discusses government policy, specifically the expansion of anti-social behaviour orders (Asbos) to 50 new pilot areas, the use of special prosecutors and local experts, and the announcement of new measures to strengthen Asbos and fixed penalty notices. It also mentions the Prime Minister's speech and the Home Office Minister's comments on the effectiveness of CSOs, indicating a focus on government initiatives and policies related to law enforcement and community safety.\n"
     ]
    },
    {
     "name": "stderr",
     "output_type": "stream",
     "text": [
      " 53%|█████▎    | 52/98 [05:29<04:57,  6.47s/it]"
     ]
    },
    {
     "name": "stdout",
     "output_type": "stream",
     "text": [
      "\n",
      "Raw model output: Code: business\n",
      "Reason: The article primarily focuses on financial performance and industry trends, specifically discussing UK Coal's losses, share price fluctuations, and operational changes. It also mentions the company's efforts to improve its business through new wage structures, maintenance regimes, and cost-cutting measures, which are all relevant to economic issues and industry developments.\n"
     ]
    },
    {
     "name": "stderr",
     "output_type": "stream",
     "text": [
      " 54%|█████▍    | 53/98 [05:33<04:20,  5.78s/it]"
     ]
    },
    {
     "name": "stdout",
     "output_type": "stream",
     "text": [
      "\n",
      "Raw model output: Code: politics\n",
      "Reason: The article discusses a potential merger between two trade unions, which would require approval from their executives and membership. It also mentions the involvement of Labour's leadership and the Warwick Agreement, indicating that the union is trying to exert more influence with ministers and employers, which falls under political coverage.\n"
     ]
    },
    {
     "name": "stderr",
     "output_type": "stream",
     "text": [
      " 55%|█████▌    | 54/98 [05:39<04:25,  6.04s/it]"
     ]
    },
    {
     "name": "stdout",
     "output_type": "stream",
     "text": [
      "\n",
      "Raw model output: Code: business\n",
      "Reason: The article primarily focuses on Boeing's new aircraft launch and its impact on the airline industry, discussing financial performance, market trends, and competition with Airbus. Specific details such as sales projections, orders from airlines, and profit margins are also mentioned, which further solidify the classification under the business category.\n"
     ]
    },
    {
     "name": "stderr",
     "output_type": "stream",
     "text": [
      " 56%|█████▌    | 55/98 [05:46<04:26,  6.20s/it]"
     ]
    },
    {
     "name": "stdout",
     "output_type": "stream",
     "text": [
      "\n",
      "Raw model output: Code: politics\n",
      "Reason: This article primarily focuses on government policy and international relations, specifically discussing the decision by India and Pakistan to open a bus link across the ceasefire line dividing Kashmir. The article also mentions Foreign Secretary Jack Straw's praise for the \"spirit of cooperation\" and his hopes that the agreement will make a difference to Kashmiris. Additionally, it mentions talks between the Indian government and Pakistan on reducing the risk of nuclear accidents, which further emphasizes the political nature of the article.\n"
     ]
    },
    {
     "name": "stderr",
     "output_type": "stream",
     "text": [
      " 57%|█████▋    | 56/98 [05:50<03:58,  5.67s/it]"
     ]
    },
    {
     "name": "stdout",
     "output_type": "stream",
     "text": [
      "\n",
      "Raw model output: Code: business\n",
      "Reason: The article discusses Japan's economy and its growth figures, specifically focusing on the country's technical recession, economic recovery, and the impact of a strengthening yen on exports. It also mentions government responses and expert opinions from an economist at Lehman Brothers, which further solidifies its classification as a business news article.\n"
     ]
    },
    {
     "name": "stderr",
     "output_type": "stream",
     "text": [
      " 58%|█████▊    | 57/98 [05:56<03:52,  5.68s/it]"
     ]
    },
    {
     "name": "stdout",
     "output_type": "stream",
     "text": [
      "\n",
      "Raw model output: Code: politics\n",
      "Reason: The article discusses government policy and legislation, specifically focusing on the resignation of David Blunkett, Tony Blair's comments about his future, and the reactions from Tory Dominic Grieve and Labour backbencher Martin O'Neill. It also mentions the prime minister's \"praetorian guard\" reference, which is a term typically used in political contexts to describe an elite group of advisors or bodyguards.\n"
     ]
    },
    {
     "name": "stderr",
     "output_type": "stream",
     "text": [
      " 59%|█████▉    | 58/98 [06:04<04:11,  6.29s/it]"
     ]
    },
    {
     "name": "stdout",
     "output_type": "stream",
     "text": [
      "\n",
      "Raw model output: Code: sport\n",
      "Reason: This article primarily focuses on rugby, specifically the Six Nations tournament and England's performance. The quotes from David Campese, a former Australian wing, discuss the team's behavior, leadership issues, and potential complaints to the International Rugby Board. While there are mentions of other teams (Ireland, Wales, Scotland, France) and coaches (Andy Robinson), the core topic is rugby and its related controversies, making it a sports article.\n"
     ]
    },
    {
     "name": "stderr",
     "output_type": "stream",
     "text": [
      " 60%|██████    | 59/98 [06:10<04:01,  6.19s/it]"
     ]
    },
    {
     "name": "stdout",
     "output_type": "stream",
     "text": [
      "\n",
      "Raw model output: Code: sport\n",
      "Reason: This article is about Martina Hingis's return to competitive tennis after a two-year hiatus, specifically focusing on her upcoming match against Marlene Weingartner at the Volvo Women's Open in Pattaya, Thailand. The language used, such as \"I always want to win\" and \"You miss being out there in a Grand Slam final,\" suggests that the article is primarily about Hingis's athletic performance and competitive spirit, which are key elements of sports reporting.\n"
     ]
    },
    {
     "name": "stderr",
     "output_type": "stream",
     "text": [
      " 61%|██████    | 60/98 [06:16<03:58,  6.28s/it]"
     ]
    },
    {
     "name": "stdout",
     "output_type": "stream",
     "text": [
      "\n",
      "Raw model output: Code: politics\n",
      "Reason: This article discusses government policy and legislation, specifically focusing on the appointment of Alastair Campbell as a media consultant to Sir Clive Woodward's 2005 Lions tour. The article mentions the deterioration in media relations from the previous Lions tour and the need for a strategy to deal with the pressures of the media event. Additionally, it mentions that Campbell will resume working for the government in the new year, indicating a connection to the political sphere.\n"
     ]
    },
    {
     "name": "stderr",
     "output_type": "stream",
     "text": [
      " 62%|██████▏   | 61/98 [06:22<03:44,  6.07s/it]"
     ]
    },
    {
     "name": "stdout",
     "output_type": "stream",
     "text": [
      "\n",
      "Raw model output: Code: politics\n",
      "Reason: The article discusses government policy and legislation, specifically focusing on a dispute between Newry City FC and the IFA regarding their ejection from the Nationwide Irish Cup. It mentions an appeal pending, a law firm putting forward a case, and the possibility of lodging an injunction in court to stop Bangor playing Portadown, all of which are related to legal implications and government-like actions.\n"
     ]
    },
    {
     "name": "stderr",
     "output_type": "stream",
     "text": [
      " 63%|██████▎   | 62/98 [06:31<04:16,  7.12s/it]"
     ]
    },
    {
     "name": "stdout",
     "output_type": "stream",
     "text": [
      "\n",
      "Raw model output: Code: politics\n",
      "Reason: Although the article discusses various athletes and their performances, its focus on the Irish Athletics Council's sting operation to catch Cathal Lombard for doping, and the subsequent two-year ban, indicates a political aspect. The use of phrases like \"the sport was rocked\" and \"the country attempted to delude itself into believing\" also suggests that the article is discussing the impact of this incident on the athletics community, which can be seen as a political issue.\n"
     ]
    },
    {
     "name": "stderr",
     "output_type": "stream",
     "text": [
      " 64%|██████▍   | 63/98 [06:36<03:43,  6.39s/it]"
     ]
    },
    {
     "name": "stdout",
     "output_type": "stream",
     "text": [
      "\n",
      "Raw model output: Code: entertainment\n",
      "Reason: The article discusses a music poll, specifically an album of the year award, featuring various artists such as The Streets, Keane, Franz Ferdinand, and U2. It also includes quotes from Q Magazine praising the albums and their songwriting qualities, indicating that the main focus is on music and cultural events.\n"
     ]
    },
    {
     "name": "stderr",
     "output_type": "stream",
     "text": [
      " 65%|██████▌   | 64/98 [06:42<03:27,  6.09s/it]"
     ]
    },
    {
     "name": "stdout",
     "output_type": "stream",
     "text": [
      "\n",
      "Raw model output: Code: entertainment\n",
      "Reason: This article is primarily about the release of a film, \"Howl's Moving Castle\", by Oscar-winning animator Hayao Miyazaki. It discusses the film's box office performance in Japan and its upcoming global release in 50 countries, as well as its connection to the author Diana Wynne Jones and its reception from audiences. The article focuses on the entertainment industry, specifically movies and cultural events.\n"
     ]
    },
    {
     "name": "stderr",
     "output_type": "stream",
     "text": [
      " 66%|██████▋   | 65/98 [06:46<03:09,  5.75s/it]"
     ]
    },
    {
     "name": "stdout",
     "output_type": "stream",
     "text": [
      "\n",
      "Raw model output: Code: entertainment\n",
      "Reason: This article is about a film award and its winner, Morgan Spurlock, which falls under entertainment coverage. The article also mentions the film \"Super Size Me\" and its impact on McDonald's, but the primary focus is on the award ceremony and the filmmaker, making it an entertainment news article.\n"
     ]
    },
    {
     "name": "stderr",
     "output_type": "stream",
     "text": [
      " 67%|██████▋   | 66/98 [06:55<03:34,  6.69s/it]"
     ]
    },
    {
     "name": "stdout",
     "output_type": "stream",
     "text": [
      "\n",
      "Raw model output: Code: business\n",
      "Reason: The article primarily focuses on financial issues related to US Airways' bankruptcy, its impact on passengers and employees, and the airline's struggles with staffing and pay cuts. Specifically, it mentions that US Airways is in Chapter 11 bankruptcy protection for the second time in two years, battling to cut costs, and negotiating pay cuts with flight and baggage staff. The article also discusses the potential financial implications of the chaos on Delta Air Lines, parent of Comair, and the industry's compliance with a 1999 agreement aimed at improving passenger service quality.\n"
     ]
    },
    {
     "name": "stderr",
     "output_type": "stream",
     "text": [
      " 68%|██████▊   | 67/98 [07:05<03:51,  7.48s/it]"
     ]
    },
    {
     "name": "stdout",
     "output_type": "stream",
     "text": [
      "\n",
      "Raw model output: Code: tech\n",
      "Reason: The article discusses the evolution of malware, its increasing sophistication, and the tactics used by malicious programs. It also mentions the use of technology by criminals to commit cybercrime, such as exploiting loopholes in browsers or hiding in e-mail message attachments. Additionally, the article quotes experts on the growing criminal use of malware and how firms are tightening up networks with defences to combat it. The main motivation for these crimes is money, as stated by Gary Stowell, spokesman for St Bernard software, highlighting the financial aspect of cybercrime.\n"
     ]
    },
    {
     "name": "stderr",
     "output_type": "stream",
     "text": [
      " 69%|██████▉   | 68/98 [07:10<03:22,  6.75s/it]"
     ]
    },
    {
     "name": "stdout",
     "output_type": "stream",
     "text": [
      "\n",
      "Raw model output: Code: entertainment\n",
      "Reason: The article primarily focuses on the music industry, specifically a VH1 special featuring Duran Duran, including interviews, concert footage, and fan interactions. It also mentions the band's recent album release, tour dates, and promotional efforts for their new single, indicating that the main emphasis is on entertainment news related to the music world.\n"
     ]
    },
    {
     "name": "stderr",
     "output_type": "stream",
     "text": [
      " 70%|███████   | 69/98 [07:18<03:29,  7.22s/it]"
     ]
    },
    {
     "name": "stdout",
     "output_type": "stream",
     "text": [
      "\n",
      "Raw model output: Code: tech\n",
      "Reason: The article discusses the development of next-generation video game consoles, their capabilities, and the impact on the gaming industry. It mentions technological advancements such as processing power, graphical capabilities, convergence technologies, and real-world physics, which are all related to technology and innovation in the field of gaming.\n"
     ]
    },
    {
     "name": "stderr",
     "output_type": "stream",
     "text": [
      " 71%|███████▏  | 70/98 [07:23<03:00,  6.44s/it]"
     ]
    },
    {
     "name": "stdout",
     "output_type": "stream",
     "text": [
      "\n",
      "Raw model output: Code: business\n",
      "Reason: The article focuses on Tate & Lyle's CEO, Iain Ferguson, being awarded European Businessman of the Year by Forbes, and discusses his role in returning the company to growth and its subsequent stock price increase. This is a clear example of business news, specifically covering companies, financial markets, and economic issues.\n"
     ]
    },
    {
     "name": "stderr",
     "output_type": "stream",
     "text": [
      " 72%|███████▏  | 71/98 [07:28<02:43,  6.06s/it]"
     ]
    },
    {
     "name": "stdout",
     "output_type": "stream",
     "text": [
      "\n",
      "Raw model output: Code: entertainment\n",
      "Reason: This article focuses on celebrity news, specifically the eviction of Jackie Stallone from Celebrity Big Brother, and discusses her interactions with other contestants, as well as reactions from bookmakers and protesters. The tone is also lighthearted and attention-grabbing, typical of entertainment reporting.\n"
     ]
    },
    {
     "name": "stderr",
     "output_type": "stream",
     "text": [
      " 73%|███████▎  | 72/98 [07:33<02:32,  5.87s/it]"
     ]
    },
    {
     "name": "stdout",
     "output_type": "stream",
     "text": [
      "\n",
      "Raw model output: Code: politics\n",
      "Reason: The article primarily focuses on Gordon Brown outlining his vision for New Labour's next general election bid, discussing key themes such as ensuring every child has the best start in life and promoting lifelong education. This is a clear example of political coverage, specifically related to government policy and leadership within the Labour party.\n"
     ]
    },
    {
     "name": "stderr",
     "output_type": "stream",
     "text": [
      " 74%|███████▍  | 73/98 [07:38<02:21,  5.65s/it]"
     ]
    },
    {
     "name": "stdout",
     "output_type": "stream",
     "text": [
      "\n",
      "Raw model output: Code: sport\n",
      "Reason: This article is primarily about the athletic career of Ashia Hansen, a triple jumper, and discusses her injury setback and potential return to competition. The language used, such as \"sidelined\" and \"competitive arena,\" further reinforces the sports focus. Additionally, the mention of specific events like the European Cup and the Commonwealth Games adds to the sports context.\n"
     ]
    },
    {
     "name": "stderr",
     "output_type": "stream",
     "text": [
      " 76%|███████▌  | 74/98 [07:46<02:26,  6.10s/it]"
     ]
    },
    {
     "name": "stdout",
     "output_type": "stream",
     "text": [
      "\n",
      "Raw model output: Code: politics\n",
      "Reason: The article primarily discusses government policy and legislation related to housing plans, with quotes from Deputy Prime Minister John Prescott and Chairman of the Environmental Audit Committee Peter Ainsworth MP. The report highlights concerns about environmental damage, energy efficiency, and transport, which are all key aspects of government policy. Additionally, the article mentions specific initiatives and proposals, such as a \"national spatial framework\" for England, which further reinforces its focus on political coverage.\n"
     ]
    },
    {
     "name": "stderr",
     "output_type": "stream",
     "text": [
      " 77%|███████▋  | 75/98 [07:52<02:25,  6.30s/it]"
     ]
    },
    {
     "name": "stdout",
     "output_type": "stream",
     "text": [
      "\n",
      "Raw model output: Code: business\n",
      "Reason: The article primarily focuses on financial markets, economic issues, and industry trends, specifically discussing the US interest rate increase, its impact on the economy, and the Federal Reserve's decision-making process. The article also mentions stock market performance, job creation, exports, and inflation rates, all of which are key aspects of business news.\n"
     ]
    },
    {
     "name": "stderr",
     "output_type": "stream",
     "text": [
      " 78%|███████▊  | 76/98 [07:59<02:22,  6.46s/it]"
     ]
    },
    {
     "name": "stdout",
     "output_type": "stream",
     "text": [
      "\n",
      "Raw model output: Code: politics\n",
      "Reason: The article primarily discusses government policies, specifically the Labour Party's immigration plans and the response from the Conservative Party, led by Tony Blair. It also mentions Home Secretary Charles Clarke and Tory co-chairman Liam Fox, who are both prominent figures in the political landscape. The article focuses on the debate over immigration and asylum policy, which is a key aspect of politics.\n"
     ]
    },
    {
     "name": "stderr",
     "output_type": "stream",
     "text": [
      " 79%|███████▊  | 77/98 [08:05<02:09,  6.15s/it]"
     ]
    },
    {
     "name": "stdout",
     "output_type": "stream",
     "text": [
      "\n",
      "Raw model output: Code: entertainment\n",
      "Reason: The article primarily discusses the performance of various films at the US box office, including their earnings, rankings, and notable achievements (e.g., Jim Carrey's ninth film to hit $100m mark). It also mentions the success of the film \"Meet The Fockers\" in other countries like Australia and Mexico.\n"
     ]
    },
    {
     "name": "stderr",
     "output_type": "stream",
     "text": [
      " 80%|███████▉  | 78/98 [08:11<02:06,  6.32s/it]"
     ]
    },
    {
     "name": "stdout",
     "output_type": "stream",
     "text": [
      "\n",
      "Raw model output: Code: business\n",
      "Reason: The article primarily focuses on financial issues and data security, specifically discussing the loss of customer account details by Bank of America. It mentions the number of affected customers (over 1 million), the potential for identity theft, and the bank's investigation with federal law authorities. While it does mention some political figures, such as Senators Schumer and Leahy, the main focus is on the financial implications and data security concerns, making \"business\" the most appropriate category.\n"
     ]
    },
    {
     "name": "stderr",
     "output_type": "stream",
     "text": [
      " 81%|████████  | 79/98 [08:16<01:52,  5.91s/it]"
     ]
    },
    {
     "name": "stdout",
     "output_type": "stream",
     "text": [
      "\n",
      "Raw model output: Code: politics\n",
      "Reason: The article discusses government policy and legislation, specifically mentioning a national body designed to tackle skills shortages in key subjects, a report by the Commons science and technology committee, and recommendations for a \"strategic capabilities fund\" to address shortages. This falls under political coverage, as it involves government actions and policies related to education and workforce development.\n"
     ]
    },
    {
     "name": "stderr",
     "output_type": "stream",
     "text": [
      " 82%|████████▏ | 80/98 [08:23<01:50,  6.14s/it]"
     ]
    },
    {
     "name": "stdout",
     "output_type": "stream",
     "text": [
      "\n",
      "Raw model output: Code: politics\n",
      "Reason: The article primarily focuses on the comments made by Charles Kennedy, the leader of the Liberal Democrats, regarding Tony Blair's trustworthiness as prime minister. The discussion revolves around political issues such as tax plans, anti-terror laws, and immigration, which are all central to the Lib Dem party's stance. Additionally, Mr. Kennedy's statements about the party's policies and his own leadership goals further emphasize the article's focus on politics.\n"
     ]
    },
    {
     "name": "stderr",
     "output_type": "stream",
     "text": [
      " 83%|████████▎ | 81/98 [08:31<01:52,  6.62s/it]"
     ]
    },
    {
     "name": "stdout",
     "output_type": "stream",
     "text": [
      "\n",
      "Raw model output: Code: politics\n",
      "Reason: The article discusses government policy and legislation, specifically focusing on the alleged rift between Tony Blair and Gordon Brown over who should take credit for the government's global aid and debt initiatives. It also mentions their roles in general election planning, cabinet meetings, and public statements, which are all related to political coverage.\n"
     ]
    },
    {
     "name": "stderr",
     "output_type": "stream",
     "text": [
      " 84%|████████▎ | 82/98 [08:39<01:54,  7.14s/it]"
     ]
    },
    {
     "name": "stdout",
     "output_type": "stream",
     "text": [
      "\n",
      "Raw model output: Code: entertainment\n",
      "Reason: The article primarily focuses on music awards, including the winners of various categories such as best group, best video, best song, and best album. It also mentions performances by artists like OutKast, Usher, Muse, and others, which are all related to the entertainment industry. Additionally, the article quotes artists and musicians, further solidifying its classification as an entertainment news article.\n"
     ]
    },
    {
     "name": "stderr",
     "output_type": "stream",
     "text": [
      " 85%|████████▍ | 83/98 [08:49<01:59,  7.95s/it]"
     ]
    },
    {
     "name": "stdout",
     "output_type": "stream",
     "text": [
      "\n",
      "Raw model output: Code: politics\n",
      "Reason: The article primarily focuses on Gordon Brown's Budget speech, discussing various economic policies, tax cuts, and social welfare measures. It includes quotes from political leaders such as Michael Howard, Charles Kennedy, Alex Salmond, Simon Thomas, Roger Knapman, and the Green Party, which further emphasizes its political nature. Additionally, the article mentions specific government initiatives, such as a memorial to the Queen Mother and plans for same-sex couples, which are also related to politics.\n"
     ]
    },
    {
     "name": "stderr",
     "output_type": "stream",
     "text": [
      " 86%|████████▌ | 84/98 [08:57<01:50,  7.86s/it]"
     ]
    },
    {
     "name": "stdout",
     "output_type": "stream",
     "text": [
      "\n",
      "Raw model output: Code: business\n",
      "Reason: The article discusses the UK's adoption of digital technologies, including broadband speeds, digital TV, and gadgets such as mobiles, cameras, and gaming devices. It also mentions companies like NTL and BT, which are cable and telecommunications providers, and their trials with new broadband technology. Additionally, the article quotes a Jupiter analyst discussing trends in technology adoption across Europe, further emphasizing the business aspect of the report.\n"
     ]
    },
    {
     "name": "stderr",
     "output_type": "stream",
     "text": [
      " 87%|████████▋ | 85/98 [09:03<01:38,  7.56s/it]"
     ]
    },
    {
     "name": "stdout",
     "output_type": "stream",
     "text": [
      "\n",
      "Raw model output: Code: business\n",
      "Reason: The article discusses a dispute over land ownership and seizure by Venezuelan authorities, which falls under financial markets and economic issues. Specifically, it mentions the Vestey Group's subsidiary, Agroflora, operating farms in Venezuela, and the government's agrarian reform programme aimed at seizing idle lands. This indicates that the article is focused on business and economic matters related to companies and their operations in Venezuela.\n"
     ]
    },
    {
     "name": "stderr",
     "output_type": "stream",
     "text": [
      " 88%|████████▊ | 86/98 [09:08<01:19,  6.62s/it]"
     ]
    },
    {
     "name": "stdout",
     "output_type": "stream",
     "text": [
      "\n",
      "Raw model output: Code: business\n",
      "Reason: The article primarily focuses on financial markets and economic issues, specifically discussing a proposed tie-up between MG Rover and Chinese carmaker Shanghai Automotive Industry Corp, its potential impact on the workforce at Rover's Longbridge plant, and concerns about job losses.\n"
     ]
    },
    {
     "name": "stderr",
     "output_type": "stream",
     "text": [
      " 89%|████████▉ | 87/98 [09:15<01:13,  6.70s/it]"
     ]
    },
    {
     "name": "stdout",
     "output_type": "stream",
     "text": [
      "\n",
      "Raw model output: Code: entertainment\n",
      "Reason: This article primarily focuses on the Bangkok International Film Festival, including its events, celebrity guests, and film premieres. The festival's program, attendees, and cultural significance are all discussed in detail, indicating that the main focus is on entertainment news related to movies and the film industry.\n"
     ]
    },
    {
     "name": "stderr",
     "output_type": "stream",
     "text": [
      " 90%|████████▉ | 88/98 [09:20<01:03,  6.31s/it]"
     ]
    },
    {
     "name": "stdout",
     "output_type": "stream",
     "text": [
      "\n",
      "Raw model output: Code: sport\n",
      "Reason: This article is primarily focused on a tennis match, specifically the final of the SAP Open in San Jose, featuring the top seed Andy Roddick and his opponent Cyril Saulnier. The article discusses the match outcome, player quotes, and injuries sustained by one of the players, which are all characteristic of sports reporting.\n"
     ]
    },
    {
     "name": "stderr",
     "output_type": "stream",
     "text": [
      " 91%|█████████ | 89/98 [09:25<00:53,  5.97s/it]"
     ]
    },
    {
     "name": "stdout",
     "output_type": "stream",
     "text": [
      "\n",
      "Raw model output: Code: politics\n",
      "Reason: The article discusses government policy and legislation, specifically focusing on Lord Archer's potential rejoining of the Conservative Party, with quotes from party co-chairman Dr. Liam Fox and other senior figures, including Lord Tebbit and Sir Teddy Taylor, who weigh in on the issue.\n"
     ]
    },
    {
     "name": "stderr",
     "output_type": "stream",
     "text": [
      " 92%|█████████▏| 90/98 [09:31<00:47,  5.88s/it]"
     ]
    },
    {
     "name": "stdout",
     "output_type": "stream",
     "text": [
      "\n",
      "Raw model output: Code: sport\n",
      "Reason: This article is primarily focused on a sports event, specifically an international rugby match between Ireland and Argentina. The text describes the game's progression, player performances, and match outcomes, making it clear that the main focus is on the sporting aspect of the story.\n"
     ]
    },
    {
     "name": "stderr",
     "output_type": "stream",
     "text": [
      " 93%|█████████▎| 91/98 [09:36<00:39,  5.69s/it]"
     ]
    },
    {
     "name": "stdout",
     "output_type": "stream",
     "text": [
      "\n",
      "Raw model output: Code: entertainment\n",
      "Reason: This article is primarily about the broadcasting rights for the Academy Awards (Oscar night), a cultural event that falls under the category of entertainment. The article discusses Sky's new deal to broadcast the event, its coverage plans, and the ceremony's host, Chris Rock, which are all related to the film industry and popular culture.\n"
     ]
    },
    {
     "name": "stderr",
     "output_type": "stream",
     "text": [
      " 94%|█████████▍| 92/98 [09:43<00:36,  6.07s/it]"
     ]
    },
    {
     "name": "stdout",
     "output_type": "stream",
     "text": [
      "\n",
      "Raw model output: Code: sport\n",
      "Reason: This article is primarily focused on a sports event, specifically the Davis Cup tennis tournament, with detailed coverage of the match between Carlos Moya and Andy Roddick, as well as the performances of other players like Rafael Nadal. The language used also suggests a focus on athletic achievement and competition, with quotes from players and coaches discussing strategy and tactics.\n"
     ]
    },
    {
     "name": "stderr",
     "output_type": "stream",
     "text": [
      " 95%|█████████▍| 93/98 [09:48<00:28,  5.61s/it]"
     ]
    },
    {
     "name": "stdout",
     "output_type": "stream",
     "text": [
      "\n",
      "Raw model output: Code: sport\n",
      "Reason: This article focuses on athletic achievements, specifically pole vaulting, and features details about a world record attempt by Yelena Isinbayeva, as well as results from the men's 60m event. The tone and language used also suggest a sports news context, with quotes from athletes and discussion of competition outcomes.\n"
     ]
    },
    {
     "name": "stderr",
     "output_type": "stream",
     "text": [
      " 96%|█████████▌| 94/98 [09:58<00:27,  6.89s/it]"
     ]
    },
    {
     "name": "stdout",
     "output_type": "stream",
     "text": [
      "\n",
      "Raw model output: Code: business\n",
      "Reason: The article discusses financial institutions, banks, and their security measures to prevent identity theft and data breaches. It also mentions the Financial Services Authority's warning about criminal gangs targeting jobs with access to confidential customer data, which is a financial issue. Additionally, the article touches on companies like SecureWave and Cahoot, which are involved in providing solutions for securing bank systems, further emphasizing the business aspect of the topic.\n"
     ]
    },
    {
     "name": "stderr",
     "output_type": "stream",
     "text": [
      " 97%|█████████▋| 95/98 [10:02<00:18,  6.09s/it]"
     ]
    },
    {
     "name": "stdout",
     "output_type": "stream",
     "text": [
      "\n",
      "Raw model output: Code: sport\n",
      "Reason: This article is primarily about a tennis player, Stefan Koubek, who has been suspended by the International Tennis Federation (ITF) due to testing positive for a banned substance. The article also mentions his involvement in the Davis Cup and the upcoming Australian Open, further solidifying its focus on sports news.\n"
     ]
    },
    {
     "name": "stderr",
     "output_type": "stream",
     "text": [
      " 98%|█████████▊| 96/98 [10:08<00:12,  6.25s/it]"
     ]
    },
    {
     "name": "stdout",
     "output_type": "stream",
     "text": [
      "\n",
      "Raw model output: Code: tech\n",
      "Reason: The article discusses the blocking of a news site, specifically Google News, and its implications on internet access and censorship. It also mentions Google's response to the issue and the technical aspects of how the news service is curated, such as the use of computer algorithms to select headlines. Additionally, it highlights China's extensive control over the internet, including monitoring websites and e-mails, which suggests a focus on technological and internet-related issues.\n"
     ]
    },
    {
     "name": "stderr",
     "output_type": "stream",
     "text": [
      " 99%|█████████▉| 97/98 [10:13<00:05,  5.71s/it]"
     ]
    },
    {
     "name": "stdout",
     "output_type": "stream",
     "text": [
      "\n",
      "Raw model output: Code: sport\n",
      "Reason: This article is primarily focused on a rugby match between Leeds and Saracens, including team selections, player movements, and game details. The language used, such as \"Tykes\", \"prop\", \"fly-half\", and \"pack\", also suggests a sports context.\n"
     ]
    },
    {
     "name": "stderr",
     "output_type": "stream",
     "text": [
      "100%|██████████| 98/98 [10:19<00:00,  6.32s/it]"
     ]
    },
    {
     "name": "stdout",
     "output_type": "stream",
     "text": [
      "\n",
      "Raw model output: Code: tech\n",
      "Reason: The article discusses biometric technology and its implementation on a luxury cruise liner, specifically mentioning prototype versions of internationally issued biometric ID cards and machine readers produced by different companies. This focus on technological advancements and innovation in the field of biometrics classifies the article as tech news.\n",
      "\n",
      "Processing complete!\n",
      "Successfully processed: 98 rows\n",
      "Errors: 0 rows\n",
      "Ready to process! Load your DataFrame and call process_dataframe()\n"
     ]
    },
    {
     "name": "stderr",
     "output_type": "stream",
     "text": [
      "\n"
     ]
    }
   ],
   "source": [
    "import pandas as pd\n",
    "import ollama\n",
    "import re\n",
    "import time\n",
    "from tqdm import tqdm\n",
    "\n",
    "# Example codebook\n",
    "CODEBOOK = \"\"\"\n",
    "business: Tweets or news articles related to companies, financial markets, economic issues, or industry trends.\n",
    "entertainment: Tweets or news articles related to movies, music, celebrities, cultural events, or leisure activities.\n",
    "politics: Tweets or news articles related to government, elections, political parties, policies, or international relations.\n",
    "sport: Tweets or news articles related to sporting events, athletes, competitions, or athletic activities.\n",
    "tech: Tweets or news articles related to technology advancements, innovation, science, or tech companies.\n",
    "\"\"\"\n",
    "\n",
    "# Few-shot examples to help guide the model\n",
    "EXAMPLES = \"\"\"\n",
    "Example 1:\n",
    "Text: \"Manchester United secure dramatic win over Liverpool with last-minute goal from Rashford\"\n",
    "Code: sport\n",
    "Reason: This is clearly a sports article about a football match between Manchester United and Liverpool, featuring a specific player and match outcome.\n",
    "\n",
    "Example 2:\n",
    "Text: \"Apple unveils new iPhone with revolutionary AI capabilities\"\n",
    "Code: tech\n",
    "Reason: The article is about a technology product launch and discusses technological innovations.\n",
    "\n",
    "Example 3:\n",
    "Text: \"Global stock markets tumble amid inflation fears\"\n",
    "Code: business\n",
    "Reason: This covers financial markets and economic issues, specifically focusing on stock market performance.\n",
    "\n",
    "Example 4:\n",
    "Text: \"New legislation passed on climate change policy\"\n",
    "Code: politics\n",
    "Reason: The article discusses government policy and legislation, which falls under political coverage.\n",
    "\"\"\"\n",
    "\n",
    "def prepare_prompt(text):\n",
    "    system_prompt = f\"\"\"Instructions: You are an expert news classifier. Your task is to categorize BBC news articles into ONE of the following categories: business, entertainment, politics, sport, or tech.\n",
    "\n",
    "Rules:\n",
    "1. ALWAYS choose exactly ONE category\n",
    "2. Base your decision on the main focus of the article\n",
    "3. Format your response exactly as shown in the examples\n",
    "4. Provide clear reasoning that references specific content from the article\n",
    "\n",
    "Codebook:\n",
    "{CODEBOOK}\n",
    "\n",
    "Examples of correct classifications:\n",
    "{EXAMPLES}\n",
    "\n",
    "Now analyze this article:\n",
    "---\n",
    "{text}\n",
    "---\n",
    "\n",
    "Output your analysis in this exact format:\n",
    "Code: [category]\n",
    "Reason: [detailed explanation referencing specific content]\"\"\"\n",
    "    return system_prompt\n",
    "\n",
    "def classify_text(text, retry_count=3, retry_delay=1):\n",
    "    \"\"\"Classify text using local Ollama instance with optimized parameters.\"\"\"\n",
    "    for attempt in range(retry_count):\n",
    "        try:\n",
    "            # Generate response with optimized parameters\n",
    "            response = ollama.generate(\n",
    "                model='llama3.2:latest',\n",
    "                prompt=prepare_prompt(text),\n",
    "                stream=False,\n",
    "                options={\n",
    "                    'temperature': 0.1,  # Lower temperature for more consistent outputs\n",
    "                    'top_p': 0.9,\n",
    "                    'top_k': 40,\n",
    "                    'num_predict': 200,  # Limit response length\n",
    "                    'stop': [\"\\n\\n\", \"Text:\", \"Example\"]  # Stop tokens to prevent rambling\n",
    "                }\n",
    "            )\n",
    "            \n",
    "            output = response['response']\n",
    "            \n",
    "            if not output:\n",
    "                raise ValueError(\"Empty response from model\")\n",
    "            \n",
    "            print(\"\\nRaw model output:\", output)  # Debug output\n",
    "                \n",
    "            # More robust code extraction\n",
    "            code_patterns = [\n",
    "                r'Code:\\s*(business|entertainment|politics|sport|tech)(?:\\s|$)',  # Strict pattern\n",
    "                r'Code:\\s*([a-zA-Z]+)',  # Backup pattern\n",
    "                r'\\b(business|entertainment|politics|sport|tech)\\b'  # Last resort\n",
    "            ]\n",
    "            \n",
    "            code = None\n",
    "            for pattern in code_patterns:\n",
    "                match = re.search(pattern, output, re.IGNORECASE)\n",
    "                if match:\n",
    "                    code = match.group(1).lower().strip()\n",
    "                    # Validate against allowed categories\n",
    "                    if code in ['business', 'entertainment', 'politics', 'sport', 'tech']:\n",
    "                        break\n",
    "            \n",
    "            # If no valid code found, use keyword matching\n",
    "            if not code:\n",
    "                text_lower = text.lower()\n",
    "                keywords = {\n",
    "                    'sport': ['football', 'soccer', 'tennis', 'rugby', 'player', 'match', 'game', 'tournament', 'championship'],\n",
    "                    'business': ['market', 'economy', 'company', 'stock', 'trade', 'business', 'financial'],\n",
    "                    'tech': ['technology', 'software', 'computer', 'digital', 'online', 'internet', 'app'],\n",
    "                    'politics': ['government', 'minister', 'president', 'election', 'policy', 'parliament'],\n",
    "                    'entertainment': ['movie', 'film', 'music', 'actor', 'star', 'celebrity', 'show']\n",
    "                }\n",
    "                \n",
    "                # Count keyword matches for each category\n",
    "                scores = {category: sum(1 for word in words if word in text_lower)\n",
    "                         for category, words in keywords.items()}\n",
    "                \n",
    "                # Use category with most keyword matches if any found\n",
    "                if max(scores.values()) > 0:\n",
    "                    code = max(scores.items(), key=lambda x: x[1])[0]\n",
    "                else:\n",
    "                    code = \"Unknown\"\n",
    "            \n",
    "            # Extract reasoning\n",
    "            reasoning_pattern = r'Reason:\\s*(.*?)(?=(?:Code:|$))'\n",
    "            reasoning_match = re.search(reasoning_pattern, output, re.IGNORECASE | re.DOTALL)\n",
    "            reasoning = reasoning_match.group(1).strip() if reasoning_match else output.strip()\n",
    "            \n",
    "            # Validate and clean reasoning\n",
    "            if len(reasoning) < 10:  # If reasoning too short, use raw output\n",
    "                reasoning = output.strip()\n",
    "            \n",
    "            return code, reasoning\n",
    "                \n",
    "        except Exception as e:\n",
    "            if attempt == retry_count - 1:\n",
    "                return \"Error\", f\"Processing failed after {retry_count} attempts: {str(e)}\"\n",
    "            time.sleep(retry_delay * (attempt + 1))\n",
    "            continue\n",
    "\n",
    "def process_dataframe(df, batch_size=50, save_interval=200):\n",
    "    \"\"\"Process the dataframe with progress tracking and periodic saving.\"\"\"\n",
    "    df_processed = df.copy()\n",
    "    \n",
    "    # Initialize columns for results\n",
    "    if 'model_prediction' not in df_processed.columns:\n",
    "        df_processed['model_prediction'] = None\n",
    "    if 'reasoning' not in df_processed.columns:\n",
    "        df_processed['reasoning'] = None\n",
    "    \n",
    "    unprocessed_mask = df_processed['model_prediction'].isna()\n",
    "    total_unprocessed = unprocessed_mask.sum()\n",
    "    \n",
    "    if total_unprocessed == 0:\n",
    "        print(\"All rows have already been processed!\")\n",
    "        return df_processed\n",
    "    \n",
    "    print(f\"Processing {total_unprocessed} unprocessed rows...\")\n",
    "    \n",
    "    with tqdm(total=total_unprocessed) as pbar:\n",
    "        processed_count = 0\n",
    "        \n",
    "        for idx in df_processed[unprocessed_mask].index:\n",
    "            try:\n",
    "                text = df_processed.loc[idx, 'text']\n",
    "                code, reasoning = classify_text(text)\n",
    "                \n",
    "                df_processed.loc[idx, 'model_prediction'] = code\n",
    "                df_processed.loc[idx, 'reasoning'] = reasoning\n",
    "                \n",
    "                processed_count += 1\n",
    "                pbar.update(1)\n",
    "                \n",
    "                # Save intermediate results\n",
    "                if processed_count % save_interval == 0:\n",
    "                    print(f\"\\nSaving intermediate results after processing {processed_count} rows...\")\n",
    "                    df_processed.to_csv('ollama_intermediate_results.csv', index=False)\n",
    "                \n",
    "                # Add delay to prevent overwhelming the model\n",
    "                if processed_count % batch_size == 0:\n",
    "                    time.sleep(1)\n",
    "                    \n",
    "            except Exception as e:\n",
    "                print(f\"\\nError processing row {idx}: {str(e)}\")\n",
    "                continue\n",
    "    \n",
    "    # Print summary\n",
    "    success_count = df_processed['model_prediction'].notna().sum() - df_processed['model_prediction'].eq('Error').sum()\n",
    "    error_count = df_processed['model_prediction'].eq('Error').sum()\n",
    "    print(f\"\\nProcessing complete!\")\n",
    "    print(f\"Successfully processed: {success_count} rows\")\n",
    "    print(f\"Errors: {error_count} rows\")\n",
    "    \n",
    "    return df_processed\n",
    "\n",
    "# Example usage:\n",
    "if __name__ == \"__main__\":\n",
    "    df_results2 = process_dataframe(df)\n",
    "    print(\"Ready to process! Load your DataFrame and call process_dataframe()\")"
   ]
  },
  {
   "cell_type": "code",
   "execution_count": 14,
   "metadata": {},
   "outputs": [],
   "source": [
    "results = df_results2"
   ]
  },
  {
   "cell_type": "code",
   "execution_count": 15,
   "metadata": {},
   "outputs": [
    {
     "name": "stdout",
     "output_type": "stream",
     "text": [
      "\n",
      "Similarity Analysis Summary:\n",
      "====================================================================================================\n",
      "                         Comparison  Accuracy  Kappa Score  Matching Cases  Total Cases Match Percentage\n",
      "        Original Code Vs Model Code  0.877551     0.842823              86           98           87.76%\n",
      "  Original Code Vs Model Prediction  0.785714     0.725454              77           98           78.57%\n",
      "      Replicated Code Vs Model Code  0.816327     0.761557              80           98           81.63%\n",
      "Replicated Code Vs Model Prediction  0.704082     0.616153              69           98           70.41%\n",
      "\n",
      "Detailed Analysis:\n",
      "====================================================================================================\n",
      "\n",
      "Comparison with Original Code:\n",
      "Better model: Original Code Vs Model Code\n",
      "Accuracy: 87.76%\n",
      "Kappa Score: 0.843\n",
      "\n",
      "Comparison with Replicated Code:\n",
      "Better model: Replicated Code Vs Model Code\n",
      "Accuracy: 81.63%\n",
      "Kappa Score: 0.762\n",
      "\n",
      "Confusion Matrix for original_code_vs_model_code:\n",
      "\n",
      "Categories: ['business', 'entertainment', 'politics', 'sport', 'tech']\n",
      "[[15  0  5  0  0]\n",
      " [ 2 14  1  0  0]\n",
      " [ 0  0 25  0  0]\n",
      " [ 0  0  2 23  0]\n",
      " [ 1  0  1  0  9]]\n",
      "\n",
      "Confusion Matrix for original_code_vs_model_prediction:\n",
      "\n",
      "Categories: ['business', 'entertainment', 'politics', 'sport', 'tech']\n",
      "[[17  0  3  0  0]\n",
      " [ 2 12  2  0  0]\n",
      " [ 1  0 24  0  0]\n",
      " [ 0  0  8 17  0]\n",
      " [ 3  1  0  0  7]]\n",
      "\n",
      "Confusion Matrix for replicated_code_vs_model_code:\n",
      "\n",
      "Categories: ['business', 'entertainment', 'politics', 'sport', 'tech']\n",
      "[[10  0  6  0  1]\n",
      " [ 1 14  1  0  1]\n",
      " [ 4  0 26  0  0]\n",
      " [ 0  0  1 23  0]\n",
      " [ 3  0  0  0  7]]\n",
      "\n",
      "Confusion Matrix for replicated_code_vs_model_prediction:\n",
      "\n",
      "Categories: ['business', 'entertainment', 'politics', 'sport', 'tech']\n",
      "[[12  0  5  0  0]\n",
      " [ 1 12  2  0  1]\n",
      " [ 6  0 23  0  1]\n",
      " [ 0  0  7 17  0]\n",
      " [ 4  1  0  0  5]]\n"
     ]
    }
   ],
   "source": [
    "def calculate_similarity_metrics(results_df, ground_truth_col, prediction_col):\n",
    "    \"\"\"\n",
    "    Calculate various similarity metrics between two columns\n",
    "    \"\"\"\n",
    "    # Remove rows where either column has missing values\n",
    "    valid_rows = results_df[[ground_truth_col, prediction_col]].dropna()\n",
    "    \n",
    "    if len(valid_rows) == 0:\n",
    "        return {\n",
    "            'accuracy': 0,\n",
    "            'kappa': 0,\n",
    "            'matching_cases': 0,\n",
    "            'total_cases': 0,\n",
    "            'percentage_match': 0\n",
    "        }\n",
    "    \n",
    "    # Calculate metrics\n",
    "    accuracy = accuracy_score(valid_rows[ground_truth_col], valid_rows[prediction_col])\n",
    "    kappa = cohen_kappa_score(valid_rows[ground_truth_col], valid_rows[prediction_col])\n",
    "    matching_cases = (valid_rows[ground_truth_col] == valid_rows[prediction_col]).sum()\n",
    "    total_cases = len(valid_rows)\n",
    "    percentage_match = (matching_cases / total_cases) * 100\n",
    "    \n",
    "    return {\n",
    "        'accuracy': accuracy,\n",
    "        'kappa': kappa,\n",
    "        'matching_cases': matching_cases,\n",
    "        'total_cases': total_cases,\n",
    "        'percentage_match': percentage_match\n",
    "    }\n",
    "\n",
    "def analyze_code_similarities(results_df):\n",
    "    \"\"\"\n",
    "    Analyze similarities between model outputs and human categorizations\n",
    "    \"\"\"\n",
    "    # Comparisons to make\n",
    "    comparisons = [\n",
    "        ('original_code', 'model_code'),\n",
    "        ('original_code', 'model_prediction'),\n",
    "        ('replicated_code', 'model_code'),\n",
    "        ('replicated_code', 'model_prediction')\n",
    "    ]\n",
    "    \n",
    "    # Calculate metrics for each comparison\n",
    "    results_dict = {}\n",
    "    for truth_col, pred_col in comparisons:\n",
    "        results_dict[f\"{truth_col}_vs_{pred_col}\"] = calculate_similarity_metrics(\n",
    "            results_df, truth_col, pred_col\n",
    "        )\n",
    "    \n",
    "    # Create a summary dataframe\n",
    "    summary_df = pd.DataFrame({\n",
    "        'Comparison': [k.replace('_', ' ').title() for k in results_dict.keys()],\n",
    "        'Accuracy': [v['accuracy'] for v in results_dict.values()],\n",
    "        'Kappa Score': [v['kappa'] for v in results_dict.values()],\n",
    "        'Matching Cases': [v['matching_cases'] for v in results_dict.values()],\n",
    "        'Total Cases': [v['total_cases'] for v in results_dict.values()],\n",
    "        'Match Percentage': [v['percentage_match'] for v in results_dict.values()]\n",
    "    })\n",
    "    \n",
    "    # Format the percentage column\n",
    "    summary_df['Match Percentage'] = summary_df['Match Percentage'].round(2).astype(str) + '%'\n",
    "    \n",
    "    # Create detailed confusion matrices\n",
    "    confusion_matrices = {}\n",
    "    for truth_col, pred_col in comparisons:\n",
    "        valid_rows = results_df[[truth_col, pred_col]].dropna()\n",
    "        if len(valid_rows) > 0:\n",
    "            matrix = confusion_matrix(\n",
    "                valid_rows[truth_col], \n",
    "                valid_rows[pred_col],\n",
    "                labels=sorted(results_df[truth_col].unique())\n",
    "            )\n",
    "            confusion_matrices[f\"{truth_col}_vs_{pred_col}\"] = matrix\n",
    "    \n",
    "    return summary_df, confusion_matrices\n",
    "\n",
    "# Run the analysis with the results dataframe\n",
    "summary_df, confusion_matrices = analyze_code_similarities(results)\n",
    "\n",
    "# Display the summary\n",
    "print(\"\\nSimilarity Analysis Summary:\")\n",
    "print(\"=\" * 100)\n",
    "print(summary_df.to_string(index=False))\n",
    "print(\"\\nDetailed Analysis:\")\n",
    "print(\"=\" * 100)\n",
    "\n",
    "# Determine which model is more similar to human coding\n",
    "original_code_comparison = summary_df[summary_df['Comparison'].str.contains('Original Code')]\n",
    "replicated_code_comparison = summary_df[summary_df['Comparison'].str.contains('Replicated Code')]\n",
    "\n",
    "print(\"\\nComparison with Original Code:\")\n",
    "better_for_original = original_code_comparison.iloc[original_code_comparison['Accuracy'].argmax()]\n",
    "print(f\"Better model: {better_for_original['Comparison']}\")\n",
    "print(f\"Accuracy: {better_for_original['Accuracy']:.2%}\")\n",
    "print(f\"Kappa Score: {better_for_original['Kappa Score']:.3f}\")\n",
    "\n",
    "print(\"\\nComparison with Replicated Code:\")\n",
    "better_for_replicated = replicated_code_comparison.iloc[replicated_code_comparison['Accuracy'].argmax()]\n",
    "print(f\"Better model: {better_for_replicated['Comparison']}\")\n",
    "print(f\"Accuracy: {better_for_replicated['Accuracy']:.2%}\")\n",
    "print(f\"Kappa Score: {better_for_replicated['Kappa Score']:.3f}\")\n",
    "\n",
    "# Print confusion matrices with labels\n",
    "for name, matrix in confusion_matrices.items():\n",
    "    print(f\"\\nConfusion Matrix for {name}:\")\n",
    "    categories = sorted(results[name.split('_vs_')[0]].unique())\n",
    "    print(\"\\nCategories:\", categories)\n",
    "    print(matrix)"
   ]
  },
  {
   "cell_type": "code",
   "execution_count": 16,
   "metadata": {},
   "outputs": [],
   "source": [
    "df_results.to_csv('results_csvs/bbc_new_small_llama_first.csv', index=False)\n",
    "df_results2.to_csv('results_csvs/bbc_new_small_llama_final.csv', index=False)"
   ]
  }
 ],
 "metadata": {
  "kernelspec": {
   "display_name": "bds",
   "language": "python",
   "name": "python3"
  },
  "language_info": {
   "codemirror_mode": {
    "name": "ipython",
    "version": 3
   },
   "file_extension": ".py",
   "mimetype": "text/x-python",
   "name": "python",
   "nbconvert_exporter": "python",
   "pygments_lexer": "ipython3",
   "version": "3.11.8"
  }
 },
 "nbformat": 4,
 "nbformat_minor": 2
}
