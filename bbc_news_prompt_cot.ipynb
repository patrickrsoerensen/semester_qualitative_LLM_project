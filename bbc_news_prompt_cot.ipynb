{
 "cells": [
  {
   "cell_type": "code",
   "execution_count": 1,
   "metadata": {},
   "outputs": [],
   "source": [
    "import pandas as pd\n",
    "import numpy as np\n",
    "import matplotlib.pyplot as plt\n",
    "from dotenv import load_dotenv\n",
    "import os\n",
    "import requests\n",
    "from sklearn.metrics import accuracy_score, cohen_kappa_score, confusion_matrix\n",
    "import re\n",
    "from tqdm import tqdm\n",
    "import time\n",
    "\n",
    "\n",
    "# Load the .env file\n",
    "load_dotenv()\n",
    "\n",
    "df = pd.read_csv('Data/bbc_news_reasons.csv')"
   ]
  },
  {
   "cell_type": "code",
   "execution_count": 2,
   "metadata": {},
   "outputs": [
    {
     "data": {
      "text/html": [
       "<div>\n",
       "<style scoped>\n",
       "    .dataframe tbody tr th:only-of-type {\n",
       "        vertical-align: middle;\n",
       "    }\n",
       "\n",
       "    .dataframe tbody tr th {\n",
       "        vertical-align: top;\n",
       "    }\n",
       "\n",
       "    .dataframe thead th {\n",
       "        text-align: right;\n",
       "    }\n",
       "</style>\n",
       "<table border=\"1\" class=\"dataframe\">\n",
       "  <thead>\n",
       "    <tr style=\"text-align: right;\">\n",
       "      <th></th>\n",
       "      <th>text_id</th>\n",
       "      <th>text</th>\n",
       "      <th>original_code</th>\n",
       "      <th>replicated_code</th>\n",
       "      <th>model_code</th>\n",
       "      <th>reason</th>\n",
       "    </tr>\n",
       "  </thead>\n",
       "  <tbody>\n",
       "    <tr>\n",
       "      <th>0</th>\n",
       "      <td>0</td>\n",
       "      <td>Bath faced with Tindall ultimatum\\n\\nMike Tind...</td>\n",
       "      <td>sport</td>\n",
       "      <td>sport</td>\n",
       "      <td>sport</td>\n",
       "      <td>This news story is about a rugby player, Mike ...</td>\n",
       "    </tr>\n",
       "    <tr>\n",
       "      <th>1</th>\n",
       "      <td>1</td>\n",
       "      <td>Big guns ease through in San Jose\\n\\nTop-seede...</td>\n",
       "      <td>sport</td>\n",
       "      <td>sport</td>\n",
       "      <td>sport</td>\n",
       "      <td>The text is reporting on a tennis tournament, ...</td>\n",
       "    </tr>\n",
       "    <tr>\n",
       "      <th>2</th>\n",
       "      <td>2</td>\n",
       "      <td>Chinese dam firm 'defies Beijing'\\n\\nThe China...</td>\n",
       "      <td>business</td>\n",
       "      <td>business</td>\n",
       "      <td>politics</td>\n",
       "      <td>This news story is about a Chinese company def...</td>\n",
       "    </tr>\n",
       "    <tr>\n",
       "      <th>3</th>\n",
       "      <td>3</td>\n",
       "      <td>Wenger offers Mutu hope\\n\\nArsenal boss Arsene...</td>\n",
       "      <td>sport</td>\n",
       "      <td>sport</td>\n",
       "      <td>sport</td>\n",
       "      <td>This news story is about a football player who...</td>\n",
       "    </tr>\n",
       "    <tr>\n",
       "      <th>4</th>\n",
       "      <td>4</td>\n",
       "      <td>Gerrard happy at Anfield\\n\\nLiverpool captain ...</td>\n",
       "      <td>sport</td>\n",
       "      <td>sport</td>\n",
       "      <td>sport</td>\n",
       "      <td>The article is about Liverpool captain Steven ...</td>\n",
       "    </tr>\n",
       "    <tr>\n",
       "      <th>...</th>\n",
       "      <td>...</td>\n",
       "      <td>...</td>\n",
       "      <td>...</td>\n",
       "      <td>...</td>\n",
       "      <td>...</td>\n",
       "      <td>...</td>\n",
       "    </tr>\n",
       "    <tr>\n",
       "      <th>95</th>\n",
       "      <td>95</td>\n",
       "      <td>Who do you think you are?\\n\\nThe real danger i...</td>\n",
       "      <td>tech</td>\n",
       "      <td>tech</td>\n",
       "      <td>tech</td>\n",
       "      <td>The article discusses the dangers of data thef...</td>\n",
       "    </tr>\n",
       "    <tr>\n",
       "      <th>96</th>\n",
       "      <td>96</td>\n",
       "      <td>Koubek suspended after drugs test\\n\\nStefan Ko...</td>\n",
       "      <td>sport</td>\n",
       "      <td>sport</td>\n",
       "      <td>sport</td>\n",
       "      <td>The news story is about a tennis player, Stefa...</td>\n",
       "    </tr>\n",
       "    <tr>\n",
       "      <th>97</th>\n",
       "      <td>97</td>\n",
       "      <td>China 'blocks Google news site'\\n\\nChina has b...</td>\n",
       "      <td>tech</td>\n",
       "      <td>politics</td>\n",
       "      <td>politics</td>\n",
       "      <td>This news story is about China's censorship of...</td>\n",
       "    </tr>\n",
       "    <tr>\n",
       "      <th>98</th>\n",
       "      <td>98</td>\n",
       "      <td>Leeds v Saracens (Fri)\\n\\nHeadingley\\n\\nFriday...</td>\n",
       "      <td>sport</td>\n",
       "      <td>sport</td>\n",
       "      <td>sport</td>\n",
       "      <td>The text is reporting on a rugby match between...</td>\n",
       "    </tr>\n",
       "    <tr>\n",
       "      <th>99</th>\n",
       "      <td>99</td>\n",
       "      <td>Seamen sail into biometric future\\n\\nThe luxur...</td>\n",
       "      <td>tech</td>\n",
       "      <td>tech</td>\n",
       "      <td>tech</td>\n",
       "      <td>The article discusses the use of biometric tec...</td>\n",
       "    </tr>\n",
       "  </tbody>\n",
       "</table>\n",
       "<p>100 rows × 6 columns</p>\n",
       "</div>"
      ],
      "text/plain": [
       "    text_id                                               text original_code  \\\n",
       "0         0  Bath faced with Tindall ultimatum\\n\\nMike Tind...         sport   \n",
       "1         1  Big guns ease through in San Jose\\n\\nTop-seede...         sport   \n",
       "2         2  Chinese dam firm 'defies Beijing'\\n\\nThe China...      business   \n",
       "3         3  Wenger offers Mutu hope\\n\\nArsenal boss Arsene...         sport   \n",
       "4         4  Gerrard happy at Anfield\\n\\nLiverpool captain ...         sport   \n",
       "..      ...                                                ...           ...   \n",
       "95       95  Who do you think you are?\\n\\nThe real danger i...          tech   \n",
       "96       96  Koubek suspended after drugs test\\n\\nStefan Ko...         sport   \n",
       "97       97  China 'blocks Google news site'\\n\\nChina has b...          tech   \n",
       "98       98  Leeds v Saracens (Fri)\\n\\nHeadingley\\n\\nFriday...         sport   \n",
       "99       99  Seamen sail into biometric future\\n\\nThe luxur...          tech   \n",
       "\n",
       "   replicated_code model_code  \\\n",
       "0            sport      sport   \n",
       "1            sport      sport   \n",
       "2         business   politics   \n",
       "3            sport      sport   \n",
       "4            sport      sport   \n",
       "..             ...        ...   \n",
       "95            tech       tech   \n",
       "96           sport      sport   \n",
       "97        politics   politics   \n",
       "98           sport      sport   \n",
       "99            tech       tech   \n",
       "\n",
       "                                               reason  \n",
       "0   This news story is about a rugby player, Mike ...  \n",
       "1   The text is reporting on a tennis tournament, ...  \n",
       "2   This news story is about a Chinese company def...  \n",
       "3   This news story is about a football player who...  \n",
       "4   The article is about Liverpool captain Steven ...  \n",
       "..                                                ...  \n",
       "95  The article discusses the dangers of data thef...  \n",
       "96  The news story is about a tennis player, Stefa...  \n",
       "97  This news story is about China's censorship of...  \n",
       "98  The text is reporting on a rugby match between...  \n",
       "99  The article discusses the use of biometric tec...  \n",
       "\n",
       "[100 rows x 6 columns]"
      ]
     },
     "execution_count": 2,
     "metadata": {},
     "output_type": "execute_result"
    }
   ],
   "source": [
    "df"
   ]
  },
  {
   "cell_type": "code",
   "execution_count": 3,
   "metadata": {},
   "outputs": [
    {
     "data": {
      "text/html": [
       "<div>\n",
       "<style scoped>\n",
       "    .dataframe tbody tr th:only-of-type {\n",
       "        vertical-align: middle;\n",
       "    }\n",
       "\n",
       "    .dataframe tbody tr th {\n",
       "        vertical-align: top;\n",
       "    }\n",
       "\n",
       "    .dataframe thead th {\n",
       "        text-align: right;\n",
       "    }\n",
       "</style>\n",
       "<table border=\"1\" class=\"dataframe\">\n",
       "  <thead>\n",
       "    <tr style=\"text-align: right;\">\n",
       "      <th></th>\n",
       "      <th>text_id</th>\n",
       "      <th>text</th>\n",
       "      <th>original_code</th>\n",
       "      <th>replicated_code</th>\n",
       "      <th>model_code</th>\n",
       "      <th>reason</th>\n",
       "    </tr>\n",
       "  </thead>\n",
       "  <tbody>\n",
       "    <tr>\n",
       "      <th>0</th>\n",
       "      <td>0</td>\n",
       "      <td>Bath faced with Tindall ultimatum\\n\\nMike Tind...</td>\n",
       "      <td>sport</td>\n",
       "      <td>sport</td>\n",
       "      <td>sport</td>\n",
       "      <td>This news story is about a rugby player, Mike ...</td>\n",
       "    </tr>\n",
       "    <tr>\n",
       "      <th>1</th>\n",
       "      <td>1</td>\n",
       "      <td>Big guns ease through in San Jose\\n\\nTop-seede...</td>\n",
       "      <td>sport</td>\n",
       "      <td>sport</td>\n",
       "      <td>sport</td>\n",
       "      <td>The text is reporting on a tennis tournament, ...</td>\n",
       "    </tr>\n",
       "    <tr>\n",
       "      <th>2</th>\n",
       "      <td>2</td>\n",
       "      <td>Chinese dam firm 'defies Beijing'\\n\\nThe China...</td>\n",
       "      <td>business</td>\n",
       "      <td>business</td>\n",
       "      <td>politics</td>\n",
       "      <td>This news story is about a Chinese company def...</td>\n",
       "    </tr>\n",
       "    <tr>\n",
       "      <th>3</th>\n",
       "      <td>3</td>\n",
       "      <td>Wenger offers Mutu hope\\n\\nArsenal boss Arsene...</td>\n",
       "      <td>sport</td>\n",
       "      <td>sport</td>\n",
       "      <td>sport</td>\n",
       "      <td>This news story is about a football player who...</td>\n",
       "    </tr>\n",
       "    <tr>\n",
       "      <th>4</th>\n",
       "      <td>4</td>\n",
       "      <td>Gerrard happy at Anfield\\n\\nLiverpool captain ...</td>\n",
       "      <td>sport</td>\n",
       "      <td>sport</td>\n",
       "      <td>sport</td>\n",
       "      <td>The article is about Liverpool captain Steven ...</td>\n",
       "    </tr>\n",
       "    <tr>\n",
       "      <th>...</th>\n",
       "      <td>...</td>\n",
       "      <td>...</td>\n",
       "      <td>...</td>\n",
       "      <td>...</td>\n",
       "      <td>...</td>\n",
       "      <td>...</td>\n",
       "    </tr>\n",
       "    <tr>\n",
       "      <th>95</th>\n",
       "      <td>95</td>\n",
       "      <td>Who do you think you are?\\n\\nThe real danger i...</td>\n",
       "      <td>tech</td>\n",
       "      <td>tech</td>\n",
       "      <td>tech</td>\n",
       "      <td>The article discusses the dangers of data thef...</td>\n",
       "    </tr>\n",
       "    <tr>\n",
       "      <th>96</th>\n",
       "      <td>96</td>\n",
       "      <td>Koubek suspended after drugs test\\n\\nStefan Ko...</td>\n",
       "      <td>sport</td>\n",
       "      <td>sport</td>\n",
       "      <td>sport</td>\n",
       "      <td>The news story is about a tennis player, Stefa...</td>\n",
       "    </tr>\n",
       "    <tr>\n",
       "      <th>97</th>\n",
       "      <td>97</td>\n",
       "      <td>China 'blocks Google news site'\\n\\nChina has b...</td>\n",
       "      <td>tech</td>\n",
       "      <td>politics</td>\n",
       "      <td>politics</td>\n",
       "      <td>This news story is about China's censorship of...</td>\n",
       "    </tr>\n",
       "    <tr>\n",
       "      <th>98</th>\n",
       "      <td>98</td>\n",
       "      <td>Leeds v Saracens (Fri)\\n\\nHeadingley\\n\\nFriday...</td>\n",
       "      <td>sport</td>\n",
       "      <td>sport</td>\n",
       "      <td>sport</td>\n",
       "      <td>The text is reporting on a rugby match between...</td>\n",
       "    </tr>\n",
       "    <tr>\n",
       "      <th>99</th>\n",
       "      <td>99</td>\n",
       "      <td>Seamen sail into biometric future\\n\\nThe luxur...</td>\n",
       "      <td>tech</td>\n",
       "      <td>tech</td>\n",
       "      <td>tech</td>\n",
       "      <td>The article discusses the use of biometric tec...</td>\n",
       "    </tr>\n",
       "  </tbody>\n",
       "</table>\n",
       "<p>98 rows × 6 columns</p>\n",
       "</div>"
      ],
      "text/plain": [
       "    text_id                                               text original_code  \\\n",
       "0         0  Bath faced with Tindall ultimatum\\n\\nMike Tind...         sport   \n",
       "1         1  Big guns ease through in San Jose\\n\\nTop-seede...         sport   \n",
       "2         2  Chinese dam firm 'defies Beijing'\\n\\nThe China...      business   \n",
       "3         3  Wenger offers Mutu hope\\n\\nArsenal boss Arsene...         sport   \n",
       "4         4  Gerrard happy at Anfield\\n\\nLiverpool captain ...         sport   \n",
       "..      ...                                                ...           ...   \n",
       "95       95  Who do you think you are?\\n\\nThe real danger i...          tech   \n",
       "96       96  Koubek suspended after drugs test\\n\\nStefan Ko...         sport   \n",
       "97       97  China 'blocks Google news site'\\n\\nChina has b...          tech   \n",
       "98       98  Leeds v Saracens (Fri)\\n\\nHeadingley\\n\\nFriday...         sport   \n",
       "99       99  Seamen sail into biometric future\\n\\nThe luxur...          tech   \n",
       "\n",
       "   replicated_code model_code  \\\n",
       "0            sport      sport   \n",
       "1            sport      sport   \n",
       "2         business   politics   \n",
       "3            sport      sport   \n",
       "4            sport      sport   \n",
       "..             ...        ...   \n",
       "95            tech       tech   \n",
       "96           sport      sport   \n",
       "97        politics   politics   \n",
       "98           sport      sport   \n",
       "99            tech       tech   \n",
       "\n",
       "                                               reason  \n",
       "0   This news story is about a rugby player, Mike ...  \n",
       "1   The text is reporting on a tennis tournament, ...  \n",
       "2   This news story is about a Chinese company def...  \n",
       "3   This news story is about a football player who...  \n",
       "4   The article is about Liverpool captain Steven ...  \n",
       "..                                                ...  \n",
       "95  The article discusses the dangers of data thef...  \n",
       "96  The news story is about a tennis player, Stefa...  \n",
       "97  This news story is about China's censorship of...  \n",
       "98  The text is reporting on a rugby match between...  \n",
       "99  The article discusses the use of biometric tec...  \n",
       "\n",
       "[98 rows x 6 columns]"
      ]
     },
     "execution_count": 3,
     "metadata": {},
     "output_type": "execute_result"
    }
   ],
   "source": [
    "# Drop all rows that contain any missing values\n",
    "df = df.dropna()\n",
    "df.reset_index\n",
    "\n",
    "# Check the DataFrame after dropping rows with missing values\n",
    "df"
   ]
  },
  {
   "cell_type": "code",
   "execution_count": 4,
   "metadata": {},
   "outputs": [
    {
     "data": {
      "text/plain": [
       "original_code\n",
       "politics         25\n",
       "sport            25\n",
       "business         20\n",
       "entertainment    17\n",
       "tech             11\n",
       "Name: count, dtype: int64"
      ]
     },
     "execution_count": 4,
     "metadata": {},
     "output_type": "execute_result"
    }
   ],
   "source": [
    "df.value_counts('original_code')"
   ]
  },
  {
   "cell_type": "code",
   "execution_count": 5,
   "metadata": {},
   "outputs": [
    {
     "data": {
      "text/plain": [
       "replicated_code\n",
       "politics         30\n",
       "sport            24\n",
       "business         17\n",
       "entertainment    17\n",
       "tech             10\n",
       "Name: count, dtype: int64"
      ]
     },
     "execution_count": 5,
     "metadata": {},
     "output_type": "execute_result"
    }
   ],
   "source": [
    "df.value_counts('replicated_code')\n"
   ]
  },
  {
   "cell_type": "code",
   "execution_count": 6,
   "metadata": {},
   "outputs": [
    {
     "data": {
      "text/plain": [
       "model_code\n",
       "politics         34\n",
       "sport            23\n",
       "business         18\n",
       "entertainment    14\n",
       "tech              9\n",
       "Name: count, dtype: int64"
      ]
     },
     "execution_count": 6,
     "metadata": {},
     "output_type": "execute_result"
    }
   ],
   "source": [
    "df.value_counts('model_code')"
   ]
  },
  {
   "cell_type": "code",
   "execution_count": 5,
   "metadata": {},
   "outputs": [
    {
     "name": "stderr",
     "output_type": "stream",
     "text": [
      "/var/folders/x3/c_04y5q55q39m9sp2tty7lp40000gn/T/ipykernel_15396/3886461982.py:32: FutureWarning: Series.__getitem__ treating keys as positions is deprecated. In a future version, integer keys will always be treated as labels (consistent with DataFrame behavior). To access a value by position, use `ser.iloc[pos]`\n",
      "  plt.text(x[i] - width, original_code_counts[i] + 0.5, str(original_code_counts[i]), ha='center')\n",
      "/var/folders/x3/c_04y5q55q39m9sp2tty7lp40000gn/T/ipykernel_15396/3886461982.py:33: FutureWarning: Series.__getitem__ treating keys as positions is deprecated. In a future version, integer keys will always be treated as labels (consistent with DataFrame behavior). To access a value by position, use `ser.iloc[pos]`\n",
      "  plt.text(x[i], replicated_code_counts[i] + 0.5, str(replicated_code_counts[i]), ha='center')\n",
      "/var/folders/x3/c_04y5q55q39m9sp2tty7lp40000gn/T/ipykernel_15396/3886461982.py:34: FutureWarning: Series.__getitem__ treating keys as positions is deprecated. In a future version, integer keys will always be treated as labels (consistent with DataFrame behavior). To access a value by position, use `ser.iloc[pos]`\n",
      "  plt.text(x[i] + width, model_code_counts[i] + 0.5, str(model_code_counts[i]), ha='center')\n"
     ]
    },
    {
     "data": {
      "image/png": "[encoded data removed]",
      "text/plain": [
       "<Figure size 1000x600 with 1 Axes>"
      ]
     },
     "metadata": {},
     "output_type": "display_data"
    }
   ],
   "source": [
    "# Categories for the x-axis (you can extract this from your df)\n",
    "categories = sorted(set(df['original_code']) | set(df['replicated_code']) | set(df['model_code']))\n",
    "\n",
    "# Get value counts for each column, reindex to align with all categories\n",
    "original_code_counts = df['original_code'].value_counts()\n",
    "replicated_code_counts = df['replicated_code'].value_counts()\n",
    "model_code_counts = df['model_code'].value_counts()\n",
    "\n",
    "# Number of categories\n",
    "n = len(categories)\n",
    "\n",
    "# Create a range for the x-axis based on the number of categories\n",
    "x = np.arange(n)\n",
    "\n",
    "# Set the width of the bars\n",
    "width = 0.25\n",
    "\n",
    "# Create the plot\n",
    "plt.figure(figsize=(10, 6))\n",
    "plt.bar(x - width, original_code_counts, width, label='Original Code')\n",
    "plt.bar(x, replicated_code_counts, width, label='Replicated Code')\n",
    "plt.bar(x + width, model_code_counts, width, label='Model Code')\n",
    "\n",
    "# Add labels, title, and custom x-axis tick labels\n",
    "plt.xlabel('Category', fontsize=12)\n",
    "plt.ylabel('Count', fontsize=12)\n",
    "plt.title('Comparison of Codes Across Three Columns', fontsize=14)\n",
    "plt.xticks(x, categories, rotation=45)\n",
    "\n",
    "# Loop through each bar and add the value labels\n",
    "for i in range(n):\n",
    "    plt.text(x[i] - width, original_code_counts[i] + 0.5, str(original_code_counts[i]), ha='center')\n",
    "    plt.text(x[i], replicated_code_counts[i] + 0.5, str(replicated_code_counts[i]), ha='center')\n",
    "    plt.text(x[i] + width, model_code_counts[i] + 0.5, str(model_code_counts[i]), ha='center')\n",
    "\n",
    "# Add a legend\n",
    "plt.legend()\n",
    "\n",
    "# Show the plot\n",
    "plt.tight_layout()\n",
    "plt.show()\n"
   ]
  },
  {
   "cell_type": "markdown",
   "metadata": {},
   "source": [
    "### BBC News Codebook\n",
    "\n",
    "| Code Name    | Original Code Description                       | Revised Code Description                           |\n",
    "|--------------|--------------------------------------------------|----------------------------------------------------|\n",
    "| business     | Is this news story about business?               | Is this news story about business?                 |\n",
    "| entertainment| Is this news story about entertainment?          | Is this news story about entertainment?            |\n",
    "| politics     | Is this news story about politics?               | Is this news story about politics?                 |\n",
    "| sport        | Is this news story about sports?                 | Is this news story about sports?                   |\n",
    "| tech         | Is this news story about tech?                   | Is this news story about tech?                     |\n"
   ]
  },
  {
   "cell_type": "markdown",
   "metadata": {},
   "source": [
    "### Column Explanations\n",
    "- **text_id**: Unique ID for each text document\n",
    "- **code_id**: Unique ID for each code category\n",
    "- **text**: Document text that's been coded\n",
    "- **original_code**: Coded response from the original datasets\n",
    "- **replicated_code**: Coded response from independent coding exercise from our study team\n",
    "- **model_code**: Coded response generated from the LLM (GPT-3.5-turbo)\n",
    "- **reason**: LLM generated reason for coding decision\n"
   ]
  },
  {
   "cell_type": "code",
   "execution_count": 29,
   "metadata": {},
   "outputs": [
    {
     "data": {
      "text/html": [
       "<div>\n",
       "<style scoped>\n",
       "    .dataframe tbody tr th:only-of-type {\n",
       "        vertical-align: middle;\n",
       "    }\n",
       "\n",
       "    .dataframe tbody tr th {\n",
       "        vertical-align: top;\n",
       "    }\n",
       "\n",
       "    .dataframe thead th {\n",
       "        text-align: right;\n",
       "    }\n",
       "</style>\n",
       "<table border=\"1\" class=\"dataframe\">\n",
       "  <thead>\n",
       "    <tr style=\"text-align: right;\">\n",
       "      <th></th>\n",
       "      <th>text_id</th>\n",
       "      <th>text</th>\n",
       "      <th>original_code</th>\n",
       "      <th>replicated_code</th>\n",
       "      <th>model_code</th>\n",
       "      <th>reason</th>\n",
       "    </tr>\n",
       "  </thead>\n",
       "  <tbody>\n",
       "    <tr>\n",
       "      <th>0</th>\n",
       "      <td>0</td>\n",
       "      <td>Bath faced with Tindall ultimatum\\n\\nMike Tind...</td>\n",
       "      <td>sport</td>\n",
       "      <td>sport</td>\n",
       "      <td>sport</td>\n",
       "      <td>This news story is about a rugby player, Mike ...</td>\n",
       "    </tr>\n",
       "    <tr>\n",
       "      <th>1</th>\n",
       "      <td>1</td>\n",
       "      <td>Big guns ease through in San Jose\\n\\nTop-seede...</td>\n",
       "      <td>sport</td>\n",
       "      <td>sport</td>\n",
       "      <td>sport</td>\n",
       "      <td>The text is reporting on a tennis tournament, ...</td>\n",
       "    </tr>\n",
       "    <tr>\n",
       "      <th>2</th>\n",
       "      <td>2</td>\n",
       "      <td>Chinese dam firm 'defies Beijing'\\n\\nThe China...</td>\n",
       "      <td>business</td>\n",
       "      <td>business</td>\n",
       "      <td>politics</td>\n",
       "      <td>This news story is about a Chinese company def...</td>\n",
       "    </tr>\n",
       "    <tr>\n",
       "      <th>3</th>\n",
       "      <td>3</td>\n",
       "      <td>Wenger offers Mutu hope\\n\\nArsenal boss Arsene...</td>\n",
       "      <td>sport</td>\n",
       "      <td>sport</td>\n",
       "      <td>sport</td>\n",
       "      <td>This news story is about a football player who...</td>\n",
       "    </tr>\n",
       "    <tr>\n",
       "      <th>4</th>\n",
       "      <td>4</td>\n",
       "      <td>Gerrard happy at Anfield\\n\\nLiverpool captain ...</td>\n",
       "      <td>sport</td>\n",
       "      <td>sport</td>\n",
       "      <td>sport</td>\n",
       "      <td>The article is about Liverpool captain Steven ...</td>\n",
       "    </tr>\n",
       "    <tr>\n",
       "      <th>...</th>\n",
       "      <td>...</td>\n",
       "      <td>...</td>\n",
       "      <td>...</td>\n",
       "      <td>...</td>\n",
       "      <td>...</td>\n",
       "      <td>...</td>\n",
       "    </tr>\n",
       "    <tr>\n",
       "      <th>95</th>\n",
       "      <td>95</td>\n",
       "      <td>Who do you think you are?\\n\\nThe real danger i...</td>\n",
       "      <td>tech</td>\n",
       "      <td>tech</td>\n",
       "      <td>tech</td>\n",
       "      <td>The article discusses the dangers of data thef...</td>\n",
       "    </tr>\n",
       "    <tr>\n",
       "      <th>96</th>\n",
       "      <td>96</td>\n",
       "      <td>Koubek suspended after drugs test\\n\\nStefan Ko...</td>\n",
       "      <td>sport</td>\n",
       "      <td>sport</td>\n",
       "      <td>sport</td>\n",
       "      <td>The news story is about a tennis player, Stefa...</td>\n",
       "    </tr>\n",
       "    <tr>\n",
       "      <th>97</th>\n",
       "      <td>97</td>\n",
       "      <td>China 'blocks Google news site'\\n\\nChina has b...</td>\n",
       "      <td>tech</td>\n",
       "      <td>politics</td>\n",
       "      <td>politics</td>\n",
       "      <td>This news story is about China's censorship of...</td>\n",
       "    </tr>\n",
       "    <tr>\n",
       "      <th>98</th>\n",
       "      <td>98</td>\n",
       "      <td>Leeds v Saracens (Fri)\\n\\nHeadingley\\n\\nFriday...</td>\n",
       "      <td>sport</td>\n",
       "      <td>sport</td>\n",
       "      <td>sport</td>\n",
       "      <td>The text is reporting on a rugby match between...</td>\n",
       "    </tr>\n",
       "    <tr>\n",
       "      <th>99</th>\n",
       "      <td>99</td>\n",
       "      <td>Seamen sail into biometric future\\n\\nThe luxur...</td>\n",
       "      <td>tech</td>\n",
       "      <td>tech</td>\n",
       "      <td>tech</td>\n",
       "      <td>The article discusses the use of biometric tec...</td>\n",
       "    </tr>\n",
       "  </tbody>\n",
       "</table>\n",
       "<p>98 rows × 6 columns</p>\n",
       "</div>"
      ],
      "text/plain": [
       "    text_id                                               text original_code  \\\n",
       "0         0  Bath faced with Tindall ultimatum\\n\\nMike Tind...         sport   \n",
       "1         1  Big guns ease through in San Jose\\n\\nTop-seede...         sport   \n",
       "2         2  Chinese dam firm 'defies Beijing'\\n\\nThe China...      business   \n",
       "3         3  Wenger offers Mutu hope\\n\\nArsenal boss Arsene...         sport   \n",
       "4         4  Gerrard happy at Anfield\\n\\nLiverpool captain ...         sport   \n",
       "..      ...                                                ...           ...   \n",
       "95       95  Who do you think you are?\\n\\nThe real danger i...          tech   \n",
       "96       96  Koubek suspended after drugs test\\n\\nStefan Ko...         sport   \n",
       "97       97  China 'blocks Google news site'\\n\\nChina has b...          tech   \n",
       "98       98  Leeds v Saracens (Fri)\\n\\nHeadingley\\n\\nFriday...         sport   \n",
       "99       99  Seamen sail into biometric future\\n\\nThe luxur...          tech   \n",
       "\n",
       "   replicated_code model_code  \\\n",
       "0            sport      sport   \n",
       "1            sport      sport   \n",
       "2         business   politics   \n",
       "3            sport      sport   \n",
       "4            sport      sport   \n",
       "..             ...        ...   \n",
       "95            tech       tech   \n",
       "96           sport      sport   \n",
       "97        politics   politics   \n",
       "98           sport      sport   \n",
       "99            tech       tech   \n",
       "\n",
       "                                               reason  \n",
       "0   This news story is about a rugby player, Mike ...  \n",
       "1   The text is reporting on a tennis tournament, ...  \n",
       "2   This news story is about a Chinese company def...  \n",
       "3   This news story is about a football player who...  \n",
       "4   The article is about Liverpool captain Steven ...  \n",
       "..                                                ...  \n",
       "95  The article discusses the dangers of data thef...  \n",
       "96  The news story is about a tennis player, Stefa...  \n",
       "97  This news story is about China's censorship of...  \n",
       "98  The text is reporting on a rugby match between...  \n",
       "99  The article discusses the use of biometric tec...  \n",
       "\n",
       "[98 rows x 6 columns]"
      ]
     },
     "execution_count": 29,
     "metadata": {},
     "output_type": "execute_result"
    }
   ],
   "source": [
    "df"
   ]
  },
  {
   "cell_type": "code",
   "execution_count": 21,
   "metadata": {},
   "outputs": [
    {
     "name": "stdout",
     "output_type": "stream",
     "text": [
      "Processing 98 unprocessed rows...\n"
     ]
    },
    {
     "name": "stderr",
     "output_type": "stream",
     "text": [
      "  1%|          | 1/98 [00:02<03:28,  2.15s/it]"
     ]
    },
    {
     "name": "stdout",
     "output_type": "stream",
     "text": [
      "\n",
      "Raw model output:  Code: sport\n",
      "     Reason: The article is about Mike Tindall, an English rugby player, and his contract negotiations with Bath Rugby Club, which falls under the category of sports news.\n",
      "\n",
      "Trying code patterns:\n",
      "Pattern 'Code:\\s*([a-zA-Z]+)(?=\\s*Reason:)': Match found\n",
      "Found code: sport\n",
      "\n",
      "Trying reasoning patterns:\n",
      "Pattern 'Reason:\\s*([\\s\\S]+?)(?=\\s*(?:Code:|$))': Match found\n",
      "Found reasoning: The article is about Mike Tindall, an English rugby player, and his contract negotiations with Bath ...\n"
     ]
    },
    {
     "name": "stderr",
     "output_type": "stream",
     "text": [
      "  2%|▏         | 2/98 [00:03<02:51,  1.79s/it]"
     ]
    },
    {
     "name": "stdout",
     "output_type": "stream",
     "text": [
      "\n",
      "Raw model output:  Code: sport\n",
      "     Reason: The article is primarily about a tennis tournament, specifically the SAP Open, and reports on the progress of various players, including Andy Roddick and Andre Agassi, in the competition.\n",
      "\n",
      "Trying code patterns:\n",
      "Pattern 'Code:\\s*([a-zA-Z]+)(?=\\s*Reason:)': Match found\n",
      "Found code: sport\n",
      "\n",
      "Trying reasoning patterns:\n",
      "Pattern 'Reason:\\s*([\\s\\S]+?)(?=\\s*(?:Code:|$))': Match found\n",
      "Found reasoning: The article is primarily about a tennis tournament, specifically the SAP Open, and reports on the pr...\n"
     ]
    },
    {
     "name": "stderr",
     "output_type": "stream",
     "text": [
      "  3%|▎         | 3/98 [00:04<02:12,  1.39s/it]"
     ]
    },
    {
     "name": "stdout",
     "output_type": "stream",
     "text": [
      "\n",
      "Raw model output:  Code: business\n",
      "    Reason: This news story is about a Chinese dam firm defying Beijing's order to stop construction of one of its giant dams due to environmental concerns, which relates to business and economic issues.\n",
      "\n",
      "Trying code patterns:\n",
      "Pattern 'Code:\\s*([a-zA-Z]+)(?=\\s*Reason:)': Match found\n",
      "Found code: business\n",
      "\n",
      "Trying reasoning patterns:\n",
      "Pattern 'Reason:\\s*([\\s\\S]+?)(?=\\s*(?:Code:|$))': Match found\n",
      "Found reasoning: This news story is about a Chinese dam firm defying Beijing's order to stop construction of one of i...\n"
     ]
    },
    {
     "name": "stderr",
     "output_type": "stream",
     "text": [
      "  4%|▍         | 4/98 [00:05<02:01,  1.29s/it]"
     ]
    },
    {
     "name": "stdout",
     "output_type": "stream",
     "text": [
      "\n",
      "Raw model output:  Code: sport\n",
      "     Reason: The article is discussing a football player, Adrian Mutu, and his situation with his club, Chelsea, due to a drug ban, which is a sports-related topic.\n",
      "\n",
      "Trying code patterns:\n",
      "Pattern 'Code:\\s*([a-zA-Z]+)(?=\\s*Reason:)': Match found\n",
      "Found code: sport\n",
      "\n",
      "Trying reasoning patterns:\n",
      "Pattern 'Reason:\\s*([\\s\\S]+?)(?=\\s*(?:Code:|$))': Match found\n",
      "Found reasoning: The article is discussing a football player, Adrian Mutu, and his situation with his club, Chelsea, ...\n"
     ]
    },
    {
     "name": "stderr",
     "output_type": "stream",
     "text": [
      "  5%|▌         | 5/98 [00:07<02:01,  1.31s/it]"
     ]
    },
    {
     "name": "stdout",
     "output_type": "stream",
     "text": [
      "\n",
      "Raw model output:  Code: sport\n",
      "    Reason: I chose the code \"sport\" because the article is about Steven Gerrard, a football player, and his desire to stay at Liverpool FC and win trophies with the club. The article also mentions other sports-related topics, such as the Champions League, transfer windows, and the signing of other players like Fernando Morientes.\n",
      "\n",
      "Trying code patterns:\n",
      "Pattern 'Code:\\s*([a-zA-Z]+)(?=\\s*Reason:)': Match found\n",
      "Found code: sport\n",
      "\n",
      "Trying reasoning patterns:\n",
      "Pattern 'Reason:\\s*([\\s\\S]+?)(?=\\s*(?:Code:|$))': Match found\n",
      "Found reasoning: I chose the code \"sport\" because the article is about Steven Gerrard, a football player, and his des...\n"
     ]
    },
    {
     "name": "stderr",
     "output_type": "stream",
     "text": [
      "  6%|▌         | 6/98 [00:08<01:49,  1.19s/it]"
     ]
    },
    {
     "name": "stdout",
     "output_type": "stream",
     "text": [
      "\n",
      "Raw model output:  Code: sport\n",
      "     Reason: The article is discussing athletic competitions and achievements, specifically indoor track and field events, which falls under the category of sport.\n",
      "\n",
      "Trying code patterns:\n",
      "Pattern 'Code:\\s*([a-zA-Z]+)(?=\\s*Reason:)': Match found\n",
      "Found code: sport\n",
      "\n",
      "Trying reasoning patterns:\n",
      "Pattern 'Reason:\\s*([\\s\\S]+?)(?=\\s*(?:Code:|$))': Match found\n",
      "Found reasoning: The article is discussing athletic competitions and achievements, specifically indoor track and fiel...\n"
     ]
    },
    {
     "name": "stderr",
     "output_type": "stream",
     "text": [
      "  7%|▋         | 7/98 [00:09<01:57,  1.30s/it]"
     ]
    },
    {
     "name": "stdout",
     "output_type": "stream",
     "text": [
      "\n",
      "Raw model output:  Code: sport\n",
      "    Reason: This news article is related to a sporting event, specifically a rugby match between Wales and England, and discusses the performance of the players and the team's strategy.\n",
      "\n",
      "Trying code patterns:\n",
      "Pattern 'Code:\\s*([a-zA-Z]+)(?=\\s*Reason:)': Match found\n",
      "Found code: sport\n",
      "\n",
      "Trying reasoning patterns:\n",
      "Pattern 'Reason:\\s*([\\s\\S]+?)(?=\\s*(?:Code:|$))': Match found\n",
      "Found reasoning: This news article is related to a sporting event, specifically a rugby match between Wales and Engla...\n"
     ]
    },
    {
     "name": "stderr",
     "output_type": "stream",
     "text": [
      "  8%|▊         | 8/98 [00:11<02:12,  1.47s/it]"
     ]
    },
    {
     "name": "stdout",
     "output_type": "stream",
     "text": [
      "\n",
      "Raw model output:  Code: politics\n",
      "     Reason: The article is about a bill being debated by MPs in the UK parliament, which is a political institution. The article discusses the potential implications of the bill on euthanasia laws and the opinions of various political figures and organizations, making it a clear fit for the politics category.\n",
      "\n",
      "Trying code patterns:\n",
      "Pattern 'Code:\\s*([a-zA-Z]+)(?=\\s*Reason:)': Match found\n",
      "Found code: politics\n",
      "\n",
      "Trying reasoning patterns:\n",
      "Pattern 'Reason:\\s*([\\s\\S]+?)(?=\\s*(?:Code:|$))': Match found\n",
      "Found reasoning: The article is about a bill being debated by MPs in the UK parliament, which is a political institut...\n"
     ]
    },
    {
     "name": "stderr",
     "output_type": "stream",
     "text": [
      "  9%|▉         | 9/98 [00:12<02:13,  1.50s/it]"
     ]
    },
    {
     "name": "stdout",
     "output_type": "stream",
     "text": [
      "\n",
      "Raw model output:  Code: entertainment\n",
      "     Reason: This news article is about a TV drama and a Muslim group's criticism of it, which falls under the category of entertainment news.\n",
      "\n",
      "Trying code patterns:\n",
      "Pattern 'Code:\\s*([a-zA-Z]+)(?=\\s*Reason:)': Match found\n",
      "Found code: entertainment\n",
      "\n",
      "Trying reasoning patterns:\n",
      "Pattern 'Reason:\\s*([\\s\\S]+?)(?=\\s*(?:Code:|$))': Match found\n",
      "Found reasoning: This news article is about a TV drama and a Muslim group's criticism of it, which falls under the ca...\n"
     ]
    },
    {
     "name": "stderr",
     "output_type": "stream",
     "text": [
      " 10%|█         | 10/98 [00:13<01:57,  1.34s/it]"
     ]
    },
    {
     "name": "stdout",
     "output_type": "stream",
     "text": [
      "\n",
      "Raw model output:  Code: entertainment\n",
      "     Reason: This article is about a TV presenter, Cat Deeley, who is leaving a children's music show. It is related to the entertainment industry, specifically TV and music.\n",
      "\n",
      "Trying code patterns:\n",
      "Pattern 'Code:\\s*([a-zA-Z]+)(?=\\s*Reason:)': Match found\n",
      "Found code: entertainment\n",
      "\n",
      "Trying reasoning patterns:\n",
      "Pattern 'Reason:\\s*([\\s\\S]+?)(?=\\s*(?:Code:|$))': Match found\n",
      "Found reasoning: This article is about a TV presenter, Cat Deeley, who is leaving a children's music show. It is rela...\n"
     ]
    },
    {
     "name": "stderr",
     "output_type": "stream",
     "text": [
      " 11%|█         | 11/98 [00:15<01:58,  1.36s/it]"
     ]
    },
    {
     "name": "stdout",
     "output_type": "stream",
     "text": [
      "\n",
      "Raw model output:  Code: politics\n",
      "    Reason: The article is about George Galloway, a politician, and his appeal for the release of a hostage, Margaret Hassan, in Iraq. The article also mentions the war in Iraq and the Respect Coalition, a political party founded by Galloway, which are all related to politics.\n",
      "\n",
      "Trying code patterns:\n",
      "Pattern 'Code:\\s*([a-zA-Z]+)(?=\\s*Reason:)': Match found\n",
      "Found code: politics\n",
      "\n",
      "Trying reasoning patterns:\n",
      "Pattern 'Reason:\\s*([\\s\\S]+?)(?=\\s*(?:Code:|$))': Match found\n",
      "Found reasoning: The article is about George Galloway, a politician, and his appeal for the release of a hostage, Mar...\n"
     ]
    },
    {
     "name": "stderr",
     "output_type": "stream",
     "text": [
      " 12%|█▏        | 12/98 [00:16<01:53,  1.32s/it]"
     ]
    },
    {
     "name": "stdout",
     "output_type": "stream",
     "text": [
      "\n",
      "Raw model output:  Code: business\n",
      "    Reason: I chose this code because the article is discussing businesses and their response to HIV/AIDS, which is a financial and economic issue. The article mentions companies, business leaders, and the World Economic Forum, which are all related to the business category.\n",
      "\n",
      "Trying code patterns:\n",
      "Pattern 'Code:\\s*([a-zA-Z]+)(?=\\s*Reason:)': Match found\n",
      "Found code: business\n",
      "\n",
      "Trying reasoning patterns:\n",
      "Pattern 'Reason:\\s*([\\s\\S]+?)(?=\\s*(?:Code:|$))': Match found\n",
      "Found reasoning: I chose this code because the article is discussing businesses and their response to HIV/AIDS, which...\n"
     ]
    },
    {
     "name": "stderr",
     "output_type": "stream",
     "text": [
      " 13%|█▎        | 13/98 [00:18<02:11,  1.54s/it]"
     ]
    },
    {
     "name": "stdout",
     "output_type": "stream",
     "text": [
      "\n",
      "Raw model output:  Code: tech\n",
      "    Reason: I chose the code \"tech\" because the article is primarily about the advancements and trends in the technology sector, specifically in the area of search engines and how they are evolving to meet user needs. The article discusses companies such as Google, Microsoft, and Yahoo, and their efforts to improve search functionality and personalize results for users. The language used is technical and industry-specific, with terms like \"broadband\", \"desktop search\", and \"personalisation\", which further supports the categorization of this article as \"tech\".\n",
      "\n",
      "Trying code patterns:\n",
      "Pattern 'Code:\\s*([a-zA-Z]+)(?=\\s*Reason:)': Match found\n",
      "Found code: tech\n",
      "\n",
      "Trying reasoning patterns:\n",
      "Pattern 'Reason:\\s*([\\s\\S]+?)(?=\\s*(?:Code:|$))': Match found\n",
      "Found reasoning: I chose the code \"tech\" because the article is primarily about the advancements and trends in the te...\n"
     ]
    },
    {
     "name": "stderr",
     "output_type": "stream",
     "text": [
      " 14%|█▍        | 14/98 [00:19<01:58,  1.41s/it]"
     ]
    },
    {
     "name": "stdout",
     "output_type": "stream",
     "text": [
      "\n",
      "Raw model output:  Code: business\n",
      "     Reason: The article mentions \"high finance\" and the pharmaceutical industry, which are both related to business and economic issues.\n",
      "\n",
      "Trying code patterns:\n",
      "Pattern 'Code:\\s*([a-zA-Z]+)(?=\\s*Reason:)': Match found\n",
      "Found code: business\n",
      "\n",
      "Trying reasoning patterns:\n",
      "Pattern 'Reason:\\s*([\\s\\S]+?)(?=\\s*(?:Code:|$))': Match found\n",
      "Found reasoning: The article mentions \"high finance\" and the pharmaceutical industry, which are both related to busin...\n"
     ]
    },
    {
     "name": "stderr",
     "output_type": "stream",
     "text": [
      " 15%|█▌        | 15/98 [00:20<01:51,  1.35s/it]"
     ]
    },
    {
     "name": "stdout",
     "output_type": "stream",
     "text": [
      "\n",
      "Raw model output:  Code: sport\n",
      "    Reason: This news article is about a sporting event, specifically a cross-country race, and mentions athletes and their performances, which falls under the category of \"sport\".\n",
      "\n",
      "Trying code patterns:\n",
      "Pattern 'Code:\\s*([a-zA-Z]+)(?=\\s*Reason:)': Match found\n",
      "Found code: sport\n",
      "\n",
      "Trying reasoning patterns:\n",
      "Pattern 'Reason:\\s*([\\s\\S]+?)(?=\\s*(?:Code:|$))': Match found\n",
      "Found reasoning: This news article is about a sporting event, specifically a cross-country race, and mentions athlete...\n"
     ]
    },
    {
     "name": "stderr",
     "output_type": "stream",
     "text": [
      " 16%|█▋        | 16/98 [00:22<01:46,  1.30s/it]"
     ]
    },
    {
     "name": "stdout",
     "output_type": "stream",
     "text": [
      "\n",
      "Raw model output:  Code: tech\n",
      "     Reason: The news article is about a software that translates colours into musical notes, which is a technological innovation. It involves programming and computer graphics, which are both related to technology. Therefore, the code \"tech\" is the most suitable category for this news article.\n",
      "\n",
      "Trying code patterns:\n",
      "Pattern 'Code:\\s*([a-zA-Z]+)(?=\\s*Reason:)': Match found\n",
      "Found code: tech\n",
      "\n",
      "Trying reasoning patterns:\n",
      "Pattern 'Reason:\\s*([\\s\\S]+?)(?=\\s*(?:Code:|$))': Match found\n",
      "Found reasoning: The news article is about a software that translates colours into musical notes, which is a technolo...\n"
     ]
    },
    {
     "name": "stderr",
     "output_type": "stream",
     "text": [
      " 17%|█▋        | 17/98 [00:23<01:49,  1.35s/it]"
     ]
    },
    {
     "name": "stdout",
     "output_type": "stream",
     "text": [
      "\n",
      "Raw model output:  Code: business\n",
      "     Reason: This news article is related to financial markets, economic issues, and corruption in the finance ministry of Cameroon, which falls under the category of business.\n",
      "\n",
      "Trying code patterns:\n",
      "Pattern 'Code:\\s*([a-zA-Z]+)(?=\\s*Reason:)': Match found\n",
      "Found code: business\n",
      "\n",
      "Trying reasoning patterns:\n",
      "Pattern 'Reason:\\s*([\\s\\S]+?)(?=\\s*(?:Code:|$))': Match found\n",
      "Found reasoning: This news article is related to financial markets, economic issues, and corruption in the finance mi...\n"
     ]
    },
    {
     "name": "stderr",
     "output_type": "stream",
     "text": [
      " 18%|█▊        | 18/98 [00:24<01:41,  1.27s/it]"
     ]
    },
    {
     "name": "stdout",
     "output_type": "stream",
     "text": [
      "\n",
      "Raw model output:  Code: sport\n",
      "     Reason: The article is about rugby and the Welsh national team, which falls under the category of sports news.\n",
      "\n",
      "Trying code patterns:\n",
      "Pattern 'Code:\\s*([a-zA-Z]+)(?=\\s*Reason:)': Match found\n",
      "Found code: sport\n",
      "\n",
      "Trying reasoning patterns:\n",
      "Pattern 'Reason:\\s*([\\s\\S]+?)(?=\\s*(?:Code:|$))': Match found\n",
      "Found reasoning: The article is about rugby and the Welsh national team, which falls under the category of sports new...\n"
     ]
    },
    {
     "name": "stderr",
     "output_type": "stream",
     "text": [
      " 19%|█▉        | 19/98 [00:26<01:55,  1.46s/it]"
     ]
    },
    {
     "name": "stdout",
     "output_type": "stream",
     "text": [
      "\n",
      "Raw model output:  Code: politics\n",
      "     Reason: This article is about Charles Kennedy, the leader of the Liberal Democrat party, making a speech at a Hindu temple as part of an appeal to ethnic minority voters, which is a political topic. The article also discusses the Iraq war, terrorism, and government policies, which are all political issues.\n",
      "\n",
      "Trying code patterns:\n",
      "Pattern 'Code:\\s*([a-zA-Z]+)(?=\\s*Reason:)': Match found\n",
      "Found code: politics\n",
      "\n",
      "Trying reasoning patterns:\n",
      "Pattern 'Reason:\\s*([\\s\\S]+?)(?=\\s*(?:Code:|$))': Match found\n",
      "Found reasoning: This article is about Charles Kennedy, the leader of the Liberal Democrat party, making a speech at ...\n"
     ]
    },
    {
     "name": "stderr",
     "output_type": "stream",
     "text": [
      " 20%|██        | 20/98 [00:27<01:41,  1.31s/it]"
     ]
    },
    {
     "name": "stdout",
     "output_type": "stream",
     "text": [
      "\n",
      "Raw model output:  Code: politics\n",
      "     Reason: The article discusses government plans to cut civil service jobs, which is a political issue. The article also mentions the response of a union, the PCS, and their plans to strike, which is also a political topic.\n",
      "\n",
      "Trying code patterns:\n",
      "Pattern 'Code:\\s*([a-zA-Z]+)(?=\\s*Reason:)': Match found\n",
      "Found code: politics\n",
      "\n",
      "Trying reasoning patterns:\n",
      "Pattern 'Reason:\\s*([\\s\\S]+?)(?=\\s*(?:Code:|$))': Match found\n",
      "Found reasoning: The article discusses government plans to cut civil service jobs, which is a political issue. The ar...\n"
     ]
    },
    {
     "name": "stderr",
     "output_type": "stream",
     "text": [
      " 21%|██▏       | 21/98 [00:28<01:36,  1.25s/it]"
     ]
    },
    {
     "name": "stdout",
     "output_type": "stream",
     "text": [
      "\n",
      "Raw model output:  Code: politics\n",
      "    Reason: I chose this code because the article is about the President of Pakistan, General Musharraf, discussing his views on Islam, the war on terror, and political disputes, which are all related to government and international relations, making it a politics-related article.\n",
      "\n",
      "Trying code patterns:\n",
      "Pattern 'Code:\\s*([a-zA-Z]+)(?=\\s*Reason:)': Match found\n",
      "Found code: politics\n",
      "\n",
      "Trying reasoning patterns:\n",
      "Pattern 'Reason:\\s*([\\s\\S]+?)(?=\\s*(?:Code:|$))': Match found\n",
      "Found reasoning: I chose this code because the article is about the President of Pakistan, General Musharraf, discuss...\n"
     ]
    },
    {
     "name": "stderr",
     "output_type": "stream",
     "text": [
      " 22%|██▏       | 22/98 [00:30<01:44,  1.37s/it]"
     ]
    },
    {
     "name": "stdout",
     "output_type": "stream",
     "text": [
      "\n",
      "Raw model output:  Code: sport\n",
      "     Reason: I chose this code because the article is clearly about a rugby match between Ireland and the USA, discussing the teams' line-ups, coaches, and previous performances. The language and terminology used are specific to the sport of rugby, and the article provides details about the upcoming match, making it a clear fit for the \"sport\" category.\n",
      "\n",
      "Trying code patterns:\n",
      "Pattern 'Code:\\s*([a-zA-Z]+)(?=\\s*Reason:)': Match found\n",
      "Found code: sport\n",
      "\n",
      "Trying reasoning patterns:\n",
      "Pattern 'Reason:\\s*([\\s\\S]+?)(?=\\s*(?:Code:|$))': Match found\n",
      "Found reasoning: I chose this code because the article is clearly about a rugby match between Ireland and the USA, di...\n"
     ]
    },
    {
     "name": "stderr",
     "output_type": "stream",
     "text": [
      " 23%|██▎       | 23/98 [00:31<01:39,  1.33s/it]"
     ]
    },
    {
     "name": "stdout",
     "output_type": "stream",
     "text": [
      "\n",
      "Raw model output:  Code: business\n",
      "     Reason: The article is discussing a government plan to establish a minimum payment rate for foster parents, which involves financial and economic issues, such as costs, allowances, and funding. This falls under the category of business, as it relates to financial markets and economic issues.\n",
      "\n",
      "Trying code patterns:\n",
      "Pattern 'Code:\\s*([a-zA-Z]+)(?=\\s*Reason:)': Match found\n",
      "Found code: business\n",
      "\n",
      "Trying reasoning patterns:\n",
      "Pattern 'Reason:\\s*([\\s\\S]+?)(?=\\s*(?:Code:|$))': Match found\n",
      "Found reasoning: The article is discussing a government plan to establish a minimum payment rate for foster parents, ...\n"
     ]
    },
    {
     "name": "stderr",
     "output_type": "stream",
     "text": [
      " 24%|██▍       | 24/98 [00:33<01:44,  1.41s/it]"
     ]
    },
    {
     "name": "stdout",
     "output_type": "stream",
     "text": [
      "\n",
      "Raw model output:  Code: politics\n",
      "     Reason: This news article is about the leader of the Conservative Party, Michael Howard, and his views on asylum quotas, as well as his personal life and image. It discusses his response to criticisms and his political stance, which are all key aspects of politics.\n",
      "\n",
      "Trying code patterns:\n",
      "Pattern 'Code:\\s*([a-zA-Z]+)(?=\\s*Reason:)': Match found\n",
      "Found code: politics\n",
      "\n",
      "Trying reasoning patterns:\n",
      "Pattern 'Reason:\\s*([\\s\\S]+?)(?=\\s*(?:Code:|$))': Match found\n",
      "Found reasoning: This news article is about the leader of the Conservative Party, Michael Howard, and his views on as...\n"
     ]
    },
    {
     "name": "stderr",
     "output_type": "stream",
     "text": [
      " 26%|██▌       | 25/98 [00:34<01:38,  1.34s/it]"
     ]
    },
    {
     "name": "stdout",
     "output_type": "stream",
     "text": [
      "\n",
      "Raw model output:  Code: entertainment\n",
      "     Reason: The article is about Harry Connick Jr starring in a Broadway revival of a musical, which is a topic related to entertainment, specifically theatre and music.\n",
      "\n",
      "Trying code patterns:\n",
      "Pattern 'Code:\\s*([a-zA-Z]+)(?=\\s*Reason:)': Match found\n",
      "Found code: entertainment\n",
      "\n",
      "Trying reasoning patterns:\n",
      "Pattern 'Reason:\\s*([\\s\\S]+?)(?=\\s*(?:Code:|$))': Match found\n",
      "Found reasoning: The article is about Harry Connick Jr starring in a Broadway revival of a musical, which is a topic ...\n"
     ]
    },
    {
     "name": "stderr",
     "output_type": "stream",
     "text": [
      " 27%|██▋       | 26/98 [00:35<01:32,  1.28s/it]"
     ]
    },
    {
     "name": "stdout",
     "output_type": "stream",
     "text": [
      "\n",
      "Raw model output:  Code: business\n",
      "    Reason: I chose this code because the article is discussing house prices and the housing market, which falls under the category of economic issues and financial markets, making it a business-related topic.\n",
      "\n",
      "Trying code patterns:\n",
      "Pattern 'Code:\\s*([a-zA-Z]+)(?=\\s*Reason:)': Match found\n",
      "Found code: business\n",
      "\n",
      "Trying reasoning patterns:\n",
      "Pattern 'Reason:\\s*([\\s\\S]+?)(?=\\s*(?:Code:|$))': Match found\n",
      "Found reasoning: I chose this code because the article is discussing house prices and the housing market, which falls...\n"
     ]
    },
    {
     "name": "stderr",
     "output_type": "stream",
     "text": [
      " 28%|██▊       | 27/98 [00:36<01:30,  1.27s/it]"
     ]
    },
    {
     "name": "stdout",
     "output_type": "stream",
     "text": [
      "\n",
      "Raw model output:  Code: business\n",
      "     Reason: The article is related to a company (Alitalia) and its financial struggles, as well as the European Commission's investigation into possible state aid, which falls under the category of business news.\n",
      "    ---\n",
      "\n",
      "Trying code patterns:\n",
      "Pattern 'Code:\\s*([a-zA-Z]+)(?=\\s*Reason:)': Match found\n",
      "Found code: business\n",
      "\n",
      "Trying reasoning patterns:\n",
      "Pattern 'Reason:\\s*([\\s\\S]+?)(?=\\s*(?:Code:|$))': Match found\n",
      "Found reasoning: The article is related to a company (Alitalia) and its financial struggles, as well as the European ...\n"
     ]
    },
    {
     "name": "stderr",
     "output_type": "stream",
     "text": [
      " 29%|██▊       | 28/98 [00:38<01:42,  1.46s/it]"
     ]
    },
    {
     "name": "stdout",
     "output_type": "stream",
     "text": [
      "\n",
      "Raw model output:  Code: business\n",
      "     Reason: The article is about a potential bidding war between two phone companies, Qwest and Verizon, over acquiring MCI. It discusses the financial aspects of the deal, including the offers made by each company and the potential benefits and drawbacks of the acquisition. The article also mentions the regulatory scrutiny that the deal may face, as well as the history of MCI and its emergence from bankruptcy protection. Overall, the article is focused on business and financial news, making it a clear fit for the \"business\" code.\n",
      "\n",
      "Trying code patterns:\n",
      "Pattern 'Code:\\s*([a-zA-Z]+)(?=\\s*Reason:)': Match found\n",
      "Found code: business\n",
      "\n",
      "Trying reasoning patterns:\n",
      "Pattern 'Reason:\\s*([\\s\\S]+?)(?=\\s*(?:Code:|$))': Match found\n",
      "Found reasoning: The article is about a potential bidding war between two phone companies, Qwest and Verizon, over ac...\n"
     ]
    },
    {
     "name": "stderr",
     "output_type": "stream",
     "text": [
      " 30%|██▉       | 29/98 [00:40<01:44,  1.52s/it]"
     ]
    },
    {
     "name": "stdout",
     "output_type": "stream",
     "text": [
      "\n",
      "Raw model output:  Code: business\n",
      "     Reason: This article is related to US industrial output growth, which is a topic related to economic issues and industry trends, making it a good fit for the \"business\" category.\n",
      "\n",
      "Trying code patterns:\n",
      "Pattern 'Code:\\s*([a-zA-Z]+)(?=\\s*Reason:)': Match found\n",
      "Found code: business\n",
      "\n",
      "Trying reasoning patterns:\n",
      "Pattern 'Reason:\\s*([\\s\\S]+?)(?=\\s*(?:Code:|$))': Match found\n",
      "Found reasoning: This article is related to US industrial output growth, which is a topic related to economic issues ...\n"
     ]
    },
    {
     "name": "stderr",
     "output_type": "stream",
     "text": [
      " 31%|███       | 30/98 [00:41<01:43,  1.52s/it]"
     ]
    },
    {
     "name": "stdout",
     "output_type": "stream",
     "text": [
      "\n",
      "Raw model output:  Code: politics\n",
      "     Reason: This news article is about the Labour party's campaign posters and the controversy surrounding them, which is a political issue. The article discusses the party's strategy, the response of the Conservative party, and the views of politicians, which are all relevant to the politics category.\n",
      "\n",
      "Trying code patterns:\n",
      "Pattern 'Code:\\s*([a-zA-Z]+)(?=\\s*Reason:)': Match found\n",
      "Found code: politics\n",
      "\n",
      "Trying reasoning patterns:\n",
      "Pattern 'Reason:\\s*([\\s\\S]+?)(?=\\s*(?:Code:|$))': Match found\n",
      "Found reasoning: This news article is about the Labour party's campaign posters and the controversy surrounding them,...\n"
     ]
    },
    {
     "name": "stderr",
     "output_type": "stream",
     "text": [
      " 32%|███▏      | 31/98 [00:42<01:34,  1.41s/it]"
     ]
    },
    {
     "name": "stdout",
     "output_type": "stream",
     "text": [
      "\n",
      "Raw model output:  Code: business\n",
      "     Reason: The article is related to a company (EADS) and its financial issues, which is a typical topic in the business category.\n",
      "\n",
      "Trying code patterns:\n",
      "Pattern 'Code:\\s*([a-zA-Z]+)(?=\\s*Reason:)': Match found\n",
      "Found code: business\n",
      "\n",
      "Trying reasoning patterns:\n",
      "Pattern 'Reason:\\s*([\\s\\S]+?)(?=\\s*(?:Code:|$))': Match found\n",
      "Found reasoning: The article is related to a company (EADS) and its financial issues, which is a typical topic in the...\n"
     ]
    },
    {
     "name": "stderr",
     "output_type": "stream",
     "text": [
      " 33%|███▎      | 32/98 [00:43<01:22,  1.25s/it]"
     ]
    },
    {
     "name": "stdout",
     "output_type": "stream",
     "text": [
      "\n",
      "Raw model output:  Code: entertainment\n",
      "     Reason: The article is about music and the music industry, specifically independent labels and their music being available for download, which falls under the category of entertainment.\n",
      "\n",
      "Trying code patterns:\n",
      "Pattern 'Code:\\s*([a-zA-Z]+)(?=\\s*Reason:)': Match found\n",
      "Found code: entertainment\n",
      "\n",
      "Trying reasoning patterns:\n",
      "Pattern 'Reason:\\s*([\\s\\S]+?)(?=\\s*(?:Code:|$))': Match found\n",
      "Found reasoning: The article is about music and the music industry, specifically independent labels and their music b...\n"
     ]
    },
    {
     "name": "stderr",
     "output_type": "stream",
     "text": [
      " 34%|███▎      | 33/98 [00:45<01:24,  1.29s/it]"
     ]
    },
    {
     "name": "stdout",
     "output_type": "stream",
     "text": [
      "\n",
      "Raw model output:  Code: politics\n",
      "    Reason: This news article is about the reaction of British politicians to the re-election of George Bush as President of the United States, and discusses the implications of his second term for international relations and global issues such as terrorism and climate change. The article quotes politicians from different parties, including Tony Blair, Michael Howard, and Charles Kennedy, and discusses their views on the election and its consequences.\n",
      "\n",
      "Trying code patterns:\n",
      "Pattern 'Code:\\s*([a-zA-Z]+)(?=\\s*Reason:)': Match found\n",
      "Found code: politics\n",
      "\n",
      "Trying reasoning patterns:\n",
      "Pattern 'Reason:\\s*([\\s\\S]+?)(?=\\s*(?:Code:|$))': Match found\n",
      "Found reasoning: This news article is about the reaction of British politicians to the re-election of George Bush as ...\n"
     ]
    },
    {
     "name": "stderr",
     "output_type": "stream",
     "text": [
      " 35%|███▍      | 34/98 [00:46<01:27,  1.37s/it]"
     ]
    },
    {
     "name": "stdout",
     "output_type": "stream",
     "text": [
      "\n",
      "Raw model output:  Code: politics\n",
      "    Reason: I chose the code \"politics\" because the article discusses the reform of the House of Lords, the role of the lord chancellor, and the relationship between the Lords and the Commons, which are all topics related to government and politics. The article quotes politicians, such as Betty Boothroyd and Lord Falconer, and discusses potential reforms that may be included in a future Labour manifesto, further solidifying the connection to politics.\n",
      "\n",
      "Trying code patterns:\n",
      "Pattern 'Code:\\s*([a-zA-Z]+)(?=\\s*Reason:)': Match found\n",
      "Found code: politics\n",
      "\n",
      "Trying reasoning patterns:\n",
      "Pattern 'Reason:\\s*([\\s\\S]+?)(?=\\s*(?:Code:|$))': Match found\n",
      "Found reasoning: I chose the code \"politics\" because the article discusses the reform of the House of Lords, the role...\n"
     ]
    },
    {
     "name": "stderr",
     "output_type": "stream",
     "text": [
      " 36%|███▌      | 35/98 [00:47<01:22,  1.31s/it]"
     ]
    },
    {
     "name": "stdout",
     "output_type": "stream",
     "text": [
      "\n",
      "Raw model output:  Code: entertainment\n",
      "    Reason: The article is about a music poll and discusses British rock bands, including Black Sabbath and their lead singer Ozzy Osbourne, which falls under the category of entertainment.\n",
      "\n",
      "Trying code patterns:\n",
      "Pattern 'Code:\\s*([a-zA-Z]+)(?=\\s*Reason:)': Match found\n",
      "Found code: entertainment\n",
      "\n",
      "Trying reasoning patterns:\n",
      "Pattern 'Reason:\\s*([\\s\\S]+?)(?=\\s*(?:Code:|$))': Match found\n",
      "Found reasoning: The article is about a music poll and discusses British rock bands, including Black Sabbath and thei...\n"
     ]
    },
    {
     "name": "stderr",
     "output_type": "stream",
     "text": [
      " 37%|███▋      | 36/98 [00:49<01:21,  1.31s/it]"
     ]
    },
    {
     "name": "stdout",
     "output_type": "stream",
     "text": [
      "\n",
      "Raw model output:  Code: sport\n",
      "    Reason: This article is about James McIlroy, an athlete competing in the 800 meters event at the Spar European Indoor Championships in Madrid, which makes it a sports-related news article.\n",
      "\n",
      "Trying code patterns:\n",
      "Pattern 'Code:\\s*([a-zA-Z]+)(?=\\s*Reason:)': Match found\n",
      "Found code: sport\n",
      "\n",
      "Trying reasoning patterns:\n",
      "Pattern 'Reason:\\s*([\\s\\S]+?)(?=\\s*(?:Code:|$))': Match found\n",
      "Found reasoning: This article is about James McIlroy, an athlete competing in the 800 meters event at the Spar Europe...\n"
     ]
    },
    {
     "name": "stderr",
     "output_type": "stream",
     "text": [
      " 38%|███▊      | 37/98 [00:50<01:17,  1.27s/it]"
     ]
    },
    {
     "name": "stdout",
     "output_type": "stream",
     "text": [
      "\n",
      "Raw model output:  Code: politics\n",
      "     Reason: This news article is related to government, political parties, policies, and elections, which are all topics that fall under the category of politics. The article discusses how older voters are more likely to vote in general elections and what issues they care about, such as pensions, the NHS, and the economy, which are all relevant to political policies and decision-making.\n",
      "\n",
      "Trying code patterns:\n",
      "Pattern 'Code:\\s*([a-zA-Z]+)(?=\\s*Reason:)': Match found\n",
      "Found code: politics\n",
      "\n",
      "Trying reasoning patterns:\n",
      "Pattern 'Reason:\\s*([\\s\\S]+?)(?=\\s*(?:Code:|$))': Match found\n",
      "Found reasoning: This news article is related to government, political parties, policies, and elections, which are al...\n"
     ]
    },
    {
     "name": "stderr",
     "output_type": "stream",
     "text": [
      " 39%|███▉      | 38/98 [00:51<01:11,  1.20s/it]"
     ]
    },
    {
     "name": "stdout",
     "output_type": "stream",
     "text": [
      "\n",
      "Raw model output:  Code: politics\n",
      "    Reason: This news article is related to government, laws, and policies, which falls under the category of politics. The article discusses the ban on hunting with dogs in England and Wales, the reactions of hunt supporters and anti-hunt groups, and the enforcement of the law by the police.\n",
      "\n",
      "Trying code patterns:\n",
      "Pattern 'Code:\\s*([a-zA-Z]+)(?=\\s*Reason:)': Match found\n",
      "Found code: politics\n",
      "\n",
      "Trying reasoning patterns:\n",
      "Pattern 'Reason:\\s*([\\s\\S]+?)(?=\\s*(?:Code:|$))': Match found\n",
      "Found reasoning: This news article is related to government, laws, and policies, which falls under the category of po...\n"
     ]
    },
    {
     "name": "stderr",
     "output_type": "stream",
     "text": [
      " 40%|███▉      | 39/98 [00:52<01:05,  1.11s/it]"
     ]
    },
    {
     "name": "stdout",
     "output_type": "stream",
     "text": [
      "\n",
      "Raw model output:  Code: entertainment\n",
      "    Reason: This news article is related to music download networks and the debate over their legitimacy, which falls under the category of entertainment.\n",
      "\n",
      "Trying code patterns:\n",
      "Pattern 'Code:\\s*([a-zA-Z]+)(?=\\s*Reason:)': Match found\n",
      "Found code: entertainment\n",
      "\n",
      "Trying reasoning patterns:\n",
      "Pattern 'Reason:\\s*([\\s\\S]+?)(?=\\s*(?:Code:|$))': Match found\n",
      "Found reasoning: This news article is related to music download networks and the debate over their legitimacy, which ...\n"
     ]
    },
    {
     "name": "stderr",
     "output_type": "stream",
     "text": [
      " 41%|████      | 40/98 [00:53<01:02,  1.08s/it]"
     ]
    },
    {
     "name": "stdout",
     "output_type": "stream",
     "text": [
      "\n",
      "Raw model output:  Code: sport\n",
      "    Reason: The article is about a tennis match and its results, which is a sporting event, hence it falls under the \"sport\" category.\n",
      "\n",
      "Trying code patterns:\n",
      "Pattern 'Code:\\s*([a-zA-Z]+)(?=\\s*Reason:)': Match found\n",
      "Found code: sport\n",
      "\n",
      "Trying reasoning patterns:\n",
      "Pattern 'Reason:\\s*([\\s\\S]+?)(?=\\s*(?:Code:|$))': Match found\n",
      "Found reasoning: The article is about a tennis match and its results, which is a sporting event, hence it falls under...\n"
     ]
    },
    {
     "name": "stderr",
     "output_type": "stream",
     "text": [
      " 42%|████▏     | 41/98 [00:55<01:11,  1.26s/it]"
     ]
    },
    {
     "name": "stdout",
     "output_type": "stream",
     "text": [
      "\n",
      "Raw model output:  Code: entertainment\n",
      "     Reason: The article discusses the debate over the term \"urban\" in relation to music, specifically in the context of the Brit Awards and Joss Stone's win for Best British Urban Act. The article quotes various industry executives, musicians, and music fans, and explores the issues of genre classification, cultural appropriation, and racial identity in music. The article's focus on the entertainment industry and popular culture makes it a good fit for the \"entertainment\" code.\n",
      "\n",
      "Trying code patterns:\n",
      "Pattern 'Code:\\s*([a-zA-Z]+)(?=\\s*Reason:)': Match found\n",
      "Found code: entertainment\n",
      "\n",
      "Trying reasoning patterns:\n",
      "Pattern 'Reason:\\s*([\\s\\S]+?)(?=\\s*(?:Code:|$))': Match found\n",
      "Found reasoning: The article discusses the debate over the term \"urban\" in relation to music, specifically in the con...\n"
     ]
    },
    {
     "name": "stderr",
     "output_type": "stream",
     "text": [
      " 43%|████▎     | 42/98 [00:55<00:59,  1.06s/it]"
     ]
    },
    {
     "name": "stdout",
     "output_type": "stream",
     "text": [
      "\n",
      "Raw model output:  Code: business\n",
      "    Reason: The article is related to economic issues and government policies, which falls under the category of business.\n",
      "\n",
      "Trying code patterns:\n",
      "Pattern 'Code:\\s*([a-zA-Z]+)(?=\\s*Reason:)': Match found\n",
      "Found code: business\n",
      "\n",
      "Trying reasoning patterns:\n",
      "Pattern 'Reason:\\s*([\\s\\S]+?)(?=\\s*(?:Code:|$))': Match found\n",
      "Found reasoning: The article is related to economic issues and government policies, which falls under the category of...\n"
     ]
    },
    {
     "name": "stderr",
     "output_type": "stream",
     "text": [
      " 44%|████▍     | 43/98 [00:56<00:56,  1.03s/it]"
     ]
    },
    {
     "name": "stdout",
     "output_type": "stream",
     "text": [
      "\n",
      "Raw model output:  Code: sport\n",
      "    Reason: This news article is related to a sporting event (the Fifa World Player of the Year award) and athletes (Thierry Henry, Ronaldinho, Andriy Shevchenko, Mia Hamm, Birgit Prinz, and Marta), making it a sport-related news story.\n",
      "\n",
      "Trying code patterns:\n",
      "Pattern 'Code:\\s*([a-zA-Z]+)(?=\\s*Reason:)': Match found\n",
      "Found code: sport\n",
      "\n",
      "Trying reasoning patterns:\n",
      "Pattern 'Reason:\\s*([\\s\\S]+?)(?=\\s*(?:Code:|$))': Match found\n",
      "Found reasoning: This news article is related to a sporting event (the Fifa World Player of the Year award) and athle...\n"
     ]
    },
    {
     "name": "stderr",
     "output_type": "stream",
     "text": [
      " 45%|████▍     | 44/98 [00:57<00:55,  1.03s/it]"
     ]
    },
    {
     "name": "stdout",
     "output_type": "stream",
     "text": [
      "\n",
      "Raw model output:  Code: sport\n",
      "     Reason: This news article is about Aston Villa's football player Thomas Hitzlsperger and his contract negotiations, which is directly related to a sporting event.\n",
      "\n",
      "Trying code patterns:\n",
      "Pattern 'Code:\\s*([a-zA-Z]+)(?=\\s*Reason:)': Match found\n",
      "Found code: sport\n",
      "\n",
      "Trying reasoning patterns:\n",
      "Pattern 'Reason:\\s*([\\s\\S]+?)(?=\\s*(?:Code:|$))': Match found\n",
      "Found reasoning: This news article is about Aston Villa's football player Thomas Hitzlsperger and his contract negoti...\n"
     ]
    },
    {
     "name": "stderr",
     "output_type": "stream",
     "text": [
      " 46%|████▌     | 45/98 [00:58<00:53,  1.01s/it]"
     ]
    },
    {
     "name": "stdout",
     "output_type": "stream",
     "text": [
      "\n",
      "Raw model output:  Code: tech\n",
      "     Reason: This article is about Microsoft launching a blogging service, which is related to technology advancements and innovation.\n",
      "\n",
      "Trying code patterns:\n",
      "Pattern 'Code:\\s*([a-zA-Z]+)(?=\\s*Reason:)': Match found\n",
      "Found code: tech\n",
      "\n",
      "Trying reasoning patterns:\n",
      "Pattern 'Reason:\\s*([\\s\\S]+?)(?=\\s*(?:Code:|$))': Match found\n",
      "Found reasoning: This article is about Microsoft launching a blogging service, which is related to technology advance...\n"
     ]
    },
    {
     "name": "stderr",
     "output_type": "stream",
     "text": [
      " 47%|████▋     | 46/98 [01:00<01:07,  1.29s/it]"
     ]
    },
    {
     "name": "stdout",
     "output_type": "stream",
     "text": [
      "\n",
      "Raw model output:  Code: tech\n",
      "     Reason: The article discusses a new technology developed by Lycos, an internet portal, to fight against spam websites. The technology uses a screensaver that requests data from spam websites, increasing their bandwidth bills and making spamming more expensive. The article explains how the technology works and its potential impact on the spamming industry.\n",
      "\n",
      "Trying code patterns:\n",
      "Pattern 'Code:\\s*([a-zA-Z]+)(?=\\s*Reason:)': Match found\n",
      "Found code: tech\n",
      "\n",
      "Trying reasoning patterns:\n",
      "Pattern 'Reason:\\s*([\\s\\S]+?)(?=\\s*(?:Code:|$))': Match found\n",
      "Found reasoning: The article discusses a new technology developed by Lycos, an internet portal, to fight against spam...\n"
     ]
    },
    {
     "name": "stderr",
     "output_type": "stream",
     "text": [
      " 48%|████▊     | 47/98 [01:01<01:03,  1.24s/it]"
     ]
    },
    {
     "name": "stdout",
     "output_type": "stream",
     "text": [
      "\n",
      "Raw model output:  Code: business\n",
      "    Reason: This news article is related to a court case involving tobacco firms and the US government, which involves financial damages and the tobacco industry, making it a business-related story.\n",
      "\n",
      "Trying code patterns:\n",
      "Pattern 'Code:\\s*([a-zA-Z]+)(?=\\s*Reason:)': Match found\n",
      "Found code: business\n",
      "\n",
      "Trying reasoning patterns:\n",
      "Pattern 'Reason:\\s*([\\s\\S]+?)(?=\\s*(?:Code:|$))': Match found\n",
      "Found reasoning: This news article is related to a court case involving tobacco firms and the US government, which in...\n"
     ]
    },
    {
     "name": "stderr",
     "output_type": "stream",
     "text": [
      " 49%|████▉     | 48/98 [01:02<00:57,  1.14s/it]"
     ]
    },
    {
     "name": "stdout",
     "output_type": "stream",
     "text": [
      "\n",
      "Raw model output:  Code: business\n",
      "     Reason: This news article is related to government policies and economic issues, specifically the target of improving adult literacy skills and its impact on the economy.\n",
      "\n",
      "Trying code patterns:\n",
      "Pattern 'Code:\\s*([a-zA-Z]+)(?=\\s*Reason:)': Match found\n",
      "Found code: business\n",
      "\n",
      "Trying reasoning patterns:\n",
      "Pattern 'Reason:\\s*([\\s\\S]+?)(?=\\s*(?:Code:|$))': Match found\n",
      "Found reasoning: This news article is related to government policies and economic issues, specifically the target of ...\n"
     ]
    },
    {
     "name": "stderr",
     "output_type": "stream",
     "text": [
      " 50%|█████     | 49/98 [01:03<00:54,  1.11s/it]"
     ]
    },
    {
     "name": "stdout",
     "output_type": "stream",
     "text": [
      "\n",
      "Raw model output:  Code: business\n",
      "     Reason: The article is discussing the sales and production of car companies, specifically General Motors and Ford, which is a business-related topic.\n",
      "\n",
      "Trying code patterns:\n",
      "Pattern 'Code:\\s*([a-zA-Z]+)(?=\\s*Reason:)': Match found\n",
      "Found code: business\n",
      "\n",
      "Trying reasoning patterns:\n",
      "Pattern 'Reason:\\s*([\\s\\S]+?)(?=\\s*(?:Code:|$))': Match found\n",
      "Found reasoning: The article is discussing the sales and production of car companies, specifically General Motors and...\n"
     ]
    },
    {
     "name": "stderr",
     "output_type": "stream",
     "text": [
      " 51%|█████     | 50/98 [01:05<01:08,  1.42s/it]"
     ]
    },
    {
     "name": "stdout",
     "output_type": "stream",
     "text": [
      "\n",
      "Raw model output:  Code: entertainment\n",
      "    Reason: The news article is about a person who distributed pirated DVDs of Bollywood films, which falls under the category of entertainment. The article discusses the details of the case, the impact of piracy on the Bollywood industry, and the reaction of legitimate distributors, all of which are related to entertainment.\n",
      "\n",
      "Trying code patterns:\n",
      "Pattern 'Code:\\s*([a-zA-Z]+)(?=\\s*Reason:)': Match found\n",
      "Found code: entertainment\n",
      "\n",
      "Trying reasoning patterns:\n",
      "Pattern 'Reason:\\s*([\\s\\S]+?)(?=\\s*(?:Code:|$))': Match found\n",
      "Found reasoning: The news article is about a person who distributed pirated DVDs of Bollywood films, which falls unde...\n"
     ]
    },
    {
     "name": "stderr",
     "output_type": "stream",
     "text": [
      " 52%|█████▏    | 51/98 [01:07<01:12,  1.55s/it]"
     ]
    },
    {
     "name": "stdout",
     "output_type": "stream",
     "text": [
      "\n",
      "Raw model output:  Code: politics\n",
      "     Reason: This news article is related to government policies and actions taken by the Prime Minister and Home Office Minister to tackle anti-social behaviour in England and Wales, which falls under the category of politics.\n",
      "\n",
      "Trying code patterns:\n",
      "Pattern 'Code:\\s*([a-zA-Z]+)(?=\\s*Reason:)': Match found\n",
      "Found code: politics\n",
      "\n",
      "Trying reasoning patterns:\n",
      "Pattern 'Reason:\\s*([\\s\\S]+?)(?=\\s*(?:Code:|$))': Match found\n",
      "Found reasoning: This news article is related to government policies and actions taken by the Prime Minister and Home...\n"
     ]
    },
    {
     "name": "stderr",
     "output_type": "stream",
     "text": [
      " 53%|█████▎    | 52/98 [01:08<01:06,  1.45s/it]"
     ]
    },
    {
     "name": "stdout",
     "output_type": "stream",
     "text": [
      "\n",
      "Raw model output:  Code: business\n",
      "     Reason: This article is about a company (UK Coal) and its financial performance, which is a key aspect of business news. The article discusses the company's losses, shares, and future prospects, all of which are typical business news topics.\n",
      "\n",
      "Trying code patterns:\n",
      "Pattern 'Code:\\s*([a-zA-Z]+)(?=\\s*Reason:)': Match found\n",
      "Found code: business\n",
      "\n",
      "Trying reasoning patterns:\n",
      "Pattern 'Reason:\\s*([\\s\\S]+?)(?=\\s*(?:Code:|$))': Match found\n",
      "Found reasoning: This article is about a company (UK Coal) and its financial performance, which is a key aspect of bu...\n"
     ]
    },
    {
     "name": "stderr",
     "output_type": "stream",
     "text": [
      " 54%|█████▍    | 53/98 [01:10<01:04,  1.43s/it]"
     ]
    },
    {
     "name": "stdout",
     "output_type": "stream",
     "text": [
      "\n",
      "Raw model output:  Code: politics\n",
      "     Reason: This article is discussing a potential merger between two trade unions, which could impact their influence on government policies and negotiations with employers, making it a political issue.\n",
      "\n",
      "Trying code patterns:\n",
      "Pattern 'Code:\\s*([a-zA-Z]+)(?=\\s*Reason:)': Match found\n",
      "Found code: politics\n",
      "\n",
      "Trying reasoning patterns:\n",
      "Pattern 'Reason:\\s*([\\s\\S]+?)(?=\\s*(?:Code:|$))': Match found\n",
      "Found reasoning: This article is discussing a potential merger between two trade unions, which could impact their inf...\n"
     ]
    },
    {
     "name": "stderr",
     "output_type": "stream",
     "text": [
      " 55%|█████▌    | 54/98 [01:11<01:03,  1.44s/it]"
     ]
    },
    {
     "name": "stdout",
     "output_type": "stream",
     "text": [
      "\n",
      "Raw model output:  Code: business\n",
      "    Reason: This news article is about Boeing, a company, and its new aircraft, which is related to the financial markets and industry trends.\n",
      "\n",
      "Trying code patterns:\n",
      "Pattern 'Code:\\s*([a-zA-Z]+)(?=\\s*Reason:)': Match found\n",
      "Found code: business\n",
      "\n",
      "Trying reasoning patterns:\n",
      "Pattern 'Reason:\\s*([\\s\\S]+?)(?=\\s*(?:Code:|$))': Match found\n",
      "Found reasoning: This news article is about Boeing, a company, and its new aircraft, which is related to the financia...\n"
     ]
    },
    {
     "name": "stderr",
     "output_type": "stream",
     "text": [
      " 56%|█████▌    | 55/98 [01:13<01:03,  1.48s/it]"
     ]
    },
    {
     "name": "stdout",
     "output_type": "stream",
     "text": [
      "\n",
      "Raw model output:  Code: politics\n",
      "     Reason: I chose the code \"politics\" because the article is primarily about international relations between India and Pakistan, specifically about the peace process and agreements made between the two countries regarding the disputed region of Kashmir. The article quotes the UK Foreign Secretary, Jack Straw, and mentions talks with the Indian government, which further supports the classification as a political news article.\n",
      "\n",
      "Trying code patterns:\n",
      "Pattern 'Code:\\s*([a-zA-Z]+)(?=\\s*Reason:)': Match found\n",
      "Found code: politics\n",
      "\n",
      "Trying reasoning patterns:\n",
      "Pattern 'Reason:\\s*([\\s\\S]+?)(?=\\s*(?:Code:|$))': Match found\n",
      "Found reasoning: I chose the code \"politics\" because the article is primarily about international relations between I...\n"
     ]
    },
    {
     "name": "stderr",
     "output_type": "stream",
     "text": [
      " 57%|█████▋    | 56/98 [01:14<01:03,  1.51s/it]"
     ]
    },
    {
     "name": "stdout",
     "output_type": "stream",
     "text": [
      "\n",
      "Raw model output:  Code: business\n",
      "     Reason: The article discusses Japan's economy, specifically the country's narrowly avoiding a technical recession, which falls under the category of financial markets and economic issues.\n",
      "\n",
      "Trying code patterns:\n",
      "Pattern 'Code:\\s*([a-zA-Z]+)(?=\\s*Reason:)': Match found\n",
      "Found code: business\n",
      "\n",
      "Trying reasoning patterns:\n",
      "Pattern 'Reason:\\s*([\\s\\S]+?)(?=\\s*(?:Code:|$))': Match found\n",
      "Found reasoning: The article discusses Japan's economy, specifically the country's narrowly avoiding a technical rece...\n"
     ]
    },
    {
     "name": "stderr",
     "output_type": "stream",
     "text": [
      " 58%|█████▊    | 57/98 [01:17<01:11,  1.75s/it]"
     ]
    },
    {
     "name": "stdout",
     "output_type": "stream",
     "text": [
      "\n",
      "Raw model output:  Code: politics\n",
      "    Reason: I chose the code \"politics\" because the article discusses the resignation of a government official (David Blunkett) and the possibility of him returning to government in the future, which are both political topics. Additionally, the article mentions the Prime Minister (Tony Blair) and other government officials, which further supports the classification as a political news article.\n",
      "\n",
      "Trying code patterns:\n",
      "Pattern 'Code:\\s*([a-zA-Z]+)(?=\\s*Reason:)': Match found\n",
      "Found code: politics\n",
      "\n",
      "Trying reasoning patterns:\n",
      "Pattern 'Reason:\\s*([\\s\\S]+?)(?=\\s*(?:Code:|$))': Match found\n",
      "Found reasoning: I chose the code \"politics\" because the article discusses the resignation of a government official (...\n"
     ]
    },
    {
     "name": "stderr",
     "output_type": "stream",
     "text": [
      " 59%|█████▉    | 58/98 [01:20<01:28,  2.20s/it]"
     ]
    },
    {
     "name": "stdout",
     "output_type": "stream",
     "text": [
      "\n",
      "Raw model output:  Code: sport\n",
      "     Reason: The text is about a former Australian rugby player, David Campese, commenting on England's performance in the Six Nations rugby tournament, specifically their defeat to Ireland. The article discusses rugby, teams, coaches, and players, which are all related to the sport category.\n",
      "\n",
      "Trying code patterns:\n",
      "Pattern 'Code:\\s*([a-zA-Z]+)(?=\\s*Reason:)': Match found\n",
      "Found code: sport\n",
      "\n",
      "Trying reasoning patterns:\n",
      "Pattern 'Reason:\\s*([\\s\\S]+?)(?=\\s*(?:Code:|$))': Match found\n",
      "Found reasoning: The text is about a former Australian rugby player, David Campese, commenting on England's performan...\n"
     ]
    },
    {
     "name": "stderr",
     "output_type": "stream",
     "text": [
      " 60%|██████    | 59/98 [01:21<01:12,  1.85s/it]"
     ]
    },
    {
     "name": "stdout",
     "output_type": "stream",
     "text": [
      "\n",
      "Raw model output:  Code: sport\n",
      "    Reason: This article is about Martina Hingis, a tennis player, making a comeback to competitive tennis, which falls under the category of sports news.\n",
      "\n",
      "Trying code patterns:\n",
      "Pattern 'Code:\\s*([a-zA-Z]+)(?=\\s*Reason:)': Match found\n",
      "Found code: sport\n",
      "\n",
      "Trying reasoning patterns:\n",
      "Pattern 'Reason:\\s*([\\s\\S]+?)(?=\\s*(?:Code:|$))': Match found\n",
      "Found reasoning: This article is about Martina Hingis, a tennis player, making a comeback to competitive tennis, whic...\n"
     ]
    },
    {
     "name": "stderr",
     "output_type": "stream",
     "text": [
      " 61%|██████    | 60/98 [01:22<01:02,  1.64s/it]"
     ]
    },
    {
     "name": "stdout",
     "output_type": "stream",
     "text": [
      "\n",
      "Raw model output:  Code: sport\n",
      "     Reason: This article is about the British and Irish Lions rugby team and their tour to New Zealand, which makes it a sports-related news story.\n",
      "   \n",
      "\n",
      "Trying code patterns:\n",
      "Pattern 'Code:\\s*([a-zA-Z]+)(?=\\s*Reason:)': Match found\n",
      "Found code: sport\n",
      "\n",
      "Trying reasoning patterns:\n",
      "Pattern 'Reason:\\s*([\\s\\S]+?)(?=\\s*(?:Code:|$))': Match found\n",
      "Found reasoning: This article is about the British and Irish Lions rugby team and their tour to New Zealand, which ma...\n"
     ]
    },
    {
     "name": "stderr",
     "output_type": "stream",
     "text": [
      " 62%|██████▏   | 61/98 [01:23<00:53,  1.45s/it]"
     ]
    },
    {
     "name": "stdout",
     "output_type": "stream",
     "text": [
      "\n",
      "Raw model output:  Code: sport\n",
      "    Reason: The text is about a sports team (Newry City) and a sporting competition (the Nationwide Irish Cup), which falls under the category of sport.\n",
      "\n",
      "Trying code patterns:\n",
      "Pattern 'Code:\\s*([a-zA-Z]+)(?=\\s*Reason:)': Match found\n",
      "Found code: sport\n",
      "\n",
      "Trying reasoning patterns:\n",
      "Pattern 'Reason:\\s*([\\s\\S]+?)(?=\\s*(?:Code:|$))': Match found\n",
      "Found reasoning: The text is about a sports team (Newry City) and a sporting competition (the Nationwide Irish Cup), ...\n"
     ]
    },
    {
     "name": "stderr",
     "output_type": "stream",
     "text": [
      " 63%|██████▎   | 62/98 [01:25<00:54,  1.52s/it]"
     ]
    },
    {
     "name": "stdout",
     "output_type": "stream",
     "text": [
      "\n",
      "Raw model output:  Code: sport\n",
      "     Reason: This text is about athletics, specifically Irish athletics in 2004, and it discusses various athletes and their performances in different competitions, including the Olympics. It also touches on topics such as injuries, doping, and the end of careers for some athletes. The text is primarily focused on sports and athletic events, making the \"sport\" code the most fitting category.\n",
      "\n",
      "Trying code patterns:\n",
      "Pattern 'Code:\\s*([a-zA-Z]+)(?=\\s*Reason:)': Match found\n",
      "Found code: sport\n",
      "\n",
      "Trying reasoning patterns:\n",
      "Pattern 'Reason:\\s*([\\s\\S]+?)(?=\\s*(?:Code:|$))': Match found\n",
      "Found reasoning: This text is about athletics, specifically Irish athletics in 2004, and it discusses various athlete...\n"
     ]
    },
    {
     "name": "stderr",
     "output_type": "stream",
     "text": [
      " 64%|██████▍   | 63/98 [01:26<00:50,  1.45s/it]"
     ]
    },
    {
     "name": "stdout",
     "output_type": "stream",
     "text": [
      "\n",
      "Raw model output:  Code: entertainment\n",
      "     Reason: This article is about a music-related topic, specifically an album ranking, and discusses various artists and their albums. The language used is also informal and conversational, which is typical of entertainment news.\n",
      "\n",
      "Trying code patterns:\n",
      "Pattern 'Code:\\s*([a-zA-Z]+)(?=\\s*Reason:)': Match found\n",
      "Found code: entertainment\n",
      "\n",
      "Trying reasoning patterns:\n",
      "Pattern 'Reason:\\s*([\\s\\S]+?)(?=\\s*(?:Code:|$))': Match found\n",
      "Found reasoning: This article is about a music-related topic, specifically an album ranking, and discusses various ar...\n"
     ]
    },
    {
     "name": "stderr",
     "output_type": "stream",
     "text": [
      " 65%|██████▌   | 64/98 [01:28<00:51,  1.51s/it]"
     ]
    },
    {
     "name": "stdout",
     "output_type": "stream",
     "text": [
      "\n",
      "Raw model output:  Code: entertainment\n",
      "     Reason: The article is discussing a film, its box office success, and its upcoming global release, which falls under the category of entertainment news.\n",
      "\n",
      "Trying code patterns:\n",
      "Pattern 'Code:\\s*([a-zA-Z]+)(?=\\s*Reason:)': Match found\n",
      "Found code: entertainment\n",
      "\n",
      "Trying reasoning patterns:\n",
      "Pattern 'Reason:\\s*([\\s\\S]+?)(?=\\s*(?:Code:|$))': Match found\n",
      "Found reasoning: The article is discussing a film, its box office success, and its upcoming global release, which fal...\n"
     ]
    },
    {
     "name": "stderr",
     "output_type": "stream",
     "text": [
      " 66%|██████▋   | 65/98 [01:29<00:48,  1.47s/it]"
     ]
    },
    {
     "name": "stdout",
     "output_type": "stream",
     "text": [
      "\n",
      "Raw model output:  Code: entertainment\n",
      "     Reason: The article is about a film, Super Size Me, and its director Morgan Spurlock winning an award for documentary feature writing. The article also mentions the film's plot, awards, and related news about McDonald's, which are all related to the entertainment industry.\n",
      "\n",
      "Trying code patterns:\n",
      "Pattern 'Code:\\s*([a-zA-Z]+)(?=\\s*Reason:)': Match found\n",
      "Found code: entertainment\n",
      "\n",
      "Trying reasoning patterns:\n",
      "Pattern 'Reason:\\s*([\\s\\S]+?)(?=\\s*(?:Code:|$))': Match found\n",
      "Found reasoning: The article is about a film, Super Size Me, and its director Morgan Spurlock winning an award for do...\n"
     ]
    },
    {
     "name": "stderr",
     "output_type": "stream",
     "text": [
      " 67%|██████▋   | 66/98 [01:30<00:43,  1.35s/it]"
     ]
    },
    {
     "name": "stdout",
     "output_type": "stream",
     "text": [
      "\n",
      "Raw model output:  Code: business\n",
      "    Reason: I chose the code 'business' because the article is primarily about the financial and operational issues of two airlines, US Airways and Delta Air Lines' Comair subsidiary, including their financial struggles, bankruptcy, and attempts to cut costs. The article discusses the impact of the travel chaos on the airlines' customers and finances, which is a key aspect of business news.\n",
      "\n",
      "Trying code patterns:\n",
      "Pattern 'Code:\\s*([a-zA-Z]+)(?=\\s*Reason:)': Match found\n",
      "Found code: business\n",
      "\n",
      "Trying reasoning patterns:\n",
      "Pattern 'Reason:\\s*([\\s\\S]+?)(?=\\s*(?:Code:|$))': Match found\n",
      "Found reasoning: I chose the code 'business' because the article is primarily about the financial and operational iss...\n"
     ]
    },
    {
     "name": "stderr",
     "output_type": "stream",
     "text": [
      " 68%|██████▊   | 67/98 [01:32<00:46,  1.50s/it]"
     ]
    },
    {
     "name": "stdout",
     "output_type": "stream",
     "text": [
      "\n",
      "Raw model output:  Code: tech\n",
      "    Reason: The article discusses malware, viruses, and other malicious programs used by criminals to steal data or money, which falls under the category of technology.\n",
      "\n",
      "Trying code patterns:\n",
      "Pattern 'Code:\\s*([a-zA-Z]+)(?=\\s*Reason:)': Match found\n",
      "Found code: tech\n",
      "\n",
      "Trying reasoning patterns:\n",
      "Pattern 'Reason:\\s*([\\s\\S]+?)(?=\\s*(?:Code:|$))': Match found\n",
      "Found reasoning: The article discusses malware, viruses, and other malicious programs used by criminals to steal data...\n"
     ]
    },
    {
     "name": "stderr",
     "output_type": "stream",
     "text": [
      " 69%|██████▉   | 68/98 [01:33<00:38,  1.30s/it]"
     ]
    },
    {
     "name": "stdout",
     "output_type": "stream",
     "text": [
      "\n",
      "Raw model output:  Code: entertainment\n",
      "     Reason: This article is about a music band, Duran Duran, and their upcoming TV show, album, and tour, which are all related to entertainment.\n",
      "\n",
      "Trying code patterns:\n",
      "Pattern 'Code:\\s*([a-zA-Z]+)(?=\\s*Reason:)': Match found\n",
      "Found code: entertainment\n",
      "\n",
      "Trying reasoning patterns:\n",
      "Pattern 'Reason:\\s*([\\s\\S]+?)(?=\\s*(?:Code:|$))': Match found\n",
      "Found reasoning: This article is about a music band, Duran Duran, and their upcoming TV show, album, and tour, which ...\n"
     ]
    },
    {
     "name": "stderr",
     "output_type": "stream",
     "text": [
      " 70%|███████   | 69/98 [01:34<00:33,  1.14s/it]"
     ]
    },
    {
     "name": "stdout",
     "output_type": "stream",
     "text": [
      "\n",
      "Raw model output:  Code: tech\n",
      "     Reason: This article is about the development of next-generation video game consoles, which is a topic related to technology advancements.\n",
      "\n",
      "Trying code patterns:\n",
      "Pattern 'Code:\\s*([a-zA-Z]+)(?=\\s*Reason:)': Match found\n",
      "Found code: tech\n",
      "\n",
      "Trying reasoning patterns:\n",
      "Pattern 'Reason:\\s*([\\s\\S]+?)(?=\\s*(?:Code:|$))': Match found\n",
      "Found reasoning: This article is about the development of next-generation video game consoles, which is a topic relat...\n"
     ]
    },
    {
     "name": "stderr",
     "output_type": "stream",
     "text": [
      " 71%|███████▏  | 70/98 [01:35<00:34,  1.25s/it]"
     ]
    },
    {
     "name": "stdout",
     "output_type": "stream",
     "text": [
      "\n",
      "Raw model output:  Code: business\n",
      "     Reason: The article is about the CEO of a company, Tate & Lyle, winning an award for his business achievements, and it discusses the company's performance and growth. The article is focused on the business world and the achievements of a businessman, making it a clear fit for the \"business\" category.\n",
      "\n",
      "Trying code patterns:\n",
      "Pattern 'Code:\\s*([a-zA-Z]+)(?=\\s*Reason:)': Match found\n",
      "Found code: business\n",
      "\n",
      "Trying reasoning patterns:\n",
      "Pattern 'Reason:\\s*([\\s\\S]+?)(?=\\s*(?:Code:|$))': Match found\n",
      "Found reasoning: The article is about the CEO of a company, Tate & Lyle, winning an award for his business achievemen...\n"
     ]
    },
    {
     "name": "stderr",
     "output_type": "stream",
     "text": [
      " 72%|███████▏  | 71/98 [01:37<00:35,  1.31s/it]"
     ]
    },
    {
     "name": "stdout",
     "output_type": "stream",
     "text": [
      "\n",
      "Raw model output:  Code: entertainment\n",
      "    Reason: This article is about Celebrity Big Brother, which is a TV show related to entertainment. It discusses the eviction of Jackie Stallone, a celebrity contestant, and mentions other celebrities involved in the show.\n",
      "\n",
      "Trying code patterns:\n",
      "Pattern 'Code:\\s*([a-zA-Z]+)(?=\\s*Reason:)': Match found\n",
      "Found code: entertainment\n",
      "\n",
      "Trying reasoning patterns:\n",
      "Pattern 'Reason:\\s*([\\s\\S]+?)(?=\\s*(?:Code:|$))': Match found\n",
      "Found reasoning: This article is about Celebrity Big Brother, which is a TV show related to entertainment. It discuss...\n"
     ]
    },
    {
     "name": "stderr",
     "output_type": "stream",
     "text": [
      " 73%|███████▎  | 72/98 [01:38<00:33,  1.27s/it]"
     ]
    },
    {
     "name": "stdout",
     "output_type": "stream",
     "text": [
      "\n",
      "Raw model output:  Code: politics\n",
      "     Reason: This news article is related to government and elections, specifically discussing Gordon Brown's vision for the Labour party's next general election bid and his role in the campaign. The article quotes the prime minister, Tony Blair, and discusses the party's strategy and policies, which are all key aspects of politics.\n",
      "\n",
      "Trying code patterns:\n",
      "Pattern 'Code:\\s*([a-zA-Z]+)(?=\\s*Reason:)': Match found\n",
      "Found code: politics\n",
      "\n",
      "Trying reasoning patterns:\n",
      "Pattern 'Reason:\\s*([\\s\\S]+?)(?=\\s*(?:Code:|$))': Match found\n",
      "Found reasoning: This news article is related to government and elections, specifically discussing Gordon Brown's vis...\n"
     ]
    },
    {
     "name": "stderr",
     "output_type": "stream",
     "text": [
      " 74%|███████▍  | 73/98 [01:39<00:32,  1.32s/it]"
     ]
    },
    {
     "name": "stdout",
     "output_type": "stream",
     "text": [
      "\n",
      "Raw model output:  Code: sport\n",
      "    Reason: This news article is related to Ashia Hansen, a British triple jumper, and her recovery from an injury, which is a topic related to athletic activities and competitions, making it a \"sport\" category.\n",
      "\n",
      "Trying code patterns:\n",
      "Pattern 'Code:\\s*([a-zA-Z]+)(?=\\s*Reason:)': Match found\n",
      "Found code: sport\n",
      "\n",
      "Trying reasoning patterns:\n",
      "Pattern 'Reason:\\s*([\\s\\S]+?)(?=\\s*(?:Code:|$))': Match found\n",
      "Found reasoning: This news article is related to Ashia Hansen, a British triple jumper, and her recovery from an inju...\n"
     ]
    },
    {
     "name": "stderr",
     "output_type": "stream",
     "text": [
      " 76%|███████▌  | 74/98 [01:41<00:32,  1.35s/it]"
     ]
    },
    {
     "name": "stdout",
     "output_type": "stream",
     "text": [
      "\n",
      "Raw model output:  Code: politics\n",
      "    Reason: I chose the code \"politics\" because the article discusses government plans, policies, and criticism from MPs, which are all related to political issues. The article also quotes government officials and politicians, further supporting the classification as a political news story.\n",
      "\n",
      "Trying code patterns:\n",
      "Pattern 'Code:\\s*([a-zA-Z]+)(?=\\s*Reason:)': Match found\n",
      "Found code: politics\n",
      "\n",
      "Trying reasoning patterns:\n",
      "Pattern 'Reason:\\s*([\\s\\S]+?)(?=\\s*(?:Code:|$))': Match found\n",
      "Found reasoning: I chose the code \"politics\" because the article discusses government plans, policies, and criticism ...\n"
     ]
    },
    {
     "name": "stderr",
     "output_type": "stream",
     "text": [
      " 77%|███████▋  | 75/98 [01:43<00:36,  1.58s/it]"
     ]
    },
    {
     "name": "stdout",
     "output_type": "stream",
     "text": [
      "\n",
      "Raw model output:  Code: business\n",
      "     Reason: The article discusses the US Federal Reserve's decision to raise interest rates, which is a significant economic event. The article also mentions the impact of this decision on the US economy, including job creation, exports, and inflation. Additionally, the article quotes economists and analysts, which further supports the categorization of this article as business news.\n",
      "\n",
      "Trying code patterns:\n",
      "Pattern 'Code:\\s*([a-zA-Z]+)(?=\\s*Reason:)': Match found\n",
      "Found code: business\n",
      "\n",
      "Trying reasoning patterns:\n",
      "Pattern 'Reason:\\s*([\\s\\S]+?)(?=\\s*(?:Code:|$))': Match found\n",
      "Found reasoning: The article discusses the US Federal Reserve's decision to raise interest rates, which is a signific...\n"
     ]
    },
    {
     "name": "stderr",
     "output_type": "stream",
     "text": [
      " 78%|███████▊  | 76/98 [01:44<00:30,  1.38s/it]"
     ]
    },
    {
     "name": "stdout",
     "output_type": "stream",
     "text": [
      "\n",
      "Raw model output:  Code: politics\n",
      "    Reason: This news article is about the UK's political parties, specifically Labour and the Tories, and their stance on immigration, which is a political issue. The article quotes politicians and discusses their views and policies, which is typical of political news.\n",
      "\n",
      "Trying code patterns:\n",
      "Pattern 'Code:\\s*([a-zA-Z]+)(?=\\s*Reason:)': Match found\n",
      "Found code: politics\n",
      "\n",
      "Trying reasoning patterns:\n",
      "Pattern 'Reason:\\s*([\\s\\S]+?)(?=\\s*(?:Code:|$))': Match found\n",
      "Found reasoning: This news article is about the UK's political parties, specifically Labour and the Tories, and their...\n"
     ]
    },
    {
     "name": "stderr",
     "output_type": "stream",
     "text": [
      " 79%|███████▊  | 77/98 [01:44<00:25,  1.19s/it]"
     ]
    },
    {
     "name": "stdout",
     "output_type": "stream",
     "text": [
      "\n",
      "Raw model output:  Code: entertainment\n",
      "     Reason: This news article is related to movies, specifically box office results and rankings, which falls under the entertainment category.\n",
      "\n",
      "Trying code patterns:\n",
      "Pattern 'Code:\\s*([a-zA-Z]+)(?=\\s*Reason:)': Match found\n",
      "Found code: entertainment\n",
      "\n",
      "Trying reasoning patterns:\n",
      "Pattern 'Reason:\\s*([\\s\\S]+?)(?=\\s*(?:Code:|$))': Match found\n",
      "Found reasoning: This news article is related to movies, specifically box office results and rankings, which falls un...\n"
     ]
    },
    {
     "name": "stderr",
     "output_type": "stream",
     "text": [
      " 80%|███████▉  | 78/98 [01:45<00:21,  1.05s/it]"
     ]
    },
    {
     "name": "stdout",
     "output_type": "stream",
     "text": [
      "\n",
      "Raw model output:  Code: business\n",
      "    Reason: The article is about a bank (Bank of America) losing customer details, which is a financial issue, making it a business-related story.\n",
      "\n",
      "Trying code patterns:\n",
      "Pattern 'Code:\\s*([a-zA-Z]+)(?=\\s*Reason:)': Match found\n",
      "Found code: business\n",
      "\n",
      "Trying reasoning patterns:\n",
      "Pattern 'Reason:\\s*([\\s\\S]+?)(?=\\s*(?:Code:|$))': Match found\n",
      "Found reasoning: The article is about a bank (Bank of America) losing customer details, which is a financial issue, m...\n"
     ]
    },
    {
     "name": "stderr",
     "output_type": "stream",
     "text": [
      " 81%|████████  | 79/98 [01:47<00:22,  1.17s/it]"
     ]
    },
    {
     "name": "stdout",
     "output_type": "stream",
     "text": [
      "\n",
      "Raw model output:  Code: politics\n",
      "    Reason: The article discusses a committee of MPs, government plans, and policy recommendations, which are all related to government and political issues, making it a politics category.\n",
      "\n",
      "Trying code patterns:\n",
      "Pattern 'Code:\\s*([a-zA-Z]+)(?=\\s*Reason:)': Match found\n",
      "Found code: politics\n",
      "\n",
      "Trying reasoning patterns:\n",
      "Pattern 'Reason:\\s*([\\s\\S]+?)(?=\\s*(?:Code:|$))': Match found\n",
      "Found reasoning: The article discusses a committee of MPs, government plans, and policy recommendations, which are al...\n"
     ]
    },
    {
     "name": "stderr",
     "output_type": "stream",
     "text": [
      " 82%|████████▏ | 80/98 [01:48<00:22,  1.25s/it]"
     ]
    },
    {
     "name": "stdout",
     "output_type": "stream",
     "text": [
      "\n",
      "Raw model output:  Code: politics\n",
      "     Reason: The article is discussing the opinions of Charles Kennedy, the leader of the Liberal Democrat party, regarding Tony Blair, the prime minister at the time. The article mentions party leaders, prime ministers, and government policies, which are all related to politics.\n",
      "\n",
      "Trying code patterns:\n",
      "Pattern 'Code:\\s*([a-zA-Z]+)(?=\\s*Reason:)': Match found\n",
      "Found code: politics\n",
      "\n",
      "Trying reasoning patterns:\n",
      "Pattern 'Reason:\\s*([\\s\\S]+?)(?=\\s*(?:Code:|$))': Match found\n",
      "Found reasoning: The article is discussing the opinions of Charles Kennedy, the leader of the Liberal Democrat party,...\n"
     ]
    },
    {
     "name": "stderr",
     "output_type": "stream",
     "text": [
      " 83%|████████▎ | 81/98 [01:49<00:20,  1.18s/it]"
     ]
    },
    {
     "name": "stdout",
     "output_type": "stream",
     "text": [
      "\n",
      "Raw model output:  Code: politics\n",
      "     Reason: This article is about the alleged rift between two politicians, Tony Blair and Gordon Brown, and their differing views on government policies, particularly on global aid and debt initiatives. This is a clear indication of political news, hence the code \"politics\".\n",
      "\n",
      "Trying code patterns:\n",
      "Pattern 'Code:\\s*([a-zA-Z]+)(?=\\s*Reason:)': Match found\n",
      "Found code: politics\n",
      "\n",
      "Trying reasoning patterns:\n",
      "Pattern 'Reason:\\s*([\\s\\S]+?)(?=\\s*(?:Code:|$))': Match found\n",
      "Found reasoning: This article is about the alleged rift between two politicians, Tony Blair and Gordon Brown, and the...\n"
     ]
    },
    {
     "name": "stderr",
     "output_type": "stream",
     "text": [
      " 84%|████████▎ | 82/98 [01:50<00:17,  1.12s/it]"
     ]
    },
    {
     "name": "stdout",
     "output_type": "stream",
     "text": [
      "\n",
      "Raw model output:  Code: entertainment\n",
      "     Reason: The article is about the MTV Europe Music Awards, which is an event related to the entertainment industry, specifically music. It mentions various artists and bands, such as OutKast, Usher, and Muse, and reports on their wins and performances at the awards ceremony.\n",
      "\n",
      "Trying code patterns:\n",
      "Pattern 'Code:\\s*([a-zA-Z]+)(?=\\s*Reason:)': Match found\n",
      "Found code: entertainment\n",
      "\n",
      "Trying reasoning patterns:\n",
      "Pattern 'Reason:\\s*([\\s\\S]+?)(?=\\s*(?:Code:|$))': Match found\n",
      "Found reasoning: The article is about the MTV Europe Music Awards, which is an event related to the entertainment ind...\n"
     ]
    },
    {
     "name": "stderr",
     "output_type": "stream",
     "text": [
      " 85%|████████▍ | 83/98 [01:51<00:17,  1.14s/it]"
     ]
    },
    {
     "name": "stdout",
     "output_type": "stream",
     "text": [
      "\n",
      "Raw model output:  Code: politics\n",
      "     Reason: The article is about the UK government's budget and the Chancellor's speech, which is a key event in the country's political calendar. The article discusses the Chancellor's policies, tax changes, and the reactions of opposition parties, making it a clear fit for the politics category.\n",
      "\n",
      "Trying code patterns:\n",
      "Pattern 'Code:\\s*([a-zA-Z]+)(?=\\s*Reason:)': Match found\n",
      "Found code: politics\n",
      "\n",
      "Trying reasoning patterns:\n",
      "Pattern 'Reason:\\s*([\\s\\S]+?)(?=\\s*(?:Code:|$))': Match found\n",
      "Found reasoning: The article is about the UK government's budget and the Chancellor's speech, which is a key event in...\n"
     ]
    },
    {
     "name": "stderr",
     "output_type": "stream",
     "text": [
      " 86%|████████▌ | 84/98 [01:52<00:16,  1.18s/it]"
     ]
    },
    {
     "name": "stdout",
     "output_type": "stream",
     "text": [
      "\n",
      "Raw model output:  Code: tech\n",
      "     Reason: The article discusses the adoption of digital TV, broadband, and other digital technologies in the UK and Europe, which falls under the tech category.\n",
      "\n",
      "Trying code patterns:\n",
      "Pattern 'Code:\\s*([a-zA-Z]+)(?=\\s*Reason:)': Match found\n",
      "Found code: tech\n",
      "\n",
      "Trying reasoning patterns:\n",
      "Pattern 'Reason:\\s*([\\s\\S]+?)(?=\\s*(?:Code:|$))': Match found\n",
      "Found reasoning: The article discusses the adoption of digital TV, broadband, and other digital technologies in the U...\n"
     ]
    },
    {
     "name": "stderr",
     "output_type": "stream",
     "text": [
      " 87%|████████▋ | 85/98 [01:55<00:19,  1.54s/it]"
     ]
    },
    {
     "name": "stdout",
     "output_type": "stream",
     "text": [
      "\n",
      "Raw model output:  Code: business\n",
      "    Reason: The article is about a British company, Vestey Group, and its subsidiary Agroflora, which is facing land seizure in Venezuela due to the government's agrarian reform programme. The article discusses the company's compliance with Venezuelan law, the government's allegations, and the controversy surrounding the reforms. This is a business-related news article, as it involves a company and its operations, as well as economic and trade issues.\n",
      "\n",
      "Trying code patterns:\n",
      "Pattern 'Code:\\s*([a-zA-Z]+)(?=\\s*Reason:)': Match found\n",
      "Found code: business\n",
      "\n",
      "Trying reasoning patterns:\n",
      "Pattern 'Reason:\\s*([\\s\\S]+?)(?=\\s*(?:Code:|$))': Match found\n",
      "Found reasoning: The article is about a British company, Vestey Group, and its subsidiary Agroflora, which is facing ...\n"
     ]
    },
    {
     "name": "stderr",
     "output_type": "stream",
     "text": [
      " 88%|████████▊ | 86/98 [01:57<00:20,  1.69s/it]"
     ]
    },
    {
     "name": "stdout",
     "output_type": "stream",
     "text": [
      "\n",
      "Raw model output:  Code: business\n",
      "     Reason: The article is about a business deal between MG Rover and Shanghai Automotive Industry Corp, which involves a significant investment and has implications for the future of the Longbridge plant and its workforce. The article discusses financial issues, such as the investment amount, job losses, and the viability of the plant, which are all related to business and economic issues.\n",
      "\n",
      "Trying code patterns:\n",
      "Pattern 'Code:\\s*([a-zA-Z]+)(?=\\s*Reason:)': Match found\n",
      "Found code: business\n",
      "\n",
      "Trying reasoning patterns:\n",
      "Pattern 'Reason:\\s*([\\s\\S]+?)(?=\\s*(?:Code:|$))': Match found\n",
      "Found reasoning: The article is about a business deal between MG Rover and Shanghai Automotive Industry Corp, which i...\n"
     ]
    },
    {
     "name": "stderr",
     "output_type": "stream",
     "text": [
      " 89%|████████▉ | 87/98 [01:58<00:16,  1.53s/it]"
     ]
    },
    {
     "name": "stdout",
     "output_type": "stream",
     "text": [
      "\n",
      "Raw model output:  Code: entertainment\n",
      "    Reason: The article is about a film festival, which includes movie premieres, celebrity guests, and awards, making it a clear fit for the entertainment category.\n",
      "\n",
      "Trying code patterns:\n",
      "Pattern 'Code:\\s*([a-zA-Z]+)(?=\\s*Reason:)': Match found\n",
      "Found code: entertainment\n",
      "\n",
      "Trying reasoning patterns:\n",
      "Pattern 'Reason:\\s*([\\s\\S]+?)(?=\\s*(?:Code:|$))': Match found\n",
      "Found reasoning: The article is about a film festival, which includes movie premieres, celebrity guests, and awards, ...\n"
     ]
    },
    {
     "name": "stderr",
     "output_type": "stream",
     "text": [
      " 90%|████████▉ | 88/98 [02:00<00:15,  1.56s/it]"
     ]
    },
    {
     "name": "stdout",
     "output_type": "stream",
     "text": [
      "\n",
      "Raw model output:  Code: sport\n",
      "    Reason: I chose the code \"sport\" because the article is about a tennis tournament, specifically the SAP Open in San Jose, and it discusses the players' performances, results, and quotes. The language used is also specific to the sport of tennis, with terms like \"tie-break\", \"returns\", and \"backhands\". Overall, the content of the article is focused on a sporting event, making \"sport\" the most relevant code.\n",
      "\n",
      "Trying code patterns:\n",
      "Pattern 'Code:\\s*([a-zA-Z]+)(?=\\s*Reason:)': Match found\n",
      "Found code: sport\n",
      "\n",
      "Trying reasoning patterns:\n",
      "Pattern 'Reason:\\s*([\\s\\S]+?)(?=\\s*(?:Code:|$))': Match found\n",
      "Found reasoning: I chose the code \"sport\" because the article is about a tennis tournament, specifically the SAP Open...\n"
     ]
    },
    {
     "name": "stderr",
     "output_type": "stream",
     "text": [
      " 91%|█████████ | 89/98 [02:01<00:12,  1.43s/it]"
     ]
    },
    {
     "name": "stdout",
     "output_type": "stream",
     "text": [
      "\n",
      "Raw model output:  Code: politics\n",
      "     Reason: This article is about the Conservative Party's stance on Lord Archer's potential re-entry into the party, which is a political issue.\n",
      "\n",
      "Trying code patterns:\n",
      "Pattern 'Code:\\s*([a-zA-Z]+)(?=\\s*Reason:)': Match found\n",
      "Found code: politics\n",
      "\n",
      "Trying reasoning patterns:\n",
      "Pattern 'Reason:\\s*([\\s\\S]+?)(?=\\s*(?:Code:|$))': Match found\n",
      "Found reasoning: This article is about the Conservative Party's stance on Lord Archer's potential re-entry into the p...\n"
     ]
    },
    {
     "name": "stderr",
     "output_type": "stream",
     "text": [
      " 92%|█████████▏| 90/98 [02:02<00:10,  1.28s/it]"
     ]
    },
    {
     "name": "stdout",
     "output_type": "stream",
     "text": [
      "\n",
      "Raw model output:  Code: sport\n",
      "     Reason: This article is about a rugby match between Ireland and Argentina, which falls under the category of sports news.\n",
      "\n",
      "Trying code patterns:\n",
      "Pattern 'Code:\\s*([a-zA-Z]+)(?=\\s*Reason:)': Match found\n",
      "Found code: sport\n",
      "\n",
      "Trying reasoning patterns:\n",
      "Pattern 'Reason:\\s*([\\s\\S]+?)(?=\\s*(?:Code:|$))': Match found\n",
      "Found reasoning: This article is about a rugby match between Ireland and Argentina, which falls under the category of...\n"
     ]
    },
    {
     "name": "stderr",
     "output_type": "stream",
     "text": [
      " 93%|█████████▎| 91/98 [02:03<00:08,  1.20s/it]"
     ]
    },
    {
     "name": "stdout",
     "output_type": "stream",
     "text": [
      "\n",
      "Raw model output:  Code: entertainment\n",
      "     Reason: The article is about the Academy Awards, which is a major event in the entertainment industry, and it discusses the broadcasting rights and coverage of the event.\n",
      "\n",
      "Trying code patterns:\n",
      "Pattern 'Code:\\s*([a-zA-Z]+)(?=\\s*Reason:)': Match found\n",
      "Found code: entertainment\n",
      "\n",
      "Trying reasoning patterns:\n",
      "Pattern 'Reason:\\s*([\\s\\S]+?)(?=\\s*(?:Code:|$))': Match found\n",
      "Found reasoning: The article is about the Academy Awards, which is a major event in the entertainment industry, and i...\n"
     ]
    },
    {
     "name": "stderr",
     "output_type": "stream",
     "text": [
      " 94%|█████████▍| 92/98 [02:05<00:08,  1.40s/it]"
     ]
    },
    {
     "name": "stdout",
     "output_type": "stream",
     "text": [
      "\n",
      "Raw model output:  Code: sport\n",
      "    Reason: The article is about the Davis Cup, a tennis tournament, and it discusses the victory of Spain and the performance of players like Carlos Moya and Rafael Nadal. It is clearly related to sports, specifically tennis.\n",
      "\n",
      "Trying code patterns:\n",
      "Pattern 'Code:\\s*([a-zA-Z]+)(?=\\s*Reason:)': Match found\n",
      "Found code: sport\n",
      "\n",
      "Trying reasoning patterns:\n",
      "Pattern 'Reason:\\s*([\\s\\S]+?)(?=\\s*(?:Code:|$))': Match found\n",
      "Found reasoning: The article is about the Davis Cup, a tennis tournament, and it discusses the victory of Spain and t...\n"
     ]
    },
    {
     "name": "stderr",
     "output_type": "stream",
     "text": [
      " 95%|█████████▍| 93/98 [02:06<00:06,  1.31s/it]"
     ]
    },
    {
     "name": "stdout",
     "output_type": "stream",
     "text": [
      "\n",
      "Raw model output:  Code: sport\n",
      "     Reason: This article is about a sporting event (pole vaulting) and mentions athletes (Yelena Isinbayeva, Maurice Greene, Leonard Scott) and competitions (Norwich Union Grand Prix, Olympic champion), which are all related to sports.\n",
      "\n",
      "Trying code patterns:\n",
      "Pattern 'Code:\\s*([a-zA-Z]+)(?=\\s*Reason:)': Match found\n",
      "Found code: sport\n",
      "\n",
      "Trying reasoning patterns:\n",
      "Pattern 'Reason:\\s*([\\s\\S]+?)(?=\\s*(?:Code:|$))': Match found\n",
      "Found reasoning: This article is about a sporting event (pole vaulting) and mentions athletes (Yelena Isinbayeva, Mau...\n"
     ]
    },
    {
     "name": "stderr",
     "output_type": "stream",
     "text": [
      " 96%|█████████▌| 94/98 [02:07<00:05,  1.46s/it]"
     ]
    },
    {
     "name": "stdout",
     "output_type": "stream",
     "text": [
      "\n",
      "Raw model output:  Code: business\n",
      "    Reason: This article discusses identity theft, financial institutions, and online security, which are all topics related to companies, economic issues, and industry trends, making it a business-related news article.\n",
      "\n",
      "Trying code patterns:\n",
      "Pattern 'Code:\\s*([a-zA-Z]+)(?=\\s*Reason:)': Match found\n",
      "Found code: business\n",
      "\n",
      "Trying reasoning patterns:\n",
      "Pattern 'Reason:\\s*([\\s\\S]+?)(?=\\s*(?:Code:|$))': Match found\n",
      "Found reasoning: This article discusses identity theft, financial institutions, and online security, which are all to...\n"
     ]
    },
    {
     "name": "stderr",
     "output_type": "stream",
     "text": [
      " 97%|█████████▋| 95/98 [02:09<00:04,  1.46s/it]"
     ]
    },
    {
     "name": "stdout",
     "output_type": "stream",
     "text": [
      "\n",
      "Raw model output:  Code: sport\n",
      "    Reason: This article is about a tennis player, Stefan Koubek, who has been suspended due to a failed drug test. The article mentions specific tennis events, such as the French Open and the Davis Cup, and discusses the impact of the suspension on Koubek's tennis career. Therefore, it falls under the category of sport.\n",
      "\n",
      "Trying code patterns:\n",
      "Pattern 'Code:\\s*([a-zA-Z]+)(?=\\s*Reason:)': Match found\n",
      "Found code: sport\n",
      "\n",
      "Trying reasoning patterns:\n",
      "Pattern 'Reason:\\s*([\\s\\S]+?)(?=\\s*(?:Code:|$))': Match found\n",
      "Found reasoning: This article is about a tennis player, Stefan Koubek, who has been suspended due to a failed drug te...\n"
     ]
    },
    {
     "name": "stderr",
     "output_type": "stream",
     "text": [
      " 98%|█████████▊| 96/98 [02:10<00:02,  1.37s/it]"
     ]
    },
    {
     "name": "stdout",
     "output_type": "stream",
     "text": [
      "\n",
      "Raw model output:  Code: tech\n",
      "     Reason: The article is about Google News being blocked in China, and how China's censorship policies affect online access to information. The article discusses Google's efforts to launch a news service in China, and how it has to comply with the government's censorship rules. This is a technology-related issue, hence the code \"tech\".\n",
      "\n",
      "Trying code patterns:\n",
      "Pattern 'Code:\\s*([a-zA-Z]+)(?=\\s*Reason:)': Match found\n",
      "Found code: tech\n",
      "\n",
      "Trying reasoning patterns:\n",
      "Pattern 'Reason:\\s*([\\s\\S]+?)(?=\\s*(?:Code:|$))': Match found\n",
      "Found reasoning: The article is about Google News being blocked in China, and how China's censorship policies affect ...\n"
     ]
    },
    {
     "name": "stderr",
     "output_type": "stream",
     "text": [
      " 99%|█████████▉| 97/98 [02:11<00:01,  1.22s/it]"
     ]
    },
    {
     "name": "stdout",
     "output_type": "stream",
     "text": [
      "\n",
      "Raw model output:  Code: sport\n",
      "    Reason: This text is related to a rugby match between Leeds and Saracens, including the date, time, and team lineups, which makes it a sports-related news article.\n",
      "\n",
      "Trying code patterns:\n",
      "Pattern 'Code:\\s*([a-zA-Z]+)(?=\\s*Reason:)': Match found\n",
      "Found code: sport\n",
      "\n",
      "Trying reasoning patterns:\n",
      "Pattern 'Reason:\\s*([\\s\\S]+?)(?=\\s*(?:Code:|$))': Match found\n",
      "Found reasoning: This text is related to a rugby match between Leeds and Saracens, including the date, time, and team...\n"
     ]
    },
    {
     "name": "stderr",
     "output_type": "stream",
     "text": [
      "100%|██████████| 98/98 [02:12<00:00,  1.35s/it]"
     ]
    },
    {
     "name": "stdout",
     "output_type": "stream",
     "text": [
      "\n",
      "Raw model output:  Code: tech\n",
      "     Reason: The article discusses the testing of biometric ID cards for seafarers, which is a technology advancement in the field of identity verification.\n",
      "\n",
      "Trying code patterns:\n",
      "Pattern 'Code:\\s*([a-zA-Z]+)(?=\\s*Reason:)': Match found\n",
      "Found code: tech\n",
      "\n",
      "Trying reasoning patterns:\n",
      "Pattern 'Reason:\\s*([\\s\\S]+?)(?=\\s*(?:Code:|$))': Match found\n",
      "Found reasoning: The article discusses the testing of biometric ID cards for seafarers, which is a technology advance...\n",
      "\n",
      "Processing complete!\n",
      "Successfully processed: 98 rows\n",
      "Errors: 0 rows\n"
     ]
    },
    {
     "name": "stderr",
     "output_type": "stream",
     "text": [
      "\n"
     ]
    }
   ],
   "source": [
    "# Load environment variables\n",
    "load_dotenv()\n",
    "\n",
    "# Together API endpoint and key\n",
    "endpoint = 'https://api.together.xyz/inference'\n",
    "TOGETHER_API_KEY = os.getenv('TOGETHER_API_KEY')\n",
    "\n",
    "# Example codebook you can customize\n",
    "CODEBOOK = \"\"\"\n",
    "business: Tweets or news articles related to companies, financial markets, economic issues, or industry trends.\n",
    "entertainment: Tweets or news articles related to movies, music, celebrities, cultural events, or leisure activities.\n",
    "politics: Tweets or news articles related to government, elections, political parties, policies, or international relations.\n",
    "sport: Tweets or news articles related to sporting events, athletes, competitions, or athletic activities.\n",
    "tech: Tweets or news articles related to technology advancements, innovation, science, or tech companies.\n",
    "\"\"\"\n",
    "\n",
    "def prepare_prompt(text):\n",
    "    system_prompt = f\"\"\"\n",
    "    You are a qualitative coder who is annotating BBC news stories.\n",
    "    Your task is to assign ONE code from the codebook and explain your reasoning.\n",
    "    \n",
    "    YOU MUST INCLUDE BOTH A CODE AND A REASON IN YOUR RESPONSE.\n",
    "    \n",
    "    REQUIRED FORMAT:\n",
    "    Code: [single word category]\n",
    "    Reason: [at least one sentence explaining why you chose this code]\n",
    "    \n",
    "    Codebook:\n",
    "    ---\n",
    "    {CODEBOOK}\n",
    "    ---\n",
    "    Text:\n",
    "    ---\n",
    "    {text}\n",
    "    ---\n",
    "    \"\"\"\n",
    "    return system_prompt\n",
    "\n",
    "\n",
    "def classify_text(text, retry_count=3, retry_delay=1):\n",
    "    \"\"\"Classify text with retry logic and rate limiting.\"\"\"\n",
    "    for attempt in range(retry_count):\n",
    "        try:\n",
    "            headers = {\n",
    "                \"Authorization\": f\"Bearer {TOGETHER_API_KEY}\",\n",
    "                \"Content-Type\": \"application/json\"\n",
    "            }\n",
    "            \n",
    "            data = {\n",
    "                \"model\": \"meta-llama/Llama-3-70b-chat-hf\",\n",
    "                \"prompt\": prepare_prompt(text),\n",
    "                \"max_tokens\": 500,\n",
    "                \"temperature\": 0.7,\n",
    "                \"top_p\": 0.9,\n",
    "                \"top_k\": 40,\n",
    "                \"repetition_penalty\": 1,\n",
    "                \"min_tokens\": 20\n",
    "            }\n",
    "            \n",
    "            response = requests.post(endpoint, json=data, headers=headers)\n",
    "            response.raise_for_status()\n",
    "            \n",
    "            response_data = response.json()\n",
    "            \n",
    "            if 'output' in response_data and isinstance(response_data['output'], dict):\n",
    "                output = response_data['output'].get('choices', [{}])[0].get('text', '')\n",
    "            else:\n",
    "                output = response_data.get('output', {}).get('text', '')\n",
    "            \n",
    "            if not output:\n",
    "                raise ValueError(\"Empty response from API\")\n",
    "            \n",
    "            print(\"\\nRaw model output:\", output)  # Debug output\n",
    "                \n",
    "            # Extract code and reasoning using patterns\n",
    "            code_patterns = [\n",
    "                r'Code:\\s*([a-zA-Z]+)(?=\\s*Reason:)',  # Primary pattern: Code: followed by Reason:\n",
    "                r'Code:\\s*([a-zA-Z]+)',  # Backup pattern: just Code: and category\n",
    "                r'\\b(sport|business|politics|entertainment|tech)\\b'  # Last resort pattern\n",
    "            ]\n",
    "            \n",
    "            code = \"Unknown\"\n",
    "            print(\"\\nTrying code patterns:\")  # Debug output\n",
    "            for pattern in code_patterns:\n",
    "                match = re.search(pattern, output, re.IGNORECASE)\n",
    "                print(f\"Pattern '{pattern}': {'Match found' if match else 'No match'}\")  # Debug output\n",
    "                if match:\n",
    "                    code = match.group(1).lower().strip()\n",
    "                    print(f\"Found code: {code}\")  # Debug output\n",
    "                    break\n",
    "            \n",
    "            reasoning_patterns = [\n",
    "                r'Reason:\\s*([\\s\\S]+?)(?=\\s*(?:Code:|$))',  # Everything between Reason: and Code: or end\n",
    "                r'Reason:\\s*([\\s\\S]+)$'  # Backup: everything after Reason: to end\n",
    "            ]\n",
    "            \n",
    "            reasoning = \"No reasoning provided\"\n",
    "            print(\"\\nTrying reasoning patterns:\")  # Debug output\n",
    "            for pattern in reasoning_patterns:\n",
    "                match = re.search(pattern, output, re.IGNORECASE)\n",
    "                print(f\"Pattern '{pattern}': {'Match found' if match else 'No match'}\")  # Debug output\n",
    "                if match:\n",
    "                    reasoning = match.group(1).strip()\n",
    "                    print(f\"Found reasoning: {reasoning[:100]}...\")  # Debug output\n",
    "                    break\n",
    "            \n",
    "            if reasoning == \"No reasoning provided\" and output:\n",
    "                reasoning = output.strip()\n",
    "                print(\"Using raw output as reasoning\")  # Debug output\n",
    "            \n",
    "            # Force code to 'business' if text contains specific economic keywords\n",
    "            economic_keywords = ['economy', 'recession', 'economic', 'gdp', 'market']\n",
    "            if code == \"Unknown\" and any(keyword in text.lower() for keyword in economic_keywords):\n",
    "                code = \"business\"\n",
    "                print(f\"Forced code to 'business' due to economic keywords\")  # Debug output\n",
    "            \n",
    "            return code, reasoning\n",
    "                \n",
    "        except (requests.exceptions.RequestException, ValueError) as e:\n",
    "            if attempt == retry_count - 1:  # Last attempt\n",
    "                return \"Error\", f\"API request failed after {retry_count} attempts: {str(e)}\"\n",
    "            time.sleep(retry_delay * (attempt + 1))  # Exponential backoff\n",
    "            continue\n",
    "            \n",
    "        except Exception as e:\n",
    "            return \"Error\", f\"Processing failed: {str(e)}\"\n",
    "\n",
    "def process_dataframe(df, batch_size=100, save_interval=500):\n",
    "    \"\"\"\n",
    "    Process the entire dataframe with progress tracking and periodic saving.\n",
    "    \n",
    "    Args:\n",
    "        df (pd.DataFrame): Input dataframe to process\n",
    "        batch_size (int): Number of rows to process before updating progress\n",
    "        save_interval (int): Number of rows to process before saving intermediate results\n",
    "        \n",
    "    Returns:\n",
    "        pd.DataFrame: Processed dataframe with predictions and reasoning\n",
    "    \"\"\"\n",
    "    # Create a copy of the dataframe\n",
    "    df_processed = df.copy()\n",
    "    \n",
    "    # Initialize columns for results if they don't exist\n",
    "    if 'model_prediction' not in df_processed.columns:\n",
    "        df_processed['model_prediction'] = None\n",
    "    if 'reasoning' not in df_processed.columns:\n",
    "        df_processed['reasoning'] = None\n",
    "    \n",
    "    # Get indices of unprocessed rows\n",
    "    unprocessed_mask = df_processed['model_prediction'].isna()\n",
    "    total_unprocessed = unprocessed_mask.sum()\n",
    "    \n",
    "    if total_unprocessed == 0:\n",
    "        print(\"All rows have already been processed!\")\n",
    "        return df_processed\n",
    "    \n",
    "    print(f\"Processing {total_unprocessed} unprocessed rows...\")\n",
    "    \n",
    "    # Create progress bar\n",
    "    with tqdm(total=total_unprocessed) as pbar:\n",
    "        processed_count = 0\n",
    "        \n",
    "        # Process rows in batches\n",
    "        for idx in df_processed[unprocessed_mask].index:\n",
    "            try:\n",
    "                text = df_processed.loc[idx, 'text']\n",
    "                code, reasoning = classify_text(text)\n",
    "                \n",
    "                df_processed.loc[idx, 'model_prediction'] = code\n",
    "                df_processed.loc[idx, 'reasoning'] = reasoning\n",
    "                \n",
    "                processed_count += 1\n",
    "                pbar.update(1)\n",
    "                \n",
    "                # Save intermediate results\n",
    "                if processed_count % save_interval == 0:\n",
    "                    print(f\"\\nSaving intermediate results after processing {processed_count} rows...\")\n",
    "                    df_processed.to_csv('intermediate_results.csv', index=False)\n",
    "                    \n",
    "                # Add a small delay every batch_size rows to avoid rate limiting\n",
    "                if processed_count % batch_size == 0:\n",
    "                    time.sleep(1)\n",
    "                    \n",
    "            except Exception as e:\n",
    "                print(f\"\\nError processing row {idx}: {str(e)}\")\n",
    "                continue\n",
    "    \n",
    "    # # Save final results\n",
    "    # print(\"\\nSaving final results...\")\n",
    "    # df_processed.to_csv('llama3_bbc.csv', index=False)\n",
    "    \n",
    "    # Print summary\n",
    "    success_count = df_processed['model_prediction'].notna().sum() - df_processed['model_prediction'].eq('Error').sum()\n",
    "    error_count = df_processed['model_prediction'].eq('Error').sum()\n",
    "    print(f\"\\nProcessing complete!\")\n",
    "    print(f\"Successfully processed: {success_count} rows\")\n",
    "    print(f\"Errors: {error_count} rows\")\n",
    "    \n",
    "    return df_processed\n",
    "\n",
    "# Example usage:\n",
    "df_results = process_dataframe(df)"
   ]
  },
  {
   "cell_type": "code",
   "execution_count": 22,
   "metadata": {},
   "outputs": [
    {
     "data": {
      "text/html": [
       "<div>\n",
       "<style scoped>\n",
       "    .dataframe tbody tr th:only-of-type {\n",
       "        vertical-align: middle;\n",
       "    }\n",
       "\n",
       "    .dataframe tbody tr th {\n",
       "        vertical-align: top;\n",
       "    }\n",
       "\n",
       "    .dataframe thead th {\n",
       "        text-align: right;\n",
       "    }\n",
       "</style>\n",
       "<table border=\"1\" class=\"dataframe\">\n",
       "  <thead>\n",
       "    <tr style=\"text-align: right;\">\n",
       "      <th></th>\n",
       "      <th>text_id</th>\n",
       "      <th>text</th>\n",
       "      <th>original_code</th>\n",
       "      <th>replicated_code</th>\n",
       "      <th>model_code</th>\n",
       "      <th>reason</th>\n",
       "      <th>model_prediction</th>\n",
       "      <th>reasoning</th>\n",
       "    </tr>\n",
       "  </thead>\n",
       "  <tbody>\n",
       "    <tr>\n",
       "      <th>0</th>\n",
       "      <td>0</td>\n",
       "      <td>Bath faced with Tindall ultimatum\\n\\nMike Tind...</td>\n",
       "      <td>sport</td>\n",
       "      <td>sport</td>\n",
       "      <td>sport</td>\n",
       "      <td>This news story is about a rugby player, Mike ...</td>\n",
       "      <td>sport</td>\n",
       "      <td>The article is about Mike Tindall, an English ...</td>\n",
       "    </tr>\n",
       "    <tr>\n",
       "      <th>1</th>\n",
       "      <td>1</td>\n",
       "      <td>Big guns ease through in San Jose\\n\\nTop-seede...</td>\n",
       "      <td>sport</td>\n",
       "      <td>sport</td>\n",
       "      <td>sport</td>\n",
       "      <td>The text is reporting on a tennis tournament, ...</td>\n",
       "      <td>sport</td>\n",
       "      <td>The article is primarily about a tennis tourna...</td>\n",
       "    </tr>\n",
       "    <tr>\n",
       "      <th>2</th>\n",
       "      <td>2</td>\n",
       "      <td>Chinese dam firm 'defies Beijing'\\n\\nThe China...</td>\n",
       "      <td>business</td>\n",
       "      <td>business</td>\n",
       "      <td>politics</td>\n",
       "      <td>This news story is about a Chinese company def...</td>\n",
       "      <td>business</td>\n",
       "      <td>This news story is about a Chinese dam firm de...</td>\n",
       "    </tr>\n",
       "    <tr>\n",
       "      <th>3</th>\n",
       "      <td>3</td>\n",
       "      <td>Wenger offers Mutu hope\\n\\nArsenal boss Arsene...</td>\n",
       "      <td>sport</td>\n",
       "      <td>sport</td>\n",
       "      <td>sport</td>\n",
       "      <td>This news story is about a football player who...</td>\n",
       "      <td>sport</td>\n",
       "      <td>The article is discussing a football player, A...</td>\n",
       "    </tr>\n",
       "    <tr>\n",
       "      <th>4</th>\n",
       "      <td>4</td>\n",
       "      <td>Gerrard happy at Anfield\\n\\nLiverpool captain ...</td>\n",
       "      <td>sport</td>\n",
       "      <td>sport</td>\n",
       "      <td>sport</td>\n",
       "      <td>The article is about Liverpool captain Steven ...</td>\n",
       "      <td>sport</td>\n",
       "      <td>I chose the code \"sport\" because the article i...</td>\n",
       "    </tr>\n",
       "    <tr>\n",
       "      <th>...</th>\n",
       "      <td>...</td>\n",
       "      <td>...</td>\n",
       "      <td>...</td>\n",
       "      <td>...</td>\n",
       "      <td>...</td>\n",
       "      <td>...</td>\n",
       "      <td>...</td>\n",
       "      <td>...</td>\n",
       "    </tr>\n",
       "    <tr>\n",
       "      <th>95</th>\n",
       "      <td>95</td>\n",
       "      <td>Who do you think you are?\\n\\nThe real danger i...</td>\n",
       "      <td>tech</td>\n",
       "      <td>tech</td>\n",
       "      <td>tech</td>\n",
       "      <td>The article discusses the dangers of data thef...</td>\n",
       "      <td>business</td>\n",
       "      <td>This article discusses identity theft, financi...</td>\n",
       "    </tr>\n",
       "    <tr>\n",
       "      <th>96</th>\n",
       "      <td>96</td>\n",
       "      <td>Koubek suspended after drugs test\\n\\nStefan Ko...</td>\n",
       "      <td>sport</td>\n",
       "      <td>sport</td>\n",
       "      <td>sport</td>\n",
       "      <td>The news story is about a tennis player, Stefa...</td>\n",
       "      <td>sport</td>\n",
       "      <td>This article is about a tennis player, Stefan ...</td>\n",
       "    </tr>\n",
       "    <tr>\n",
       "      <th>97</th>\n",
       "      <td>97</td>\n",
       "      <td>China 'blocks Google news site'\\n\\nChina has b...</td>\n",
       "      <td>tech</td>\n",
       "      <td>politics</td>\n",
       "      <td>politics</td>\n",
       "      <td>This news story is about China's censorship of...</td>\n",
       "      <td>tech</td>\n",
       "      <td>The article is about Google News being blocked...</td>\n",
       "    </tr>\n",
       "    <tr>\n",
       "      <th>98</th>\n",
       "      <td>98</td>\n",
       "      <td>Leeds v Saracens (Fri)\\n\\nHeadingley\\n\\nFriday...</td>\n",
       "      <td>sport</td>\n",
       "      <td>sport</td>\n",
       "      <td>sport</td>\n",
       "      <td>The text is reporting on a rugby match between...</td>\n",
       "      <td>sport</td>\n",
       "      <td>This text is related to a rugby match between ...</td>\n",
       "    </tr>\n",
       "    <tr>\n",
       "      <th>99</th>\n",
       "      <td>99</td>\n",
       "      <td>Seamen sail into biometric future\\n\\nThe luxur...</td>\n",
       "      <td>tech</td>\n",
       "      <td>tech</td>\n",
       "      <td>tech</td>\n",
       "      <td>The article discusses the use of biometric tec...</td>\n",
       "      <td>tech</td>\n",
       "      <td>The article discusses the testing of biometric...</td>\n",
       "    </tr>\n",
       "  </tbody>\n",
       "</table>\n",
       "<p>98 rows × 8 columns</p>\n",
       "</div>"
      ],
      "text/plain": [
       "    text_id                                               text original_code  \\\n",
       "0         0  Bath faced with Tindall ultimatum\\n\\nMike Tind...         sport   \n",
       "1         1  Big guns ease through in San Jose\\n\\nTop-seede...         sport   \n",
       "2         2  Chinese dam firm 'defies Beijing'\\n\\nThe China...      business   \n",
       "3         3  Wenger offers Mutu hope\\n\\nArsenal boss Arsene...         sport   \n",
       "4         4  Gerrard happy at Anfield\\n\\nLiverpool captain ...         sport   \n",
       "..      ...                                                ...           ...   \n",
       "95       95  Who do you think you are?\\n\\nThe real danger i...          tech   \n",
       "96       96  Koubek suspended after drugs test\\n\\nStefan Ko...         sport   \n",
       "97       97  China 'blocks Google news site'\\n\\nChina has b...          tech   \n",
       "98       98  Leeds v Saracens (Fri)\\n\\nHeadingley\\n\\nFriday...         sport   \n",
       "99       99  Seamen sail into biometric future\\n\\nThe luxur...          tech   \n",
       "\n",
       "   replicated_code model_code  \\\n",
       "0            sport      sport   \n",
       "1            sport      sport   \n",
       "2         business   politics   \n",
       "3            sport      sport   \n",
       "4            sport      sport   \n",
       "..             ...        ...   \n",
       "95            tech       tech   \n",
       "96           sport      sport   \n",
       "97        politics   politics   \n",
       "98           sport      sport   \n",
       "99            tech       tech   \n",
       "\n",
       "                                               reason model_prediction  \\\n",
       "0   This news story is about a rugby player, Mike ...            sport   \n",
       "1   The text is reporting on a tennis tournament, ...            sport   \n",
       "2   This news story is about a Chinese company def...         business   \n",
       "3   This news story is about a football player who...            sport   \n",
       "4   The article is about Liverpool captain Steven ...            sport   \n",
       "..                                                ...              ...   \n",
       "95  The article discusses the dangers of data thef...         business   \n",
       "96  The news story is about a tennis player, Stefa...            sport   \n",
       "97  This news story is about China's censorship of...             tech   \n",
       "98  The text is reporting on a rugby match between...            sport   \n",
       "99  The article discusses the use of biometric tec...             tech   \n",
       "\n",
       "                                            reasoning  \n",
       "0   The article is about Mike Tindall, an English ...  \n",
       "1   The article is primarily about a tennis tourna...  \n",
       "2   This news story is about a Chinese dam firm de...  \n",
       "3   The article is discussing a football player, A...  \n",
       "4   I chose the code \"sport\" because the article i...  \n",
       "..                                                ...  \n",
       "95  This article discusses identity theft, financi...  \n",
       "96  This article is about a tennis player, Stefan ...  \n",
       "97  The article is about Google News being blocked...  \n",
       "98  This text is related to a rugby match between ...  \n",
       "99  The article discusses the testing of biometric...  \n",
       "\n",
       "[98 rows x 8 columns]"
      ]
     },
     "execution_count": 22,
     "metadata": {},
     "output_type": "execute_result"
    }
   ],
   "source": [
    "df_results"
   ]
  },
  {
   "cell_type": "code",
   "execution_count": 23,
   "metadata": {},
   "outputs": [
    {
     "data": {
      "text/plain": [
       "model_prediction\n",
       "sport            25\n",
       "business         24\n",
       "politics         23\n",
       "entertainment    17\n",
       "tech              9\n",
       "Name: count, dtype: int64"
      ]
     },
     "execution_count": 23,
     "metadata": {},
     "output_type": "execute_result"
    }
   ],
   "source": [
    "# Check the value counts for \"model_prediction\"\n",
    "df_results[\"model_prediction\"].value_counts()\n"
   ]
  },
  {
   "cell_type": "code",
   "execution_count": null,
   "metadata": {},
   "outputs": [],
   "source": [
    "# unknown_case = df_results[df_results['model_prediction'] == 'Unknown']\n",
    "# print(\"Text:\", unknown_case['text'].values[0])\n",
    "# print(\"\\nReasoning:\", unknown_case['reasoning'].values[0])"
   ]
  },
  {
   "cell_type": "code",
   "execution_count": 28,
   "metadata": {},
   "outputs": [],
   "source": [
    "df_results.to_csv('results_csvs/bbc_new_prompt_final.csv', index=False)"
   ]
  },
  {
   "cell_type": "code",
   "execution_count": 24,
   "metadata": {},
   "outputs": [],
   "source": [
    "results = df_results"
   ]
  },
  {
   "cell_type": "code",
   "execution_count": 25,
   "metadata": {},
   "outputs": [
    {
     "data": {
      "text/html": [
       "<div>\n",
       "<style scoped>\n",
       "    .dataframe tbody tr th:only-of-type {\n",
       "        vertical-align: middle;\n",
       "    }\n",
       "\n",
       "    .dataframe tbody tr th {\n",
       "        vertical-align: top;\n",
       "    }\n",
       "\n",
       "    .dataframe thead th {\n",
       "        text-align: right;\n",
       "    }\n",
       "</style>\n",
       "<table border=\"1\" class=\"dataframe\">\n",
       "  <thead>\n",
       "    <tr style=\"text-align: right;\">\n",
       "      <th></th>\n",
       "      <th>text_id</th>\n",
       "      <th>text</th>\n",
       "      <th>original_code</th>\n",
       "      <th>replicated_code</th>\n",
       "      <th>model_code</th>\n",
       "      <th>reason</th>\n",
       "      <th>model_prediction</th>\n",
       "      <th>reasoning</th>\n",
       "    </tr>\n",
       "  </thead>\n",
       "  <tbody>\n",
       "    <tr>\n",
       "      <th>0</th>\n",
       "      <td>0</td>\n",
       "      <td>Bath faced with Tindall ultimatum\\n\\nMike Tind...</td>\n",
       "      <td>sport</td>\n",
       "      <td>sport</td>\n",
       "      <td>sport</td>\n",
       "      <td>This news story is about a rugby player, Mike ...</td>\n",
       "      <td>sport</td>\n",
       "      <td>The article is about Mike Tindall, an English ...</td>\n",
       "    </tr>\n",
       "    <tr>\n",
       "      <th>1</th>\n",
       "      <td>1</td>\n",
       "      <td>Big guns ease through in San Jose\\n\\nTop-seede...</td>\n",
       "      <td>sport</td>\n",
       "      <td>sport</td>\n",
       "      <td>sport</td>\n",
       "      <td>The text is reporting on a tennis tournament, ...</td>\n",
       "      <td>sport</td>\n",
       "      <td>The article is primarily about a tennis tourna...</td>\n",
       "    </tr>\n",
       "    <tr>\n",
       "      <th>2</th>\n",
       "      <td>2</td>\n",
       "      <td>Chinese dam firm 'defies Beijing'\\n\\nThe China...</td>\n",
       "      <td>business</td>\n",
       "      <td>business</td>\n",
       "      <td>politics</td>\n",
       "      <td>This news story is about a Chinese company def...</td>\n",
       "      <td>business</td>\n",
       "      <td>This news story is about a Chinese dam firm de...</td>\n",
       "    </tr>\n",
       "    <tr>\n",
       "      <th>3</th>\n",
       "      <td>3</td>\n",
       "      <td>Wenger offers Mutu hope\\n\\nArsenal boss Arsene...</td>\n",
       "      <td>sport</td>\n",
       "      <td>sport</td>\n",
       "      <td>sport</td>\n",
       "      <td>This news story is about a football player who...</td>\n",
       "      <td>sport</td>\n",
       "      <td>The article is discussing a football player, A...</td>\n",
       "    </tr>\n",
       "    <tr>\n",
       "      <th>4</th>\n",
       "      <td>4</td>\n",
       "      <td>Gerrard happy at Anfield\\n\\nLiverpool captain ...</td>\n",
       "      <td>sport</td>\n",
       "      <td>sport</td>\n",
       "      <td>sport</td>\n",
       "      <td>The article is about Liverpool captain Steven ...</td>\n",
       "      <td>sport</td>\n",
       "      <td>I chose the code \"sport\" because the article i...</td>\n",
       "    </tr>\n",
       "    <tr>\n",
       "      <th>...</th>\n",
       "      <td>...</td>\n",
       "      <td>...</td>\n",
       "      <td>...</td>\n",
       "      <td>...</td>\n",
       "      <td>...</td>\n",
       "      <td>...</td>\n",
       "      <td>...</td>\n",
       "      <td>...</td>\n",
       "    </tr>\n",
       "    <tr>\n",
       "      <th>95</th>\n",
       "      <td>95</td>\n",
       "      <td>Who do you think you are?\\n\\nThe real danger i...</td>\n",
       "      <td>tech</td>\n",
       "      <td>tech</td>\n",
       "      <td>tech</td>\n",
       "      <td>The article discusses the dangers of data thef...</td>\n",
       "      <td>business</td>\n",
       "      <td>This article discusses identity theft, financi...</td>\n",
       "    </tr>\n",
       "    <tr>\n",
       "      <th>96</th>\n",
       "      <td>96</td>\n",
       "      <td>Koubek suspended after drugs test\\n\\nStefan Ko...</td>\n",
       "      <td>sport</td>\n",
       "      <td>sport</td>\n",
       "      <td>sport</td>\n",
       "      <td>The news story is about a tennis player, Stefa...</td>\n",
       "      <td>sport</td>\n",
       "      <td>This article is about a tennis player, Stefan ...</td>\n",
       "    </tr>\n",
       "    <tr>\n",
       "      <th>97</th>\n",
       "      <td>97</td>\n",
       "      <td>China 'blocks Google news site'\\n\\nChina has b...</td>\n",
       "      <td>tech</td>\n",
       "      <td>politics</td>\n",
       "      <td>politics</td>\n",
       "      <td>This news story is about China's censorship of...</td>\n",
       "      <td>tech</td>\n",
       "      <td>The article is about Google News being blocked...</td>\n",
       "    </tr>\n",
       "    <tr>\n",
       "      <th>98</th>\n",
       "      <td>98</td>\n",
       "      <td>Leeds v Saracens (Fri)\\n\\nHeadingley\\n\\nFriday...</td>\n",
       "      <td>sport</td>\n",
       "      <td>sport</td>\n",
       "      <td>sport</td>\n",
       "      <td>The text is reporting on a rugby match between...</td>\n",
       "      <td>sport</td>\n",
       "      <td>This text is related to a rugby match between ...</td>\n",
       "    </tr>\n",
       "    <tr>\n",
       "      <th>99</th>\n",
       "      <td>99</td>\n",
       "      <td>Seamen sail into biometric future\\n\\nThe luxur...</td>\n",
       "      <td>tech</td>\n",
       "      <td>tech</td>\n",
       "      <td>tech</td>\n",
       "      <td>The article discusses the use of biometric tec...</td>\n",
       "      <td>tech</td>\n",
       "      <td>The article discusses the testing of biometric...</td>\n",
       "    </tr>\n",
       "  </tbody>\n",
       "</table>\n",
       "<p>98 rows × 8 columns</p>\n",
       "</div>"
      ],
      "text/plain": [
       "    text_id                                               text original_code  \\\n",
       "0         0  Bath faced with Tindall ultimatum\\n\\nMike Tind...         sport   \n",
       "1         1  Big guns ease through in San Jose\\n\\nTop-seede...         sport   \n",
       "2         2  Chinese dam firm 'defies Beijing'\\n\\nThe China...      business   \n",
       "3         3  Wenger offers Mutu hope\\n\\nArsenal boss Arsene...         sport   \n",
       "4         4  Gerrard happy at Anfield\\n\\nLiverpool captain ...         sport   \n",
       "..      ...                                                ...           ...   \n",
       "95       95  Who do you think you are?\\n\\nThe real danger i...          tech   \n",
       "96       96  Koubek suspended after drugs test\\n\\nStefan Ko...         sport   \n",
       "97       97  China 'blocks Google news site'\\n\\nChina has b...          tech   \n",
       "98       98  Leeds v Saracens (Fri)\\n\\nHeadingley\\n\\nFriday...         sport   \n",
       "99       99  Seamen sail into biometric future\\n\\nThe luxur...          tech   \n",
       "\n",
       "   replicated_code model_code  \\\n",
       "0            sport      sport   \n",
       "1            sport      sport   \n",
       "2         business   politics   \n",
       "3            sport      sport   \n",
       "4            sport      sport   \n",
       "..             ...        ...   \n",
       "95            tech       tech   \n",
       "96           sport      sport   \n",
       "97        politics   politics   \n",
       "98           sport      sport   \n",
       "99            tech       tech   \n",
       "\n",
       "                                               reason model_prediction  \\\n",
       "0   This news story is about a rugby player, Mike ...            sport   \n",
       "1   The text is reporting on a tennis tournament, ...            sport   \n",
       "2   This news story is about a Chinese company def...         business   \n",
       "3   This news story is about a football player who...            sport   \n",
       "4   The article is about Liverpool captain Steven ...            sport   \n",
       "..                                                ...              ...   \n",
       "95  The article discusses the dangers of data thef...         business   \n",
       "96  The news story is about a tennis player, Stefa...            sport   \n",
       "97  This news story is about China's censorship of...             tech   \n",
       "98  The text is reporting on a rugby match between...            sport   \n",
       "99  The article discusses the use of biometric tec...             tech   \n",
       "\n",
       "                                            reasoning  \n",
       "0   The article is about Mike Tindall, an English ...  \n",
       "1   The article is primarily about a tennis tourna...  \n",
       "2   This news story is about a Chinese dam firm de...  \n",
       "3   The article is discussing a football player, A...  \n",
       "4   I chose the code \"sport\" because the article i...  \n",
       "..                                                ...  \n",
       "95  This article discusses identity theft, financi...  \n",
       "96  This article is about a tennis player, Stefan ...  \n",
       "97  The article is about Google News being blocked...  \n",
       "98  This text is related to a rugby match between ...  \n",
       "99  The article discusses the testing of biometric...  \n",
       "\n",
       "[98 rows x 8 columns]"
      ]
     },
     "execution_count": 25,
     "metadata": {},
     "output_type": "execute_result"
    }
   ],
   "source": [
    "results"
   ]
  },
  {
   "cell_type": "code",
   "execution_count": 26,
   "metadata": {},
   "outputs": [
    {
     "name": "stderr",
     "output_type": "stream",
     "text": [
      "/var/folders/x3/c_04y5q55q39m9sp2tty7lp40000gn/T/ipykernel_15396/2779995225.py:37: FutureWarning: Series.__getitem__ treating keys as positions is deprecated. In a future version, integer keys will always be treated as labels (consistent with DataFrame behavior). To access a value by position, use `ser.iloc[pos]`\n",
      "  plt.text(x[i] - 1.5*width, original_code_counts[i] + 0.5, str(int(original_code_counts[i])),\n",
      "/var/folders/x3/c_04y5q55q39m9sp2tty7lp40000gn/T/ipykernel_15396/2779995225.py:39: FutureWarning: Series.__getitem__ treating keys as positions is deprecated. In a future version, integer keys will always be treated as labels (consistent with DataFrame behavior). To access a value by position, use `ser.iloc[pos]`\n",
      "  plt.text(x[i] - 0.5*width, replicated_code_counts[i] + 0.5, str(int(replicated_code_counts[i])),\n",
      "/var/folders/x3/c_04y5q55q39m9sp2tty7lp40000gn/T/ipykernel_15396/2779995225.py:41: FutureWarning: Series.__getitem__ treating keys as positions is deprecated. In a future version, integer keys will always be treated as labels (consistent with DataFrame behavior). To access a value by position, use `ser.iloc[pos]`\n",
      "  plt.text(x[i] + 0.5*width, model_code_counts[i] + 0.5, str(int(model_code_counts[i])),\n",
      "/var/folders/x3/c_04y5q55q39m9sp2tty7lp40000gn/T/ipykernel_15396/2779995225.py:43: FutureWarning: Series.__getitem__ treating keys as positions is deprecated. In a future version, integer keys will always be treated as labels (consistent with DataFrame behavior). To access a value by position, use `ser.iloc[pos]`\n",
      "  plt.text(x[i] + 1.5*width, model_predictions_counts[i] + 0.5, str(int(model_predictions_counts[i])),\n"
     ]
    },
    {
     "data": {
      "image/png": "[encoded data removed]",
      "text/plain": [
       "<Figure size 1200x600 with 1 Axes>"
      ]
     },
     "metadata": {},
     "output_type": "display_data"
    }
   ],
   "source": [
    "# Categories for the x-axis\n",
    "categories = sorted(set(results['original_code']) | set(results['replicated_code']) | \n",
    "                   set(results['model_code']) | set(results['model_prediction']))\n",
    "\n",
    "# Get value counts for each column, reindex to include all categories\n",
    "original_code_counts = results['original_code'].value_counts().reindex(categories).fillna(0)\n",
    "replicated_code_counts = results['replicated_code'].value_counts().reindex(categories).fillna(0)\n",
    "model_code_counts = results['model_code'].value_counts().reindex(categories).fillna(0)\n",
    "model_predictions_counts = results['model_prediction'].value_counts().reindex(categories).fillna(0)\n",
    "\n",
    "# Number of categories\n",
    "n = len(categories)\n",
    "\n",
    "# Create a range for the x-axis based on the number of categories\n",
    "x = np.arange(n)\n",
    "\n",
    "# Set the width of the bars (adjusted for 4 bars)\n",
    "width = 0.2  # Made smaller to accommodate 4 bars\n",
    "\n",
    "# Create the plot\n",
    "plt.figure(figsize=(12, 6))  # Made wider to accommodate 4 bars\n",
    "\n",
    "# Create bars with adjusted positions\n",
    "plt.bar(x - 1.5*width, original_code_counts, width, label='Original Code', color='#2ecc71')\n",
    "plt.bar(x - 0.5*width, replicated_code_counts, width, label='Replicated Code', color='#3498db')\n",
    "plt.bar(x + 0.5*width, model_code_counts, width, label='Model Code', color='#e74c3c')\n",
    "plt.bar(x + 1.5*width, model_predictions_counts, width, label='Predicted Code', color='#9b59b6')\n",
    "\n",
    "# Add labels, title, and custom x-axis tick labels\n",
    "plt.xlabel('Category', fontsize=12)\n",
    "plt.ylabel('Count', fontsize=12)\n",
    "plt.title('Comparison of Codes Across Four Columns', fontsize=14)\n",
    "plt.xticks(x, categories, rotation=45)\n",
    "\n",
    "# Add value labels on top of each bar\n",
    "for i in range(n):\n",
    "    plt.text(x[i] - 1.5*width, original_code_counts[i] + 0.5, str(int(original_code_counts[i])), \n",
    "             ha='center', va='bottom')\n",
    "    plt.text(x[i] - 0.5*width, replicated_code_counts[i] + 0.5, str(int(replicated_code_counts[i])), \n",
    "             ha='center', va='bottom')\n",
    "    plt.text(x[i] + 0.5*width, model_code_counts[i] + 0.5, str(int(model_code_counts[i])), \n",
    "             ha='center', va='bottom')\n",
    "    plt.text(x[i] + 1.5*width, model_predictions_counts[i] + 0.5, str(int(model_predictions_counts[i])), \n",
    "             ha='center', va='bottom')\n",
    "\n",
    "# Add a legend\n",
    "plt.legend(bbox_to_anchor=(1.05, 1), loc='upper left')\n",
    "\n",
    "# Adjust layout to prevent label cutoff\n",
    "plt.tight_layout()\n",
    "\n",
    "# Show the plot\n",
    "plt.show()"
   ]
  },
  {
   "cell_type": "code",
   "execution_count": 27,
   "metadata": {},
   "outputs": [
    {
     "name": "stdout",
     "output_type": "stream",
     "text": [
      "\n",
      "Similarity Analysis Summary:\n",
      "====================================================================================================\n",
      "                         Comparison  Accuracy  Kappa Score  Matching Cases  Total Cases Match Percentage\n",
      "        Original Code Vs Model Code  0.877551     0.842823              86           98           87.76%\n",
      "  Original Code Vs Model Prediction  0.948980     0.934979              93           98            94.9%\n",
      "      Replicated Code Vs Model Code  0.816327     0.761557              80           98           81.63%\n",
      "Replicated Code Vs Model Prediction  0.775510     0.713565              76           98           77.55%\n",
      "\n",
      "Detailed Analysis:\n",
      "====================================================================================================\n",
      "\n",
      "Comparison with Original Code:\n",
      "Better model: Original Code Vs Model Prediction\n",
      "Accuracy: 94.90%\n",
      "Kappa Score: 0.935\n",
      "\n",
      "Comparison with Replicated Code:\n",
      "Better model: Replicated Code Vs Model Code\n",
      "Accuracy: 81.63%\n",
      "Kappa Score: 0.762\n",
      "\n",
      "Confusion Matrix for original_code_vs_model_code:\n",
      "\n",
      "Categories: ['business', 'entertainment', 'politics', 'sport', 'tech']\n",
      "[[15  0  5  0  0]\n",
      " [ 2 14  1  0  0]\n",
      " [ 0  0 25  0  0]\n",
      " [ 0  0  2 23  0]\n",
      " [ 1  0  1  0  9]]\n",
      "\n",
      "Confusion Matrix for original_code_vs_model_prediction:\n",
      "\n",
      "Categories: ['business', 'entertainment', 'politics', 'sport', 'tech']\n",
      "[[20  0  0  0  0]\n",
      " [ 1 16  0  0  0]\n",
      " [ 2  0 23  0  0]\n",
      " [ 0  0  0 25  0]\n",
      " [ 1  1  0  0  9]]\n",
      "\n",
      "Confusion Matrix for replicated_code_vs_model_code:\n",
      "\n",
      "Categories: ['business', 'entertainment', 'politics', 'sport', 'tech']\n",
      "[[10  0  6  0  1]\n",
      " [ 1 14  1  0  1]\n",
      " [ 4  0 26  0  0]\n",
      " [ 0  0  1 23  0]\n",
      " [ 3  0  0  0  7]]\n",
      "\n",
      "Confusion Matrix for replicated_code_vs_model_prediction:\n",
      "\n",
      "Categories: ['business', 'entertainment', 'politics', 'sport', 'tech']\n",
      "[[12  0  4  0  1]\n",
      " [ 1 15  0  0  1]\n",
      " [ 9  0 19  1  1]\n",
      " [ 0  0  0 24  0]\n",
      " [ 2  2  0  0  6]]\n"
     ]
    }
   ],
   "source": [
    "def calculate_similarity_metrics(results_df, ground_truth_col, prediction_col):\n",
    "    \"\"\"\n",
    "    Calculate various similarity metrics between two columns\n",
    "    \"\"\"\n",
    "    # Remove rows where either column has missing values\n",
    "    valid_rows = results_df[[ground_truth_col, prediction_col]].dropna()\n",
    "    \n",
    "    if len(valid_rows) == 0:\n",
    "        return {\n",
    "            'accuracy': 0,\n",
    "            'kappa': 0,\n",
    "            'matching_cases': 0,\n",
    "            'total_cases': 0,\n",
    "            'percentage_match': 0\n",
    "        }\n",
    "    \n",
    "    # Calculate metrics\n",
    "    accuracy = accuracy_score(valid_rows[ground_truth_col], valid_rows[prediction_col])\n",
    "    kappa = cohen_kappa_score(valid_rows[ground_truth_col], valid_rows[prediction_col])\n",
    "    matching_cases = (valid_rows[ground_truth_col] == valid_rows[prediction_col]).sum()\n",
    "    total_cases = len(valid_rows)\n",
    "    percentage_match = (matching_cases / total_cases) * 100\n",
    "    \n",
    "    return {\n",
    "        'accuracy': accuracy,\n",
    "        'kappa': kappa,\n",
    "        'matching_cases': matching_cases,\n",
    "        'total_cases': total_cases,\n",
    "        'percentage_match': percentage_match\n",
    "    }\n",
    "\n",
    "def analyze_code_similarities(results_df):\n",
    "    \"\"\"\n",
    "    Analyze similarities between model outputs and human categorizations\n",
    "    \"\"\"\n",
    "    # Comparisons to make\n",
    "    comparisons = [\n",
    "        ('original_code', 'model_code'),\n",
    "        ('original_code', 'model_prediction'),\n",
    "        ('replicated_code', 'model_code'),\n",
    "        ('replicated_code', 'model_prediction')\n",
    "    ]\n",
    "    \n",
    "    # Calculate metrics for each comparison\n",
    "    results_dict = {}\n",
    "    for truth_col, pred_col in comparisons:\n",
    "        results_dict[f\"{truth_col}_vs_{pred_col}\"] = calculate_similarity_metrics(\n",
    "            results_df, truth_col, pred_col\n",
    "        )\n",
    "    \n",
    "    # Create a summary dataframe\n",
    "    summary_df = pd.DataFrame({\n",
    "        'Comparison': [k.replace('_', ' ').title() for k in results_dict.keys()],\n",
    "        'Accuracy': [v['accuracy'] for v in results_dict.values()],\n",
    "        'Kappa Score': [v['kappa'] for v in results_dict.values()],\n",
    "        'Matching Cases': [v['matching_cases'] for v in results_dict.values()],\n",
    "        'Total Cases': [v['total_cases'] for v in results_dict.values()],\n",
    "        'Match Percentage': [v['percentage_match'] for v in results_dict.values()]\n",
    "    })\n",
    "    \n",
    "    # Format the percentage column\n",
    "    summary_df['Match Percentage'] = summary_df['Match Percentage'].round(2).astype(str) + '%'\n",
    "    \n",
    "    # Create detailed confusion matrices\n",
    "    confusion_matrices = {}\n",
    "    for truth_col, pred_col in comparisons:\n",
    "        valid_rows = results_df[[truth_col, pred_col]].dropna()\n",
    "        if len(valid_rows) > 0:\n",
    "            matrix = confusion_matrix(\n",
    "                valid_rows[truth_col], \n",
    "                valid_rows[pred_col],\n",
    "                labels=sorted(results_df[truth_col].unique())\n",
    "            )\n",
    "            confusion_matrices[f\"{truth_col}_vs_{pred_col}\"] = matrix\n",
    "    \n",
    "    return summary_df, confusion_matrices\n",
    "\n",
    "# Run the analysis with the results dataframe\n",
    "summary_df, confusion_matrices = analyze_code_similarities(results)\n",
    "\n",
    "# Display the summary\n",
    "print(\"\\nSimilarity Analysis Summary:\")\n",
    "print(\"=\" * 100)\n",
    "print(summary_df.to_string(index=False))\n",
    "print(\"\\nDetailed Analysis:\")\n",
    "print(\"=\" * 100)\n",
    "\n",
    "# Determine which model is more similar to human coding\n",
    "original_code_comparison = summary_df[summary_df['Comparison'].str.contains('Original Code')]\n",
    "replicated_code_comparison = summary_df[summary_df['Comparison'].str.contains('Replicated Code')]\n",
    "\n",
    "print(\"\\nComparison with Original Code:\")\n",
    "better_for_original = original_code_comparison.iloc[original_code_comparison['Accuracy'].argmax()]\n",
    "print(f\"Better model: {better_for_original['Comparison']}\")\n",
    "print(f\"Accuracy: {better_for_original['Accuracy']:.2%}\")\n",
    "print(f\"Kappa Score: {better_for_original['Kappa Score']:.3f}\")\n",
    "\n",
    "print(\"\\nComparison with Replicated Code:\")\n",
    "better_for_replicated = replicated_code_comparison.iloc[replicated_code_comparison['Accuracy'].argmax()]\n",
    "print(f\"Better model: {better_for_replicated['Comparison']}\")\n",
    "print(f\"Accuracy: {better_for_replicated['Accuracy']:.2%}\")\n",
    "print(f\"Kappa Score: {better_for_replicated['Kappa Score']:.3f}\")\n",
    "\n",
    "# Print confusion matrices with labels\n",
    "for name, matrix in confusion_matrices.items():\n",
    "    print(f\"\\nConfusion Matrix for {name}:\")\n",
    "    categories = sorted(results[name.split('_vs_')[0]].unique())\n",
    "    print(\"\\nCategories:\", categories)\n",
    "    print(matrix)"
   ]
  },
  {
   "cell_type": "markdown",
   "metadata": {},
   "source": [
    "# Key Findings\n",
    "\n",
    "## Overall Performance\n",
    "1. **Model Prediction vs Original Code** performs best overall:\n",
    "   - Highest accuracy (94.90%)\n",
    "   - Highest Kappa score (0.935)\n",
    "   - 93 out of 98 cases matched correctly\n",
    "   \n",
    "2. **Model Code vs Replicated Code** shows second-best performance:\n",
    "   - Accuracy of 81.63%\n",
    "   - Kappa score of 0.762\n",
    "   - 80 out of 98 cases matched\n",
    "\n",
    "## Comparison with Human Coders\n",
    "\n",
    "### Against Original Code:\n",
    "- Model Prediction performs significantly better (94.90%) than Model Code (87.76%)\n",
    "- Both show very strong agreement (Kappa > 0.8)\n",
    "- Model Prediction misclassified only 5 cases out of 98\n",
    "- Model Code misclassified 12 cases out of 98\n",
    "\n",
    "### Against Replicated Code:\n",
    "- Model Code performs slightly better (81.63%) than Model Prediction (78.57%)\n",
    "- Both show substantial agreement (Kappa > 0.7)\n",
    "- More discrepancies overall compared to Original Code\n",
    "\n",
    "## Confusion Matrix Analysis\n",
    "\n",
    "### Model Prediction vs Original Code (Best Performance):\n",
    "- Perfect classification for:\n",
    "  - Business (20/20)\n",
    "  - Entertainment (17/17)\n",
    "  - Sport (25/25)\n",
    "- Minor confusions in:\n",
    "  - Politics (22/25 correct, 2 misclassified as business, 1 as tech)\n",
    "  - Tech (9/11 correct, 2 misclassified as business)\n",
    "\n",
    "### Model Code vs Original Code:\n",
    "- Strong performance in:\n",
    "  - Sport (23/25)\n",
    "  - Politics (25/25)\n",
    "  - Entertainment (14/17)\n",
    "- Main confusions in:\n",
    "  - Business (15/20 correct, 5 misclassified as politics)\n",
    "  - Tech (9/11 correct, some confusion with business and politics)\n",
    "\n",
    "### Model Performance Against Replicated Code:\n",
    "- Both models show more disagreement with Replicated Code than Original Code\n",
    "- Most consistent classification for:\n",
    "  - Sport category (23-24/24 correct)\n",
    "  - Entertainment (14-16/17 correct)\n",
    "- Most confusion in:\n",
    "  - Business and Politics categories\n",
    "  - Tech category shows consistent misclassifications\n",
    "\n",
    "## Thoughts\n",
    "1. The Model Prediction approach should be preferred when aiming to match Original Code.\n",
    "2. Both models struggle most with Business, Politics, and Tech categories.\n",
    "3. Sport and Entertainment categories are most consistently classified across all approaches.\n"
   ]
  },
  {
   "cell_type": "code",
   "execution_count": null,
   "metadata": {},
   "outputs": [],
   "source": []
  }
 ],
 "metadata": {
  "kernelspec": {
   "display_name": "bds",
   "language": "python",
   "name": "python3"
  },
  "language_info": {
   "codemirror_mode": {
    "name": "ipython",
    "version": 3
   },
   "file_extension": ".py",
   "mimetype": "text/x-python",
   "name": "python",
   "nbconvert_exporter": "python",
   "pygments_lexer": "ipython3",
   "version": "3.11.8"
  }
 },
 "nbformat": 4,
 "nbformat_minor": 2
}
